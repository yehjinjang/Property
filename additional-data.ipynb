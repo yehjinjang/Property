{
 "cells": [
  {
   "cell_type": "markdown",
   "metadata": {},
   "source": [
    "# 데이터 전처리 및 추가"
   ]
  },
  {
   "cell_type": "markdown",
   "metadata": {},
   "source": [
    "## 1. 서울시 응급실 위치 정보 (서울 열린데이터 광장)\n",
    "\n",
    "- [서울시 응급실 위치 정보](https://www.data.go.kr/data/15088910/fileData.do)\n",
    "\n",
    "- 서울특별시 응급실 위치 정보\n",
    "- 주소, 병원분류명, 응급의료기관, 응급실운영여부, 비고, 기관설명상세, 간이약도, 기관명, 대표전화, 응급실 전화, 진료시간, 병원경도, 병원위도 등의 항목을 제공\n",
    "- 서울특별시 병의원 위치 정보 데이터에서 duryeryn의 값이 1인 데이터만 view테이블로 생성하여 응급실 데이터를 생성\n",
    "- 최신수정일자\t2025.02.08.\n",
    "- 제공기관\t서울특별시"
   ]
  },
  {
   "cell_type": "code",
   "execution_count": 2,
   "metadata": {},
   "outputs": [
    {
     "name": "stdout",
     "output_type": "stream",
     "text": [
      "<class 'pandas.core.frame.DataFrame'>\n",
      "RangeIndex: 72 entries, 0 to 71\n",
      "Data columns (total 34 columns):\n",
      " #   Column      Non-Null Count  Dtype  \n",
      "---  ------      --------------  -----  \n",
      " 0   기관ID        72 non-null     object \n",
      " 1   주소          72 non-null     object \n",
      " 2   병원분류        72 non-null     object \n",
      " 3   병원분류명       72 non-null     object \n",
      " 4   응급의료기관코드    72 non-null     object \n",
      " 5   응급의료기관코드명   72 non-null     object \n",
      " 6   응급실운영여부     72 non-null     int64  \n",
      " 7   비고          70 non-null     object \n",
      " 8   기관설명상세      72 non-null     object \n",
      " 9   간이약도        72 non-null     object \n",
      " 10  기관명         72 non-null     object \n",
      " 11  대표전화1       72 non-null     object \n",
      " 12  응급실전화       72 non-null     object \n",
      " 13  진료시간(월요일)C  72 non-null     int64  \n",
      " 14  진료시간(화요일)C  72 non-null     int64  \n",
      " 15  진료시간(수요일)C  72 non-null     int64  \n",
      " 16  진료시간(목요일)C  72 non-null     int64  \n",
      " 17  진료시간(금요일)C  72 non-null     int64  \n",
      " 18  진료시간(토요일)C  72 non-null     int64  \n",
      " 19  진료시간(일요일)C  72 non-null     int64  \n",
      " 20  진료시간(공휴일)C  72 non-null     int64  \n",
      " 21  진료시간(월요일)S  72 non-null     int64  \n",
      " 22  진료시간(화요일)S  72 non-null     int64  \n",
      " 23  진료시간(수요일)S  72 non-null     int64  \n",
      " 24  진료시간(목요일)S  72 non-null     int64  \n",
      " 25  진료시간(금요일)S  72 non-null     int64  \n",
      " 26  진료시간(토요일)S  72 non-null     int64  \n",
      " 27  진료시간(일요일)S  72 non-null     int64  \n",
      " 28  진료시간(공휴일)S  72 non-null     int64  \n",
      " 29  우편번호1       72 non-null     int64  \n",
      " 30  우편번호2       72 non-null     int64  \n",
      " 31  병원경도        72 non-null     float64\n",
      " 32  병원위도        72 non-null     float64\n",
      " 33  작업시간        72 non-null     object \n",
      "dtypes: float64(2), int64(19), object(13)\n",
      "memory usage: 19.3+ KB\n"
     ]
    }
   ],
   "source": [
    "import pandas as pd\n",
    "\n",
    "# 데이터 확인\n",
    "emergency = pd.read_csv('./Data/서울시 응급실 위치 정보.csv', encoding='cp949')\n",
    "emergency.info()"
   ]
  },
  {
   "cell_type": "code",
   "execution_count": 3,
   "metadata": {},
   "outputs": [
    {
     "data": {
      "text/plain": [
       "Index(['기관ID', '주소', '병원분류', '병원분류명', '응급의료기관코드', '응급의료기관코드명', '응급실운영여부', '비고',\n",
       "       '기관설명상세', '간이약도', '기관명', '대표전화1', '응급실전화', '진료시간(월요일)C', '진료시간(화요일)C',\n",
       "       '진료시간(수요일)C', '진료시간(목요일)C', '진료시간(금요일)C', '진료시간(토요일)C', '진료시간(일요일)C',\n",
       "       '진료시간(공휴일)C', '진료시간(월요일)S', '진료시간(화요일)S', '진료시간(수요일)S', '진료시간(목요일)S',\n",
       "       '진료시간(금요일)S', '진료시간(토요일)S', '진료시간(일요일)S', '진료시간(공휴일)S', '우편번호1',\n",
       "       '우편번호2', '병원경도', '병원위도', '작업시간'],\n",
       "      dtype='object')"
      ]
     },
     "execution_count": 3,
     "metadata": {},
     "output_type": "execute_result"
    }
   ],
   "source": [
    "# 컬럼 확인\n",
    "emergency.columns"
   ]
  },
  {
   "cell_type": "markdown",
   "metadata": {},
   "source": [
    "- 주소, 간이약도, 기관명, 대표전화1, 응급실전화, 병원경도, 병원위도 컬럼만 사용"
   ]
  },
  {
   "cell_type": "code",
   "execution_count": 4,
   "metadata": {},
   "outputs": [
    {
     "data": {
      "text/html": [
       "<div>\n",
       "<style scoped>\n",
       "    .dataframe tbody tr th:only-of-type {\n",
       "        vertical-align: middle;\n",
       "    }\n",
       "\n",
       "    .dataframe tbody tr th {\n",
       "        vertical-align: top;\n",
       "    }\n",
       "\n",
       "    .dataframe thead th {\n",
       "        text-align: right;\n",
       "    }\n",
       "</style>\n",
       "<table border=\"1\" class=\"dataframe\">\n",
       "  <thead>\n",
       "    <tr style=\"text-align: right;\">\n",
       "      <th></th>\n",
       "      <th>address</th>\n",
       "      <th>note</th>\n",
       "      <th>map</th>\n",
       "      <th>name</th>\n",
       "      <th>phone</th>\n",
       "      <th>emergency_phone</th>\n",
       "      <th>longitude</th>\n",
       "      <th>latitude</th>\n",
       "    </tr>\n",
       "  </thead>\n",
       "  <tbody>\n",
       "    <tr>\n",
       "      <th>0</th>\n",
       "      <td>서울특별시 영등포구 63로 10, 여의도성모병원 (여의도동)</td>\n",
       "      <td>휴게시간 13:00~14:00</td>\n",
       "      <td>샛강역 3번 출구</td>\n",
       "      <td>가톨릭대학교 여의도성모병원</td>\n",
       "      <td>02-1661-7575</td>\n",
       "      <td>02-3779-1188</td>\n",
       "      <td>126.936731</td>\n",
       "      <td>37.518272</td>\n",
       "    </tr>\n",
       "    <tr>\n",
       "      <th>1</th>\n",
       "      <td>서울특별시 은평구 통일로 1021 (진관동)</td>\n",
       "      <td>휴게시간 13:00~14:00</td>\n",
       "      <td>샛강역 3번 출구</td>\n",
       "      <td>가톨릭대학교은평성모병원</td>\n",
       "      <td>02-1811-7755</td>\n",
       "      <td>02-1811-7755</td>\n",
       "      <td>126.916150</td>\n",
       "      <td>37.633608</td>\n",
       "    </tr>\n",
       "    <tr>\n",
       "      <th>2</th>\n",
       "      <td>서울특별시 관악구 관악로 242 (봉천동)</td>\n",
       "      <td>응급실진료 07:00-24:00 08/15 광복절 휴무</td>\n",
       "      <td>서울대입구역 7번 출구 도보 5분</td>\n",
       "      <td>강남고려병원</td>\n",
       "      <td>1661-8267</td>\n",
       "      <td>02-874-7227</td>\n",
       "      <td>126.956782</td>\n",
       "      <td>37.485619</td>\n",
       "    </tr>\n",
       "    <tr>\n",
       "      <th>3</th>\n",
       "      <td>서울특별시 강남구 선릉로 404, 더드림병원 (대치동)</td>\n",
       "      <td>응급실 00:00-24:00</td>\n",
       "      <td>한티역 1번출구 3분거리</td>\n",
       "      <td>강남더드림병원</td>\n",
       "      <td>02-1661-1177</td>\n",
       "      <td>070-4676-5002</td>\n",
       "      <td>127.050967</td>\n",
       "      <td>37.500990</td>\n",
       "    </tr>\n",
       "    <tr>\n",
       "      <th>4</th>\n",
       "      <td>서울특별시 강남구 남부순환로 2649, 베드로병원 (도곡동)</td>\n",
       "      <td>외래 진료 운영시간 이외에는 응급의학과 전문의 근무</td>\n",
       "      <td>양재역 4번 출구 도보 5분 거리</td>\n",
       "      <td>강남베드로병원</td>\n",
       "      <td>1544-7522</td>\n",
       "      <td>1544-7522</td>\n",
       "      <td>127.039587</td>\n",
       "      <td>37.485612</td>\n",
       "    </tr>\n",
       "  </tbody>\n",
       "</table>\n",
       "</div>"
      ],
      "text/plain": [
       "                             address                            note  \\\n",
       "0  서울특별시 영등포구 63로 10, 여의도성모병원 (여의도동)                휴게시간 13:00~14:00   \n",
       "1           서울특별시 은평구 통일로 1021 (진관동)                휴게시간 13:00~14:00   \n",
       "2            서울특별시 관악구 관악로 242 (봉천동)  응급실진료 07:00-24:00 08/15 광복절 휴무   \n",
       "3     서울특별시 강남구 선릉로 404, 더드림병원 (대치동)                 응급실 00:00-24:00   \n",
       "4  서울특별시 강남구 남부순환로 2649, 베드로병원 (도곡동)    외래 진료 운영시간 이외에는 응급의학과 전문의 근무   \n",
       "\n",
       "                  map            name         phone emergency_phone  \\\n",
       "0           샛강역 3번 출구  가톨릭대학교 여의도성모병원  02-1661-7575    02-3779-1188   \n",
       "1           샛강역 3번 출구    가톨릭대학교은평성모병원  02-1811-7755    02-1811-7755   \n",
       "2  서울대입구역 7번 출구 도보 5분          강남고려병원     1661-8267     02-874-7227   \n",
       "3       한티역 1번출구 3분거리         강남더드림병원  02-1661-1177   070-4676-5002   \n",
       "4  양재역 4번 출구 도보 5분 거리         강남베드로병원     1544-7522       1544-7522   \n",
       "\n",
       "    longitude   latitude  \n",
       "0  126.936731  37.518272  \n",
       "1  126.916150  37.633608  \n",
       "2  126.956782  37.485619  \n",
       "3  127.050967  37.500990  \n",
       "4  127.039587  37.485612  "
      ]
     },
     "execution_count": 4,
     "metadata": {},
     "output_type": "execute_result"
    }
   ],
   "source": [
    "emergency = emergency[['주소', '비고', '간이약도', '기관명', '대표전화1', '응급실전화', '병원경도', '병원위도']]\n",
    "emergency.rename(columns={\n",
    "    '주소':'address', \n",
    "    '비고':'note', \n",
    "    '간이약도':'map', \n",
    "    '기관명':'name', \n",
    "    '대표전화1':'phone', \n",
    "    '응급실전화':'emergency_phone', \n",
    "    '병원경도':'longitude', \n",
    "    '병원위도':'latitude'}, inplace=True)\n",
    "emergency.head()"
   ]
  },
  {
   "cell_type": "code",
   "execution_count": 5,
   "metadata": {},
   "outputs": [
    {
     "data": {
      "text/plain": [
       "address            0\n",
       "note               2\n",
       "map                0\n",
       "name               0\n",
       "phone              0\n",
       "emergency_phone    0\n",
       "longitude          0\n",
       "latitude           0\n",
       "dtype: int64"
      ]
     },
     "execution_count": 5,
     "metadata": {},
     "output_type": "execute_result"
    }
   ],
   "source": [
    "emergency.isnull().sum()"
   ]
  },
  {
   "cell_type": "markdown",
   "metadata": {},
   "source": [
    "- 비고 null값 확인"
   ]
  },
  {
   "cell_type": "code",
   "execution_count": 6,
   "metadata": {},
   "outputs": [
    {
     "data": {
      "text/html": [
       "<div>\n",
       "<style scoped>\n",
       "    .dataframe tbody tr th:only-of-type {\n",
       "        vertical-align: middle;\n",
       "    }\n",
       "\n",
       "    .dataframe tbody tr th {\n",
       "        vertical-align: top;\n",
       "    }\n",
       "\n",
       "    .dataframe thead th {\n",
       "        text-align: right;\n",
       "    }\n",
       "</style>\n",
       "<table border=\"1\" class=\"dataframe\">\n",
       "  <thead>\n",
       "    <tr style=\"text-align: right;\">\n",
       "      <th></th>\n",
       "      <th>address</th>\n",
       "      <th>note</th>\n",
       "      <th>map</th>\n",
       "      <th>name</th>\n",
       "      <th>phone</th>\n",
       "      <th>emergency_phone</th>\n",
       "      <th>longitude</th>\n",
       "      <th>latitude</th>\n",
       "    </tr>\n",
       "  </thead>\n",
       "  <tbody>\n",
       "    <tr>\n",
       "      <th>17</th>\n",
       "      <td>서울특별시 중랑구 사가정로49길 53 (면목동)</td>\n",
       "      <td>NaN</td>\n",
       "      <td>사가정역 1번 출구/까치어린이공원 옆</td>\n",
       "      <td>녹색병원</td>\n",
       "      <td>02-490-2000</td>\n",
       "      <td>02-490-2113</td>\n",
       "      <td>127.086055</td>\n",
       "      <td>37.583621</td>\n",
       "    </tr>\n",
       "    <tr>\n",
       "      <th>46</th>\n",
       "      <td>서울특별시 강북구 도봉로 301 (수유동, 대한병원)</td>\n",
       "      <td>NaN</td>\n",
       "      <td>지하철 4호선 수유역 5번 출구역 정면방향 3분거리</td>\n",
       "      <td>의료법인성화의료재단대한병원</td>\n",
       "      <td>02-903-3232</td>\n",
       "      <td>02-905-9110</td>\n",
       "      <td>127.022673</td>\n",
       "      <td>37.635470</td>\n",
       "    </tr>\n",
       "  </tbody>\n",
       "</table>\n",
       "</div>"
      ],
      "text/plain": [
       "                          address note                           map  \\\n",
       "17     서울특별시 중랑구 사가정로49길 53 (면목동)  NaN          사가정역 1번 출구/까치어린이공원 옆   \n",
       "46  서울특별시 강북구 도봉로 301 (수유동, 대한병원)  NaN  지하철 4호선 수유역 5번 출구역 정면방향 3분거리   \n",
       "\n",
       "              name        phone emergency_phone   longitude   latitude  \n",
       "17            녹색병원  02-490-2000     02-490-2113  127.086055  37.583621  \n",
       "46  의료법인성화의료재단대한병원  02-903-3232     02-905-9110  127.022673  37.635470  "
      ]
     },
     "execution_count": 6,
     "metadata": {},
     "output_type": "execute_result"
    }
   ],
   "source": [
    "emergency[emergency['note'].isnull()]"
   ]
  },
  {
   "cell_type": "markdown",
   "metadata": {},
   "source": [
    "- null 값 > '없음'으로 대체"
   ]
  },
  {
   "cell_type": "code",
   "execution_count": 7,
   "metadata": {},
   "outputs": [
    {
     "data": {
      "text/plain": [
       "address            0\n",
       "note               0\n",
       "map                0\n",
       "name               0\n",
       "phone              0\n",
       "emergency_phone    0\n",
       "longitude          0\n",
       "latitude           0\n",
       "dtype: int64"
      ]
     },
     "execution_count": 7,
     "metadata": {},
     "output_type": "execute_result"
    }
   ],
   "source": [
    "emergency['note'] = emergency['note'].fillna('없음')\n",
    "emergency.isnull().sum()"
   ]
  },
  {
   "cell_type": "markdown",
   "metadata": {},
   "source": [
    "- 순수 도로명 주소만 추출"
   ]
  },
  {
   "cell_type": "code",
   "execution_count": 8,
   "metadata": {},
   "outputs": [
    {
     "data": {
      "text/plain": [
       "0       서울특별시 영등포구 63로 10\n",
       "1      서울특별시 은평구 통일로 1021\n",
       "2       서울특별시 관악구 관악로 242\n",
       "3       서울특별시 강남구 선릉로 404\n",
       "4    서울특별시 강남구 남부순환로 2649\n",
       "Name: address, dtype: object"
      ]
     },
     "execution_count": 8,
     "metadata": {},
     "output_type": "execute_result"
    }
   ],
   "source": [
    "emergency['address'] = emergency.apply(lambda x: x['address'].split(',')[0].strip(), axis=1) # ',' 뒤 문자열 제거\n",
    "emergency['address'] = emergency.apply(lambda x: x['address'].split('(')[0].strip(), axis=1) # '(**동)' 제거\n",
    "emergency['address'].head()"
   ]
  },
  {
   "cell_type": "code",
   "execution_count": 9,
   "metadata": {},
   "outputs": [
    {
     "data": {
      "text/html": [
       "<div>\n",
       "<style scoped>\n",
       "    .dataframe tbody tr th:only-of-type {\n",
       "        vertical-align: middle;\n",
       "    }\n",
       "\n",
       "    .dataframe tbody tr th {\n",
       "        vertical-align: top;\n",
       "    }\n",
       "\n",
       "    .dataframe thead th {\n",
       "        text-align: right;\n",
       "    }\n",
       "</style>\n",
       "<table border=\"1\" class=\"dataframe\">\n",
       "  <thead>\n",
       "    <tr style=\"text-align: right;\">\n",
       "      <th></th>\n",
       "      <th>address</th>\n",
       "      <th>note</th>\n",
       "      <th>map</th>\n",
       "      <th>name</th>\n",
       "      <th>phone</th>\n",
       "      <th>emergency_phone</th>\n",
       "      <th>longitude</th>\n",
       "      <th>latitude</th>\n",
       "    </tr>\n",
       "  </thead>\n",
       "  <tbody>\n",
       "    <tr>\n",
       "      <th>0</th>\n",
       "      <td>서울특별시 영등포구 63로 10</td>\n",
       "      <td>휴게시간 13:00~14:00</td>\n",
       "      <td>샛강역 3번 출구</td>\n",
       "      <td>가톨릭대학교 여의도성모병원</td>\n",
       "      <td>02-1661-7575</td>\n",
       "      <td>02-3779-1188</td>\n",
       "      <td>126.936731</td>\n",
       "      <td>37.518272</td>\n",
       "    </tr>\n",
       "    <tr>\n",
       "      <th>1</th>\n",
       "      <td>서울특별시 은평구 통일로 1021</td>\n",
       "      <td>휴게시간 13:00~14:00</td>\n",
       "      <td>샛강역 3번 출구</td>\n",
       "      <td>가톨릭대학교은평성모병원</td>\n",
       "      <td>02-1811-7755</td>\n",
       "      <td>02-1811-7755</td>\n",
       "      <td>126.916150</td>\n",
       "      <td>37.633608</td>\n",
       "    </tr>\n",
       "    <tr>\n",
       "      <th>2</th>\n",
       "      <td>서울특별시 관악구 관악로 242</td>\n",
       "      <td>응급실진료 07:00-24:00 08/15 광복절 휴무</td>\n",
       "      <td>서울대입구역 7번 출구 도보 5분</td>\n",
       "      <td>강남고려병원</td>\n",
       "      <td>1661-8267</td>\n",
       "      <td>02-874-7227</td>\n",
       "      <td>126.956782</td>\n",
       "      <td>37.485619</td>\n",
       "    </tr>\n",
       "    <tr>\n",
       "      <th>3</th>\n",
       "      <td>서울특별시 강남구 선릉로 404</td>\n",
       "      <td>응급실 00:00-24:00</td>\n",
       "      <td>한티역 1번출구 3분거리</td>\n",
       "      <td>강남더드림병원</td>\n",
       "      <td>02-1661-1177</td>\n",
       "      <td>070-4676-5002</td>\n",
       "      <td>127.050967</td>\n",
       "      <td>37.500990</td>\n",
       "    </tr>\n",
       "    <tr>\n",
       "      <th>4</th>\n",
       "      <td>서울특별시 강남구 남부순환로 2649</td>\n",
       "      <td>외래 진료 운영시간 이외에는 응급의학과 전문의 근무</td>\n",
       "      <td>양재역 4번 출구 도보 5분 거리</td>\n",
       "      <td>강남베드로병원</td>\n",
       "      <td>1544-7522</td>\n",
       "      <td>1544-7522</td>\n",
       "      <td>127.039587</td>\n",
       "      <td>37.485612</td>\n",
       "    </tr>\n",
       "  </tbody>\n",
       "</table>\n",
       "</div>"
      ],
      "text/plain": [
       "                address                            note                 map  \\\n",
       "0     서울특별시 영등포구 63로 10                휴게시간 13:00~14:00           샛강역 3번 출구   \n",
       "1    서울특별시 은평구 통일로 1021                휴게시간 13:00~14:00           샛강역 3번 출구   \n",
       "2     서울특별시 관악구 관악로 242  응급실진료 07:00-24:00 08/15 광복절 휴무  서울대입구역 7번 출구 도보 5분   \n",
       "3     서울특별시 강남구 선릉로 404                 응급실 00:00-24:00       한티역 1번출구 3분거리   \n",
       "4  서울특별시 강남구 남부순환로 2649    외래 진료 운영시간 이외에는 응급의학과 전문의 근무  양재역 4번 출구 도보 5분 거리   \n",
       "\n",
       "             name         phone emergency_phone   longitude   latitude  \n",
       "0  가톨릭대학교 여의도성모병원  02-1661-7575    02-3779-1188  126.936731  37.518272  \n",
       "1    가톨릭대학교은평성모병원  02-1811-7755    02-1811-7755  126.916150  37.633608  \n",
       "2          강남고려병원     1661-8267     02-874-7227  126.956782  37.485619  \n",
       "3         강남더드림병원  02-1661-1177   070-4676-5002  127.050967  37.500990  \n",
       "4         강남베드로병원     1544-7522       1544-7522  127.039587  37.485612  "
      ]
     },
     "execution_count": 9,
     "metadata": {},
     "output_type": "execute_result"
    }
   ],
   "source": [
    "emergency.head()"
   ]
  },
  {
   "cell_type": "code",
   "execution_count": 10,
   "metadata": {},
   "outputs": [
    {
     "name": "stdout",
     "output_type": "stream",
     "text": [
      "저장완료\n"
     ]
    }
   ],
   "source": [
    "emergency.to_csv('./Data/refined-emergency.csv', index=False, encoding='cp949')\n",
    "print('저장완료')"
   ]
  },
  {
   "cell_type": "markdown",
   "metadata": {},
   "source": [
    "## 2. 서울시 버스정류소 위치정보 (서울 열린데이터 광장)\n",
    "### \n",
    "\n",
    "- [서울시 버스정류소 위치정보](https://data.seoul.go.kr/dataList/OA-15067/S/1/datasetView.do)\n",
    "\n",
    "- 서울특별시 교통정보과에서 제공하는 서울특별시 버스정류소 위치정보 (2022.04 기준)\n",
    "- 정류소ID가 동일한 두 정류장의 정류소ID는 A,B로 구분 (16614A 김포공항국내선 / 16614B 서울식물원.숲문화학교)\n",
    "- CSV 파일 특성으로 첫자리 \"0\"이 표현이 안됨, 정류소 코드 (ARS-ID) 는 5자리이고, (예시) \"10123\" - 정상, \"1234\" 4자리인 경우 앞자리에 \"0\"을 첨부하여 01234로 변환하여 사용할 것\n",
    "- 좌표계: WGS84 (EPSG-5179)\n",
    "- 최신수정일자\t2025.02.06.\n",
    "- 제공기관\t서울특별시\n",
    "- 컬럼정의\n",
    "    - STDR_DE\t기준일\n",
    "    - NODE_ID\t노드ID\n",
    "    - STTN_NO\tARS-ID\n",
    "    - STTN_NM\t정류소명\n",
    "    - CRDNT_X\tX좌표\n",
    "    - CRDNT_Y\tY좌표\n",
    "    - STTN_TY 정류소 유형\n",
    "        - 0 : 일반차로\n",
    "        - 1 : 중앙차로\n",
    "        - 2 : 일반중앙차로\n",
    "        - 3 : 가로변전일\n",
    "        - 4 : 가로변시간\n",
    "        - 5 : 마을버스\n",
    "        - 6 : 가상정류장"
   ]
  },
  {
   "cell_type": "code",
   "execution_count": 11,
   "metadata": {},
   "outputs": [
    {
     "name": "stdout",
     "output_type": "stream",
     "text": [
      "<class 'pandas.core.frame.DataFrame'>\n",
      "RangeIndex: 11290 entries, 0 to 11289\n",
      "Data columns (total 6 columns):\n",
      " #   Column  Non-Null Count  Dtype  \n",
      "---  ------  --------------  -----  \n",
      " 0   노드 ID   11290 non-null  int64  \n",
      " 1   정류소번호   11290 non-null  int64  \n",
      " 2   정류소명    11290 non-null  object \n",
      " 3   X좌표     11290 non-null  float64\n",
      " 4   Y좌표     11290 non-null  float64\n",
      " 5   정류소 타입  11290 non-null  object \n",
      "dtypes: float64(2), int64(2), object(2)\n",
      "memory usage: 529.3+ KB\n"
     ]
    }
   ],
   "source": [
    "bus = pd.read_csv('./Data/서울시 버스정류소 위치정보.csv', encoding='cp949')\n",
    "bus.info()"
   ]
  },
  {
   "cell_type": "code",
   "execution_count": 12,
   "metadata": {},
   "outputs": [
    {
     "data": {
      "text/plain": [
       "노드 ID     0\n",
       "정류소번호     0\n",
       "정류소명      0\n",
       "X좌표       0\n",
       "Y좌표       0\n",
       "정류소 타입    0\n",
       "dtype: int64"
      ]
     },
     "execution_count": 12,
     "metadata": {},
     "output_type": "execute_result"
    }
   ],
   "source": [
    "bus.isnull().sum()"
   ]
  },
  {
   "cell_type": "code",
   "execution_count": 13,
   "metadata": {},
   "outputs": [
    {
     "data": {
      "text/html": [
       "<div>\n",
       "<style scoped>\n",
       "    .dataframe tbody tr th:only-of-type {\n",
       "        vertical-align: middle;\n",
       "    }\n",
       "\n",
       "    .dataframe tbody tr th {\n",
       "        vertical-align: top;\n",
       "    }\n",
       "\n",
       "    .dataframe thead th {\n",
       "        text-align: right;\n",
       "    }\n",
       "</style>\n",
       "<table border=\"1\" class=\"dataframe\">\n",
       "  <thead>\n",
       "    <tr style=\"text-align: right;\">\n",
       "      <th></th>\n",
       "      <th>노드 ID</th>\n",
       "      <th>정류소번호</th>\n",
       "      <th>정류소명</th>\n",
       "      <th>X좌표</th>\n",
       "      <th>Y좌표</th>\n",
       "      <th>정류소 타입</th>\n",
       "    </tr>\n",
       "  </thead>\n",
       "  <tbody>\n",
       "    <tr>\n",
       "      <th>0</th>\n",
       "      <td>100000001</td>\n",
       "      <td>1001</td>\n",
       "      <td>종로2가사거리</td>\n",
       "      <td>126.987752</td>\n",
       "      <td>37.569808</td>\n",
       "      <td>중앙차로</td>\n",
       "    </tr>\n",
       "    <tr>\n",
       "      <th>1</th>\n",
       "      <td>100000002</td>\n",
       "      <td>1002</td>\n",
       "      <td>창경궁.서울대학교병원</td>\n",
       "      <td>126.996522</td>\n",
       "      <td>37.579433</td>\n",
       "      <td>중앙차로</td>\n",
       "    </tr>\n",
       "    <tr>\n",
       "      <th>2</th>\n",
       "      <td>100000003</td>\n",
       "      <td>1003</td>\n",
       "      <td>명륜3가.성대입구</td>\n",
       "      <td>126.998251</td>\n",
       "      <td>37.582581</td>\n",
       "      <td>중앙차로</td>\n",
       "    </tr>\n",
       "    <tr>\n",
       "      <th>3</th>\n",
       "      <td>100000004</td>\n",
       "      <td>1004</td>\n",
       "      <td>종로2가.삼일교</td>\n",
       "      <td>126.987613</td>\n",
       "      <td>37.568579</td>\n",
       "      <td>중앙차로</td>\n",
       "    </tr>\n",
       "    <tr>\n",
       "      <th>4</th>\n",
       "      <td>100000005</td>\n",
       "      <td>1005</td>\n",
       "      <td>혜화동로터리.여운형활동터</td>\n",
       "      <td>127.001744</td>\n",
       "      <td>37.586243</td>\n",
       "      <td>중앙차로</td>\n",
       "    </tr>\n",
       "  </tbody>\n",
       "</table>\n",
       "</div>"
      ],
      "text/plain": [
       "       노드 ID  정류소번호           정류소명         X좌표        Y좌표 정류소 타입\n",
       "0  100000001   1001        종로2가사거리  126.987752  37.569808   중앙차로\n",
       "1  100000002   1002    창경궁.서울대학교병원  126.996522  37.579433   중앙차로\n",
       "2  100000003   1003      명륜3가.성대입구  126.998251  37.582581   중앙차로\n",
       "3  100000004   1004       종로2가.삼일교  126.987613  37.568579   중앙차로\n",
       "4  100000005   1005  혜화동로터리.여운형활동터  127.001744  37.586243   중앙차로"
      ]
     },
     "execution_count": 13,
     "metadata": {},
     "output_type": "execute_result"
    }
   ],
   "source": [
    "bus.head()"
   ]
  },
  {
   "cell_type": "markdown",
   "metadata": {},
   "source": [
    "- 정류소번호, 정류소명, X좌표, y좌표 데이터만 활용\n",
    "- 정류소번호는 맨 앞에 0을 붙여서 번호 형식을 통일시켜줌"
   ]
  },
  {
   "cell_type": "code",
   "execution_count": 14,
   "metadata": {},
   "outputs": [
    {
     "data": {
      "text/html": [
       "<div>\n",
       "<style scoped>\n",
       "    .dataframe tbody tr th:only-of-type {\n",
       "        vertical-align: middle;\n",
       "    }\n",
       "\n",
       "    .dataframe tbody tr th {\n",
       "        vertical-align: top;\n",
       "    }\n",
       "\n",
       "    .dataframe thead th {\n",
       "        text-align: right;\n",
       "    }\n",
       "</style>\n",
       "<table border=\"1\" class=\"dataframe\">\n",
       "  <thead>\n",
       "    <tr style=\"text-align: right;\">\n",
       "      <th></th>\n",
       "      <th>sttn_no</th>\n",
       "      <th>sttn_name</th>\n",
       "      <th>longitude</th>\n",
       "      <th>latitude</th>\n",
       "    </tr>\n",
       "  </thead>\n",
       "  <tbody>\n",
       "    <tr>\n",
       "      <th>0</th>\n",
       "      <td>1001</td>\n",
       "      <td>종로2가사거리</td>\n",
       "      <td>126.987752</td>\n",
       "      <td>37.569808</td>\n",
       "    </tr>\n",
       "    <tr>\n",
       "      <th>1</th>\n",
       "      <td>1002</td>\n",
       "      <td>창경궁.서울대학교병원</td>\n",
       "      <td>126.996522</td>\n",
       "      <td>37.579433</td>\n",
       "    </tr>\n",
       "    <tr>\n",
       "      <th>2</th>\n",
       "      <td>1003</td>\n",
       "      <td>명륜3가.성대입구</td>\n",
       "      <td>126.998251</td>\n",
       "      <td>37.582581</td>\n",
       "    </tr>\n",
       "    <tr>\n",
       "      <th>3</th>\n",
       "      <td>1004</td>\n",
       "      <td>종로2가.삼일교</td>\n",
       "      <td>126.987613</td>\n",
       "      <td>37.568579</td>\n",
       "    </tr>\n",
       "    <tr>\n",
       "      <th>4</th>\n",
       "      <td>1005</td>\n",
       "      <td>혜화동로터리.여운형활동터</td>\n",
       "      <td>127.001744</td>\n",
       "      <td>37.586243</td>\n",
       "    </tr>\n",
       "  </tbody>\n",
       "</table>\n",
       "</div>"
      ],
      "text/plain": [
       "   sttn_no      sttn_name   longitude   latitude\n",
       "0     1001        종로2가사거리  126.987752  37.569808\n",
       "1     1002    창경궁.서울대학교병원  126.996522  37.579433\n",
       "2     1003      명륜3가.성대입구  126.998251  37.582581\n",
       "3     1004       종로2가.삼일교  126.987613  37.568579\n",
       "4     1005  혜화동로터리.여운형활동터  127.001744  37.586243"
      ]
     },
     "execution_count": 14,
     "metadata": {},
     "output_type": "execute_result"
    }
   ],
   "source": [
    "bus = bus[['정류소번호', '정류소명', 'X좌표', 'Y좌표']] # 데이터 분리\n",
    "bus = bus.rename(columns={'정류소번호': 'sttn_no', \n",
    "                        '정류소명': 'sttn_name', \n",
    "                        'X좌표': 'longitude', # 경도\n",
    "                        'Y좌표': 'latitude'} # 위도\n",
    "                        ) # 컬럼명 변경\n",
    "bus.head()"
   ]
  },
  {
   "cell_type": "code",
   "execution_count": 15,
   "metadata": {},
   "outputs": [
    {
     "data": {
      "text/html": [
       "<div>\n",
       "<style scoped>\n",
       "    .dataframe tbody tr th:only-of-type {\n",
       "        vertical-align: middle;\n",
       "    }\n",
       "\n",
       "    .dataframe tbody tr th {\n",
       "        vertical-align: top;\n",
       "    }\n",
       "\n",
       "    .dataframe thead th {\n",
       "        text-align: right;\n",
       "    }\n",
       "</style>\n",
       "<table border=\"1\" class=\"dataframe\">\n",
       "  <thead>\n",
       "    <tr style=\"text-align: right;\">\n",
       "      <th></th>\n",
       "      <th>sttn_no</th>\n",
       "      <th>sttn_name</th>\n",
       "      <th>longitude</th>\n",
       "      <th>latitude</th>\n",
       "    </tr>\n",
       "  </thead>\n",
       "  <tbody>\n",
       "    <tr>\n",
       "      <th>0</th>\n",
       "      <td>01001</td>\n",
       "      <td>종로2가사거리</td>\n",
       "      <td>126.987752</td>\n",
       "      <td>37.569808</td>\n",
       "    </tr>\n",
       "    <tr>\n",
       "      <th>1</th>\n",
       "      <td>01002</td>\n",
       "      <td>창경궁.서울대학교병원</td>\n",
       "      <td>126.996522</td>\n",
       "      <td>37.579433</td>\n",
       "    </tr>\n",
       "    <tr>\n",
       "      <th>2</th>\n",
       "      <td>01003</td>\n",
       "      <td>명륜3가.성대입구</td>\n",
       "      <td>126.998251</td>\n",
       "      <td>37.582581</td>\n",
       "    </tr>\n",
       "    <tr>\n",
       "      <th>3</th>\n",
       "      <td>01004</td>\n",
       "      <td>종로2가.삼일교</td>\n",
       "      <td>126.987613</td>\n",
       "      <td>37.568579</td>\n",
       "    </tr>\n",
       "    <tr>\n",
       "      <th>4</th>\n",
       "      <td>01005</td>\n",
       "      <td>혜화동로터리.여운형활동터</td>\n",
       "      <td>127.001744</td>\n",
       "      <td>37.586243</td>\n",
       "    </tr>\n",
       "  </tbody>\n",
       "</table>\n",
       "</div>"
      ],
      "text/plain": [
       "  sttn_no      sttn_name   longitude   latitude\n",
       "0   01001        종로2가사거리  126.987752  37.569808\n",
       "1   01002    창경궁.서울대학교병원  126.996522  37.579433\n",
       "2   01003      명륜3가.성대입구  126.998251  37.582581\n",
       "3   01004       종로2가.삼일교  126.987613  37.568579\n",
       "4   01005  혜화동로터리.여운형활동터  127.001744  37.586243"
      ]
     },
     "execution_count": 15,
     "metadata": {},
     "output_type": "execute_result"
    }
   ],
   "source": [
    "bus['sttn_no'] = bus['sttn_no'].astype(str) # str으로 변환\n",
    "bus['sttn_no'] = bus.apply(lambda row:f\"0{row['sttn_no']}\"\n",
    "                       if len(row)==4 else f\"{row['sttn_no']}\", axis=1) # 5자리로 통일\n",
    "bus.head()"
   ]
  },
  {
   "cell_type": "code",
   "execution_count": 16,
   "metadata": {},
   "outputs": [
    {
     "data": {
      "text/html": [
       "<div>\n",
       "<style scoped>\n",
       "    .dataframe tbody tr th:only-of-type {\n",
       "        vertical-align: middle;\n",
       "    }\n",
       "\n",
       "    .dataframe tbody tr th {\n",
       "        vertical-align: top;\n",
       "    }\n",
       "\n",
       "    .dataframe thead th {\n",
       "        text-align: right;\n",
       "    }\n",
       "</style>\n",
       "<table border=\"1\" class=\"dataframe\">\n",
       "  <thead>\n",
       "    <tr style=\"text-align: right;\">\n",
       "      <th></th>\n",
       "      <th>sttn_no</th>\n",
       "      <th>sttn_name</th>\n",
       "      <th>longitude</th>\n",
       "      <th>latitude</th>\n",
       "    </tr>\n",
       "  </thead>\n",
       "  <tbody>\n",
       "    <tr>\n",
       "      <th>0</th>\n",
       "      <td>01001</td>\n",
       "      <td>종로2가사거리</td>\n",
       "      <td>126.987752</td>\n",
       "      <td>37.569808</td>\n",
       "    </tr>\n",
       "    <tr>\n",
       "      <th>1</th>\n",
       "      <td>01002</td>\n",
       "      <td>창경궁 서울대학교병원</td>\n",
       "      <td>126.996522</td>\n",
       "      <td>37.579433</td>\n",
       "    </tr>\n",
       "    <tr>\n",
       "      <th>2</th>\n",
       "      <td>01003</td>\n",
       "      <td>명륜3가 성대입구</td>\n",
       "      <td>126.998251</td>\n",
       "      <td>37.582581</td>\n",
       "    </tr>\n",
       "    <tr>\n",
       "      <th>3</th>\n",
       "      <td>01004</td>\n",
       "      <td>종로2가 삼일교</td>\n",
       "      <td>126.987613</td>\n",
       "      <td>37.568579</td>\n",
       "    </tr>\n",
       "    <tr>\n",
       "      <th>4</th>\n",
       "      <td>01005</td>\n",
       "      <td>혜화동로터리 여운형활동터</td>\n",
       "      <td>127.001744</td>\n",
       "      <td>37.586243</td>\n",
       "    </tr>\n",
       "  </tbody>\n",
       "</table>\n",
       "</div>"
      ],
      "text/plain": [
       "  sttn_no      sttn_name   longitude   latitude\n",
       "0   01001        종로2가사거리  126.987752  37.569808\n",
       "1   01002    창경궁 서울대학교병원  126.996522  37.579433\n",
       "2   01003      명륜3가 성대입구  126.998251  37.582581\n",
       "3   01004       종로2가 삼일교  126.987613  37.568579\n",
       "4   01005  혜화동로터리 여운형활동터  127.001744  37.586243"
      ]
     },
     "execution_count": 16,
     "metadata": {},
     "output_type": "execute_result"
    }
   ],
   "source": [
    "# 정류소명에서 '.' > ' '로 변경\n",
    "bus['sttn_name'] = bus['sttn_name'].str.replace('.', ' ')\n",
    "bus.head()"
   ]
  },
  {
   "cell_type": "code",
   "execution_count": 17,
   "metadata": {},
   "outputs": [
    {
     "name": "stdout",
     "output_type": "stream",
     "text": [
      "저장완료\n"
     ]
    }
   ],
   "source": [
    "# 저장\n",
    "bus.to_csv('./Data/refined-bus.csv', index=False, encoding='cp949')  \n",
    "print('저장완료')"
   ]
  },
  {
   "cell_type": "markdown",
   "metadata": {},
   "source": [
    "## 3. 서울시 1-8호선 역사 좌표 정보 (공공데이터포털)\n",
    "\n",
    "- [서울시 1-8호선 역사 좌표 정보](https://www.data.go.kr/data/15099316/fileData.do?recommendDataYn=Y)\n",
    "\n",
    "- 서울교통공사 1-8호선 276개역 경위도 좌표(소숫점 6째자리까지) 정보\n",
    "- 수정일\t2024-11-29\n",
    "- 제공기관\t서울교통공사"
   ]
  },
  {
   "cell_type": "code",
   "execution_count": 18,
   "metadata": {},
   "outputs": [
    {
     "name": "stdout",
     "output_type": "stream",
     "text": [
      "<class 'pandas.core.frame.DataFrame'>\n",
      "RangeIndex: 276 entries, 0 to 275\n",
      "Data columns (total 7 columns):\n",
      " #   Column        Non-Null Count  Dtype  \n",
      "---  ------        --------------  -----  \n",
      " 0   연번            276 non-null    int64  \n",
      " 1   호선            276 non-null    int64  \n",
      " 2   고유역번호(외부역코드)  276 non-null    int64  \n",
      " 3   역명            276 non-null    object \n",
      " 4   위도            276 non-null    float64\n",
      " 5   경도            276 non-null    float64\n",
      " 6   작성일자          276 non-null    object \n",
      "dtypes: float64(2), int64(3), object(2)\n",
      "memory usage: 15.2+ KB\n"
     ]
    }
   ],
   "source": [
    "subway = pd.read_csv('./Data/서울교통공사_1_8호선 역사 좌표(위경도) 정보_20241031.csv', encoding='cp949')\n",
    "subway.info()"
   ]
  },
  {
   "cell_type": "code",
   "execution_count": 19,
   "metadata": {},
   "outputs": [
    {
     "data": {
      "text/html": [
       "<div>\n",
       "<style scoped>\n",
       "    .dataframe tbody tr th:only-of-type {\n",
       "        vertical-align: middle;\n",
       "    }\n",
       "\n",
       "    .dataframe tbody tr th {\n",
       "        vertical-align: top;\n",
       "    }\n",
       "\n",
       "    .dataframe thead th {\n",
       "        text-align: right;\n",
       "    }\n",
       "</style>\n",
       "<table border=\"1\" class=\"dataframe\">\n",
       "  <thead>\n",
       "    <tr style=\"text-align: right;\">\n",
       "      <th></th>\n",
       "      <th>연번</th>\n",
       "      <th>호선</th>\n",
       "      <th>고유역번호(외부역코드)</th>\n",
       "      <th>역명</th>\n",
       "      <th>위도</th>\n",
       "      <th>경도</th>\n",
       "      <th>작성일자</th>\n",
       "    </tr>\n",
       "  </thead>\n",
       "  <tbody>\n",
       "    <tr>\n",
       "      <th>0</th>\n",
       "      <td>1</td>\n",
       "      <td>1</td>\n",
       "      <td>150</td>\n",
       "      <td>서울</td>\n",
       "      <td>37.553150</td>\n",
       "      <td>126.972533</td>\n",
       "      <td>1974-02-28</td>\n",
       "    </tr>\n",
       "    <tr>\n",
       "      <th>1</th>\n",
       "      <td>2</td>\n",
       "      <td>1</td>\n",
       "      <td>151</td>\n",
       "      <td>시청</td>\n",
       "      <td>37.563590</td>\n",
       "      <td>126.975407</td>\n",
       "      <td>1974-08-15</td>\n",
       "    </tr>\n",
       "    <tr>\n",
       "      <th>2</th>\n",
       "      <td>3</td>\n",
       "      <td>1</td>\n",
       "      <td>152</td>\n",
       "      <td>종각</td>\n",
       "      <td>37.570203</td>\n",
       "      <td>126.983116</td>\n",
       "      <td>1974-08-15</td>\n",
       "    </tr>\n",
       "    <tr>\n",
       "      <th>3</th>\n",
       "      <td>4</td>\n",
       "      <td>1</td>\n",
       "      <td>153</td>\n",
       "      <td>종로3가</td>\n",
       "      <td>37.570429</td>\n",
       "      <td>126.992095</td>\n",
       "      <td>1974-08-15</td>\n",
       "    </tr>\n",
       "    <tr>\n",
       "      <th>4</th>\n",
       "      <td>5</td>\n",
       "      <td>1</td>\n",
       "      <td>154</td>\n",
       "      <td>종로5가</td>\n",
       "      <td>37.570971</td>\n",
       "      <td>127.001900</td>\n",
       "      <td>1974-03-31</td>\n",
       "    </tr>\n",
       "  </tbody>\n",
       "</table>\n",
       "</div>"
      ],
      "text/plain": [
       "   연번  호선  고유역번호(외부역코드)    역명         위도          경도        작성일자\n",
       "0   1   1           150    서울  37.553150  126.972533  1974-02-28\n",
       "1   2   1           151    시청  37.563590  126.975407  1974-08-15\n",
       "2   3   1           152    종각  37.570203  126.983116  1974-08-15\n",
       "3   4   1           153  종로3가  37.570429  126.992095  1974-08-15\n",
       "4   5   1           154  종로5가  37.570971  127.001900  1974-03-31"
      ]
     },
     "execution_count": 19,
     "metadata": {},
     "output_type": "execute_result"
    }
   ],
   "source": [
    "subway.head()"
   ]
  },
  {
   "cell_type": "markdown",
   "metadata": {},
   "source": [
    "- 호선, 역명, 위도, 경도만 사용"
   ]
  },
  {
   "cell_type": "code",
   "execution_count": 20,
   "metadata": {},
   "outputs": [
    {
     "data": {
      "text/html": [
       "<div>\n",
       "<style scoped>\n",
       "    .dataframe tbody tr th:only-of-type {\n",
       "        vertical-align: middle;\n",
       "    }\n",
       "\n",
       "    .dataframe tbody tr th {\n",
       "        vertical-align: top;\n",
       "    }\n",
       "\n",
       "    .dataframe thead th {\n",
       "        text-align: right;\n",
       "    }\n",
       "</style>\n",
       "<table border=\"1\" class=\"dataframe\">\n",
       "  <thead>\n",
       "    <tr style=\"text-align: right;\">\n",
       "      <th></th>\n",
       "      <th>sttn_line</th>\n",
       "      <th>sttn_name</th>\n",
       "      <th>longitude</th>\n",
       "      <th>latitude</th>\n",
       "    </tr>\n",
       "  </thead>\n",
       "  <tbody>\n",
       "    <tr>\n",
       "      <th>0</th>\n",
       "      <td>1</td>\n",
       "      <td>서울</td>\n",
       "      <td>126.972533</td>\n",
       "      <td>37.553150</td>\n",
       "    </tr>\n",
       "    <tr>\n",
       "      <th>1</th>\n",
       "      <td>1</td>\n",
       "      <td>시청</td>\n",
       "      <td>126.975407</td>\n",
       "      <td>37.563590</td>\n",
       "    </tr>\n",
       "    <tr>\n",
       "      <th>2</th>\n",
       "      <td>1</td>\n",
       "      <td>종각</td>\n",
       "      <td>126.983116</td>\n",
       "      <td>37.570203</td>\n",
       "    </tr>\n",
       "    <tr>\n",
       "      <th>3</th>\n",
       "      <td>1</td>\n",
       "      <td>종로3가</td>\n",
       "      <td>126.992095</td>\n",
       "      <td>37.570429</td>\n",
       "    </tr>\n",
       "    <tr>\n",
       "      <th>4</th>\n",
       "      <td>1</td>\n",
       "      <td>종로5가</td>\n",
       "      <td>127.001900</td>\n",
       "      <td>37.570971</td>\n",
       "    </tr>\n",
       "  </tbody>\n",
       "</table>\n",
       "</div>"
      ],
      "text/plain": [
       "   sttn_line sttn_name   longitude   latitude\n",
       "0          1        서울  126.972533  37.553150\n",
       "1          1        시청  126.975407  37.563590\n",
       "2          1        종각  126.983116  37.570203\n",
       "3          1      종로3가  126.992095  37.570429\n",
       "4          1      종로5가  127.001900  37.570971"
      ]
     },
     "execution_count": 20,
     "metadata": {},
     "output_type": "execute_result"
    }
   ],
   "source": [
    "subway = subway[['호선', '역명', '경도', '위도']]\n",
    "subway = subway.rename(columns={\n",
    "    '호선': 'sttn_line', \n",
    "    '역명': 'sttn_name', \n",
    "    '경도': 'longitude', \n",
    "    '위도': 'latitude'\n",
    "    }) # 컬럼명 변경\n",
    "subway.head()"
   ]
  },
  {
   "cell_type": "code",
   "execution_count": 21,
   "metadata": {},
   "outputs": [
    {
     "data": {
      "text/html": [
       "<div>\n",
       "<style scoped>\n",
       "    .dataframe tbody tr th:only-of-type {\n",
       "        vertical-align: middle;\n",
       "    }\n",
       "\n",
       "    .dataframe tbody tr th {\n",
       "        vertical-align: top;\n",
       "    }\n",
       "\n",
       "    .dataframe thead th {\n",
       "        text-align: right;\n",
       "    }\n",
       "</style>\n",
       "<table border=\"1\" class=\"dataframe\">\n",
       "  <thead>\n",
       "    <tr style=\"text-align: right;\">\n",
       "      <th></th>\n",
       "      <th>sttn_line</th>\n",
       "      <th>sttn_name</th>\n",
       "      <th>longitude</th>\n",
       "      <th>latitude</th>\n",
       "    </tr>\n",
       "  </thead>\n",
       "  <tbody>\n",
       "    <tr>\n",
       "      <th>0</th>\n",
       "      <td>1호선</td>\n",
       "      <td>서울역</td>\n",
       "      <td>126.972533</td>\n",
       "      <td>37.553150</td>\n",
       "    </tr>\n",
       "    <tr>\n",
       "      <th>1</th>\n",
       "      <td>1호선</td>\n",
       "      <td>시청역</td>\n",
       "      <td>126.975407</td>\n",
       "      <td>37.563590</td>\n",
       "    </tr>\n",
       "    <tr>\n",
       "      <th>2</th>\n",
       "      <td>1호선</td>\n",
       "      <td>종각역</td>\n",
       "      <td>126.983116</td>\n",
       "      <td>37.570203</td>\n",
       "    </tr>\n",
       "    <tr>\n",
       "      <th>3</th>\n",
       "      <td>1호선</td>\n",
       "      <td>종로3가역</td>\n",
       "      <td>126.992095</td>\n",
       "      <td>37.570429</td>\n",
       "    </tr>\n",
       "    <tr>\n",
       "      <th>4</th>\n",
       "      <td>1호선</td>\n",
       "      <td>종로5가역</td>\n",
       "      <td>127.001900</td>\n",
       "      <td>37.570971</td>\n",
       "    </tr>\n",
       "  </tbody>\n",
       "</table>\n",
       "</div>"
      ],
      "text/plain": [
       "  sttn_line sttn_name   longitude   latitude\n",
       "0       1호선       서울역  126.972533  37.553150\n",
       "1       1호선       시청역  126.975407  37.563590\n",
       "2       1호선       종각역  126.983116  37.570203\n",
       "3       1호선     종로3가역  126.992095  37.570429\n",
       "4       1호선     종로5가역  127.001900  37.570971"
      ]
     },
     "execution_count": 21,
     "metadata": {},
     "output_type": "execute_result"
    }
   ],
   "source": [
    "subway['sttn_line'] = subway['sttn_line'].astype(str) # str으로 변환\n",
    "subway['sttn_line'] = subway.apply(\n",
    "    lambda row:f\"{row['sttn_line']}호선\", axis=1) # +호선\n",
    "subway['sttn_name'] = subway.apply(\n",
    "    lambda row:f\"{row['sttn_name']}역\", axis=1) # +역\n",
    "\n",
    "subway.head()"
   ]
  },
  {
   "cell_type": "code",
   "execution_count": 22,
   "metadata": {},
   "outputs": [
    {
     "name": "stdout",
     "output_type": "stream",
     "text": [
      "저장완료\n"
     ]
    }
   ],
   "source": [
    "# 데이터 저장\n",
    "subway.to_csv('./Data/refined-subway.csv', index=False, encoding='cp949')\n",
    "print('저장완료')"
   ]
  }
 ],
 "metadata": {
  "kernelspec": {
   "display_name": "env",
   "language": "python",
   "name": "python3"
  },
  "language_info": {
   "codemirror_mode": {
    "name": "ipython",
    "version": 3
   },
   "file_extension": ".py",
   "mimetype": "text/x-python",
   "name": "python",
   "nbconvert_exporter": "python",
   "pygments_lexer": "ipython3",
   "version": "3.12.7"
  }
 },
 "nbformat": 4,
 "nbformat_minor": 2
}
