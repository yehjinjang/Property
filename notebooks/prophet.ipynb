{
 "cells": [
  {
   "cell_type": "markdown",
   "metadata": {},
   "source": [
    "# 2026년 부동산 거래 가격 예측 (Prophet 활용)\n",
    "- Prophet은 추세 + 계절성(반복 패턴) + 이상치 감지를 포함하여 시계열 데이터를 기반으로 2026년 값을 예측하는 데 적합함\n",
    "- 거래량 top 30 주거지의 시계열 예측"
   ]
  },
  {
   "cell_type": "markdown",
   "metadata": {},
   "source": [
    "## 1) 데이터 로드\n",
    "- 데이터 : 정제된 서울시 부동산 실거래가 정보(2022~2025)"
   ]
  },
  {
   "cell_type": "code",
   "execution_count": 171,
   "metadata": {},
   "outputs": [
    {
     "data": {
      "text/html": [
       "<div>\n",
       "<style scoped>\n",
       "    .dataframe tbody tr th:only-of-type {\n",
       "        vertical-align: middle;\n",
       "    }\n",
       "\n",
       "    .dataframe tbody tr th {\n",
       "        vertical-align: top;\n",
       "    }\n",
       "\n",
       "    .dataframe thead th {\n",
       "        text-align: right;\n",
       "    }\n",
       "</style>\n",
       "<table border=\"1\" class=\"dataframe\">\n",
       "  <thead>\n",
       "    <tr style=\"text-align: right;\">\n",
       "      <th></th>\n",
       "      <th>Unnamed: 0</th>\n",
       "      <th>접수연도</th>\n",
       "      <th>자치구명</th>\n",
       "      <th>법정동명</th>\n",
       "      <th>본번</th>\n",
       "      <th>부번</th>\n",
       "      <th>건물명</th>\n",
       "      <th>물건금액(만원)</th>\n",
       "      <th>건물면적(㎡)</th>\n",
       "      <th>층</th>\n",
       "      <th>...</th>\n",
       "      <th>신고한 개업공인중개사 시군구명</th>\n",
       "      <th>계약연도</th>\n",
       "      <th>계약월</th>\n",
       "      <th>계약일</th>\n",
       "      <th>위도</th>\n",
       "      <th>경도</th>\n",
       "      <th>지역</th>\n",
       "      <th>물건금액</th>\n",
       "      <th>거래일</th>\n",
       "      <th>지역+건물명+건물용도</th>\n",
       "    </tr>\n",
       "  </thead>\n",
       "  <tbody>\n",
       "    <tr>\n",
       "      <th>0</th>\n",
       "      <td>0</td>\n",
       "      <td>2025</td>\n",
       "      <td>도봉구</td>\n",
       "      <td>방학동</td>\n",
       "      <td>638</td>\n",
       "      <td>10</td>\n",
       "      <td>한신빌라(638-10)</td>\n",
       "      <td>14800</td>\n",
       "      <td>37.66</td>\n",
       "      <td>4</td>\n",
       "      <td>...</td>\n",
       "      <td>서울 도봉구</td>\n",
       "      <td>2025</td>\n",
       "      <td>1</td>\n",
       "      <td>17</td>\n",
       "      <td>37.667592</td>\n",
       "      <td>127.036982</td>\n",
       "      <td>도봉구 방학동</td>\n",
       "      <td>148000000</td>\n",
       "      <td>2025-01-17</td>\n",
       "      <td>도봉구 방학동 한신빌라(638-10) (연립다세대)</td>\n",
       "    </tr>\n",
       "    <tr>\n",
       "      <th>1</th>\n",
       "      <td>1</td>\n",
       "      <td>2025</td>\n",
       "      <td>강서구</td>\n",
       "      <td>등촌동</td>\n",
       "      <td>628</td>\n",
       "      <td>13</td>\n",
       "      <td>현대프린스텔</td>\n",
       "      <td>10300</td>\n",
       "      <td>26.16</td>\n",
       "      <td>6</td>\n",
       "      <td>...</td>\n",
       "      <td>서울 강서구</td>\n",
       "      <td>2025</td>\n",
       "      <td>1</td>\n",
       "      <td>17</td>\n",
       "      <td>37.560088</td>\n",
       "      <td>126.856361</td>\n",
       "      <td>강서구 등촌동</td>\n",
       "      <td>103000000</td>\n",
       "      <td>2025-01-17</td>\n",
       "      <td>강서구 등촌동 현대프린스텔 (오피스텔)</td>\n",
       "    </tr>\n",
       "    <tr>\n",
       "      <th>2</th>\n",
       "      <td>2</td>\n",
       "      <td>2025</td>\n",
       "      <td>관악구</td>\n",
       "      <td>신림동</td>\n",
       "      <td>1639</td>\n",
       "      <td>51</td>\n",
       "      <td>푸리마타운</td>\n",
       "      <td>12700</td>\n",
       "      <td>18.70</td>\n",
       "      <td>8</td>\n",
       "      <td>...</td>\n",
       "      <td>서울 관악구</td>\n",
       "      <td>2025</td>\n",
       "      <td>1</td>\n",
       "      <td>17</td>\n",
       "      <td>37.483391</td>\n",
       "      <td>126.927468</td>\n",
       "      <td>관악구 신림동</td>\n",
       "      <td>127000000</td>\n",
       "      <td>2025-01-17</td>\n",
       "      <td>관악구 신림동 푸리마타운 (오피스텔)</td>\n",
       "    </tr>\n",
       "    <tr>\n",
       "      <th>3</th>\n",
       "      <td>3</td>\n",
       "      <td>2025</td>\n",
       "      <td>구로구</td>\n",
       "      <td>고척동</td>\n",
       "      <td>339</td>\n",
       "      <td>0</td>\n",
       "      <td>고척파크푸르지오</td>\n",
       "      <td>84000</td>\n",
       "      <td>59.89</td>\n",
       "      <td>9</td>\n",
       "      <td>...</td>\n",
       "      <td>서울 구로구, 서울 양천구</td>\n",
       "      <td>2025</td>\n",
       "      <td>1</td>\n",
       "      <td>17</td>\n",
       "      <td>37.507611</td>\n",
       "      <td>126.858113</td>\n",
       "      <td>구로구 고척동</td>\n",
       "      <td>840000000</td>\n",
       "      <td>2025-01-17</td>\n",
       "      <td>구로구 고척동 고척파크푸르지오 (아파트)</td>\n",
       "    </tr>\n",
       "    <tr>\n",
       "      <th>4</th>\n",
       "      <td>4</td>\n",
       "      <td>2025</td>\n",
       "      <td>광진구</td>\n",
       "      <td>중곡동</td>\n",
       "      <td>73</td>\n",
       "      <td>70</td>\n",
       "      <td>욱현하이브(73-70)</td>\n",
       "      <td>19800</td>\n",
       "      <td>44.96</td>\n",
       "      <td>3</td>\n",
       "      <td>...</td>\n",
       "      <td>서울 동작구</td>\n",
       "      <td>2025</td>\n",
       "      <td>1</td>\n",
       "      <td>17</td>\n",
       "      <td>37.558748</td>\n",
       "      <td>127.095448</td>\n",
       "      <td>광진구 중곡동</td>\n",
       "      <td>198000000</td>\n",
       "      <td>2025-01-17</td>\n",
       "      <td>광진구 중곡동 욱현하이브(73-70) (연립다세대)</td>\n",
       "    </tr>\n",
       "  </tbody>\n",
       "</table>\n",
       "<p>5 rows × 23 columns</p>\n",
       "</div>"
      ],
      "text/plain": [
       "   Unnamed: 0  접수연도 자치구명 법정동명    본번  부번           건물명  물건금액(만원)  건물면적(㎡)  층  \\\n",
       "0           0  2025  도봉구  방학동   638  10  한신빌라(638-10)     14800    37.66  4   \n",
       "1           1  2025  강서구  등촌동   628  13        현대프린스텔     10300    26.16  6   \n",
       "2           2  2025  관악구  신림동  1639  51         푸리마타운     12700    18.70  8   \n",
       "3           3  2025  구로구  고척동   339   0      고척파크푸르지오     84000    59.89  9   \n",
       "4           4  2025  광진구  중곡동    73  70  욱현하이브(73-70)     19800    44.96  3   \n",
       "\n",
       "   ...  신고한 개업공인중개사 시군구명  계약연도 계약월 계약일         위도          경도       지역  \\\n",
       "0  ...            서울 도봉구  2025   1  17  37.667592  127.036982  도봉구 방학동   \n",
       "1  ...            서울 강서구  2025   1  17  37.560088  126.856361  강서구 등촌동   \n",
       "2  ...            서울 관악구  2025   1  17  37.483391  126.927468  관악구 신림동   \n",
       "3  ...    서울 구로구, 서울 양천구  2025   1  17  37.507611  126.858113  구로구 고척동   \n",
       "4  ...            서울 동작구  2025   1  17  37.558748  127.095448  광진구 중곡동   \n",
       "\n",
       "        물건금액         거래일                   지역+건물명+건물용도  \n",
       "0  148000000  2025-01-17  도봉구 방학동 한신빌라(638-10) (연립다세대)  \n",
       "1  103000000  2025-01-17         강서구 등촌동 현대프린스텔 (오피스텔)  \n",
       "2  127000000  2025-01-17          관악구 신림동 푸리마타운 (오피스텔)  \n",
       "3  840000000  2025-01-17        구로구 고척동 고척파크푸르지오 (아파트)  \n",
       "4  198000000  2025-01-17  광진구 중곡동 욱현하이브(73-70) (연립다세대)  \n",
       "\n",
       "[5 rows x 23 columns]"
      ]
     },
     "execution_count": 171,
     "metadata": {},
     "output_type": "execute_result"
    }
   ],
   "source": [
    "import pandas as pd\n",
    "from prophet import Prophet\n",
    "\n",
    "# 데이터 로드\n",
    "file_path = \"../Data/real-estate-prophet.csv\"\n",
    "df = pd.read_csv(file_path, encoding=\"utf-8\")\n",
    "\n",
    "# 데이터 확인\n",
    "df.head()"
   ]
  },
  {
   "cell_type": "code",
   "execution_count": 172,
   "metadata": {},
   "outputs": [
    {
     "data": {
      "text/plain": [
       "Index(['Unnamed: 0', '접수연도', '자치구명', '법정동명', '본번', '부번', '건물명', '물건금액(만원)',\n",
       "       '건물면적(㎡)', '층', '건축년도', '건물용도', '신고구분', '신고한 개업공인중개사 시군구명', '계약연도',\n",
       "       '계약월', '계약일', '위도', '경도', '지역', '물건금액', '거래일', '지역+건물명+건물용도'],\n",
       "      dtype='object')"
      ]
     },
     "execution_count": 172,
     "metadata": {},
     "output_type": "execute_result"
    }
   ],
   "source": [
    "df.columns"
   ]
  },
  {
   "cell_type": "markdown",
   "metadata": {},
   "source": [
    "## 2) 필요한 컬럼 선택"
   ]
  },
  {
   "cell_type": "code",
   "execution_count": 173,
   "metadata": {},
   "outputs": [
    {
     "data": {
      "text/plain": [
       "0        2025-01-01\n",
       "1        2025-01-01\n",
       "2        2025-01-01\n",
       "3        2025-01-01\n",
       "4        2025-01-01\n",
       "            ...    \n",
       "223685   2020-04-01\n",
       "223686   2018-07-01\n",
       "223687   2016-06-01\n",
       "223688   2016-04-01\n",
       "223689   2013-01-01\n",
       "Name: 거래일, Length: 223690, dtype: datetime64[ns]"
      ]
     },
     "execution_count": 173,
     "metadata": {},
     "output_type": "execute_result"
    }
   ],
   "source": [
    "# 거래일 데이터\n",
    "df['거래일'] = pd.to_datetime(df['거래일']).apply(lambda x: x.replace(day=1))\n",
    "df['거래일']"
   ]
  },
  {
   "cell_type": "code",
   "execution_count": 174,
   "metadata": {},
   "outputs": [
    {
     "data": {
      "text/html": [
       "<div>\n",
       "<style scoped>\n",
       "    .dataframe tbody tr th:only-of-type {\n",
       "        vertical-align: middle;\n",
       "    }\n",
       "\n",
       "    .dataframe tbody tr th {\n",
       "        vertical-align: top;\n",
       "    }\n",
       "\n",
       "    .dataframe thead th {\n",
       "        text-align: right;\n",
       "    }\n",
       "</style>\n",
       "<table border=\"1\" class=\"dataframe\">\n",
       "  <thead>\n",
       "    <tr style=\"text-align: right;\">\n",
       "      <th></th>\n",
       "      <th>거래일</th>\n",
       "      <th>지역+건물명+건물용도</th>\n",
       "      <th>물건금액(만원)</th>\n",
       "    </tr>\n",
       "  </thead>\n",
       "  <tbody>\n",
       "    <tr>\n",
       "      <th>0</th>\n",
       "      <td>2025-01-01</td>\n",
       "      <td>도봉구 방학동 한신빌라(638-10) (연립다세대)</td>\n",
       "      <td>14800</td>\n",
       "    </tr>\n",
       "    <tr>\n",
       "      <th>1</th>\n",
       "      <td>2025-01-01</td>\n",
       "      <td>강서구 등촌동 현대프린스텔 (오피스텔)</td>\n",
       "      <td>10300</td>\n",
       "    </tr>\n",
       "    <tr>\n",
       "      <th>2</th>\n",
       "      <td>2025-01-01</td>\n",
       "      <td>관악구 신림동 푸리마타운 (오피스텔)</td>\n",
       "      <td>12700</td>\n",
       "    </tr>\n",
       "    <tr>\n",
       "      <th>3</th>\n",
       "      <td>2025-01-01</td>\n",
       "      <td>구로구 고척동 고척파크푸르지오 (아파트)</td>\n",
       "      <td>84000</td>\n",
       "    </tr>\n",
       "    <tr>\n",
       "      <th>4</th>\n",
       "      <td>2025-01-01</td>\n",
       "      <td>광진구 중곡동 욱현하이브(73-70) (연립다세대)</td>\n",
       "      <td>19800</td>\n",
       "    </tr>\n",
       "    <tr>\n",
       "      <th>...</th>\n",
       "      <td>...</td>\n",
       "      <td>...</td>\n",
       "      <td>...</td>\n",
       "    </tr>\n",
       "    <tr>\n",
       "      <th>223685</th>\n",
       "      <td>2020-04-01</td>\n",
       "      <td>강서구 내발산동 아이디움102동 (연립다세대)</td>\n",
       "      <td>25400</td>\n",
       "    </tr>\n",
       "    <tr>\n",
       "      <th>223686</th>\n",
       "      <td>2018-07-01</td>\n",
       "      <td>서초구 서초동 진흥아파트 (아파트)</td>\n",
       "      <td>155000</td>\n",
       "    </tr>\n",
       "    <tr>\n",
       "      <th>223687</th>\n",
       "      <td>2016-06-01</td>\n",
       "      <td>성북구 정릉동 진안빌라A(260-10) (연립다세대)</td>\n",
       "      <td>35000</td>\n",
       "    </tr>\n",
       "    <tr>\n",
       "      <th>223688</th>\n",
       "      <td>2016-04-01</td>\n",
       "      <td>성북구 정릉동 진안빌라A(260-10) (연립다세대)</td>\n",
       "      <td>35000</td>\n",
       "    </tr>\n",
       "    <tr>\n",
       "      <th>223689</th>\n",
       "      <td>2013-01-01</td>\n",
       "      <td>서초구 우면동 코오롱 (아파트)</td>\n",
       "      <td>42300</td>\n",
       "    </tr>\n",
       "  </tbody>\n",
       "</table>\n",
       "<p>223690 rows × 3 columns</p>\n",
       "</div>"
      ],
      "text/plain": [
       "              거래일                    지역+건물명+건물용도  물건금액(만원)\n",
       "0      2025-01-01   도봉구 방학동 한신빌라(638-10) (연립다세대)     14800\n",
       "1      2025-01-01          강서구 등촌동 현대프린스텔 (오피스텔)     10300\n",
       "2      2025-01-01           관악구 신림동 푸리마타운 (오피스텔)     12700\n",
       "3      2025-01-01         구로구 고척동 고척파크푸르지오 (아파트)     84000\n",
       "4      2025-01-01   광진구 중곡동 욱현하이브(73-70) (연립다세대)     19800\n",
       "...           ...                            ...       ...\n",
       "223685 2020-04-01      강서구 내발산동 아이디움102동 (연립다세대)     25400\n",
       "223686 2018-07-01            서초구 서초동 진흥아파트 (아파트)    155000\n",
       "223687 2016-06-01  성북구 정릉동 진안빌라A(260-10) (연립다세대)     35000\n",
       "223688 2016-04-01  성북구 정릉동 진안빌라A(260-10) (연립다세대)     35000\n",
       "223689 2013-01-01              서초구 우면동 코오롱 (아파트)     42300\n",
       "\n",
       "[223690 rows x 3 columns]"
      ]
     },
     "execution_count": 174,
     "metadata": {},
     "output_type": "execute_result"
    }
   ],
   "source": [
    "# 필요한 컬럼 선택\n",
    "df = df[['거래일', '지역+건물명+건물용도', '물건금액(만원)']]\n",
    "df"
   ]
  },
  {
   "cell_type": "code",
   "execution_count": 175,
   "metadata": {},
   "outputs": [
    {
     "name": "stdout",
     "output_type": "stream",
     "text": [
      "<class 'pandas.core.frame.DataFrame'>\n",
      "RangeIndex: 223690 entries, 0 to 223689\n",
      "Data columns (total 3 columns):\n",
      " #   Column       Non-Null Count   Dtype         \n",
      "---  ------       --------------   -----         \n",
      " 0   거래일          223690 non-null  datetime64[ns]\n",
      " 1   지역+건물명+건물용도  223690 non-null  object        \n",
      " 2   물건금액(만원)     223690 non-null  int64         \n",
      "dtypes: datetime64[ns](1), int64(1), object(1)\n",
      "memory usage: 5.1+ MB\n"
     ]
    }
   ],
   "source": [
    "df.info()"
   ]
  },
  {
   "cell_type": "markdown",
   "metadata": {},
   "source": [
    "## 3) 매물이 가장 많은 상위 30개 건물 선정"
   ]
  },
  {
   "cell_type": "code",
   "execution_count": 176,
   "metadata": {},
   "outputs": [
    {
     "data": {
      "text/plain": [
       "Index(['송파구 가락동 헬리오시티 (아파트)', '송파구 신천동 파크리오 (아파트)', '강동구 고덕동 고덕그라시움 (아파트)',\n",
       "       '금천구 가산동 가산 시빅 (오피스텔)', '송파구 잠실동 리센츠 (아파트)', '강북구 미아동 에스케이북한산시티 (아파트)',\n",
       "       '송파구 문정동 파크하비오 (오피스텔)', '강동구 상일동 고덕아르테온 (아파트)',\n",
       "       '송파구 문정동 올림픽훼밀리타운 (아파트)', '송파구 잠실동 잠실엘스 (아파트)',\n",
       "       '강서구 마곡동 힐스테이트에코 마곡나루역 라마다앙코르 서울마곡 (오피스텔)', '강동구 암사동 롯데캐슬퍼스트 (아파트)',\n",
       "       '은평구 응암동 녹번역e편한세상캐슬 (아파트)', '강동구 고덕동 래미안힐스테이트고덕 (아파트)',\n",
       "       '동대문구 답십리동 래미안위브 (아파트)', '강동구 둔촌동 올림픽파크 포레온 (아파트)',\n",
       "       '은평구 대조동 베르디움STAY1 (아파트)', '성동구 하왕십리동 센트라스 (아파트)',\n",
       "       '강동구 천호동 천호역 한강 푸르지오시티 (오피스텔)', '중구 신당동 남산타운 (아파트)',\n",
       "       '송파구 잠실동 트리지움 (아파트)', '금천구 독산동 SHIN YOUNG (오피스텔)', '서초구 반포동 반포자이 (아파트)',\n",
       "       '강남구 도곡동 도곡렉슬 (아파트)', '강서구 화곡동 강서힐스테이트 (아파트)',\n",
       "       '송파구 가락동 가락(1차)쌍용아파트 (아파트)', '강서구 마곡동 마곡나루역보타닉푸르지오시티 (오피스텔)',\n",
       "       '강남구 대치동 은마 (아파트)', '강동구 명일동 래미안솔베뉴 (아파트)', '도봉구 도봉동 한신 (아파트)'],\n",
       "      dtype='object', name='지역+건물명+건물용도')"
      ]
     },
     "execution_count": 176,
     "metadata": {},
     "output_type": "execute_result"
    }
   ],
   "source": [
    "# 매물이 가장 많은 상위 30개 아파트 선정\n",
    "top_30_buildings = df['지역+건물명+건물용도'].value_counts().head(30).index\n",
    "top_30_buildings"
   ]
  },
  {
   "cell_type": "markdown",
   "metadata": {},
   "source": [
    "## 4) 각 건물별 시계열 예측 실행"
   ]
  },
  {
   "cell_type": "code",
   "execution_count": 177,
   "metadata": {},
   "outputs": [
    {
     "data": {
      "text/html": [
       "<div>\n",
       "<style scoped>\n",
       "    .dataframe tbody tr th:only-of-type {\n",
       "        vertical-align: middle;\n",
       "    }\n",
       "\n",
       "    .dataframe tbody tr th {\n",
       "        vertical-align: top;\n",
       "    }\n",
       "\n",
       "    .dataframe thead th {\n",
       "        text-align: right;\n",
       "    }\n",
       "</style>\n",
       "<table border=\"1\" class=\"dataframe\">\n",
       "  <thead>\n",
       "    <tr style=\"text-align: right;\">\n",
       "      <th></th>\n",
       "      <th>ds</th>\n",
       "      <th>y</th>\n",
       "    </tr>\n",
       "  </thead>\n",
       "  <tbody>\n",
       "    <tr>\n",
       "      <th>0</th>\n",
       "      <td>2021-12-01</td>\n",
       "      <td>127000</td>\n",
       "    </tr>\n",
       "    <tr>\n",
       "      <th>1</th>\n",
       "      <td>2022-01-01</td>\n",
       "      <td>237000</td>\n",
       "    </tr>\n",
       "    <tr>\n",
       "      <th>2</th>\n",
       "      <td>2022-02-01</td>\n",
       "      <td>158800</td>\n",
       "    </tr>\n",
       "    <tr>\n",
       "      <th>3</th>\n",
       "      <td>2022-03-01</td>\n",
       "      <td>211575</td>\n",
       "    </tr>\n",
       "    <tr>\n",
       "      <th>4</th>\n",
       "      <td>2022-04-01</td>\n",
       "      <td>165125</td>\n",
       "    </tr>\n",
       "    <tr>\n",
       "      <th>5</th>\n",
       "      <td>2022-05-01</td>\n",
       "      <td>187727</td>\n",
       "    </tr>\n",
       "    <tr>\n",
       "      <th>6</th>\n",
       "      <td>2022-06-01</td>\n",
       "      <td>202000</td>\n",
       "    </tr>\n",
       "    <tr>\n",
       "      <th>7</th>\n",
       "      <td>2022-07-01</td>\n",
       "      <td>196200</td>\n",
       "    </tr>\n",
       "    <tr>\n",
       "      <th>8</th>\n",
       "      <td>2022-08-01</td>\n",
       "      <td>190333</td>\n",
       "    </tr>\n",
       "    <tr>\n",
       "      <th>9</th>\n",
       "      <td>2022-09-01</td>\n",
       "      <td>166500</td>\n",
       "    </tr>\n",
       "    <tr>\n",
       "      <th>10</th>\n",
       "      <td>2022-10-01</td>\n",
       "      <td>197300</td>\n",
       "    </tr>\n",
       "    <tr>\n",
       "      <th>11</th>\n",
       "      <td>2022-11-01</td>\n",
       "      <td>168923</td>\n",
       "    </tr>\n",
       "    <tr>\n",
       "      <th>12</th>\n",
       "      <td>2022-12-01</td>\n",
       "      <td>146887</td>\n",
       "    </tr>\n",
       "    <tr>\n",
       "      <th>13</th>\n",
       "      <td>2023-01-01</td>\n",
       "      <td>152351</td>\n",
       "    </tr>\n",
       "    <tr>\n",
       "      <th>14</th>\n",
       "      <td>2023-02-01</td>\n",
       "      <td>166370</td>\n",
       "    </tr>\n",
       "    <tr>\n",
       "      <th>15</th>\n",
       "      <td>2023-03-01</td>\n",
       "      <td>164848</td>\n",
       "    </tr>\n",
       "    <tr>\n",
       "      <th>16</th>\n",
       "      <td>2023-04-01</td>\n",
       "      <td>181021</td>\n",
       "    </tr>\n",
       "    <tr>\n",
       "      <th>17</th>\n",
       "      <td>2023-05-01</td>\n",
       "      <td>174829</td>\n",
       "    </tr>\n",
       "    <tr>\n",
       "      <th>18</th>\n",
       "      <td>2023-06-01</td>\n",
       "      <td>176993</td>\n",
       "    </tr>\n",
       "    <tr>\n",
       "      <th>19</th>\n",
       "      <td>2023-07-01</td>\n",
       "      <td>190833</td>\n",
       "    </tr>\n",
       "    <tr>\n",
       "      <th>20</th>\n",
       "      <td>2023-08-01</td>\n",
       "      <td>194678</td>\n",
       "    </tr>\n",
       "    <tr>\n",
       "      <th>21</th>\n",
       "      <td>2023-09-01</td>\n",
       "      <td>181203</td>\n",
       "    </tr>\n",
       "    <tr>\n",
       "      <th>22</th>\n",
       "      <td>2023-10-01</td>\n",
       "      <td>197833</td>\n",
       "    </tr>\n",
       "    <tr>\n",
       "      <th>23</th>\n",
       "      <td>2023-11-01</td>\n",
       "      <td>190000</td>\n",
       "    </tr>\n",
       "    <tr>\n",
       "      <th>24</th>\n",
       "      <td>2023-12-01</td>\n",
       "      <td>207427</td>\n",
       "    </tr>\n",
       "    <tr>\n",
       "      <th>25</th>\n",
       "      <td>2024-01-01</td>\n",
       "      <td>189781</td>\n",
       "    </tr>\n",
       "    <tr>\n",
       "      <th>26</th>\n",
       "      <td>2024-02-01</td>\n",
       "      <td>185823</td>\n",
       "    </tr>\n",
       "    <tr>\n",
       "      <th>27</th>\n",
       "      <td>2024-03-01</td>\n",
       "      <td>192212</td>\n",
       "    </tr>\n",
       "    <tr>\n",
       "      <th>28</th>\n",
       "      <td>2024-04-01</td>\n",
       "      <td>195027</td>\n",
       "    </tr>\n",
       "    <tr>\n",
       "      <th>29</th>\n",
       "      <td>2024-05-01</td>\n",
       "      <td>200650</td>\n",
       "    </tr>\n",
       "    <tr>\n",
       "      <th>30</th>\n",
       "      <td>2024-06-01</td>\n",
       "      <td>196933</td>\n",
       "    </tr>\n",
       "    <tr>\n",
       "      <th>31</th>\n",
       "      <td>2024-07-01</td>\n",
       "      <td>208649</td>\n",
       "    </tr>\n",
       "    <tr>\n",
       "      <th>32</th>\n",
       "      <td>2024-08-01</td>\n",
       "      <td>221325</td>\n",
       "    </tr>\n",
       "    <tr>\n",
       "      <th>33</th>\n",
       "      <td>2024-09-01</td>\n",
       "      <td>237125</td>\n",
       "    </tr>\n",
       "    <tr>\n",
       "      <th>34</th>\n",
       "      <td>2024-10-01</td>\n",
       "      <td>248105</td>\n",
       "    </tr>\n",
       "    <tr>\n",
       "      <th>35</th>\n",
       "      <td>2024-11-01</td>\n",
       "      <td>226975</td>\n",
       "    </tr>\n",
       "    <tr>\n",
       "      <th>36</th>\n",
       "      <td>2024-12-01</td>\n",
       "      <td>216125</td>\n",
       "    </tr>\n",
       "    <tr>\n",
       "      <th>37</th>\n",
       "      <td>2025-01-01</td>\n",
       "      <td>230000</td>\n",
       "    </tr>\n",
       "  </tbody>\n",
       "</table>\n",
       "</div>"
      ],
      "text/plain": [
       "           ds       y\n",
       "0  2021-12-01  127000\n",
       "1  2022-01-01  237000\n",
       "2  2022-02-01  158800\n",
       "3  2022-03-01  211575\n",
       "4  2022-04-01  165125\n",
       "5  2022-05-01  187727\n",
       "6  2022-06-01  202000\n",
       "7  2022-07-01  196200\n",
       "8  2022-08-01  190333\n",
       "9  2022-09-01  166500\n",
       "10 2022-10-01  197300\n",
       "11 2022-11-01  168923\n",
       "12 2022-12-01  146887\n",
       "13 2023-01-01  152351\n",
       "14 2023-02-01  166370\n",
       "15 2023-03-01  164848\n",
       "16 2023-04-01  181021\n",
       "17 2023-05-01  174829\n",
       "18 2023-06-01  176993\n",
       "19 2023-07-01  190833\n",
       "20 2023-08-01  194678\n",
       "21 2023-09-01  181203\n",
       "22 2023-10-01  197833\n",
       "23 2023-11-01  190000\n",
       "24 2023-12-01  207427\n",
       "25 2024-01-01  189781\n",
       "26 2024-02-01  185823\n",
       "27 2024-03-01  192212\n",
       "28 2024-04-01  195027\n",
       "29 2024-05-01  200650\n",
       "30 2024-06-01  196933\n",
       "31 2024-07-01  208649\n",
       "32 2024-08-01  221325\n",
       "33 2024-09-01  237125\n",
       "34 2024-10-01  248105\n",
       "35 2024-11-01  226975\n",
       "36 2024-12-01  216125\n",
       "37 2025-01-01  230000"
      ]
     },
     "execution_count": 177,
     "metadata": {},
     "output_type": "execute_result"
    }
   ],
   "source": [
    "df_building = df[df['지역+건물명+건물용도'] == '송파구 가락동 헬리오시티 (아파트)'].groupby('거래일').agg({'물건금액(만원)': 'mean'}).reset_index()\n",
    "df_building = df_building.rename(columns={'거래일': 'ds', '물건금액(만원)': 'y'})  # Prophet 요구 형식 변환\n",
    "df_building['y'] = df_building['y'].apply(lambda x: int(x))  # 소수점 제거\n",
    "df_building"
   ]
  },
  {
   "cell_type": "code",
   "execution_count": 178,
   "metadata": {},
   "outputs": [
    {
     "name": "stderr",
     "output_type": "stream",
     "text": [
      "16:08:43 - cmdstanpy - INFO - Chain [1] start processing\n",
      "16:08:43 - cmdstanpy - INFO - Chain [1] done processing\n",
      "/Users/gwondahyeon/Documents/GitHub/Real-Estate/env/lib/python3.12/site-packages/prophet/forecaster.py:1854: FutureWarning:\n",
      "\n",
      "'M' is deprecated and will be removed in a future version, please use 'ME' instead.\n",
      "\n",
      "16:08:43 - cmdstanpy - INFO - Chain [1] start processing\n",
      "16:08:44 - cmdstanpy - INFO - Chain [1] done processing\n",
      "/Users/gwondahyeon/Documents/GitHub/Real-Estate/env/lib/python3.12/site-packages/prophet/forecaster.py:1854: FutureWarning:\n",
      "\n",
      "'M' is deprecated and will be removed in a future version, please use 'ME' instead.\n",
      "\n",
      "16:08:44 - cmdstanpy - INFO - Chain [1] start processing\n",
      "16:08:44 - cmdstanpy - INFO - Chain [1] done processing\n",
      "/Users/gwondahyeon/Documents/GitHub/Real-Estate/env/lib/python3.12/site-packages/prophet/forecaster.py:1854: FutureWarning:\n",
      "\n",
      "'M' is deprecated and will be removed in a future version, please use 'ME' instead.\n",
      "\n",
      "16:08:44 - cmdstanpy - INFO - Chain [1] start processing\n",
      "16:08:44 - cmdstanpy - INFO - Chain [1] done processing\n",
      "/Users/gwondahyeon/Documents/GitHub/Real-Estate/env/lib/python3.12/site-packages/prophet/forecaster.py:1854: FutureWarning:\n",
      "\n",
      "'M' is deprecated and will be removed in a future version, please use 'ME' instead.\n",
      "\n",
      "16:08:44 - cmdstanpy - INFO - Chain [1] start processing\n"
     ]
    },
    {
     "name": "stdout",
     "output_type": "stream",
     "text": [
      "Skipping 금천구 가산동 가산 시빅 (오피스텔): Not enough data for prediction\n"
     ]
    },
    {
     "name": "stderr",
     "output_type": "stream",
     "text": [
      "16:08:44 - cmdstanpy - INFO - Chain [1] done processing\n",
      "/Users/gwondahyeon/Documents/GitHub/Real-Estate/env/lib/python3.12/site-packages/prophet/forecaster.py:1854: FutureWarning:\n",
      "\n",
      "'M' is deprecated and will be removed in a future version, please use 'ME' instead.\n",
      "\n",
      "16:08:44 - cmdstanpy - INFO - Chain [1] start processing\n",
      "16:08:44 - cmdstanpy - INFO - Chain [1] done processing\n",
      "/Users/gwondahyeon/Documents/GitHub/Real-Estate/env/lib/python3.12/site-packages/prophet/forecaster.py:1854: FutureWarning:\n",
      "\n",
      "'M' is deprecated and will be removed in a future version, please use 'ME' instead.\n",
      "\n",
      "16:08:44 - cmdstanpy - INFO - Chain [1] start processing\n",
      "16:08:45 - cmdstanpy - INFO - Chain [1] done processing\n",
      "/Users/gwondahyeon/Documents/GitHub/Real-Estate/env/lib/python3.12/site-packages/prophet/forecaster.py:1854: FutureWarning:\n",
      "\n",
      "'M' is deprecated and will be removed in a future version, please use 'ME' instead.\n",
      "\n",
      "16:08:45 - cmdstanpy - INFO - Chain [1] start processing\n",
      "16:08:45 - cmdstanpy - INFO - Chain [1] done processing\n",
      "/Users/gwondahyeon/Documents/GitHub/Real-Estate/env/lib/python3.12/site-packages/prophet/forecaster.py:1854: FutureWarning:\n",
      "\n",
      "'M' is deprecated and will be removed in a future version, please use 'ME' instead.\n",
      "\n",
      "16:08:45 - cmdstanpy - INFO - Chain [1] start processing\n",
      "16:08:45 - cmdstanpy - INFO - Chain [1] done processing\n",
      "/Users/gwondahyeon/Documents/GitHub/Real-Estate/env/lib/python3.12/site-packages/prophet/forecaster.py:1854: FutureWarning:\n",
      "\n",
      "'M' is deprecated and will be removed in a future version, please use 'ME' instead.\n",
      "\n",
      "16:08:45 - cmdstanpy - INFO - Chain [1] start processing\n",
      "16:08:52 - cmdstanpy - INFO - Chain [1] done processing\n",
      "/Users/gwondahyeon/Documents/GitHub/Real-Estate/env/lib/python3.12/site-packages/prophet/forecaster.py:1854: FutureWarning:\n",
      "\n",
      "'M' is deprecated and will be removed in a future version, please use 'ME' instead.\n",
      "\n",
      "16:08:52 - cmdstanpy - INFO - Chain [1] start processing\n",
      "16:08:52 - cmdstanpy - INFO - Chain [1] done processing\n",
      "/Users/gwondahyeon/Documents/GitHub/Real-Estate/env/lib/python3.12/site-packages/prophet/forecaster.py:1854: FutureWarning:\n",
      "\n",
      "'M' is deprecated and will be removed in a future version, please use 'ME' instead.\n",
      "\n",
      "16:08:52 - cmdstanpy - INFO - Chain [1] start processing\n",
      "16:08:52 - cmdstanpy - INFO - Chain [1] done processing\n",
      "/Users/gwondahyeon/Documents/GitHub/Real-Estate/env/lib/python3.12/site-packages/prophet/forecaster.py:1854: FutureWarning:\n",
      "\n",
      "'M' is deprecated and will be removed in a future version, please use 'ME' instead.\n",
      "\n",
      "16:08:52 - cmdstanpy - INFO - Chain [1] start processing\n",
      "16:08:52 - cmdstanpy - INFO - Chain [1] done processing\n",
      "/Users/gwondahyeon/Documents/GitHub/Real-Estate/env/lib/python3.12/site-packages/prophet/forecaster.py:1854: FutureWarning:\n",
      "\n",
      "'M' is deprecated and will be removed in a future version, please use 'ME' instead.\n",
      "\n",
      "16:08:52 - cmdstanpy - INFO - Chain [1] start processing\n",
      "16:08:53 - cmdstanpy - INFO - Chain [1] done processing\n",
      "/Users/gwondahyeon/Documents/GitHub/Real-Estate/env/lib/python3.12/site-packages/prophet/forecaster.py:1854: FutureWarning:\n",
      "\n",
      "'M' is deprecated and will be removed in a future version, please use 'ME' instead.\n",
      "\n",
      "16:08:53 - cmdstanpy - INFO - Chain [1] start processing\n",
      "16:09:00 - cmdstanpy - INFO - Chain [1] done processing\n",
      "/Users/gwondahyeon/Documents/GitHub/Real-Estate/env/lib/python3.12/site-packages/prophet/forecaster.py:1854: FutureWarning:\n",
      "\n",
      "'M' is deprecated and will be removed in a future version, please use 'ME' instead.\n",
      "\n",
      "16:09:00 - cmdstanpy - INFO - Chain [1] start processing\n",
      "16:09:00 - cmdstanpy - INFO - Chain [1] done processing\n",
      "/Users/gwondahyeon/Documents/GitHub/Real-Estate/env/lib/python3.12/site-packages/prophet/forecaster.py:1854: FutureWarning:\n",
      "\n",
      "'M' is deprecated and will be removed in a future version, please use 'ME' instead.\n",
      "\n",
      "16:09:00 - cmdstanpy - INFO - Chain [1] start processing\n"
     ]
    },
    {
     "name": "stdout",
     "output_type": "stream",
     "text": [
      "Skipping 은평구 대조동 베르디움STAY1 (아파트): Not enough data for prediction\n"
     ]
    },
    {
     "name": "stderr",
     "output_type": "stream",
     "text": [
      "16:09:00 - cmdstanpy - INFO - Chain [1] done processing\n",
      "/Users/gwondahyeon/Documents/GitHub/Real-Estate/env/lib/python3.12/site-packages/prophet/forecaster.py:1854: FutureWarning:\n",
      "\n",
      "'M' is deprecated and will be removed in a future version, please use 'ME' instead.\n",
      "\n",
      "16:09:00 - cmdstanpy - INFO - Chain [1] start processing\n",
      "16:09:01 - cmdstanpy - INFO - Chain [1] done processing\n",
      "/Users/gwondahyeon/Documents/GitHub/Real-Estate/env/lib/python3.12/site-packages/prophet/forecaster.py:1854: FutureWarning:\n",
      "\n",
      "'M' is deprecated and will be removed in a future version, please use 'ME' instead.\n",
      "\n",
      "16:09:01 - cmdstanpy - INFO - Chain [1] start processing\n",
      "16:09:01 - cmdstanpy - INFO - Chain [1] done processing\n",
      "/Users/gwondahyeon/Documents/GitHub/Real-Estate/env/lib/python3.12/site-packages/prophet/forecaster.py:1854: FutureWarning:\n",
      "\n",
      "'M' is deprecated and will be removed in a future version, please use 'ME' instead.\n",
      "\n",
      "16:09:01 - cmdstanpy - INFO - Chain [1] start processing\n",
      "16:09:01 - cmdstanpy - INFO - Chain [1] done processing\n",
      "/Users/gwondahyeon/Documents/GitHub/Real-Estate/env/lib/python3.12/site-packages/prophet/forecaster.py:1854: FutureWarning:\n",
      "\n",
      "'M' is deprecated and will be removed in a future version, please use 'ME' instead.\n",
      "\n",
      "16:09:01 - cmdstanpy - INFO - Chain [1] start processing\n"
     ]
    },
    {
     "name": "stdout",
     "output_type": "stream",
     "text": [
      "Skipping 금천구 독산동 SHIN YOUNG (오피스텔): Not enough data for prediction\n"
     ]
    },
    {
     "name": "stderr",
     "output_type": "stream",
     "text": [
      "16:09:01 - cmdstanpy - INFO - Chain [1] done processing\n",
      "/Users/gwondahyeon/Documents/GitHub/Real-Estate/env/lib/python3.12/site-packages/prophet/forecaster.py:1854: FutureWarning:\n",
      "\n",
      "'M' is deprecated and will be removed in a future version, please use 'ME' instead.\n",
      "\n",
      "16:09:01 - cmdstanpy - INFO - Chain [1] start processing\n",
      "16:09:01 - cmdstanpy - INFO - Chain [1] done processing\n",
      "/Users/gwondahyeon/Documents/GitHub/Real-Estate/env/lib/python3.12/site-packages/prophet/forecaster.py:1854: FutureWarning:\n",
      "\n",
      "'M' is deprecated and will be removed in a future version, please use 'ME' instead.\n",
      "\n",
      "16:09:01 - cmdstanpy - INFO - Chain [1] start processing\n",
      "16:09:01 - cmdstanpy - INFO - Chain [1] done processing\n",
      "/Users/gwondahyeon/Documents/GitHub/Real-Estate/env/lib/python3.12/site-packages/prophet/forecaster.py:1854: FutureWarning:\n",
      "\n",
      "'M' is deprecated and will be removed in a future version, please use 'ME' instead.\n",
      "\n",
      "16:09:01 - cmdstanpy - INFO - Chain [1] start processing\n",
      "16:09:01 - cmdstanpy - INFO - Chain [1] done processing\n",
      "/Users/gwondahyeon/Documents/GitHub/Real-Estate/env/lib/python3.12/site-packages/prophet/forecaster.py:1854: FutureWarning:\n",
      "\n",
      "'M' is deprecated and will be removed in a future version, please use 'ME' instead.\n",
      "\n",
      "16:09:01 - cmdstanpy - INFO - Chain [1] start processing\n",
      "16:09:02 - cmdstanpy - INFO - Chain [1] done processing\n",
      "/Users/gwondahyeon/Documents/GitHub/Real-Estate/env/lib/python3.12/site-packages/prophet/forecaster.py:1854: FutureWarning:\n",
      "\n",
      "'M' is deprecated and will be removed in a future version, please use 'ME' instead.\n",
      "\n",
      "16:09:02 - cmdstanpy - INFO - Chain [1] start processing\n",
      "16:09:02 - cmdstanpy - INFO - Chain [1] done processing\n",
      "/Users/gwondahyeon/Documents/GitHub/Real-Estate/env/lib/python3.12/site-packages/prophet/forecaster.py:1854: FutureWarning:\n",
      "\n",
      "'M' is deprecated and will be removed in a future version, please use 'ME' instead.\n",
      "\n",
      "16:09:02 - cmdstanpy - INFO - Chain [1] start processing\n",
      "16:09:02 - cmdstanpy - INFO - Chain [1] done processing\n",
      "/Users/gwondahyeon/Documents/GitHub/Real-Estate/env/lib/python3.12/site-packages/prophet/forecaster.py:1854: FutureWarning:\n",
      "\n",
      "'M' is deprecated and will be removed in a future version, please use 'ME' instead.\n",
      "\n"
     ]
    }
   ],
   "source": [
    "forecast_results = []\n",
    "\n",
    "for building in top_30_buildings:\n",
    "    df_building = df[df['지역+건물명+건물용도'] == building].groupby('거래일').agg({'물건금액(만원)':'mean'}).reset_index()  # 날짜별 평균 가격\n",
    "    df_building = df_building.rename(columns={'거래일': 'ds', '물건금액(만원)': 'y'})  # Prophet 요구 형식\n",
    "    df_building['y'] = df_building['y'].apply(lambda x: int(x))  # 소수점 제거\n",
    "\n",
    "    # **데이터 개수 확인 후 2개 미만이면 스킵**\n",
    "    if df_building.shape[0] < 2:\n",
    "        print(f\"Skipping {building}: Not enough data for prediction\")\n",
    "        continue  # 데이터가 부족하면 건너뜀\n",
    "\n",
    "    # Prophet 모델 학습\n",
    "    model = Prophet()\n",
    "    model.fit(df_building)\n",
    "\n",
    "    # 미래 데이터 생성 (2025년까지 예측)\n",
    "    future = model.make_future_dataframe(periods=12, freq='M') # 12개월동안 예측, 월 단위로 미래 날짜 생성\n",
    "    forecast = model.predict(future) # 예측결과\n",
    "\n",
    "    # 2026년 데이터 필터링 및 저장\n",
    "    forecast_2025 = forecast[forecast['ds'].dt.year == 2025][['ds', 'yhat']] # ds: 날짜, yhat: 예측값\n",
    "    forecast_2025 = forecast_2025.rename(columns={'ds': '거래일', 'yhat': '물건금액(만원)'})  # 컬럼명 변경\n",
    "    forecast_2025['지역+건물명+건물용도'] = building  # 건물 이름 추가\n",
    "    forecast_results.append(forecast_2025)"
   ]
  },
  {
   "cell_type": "markdown",
   "metadata": {},
   "source": [
    "## 5) 모든 건물 예측 데이터 합치기 & 파일 저장 및 확인"
   ]
  },
  {
   "cell_type": "code",
   "execution_count": 179,
   "metadata": {},
   "outputs": [
    {
     "data": {
      "text/html": [
       "<div>\n",
       "<style scoped>\n",
       "    .dataframe tbody tr th:only-of-type {\n",
       "        vertical-align: middle;\n",
       "    }\n",
       "\n",
       "    .dataframe tbody tr th {\n",
       "        vertical-align: top;\n",
       "    }\n",
       "\n",
       "    .dataframe thead th {\n",
       "        text-align: right;\n",
       "    }\n",
       "</style>\n",
       "<table border=\"1\" class=\"dataframe\">\n",
       "  <thead>\n",
       "    <tr style=\"text-align: right;\">\n",
       "      <th></th>\n",
       "      <th>거래일</th>\n",
       "      <th>물건금액(만원)</th>\n",
       "      <th>지역+건물명+건물용도</th>\n",
       "    </tr>\n",
       "  </thead>\n",
       "  <tbody>\n",
       "    <tr>\n",
       "      <th>0</th>\n",
       "      <td>2025-01-01</td>\n",
       "      <td>242221</td>\n",
       "      <td>송파구 가락동 헬리오시티 (아파트)</td>\n",
       "    </tr>\n",
       "    <tr>\n",
       "      <th>1</th>\n",
       "      <td>2025-01-31</td>\n",
       "      <td>211154</td>\n",
       "      <td>송파구 가락동 헬리오시티 (아파트)</td>\n",
       "    </tr>\n",
       "    <tr>\n",
       "      <th>2</th>\n",
       "      <td>2025-02-28</td>\n",
       "      <td>216085</td>\n",
       "      <td>송파구 가락동 헬리오시티 (아파트)</td>\n",
       "    </tr>\n",
       "    <tr>\n",
       "      <th>3</th>\n",
       "      <td>2025-03-31</td>\n",
       "      <td>203749</td>\n",
       "      <td>송파구 가락동 헬리오시티 (아파트)</td>\n",
       "    </tr>\n",
       "    <tr>\n",
       "      <th>4</th>\n",
       "      <td>2025-04-30</td>\n",
       "      <td>206359</td>\n",
       "      <td>송파구 가락동 헬리오시티 (아파트)</td>\n",
       "    </tr>\n",
       "    <tr>\n",
       "      <th>...</th>\n",
       "      <td>...</td>\n",
       "      <td>...</td>\n",
       "      <td>...</td>\n",
       "    </tr>\n",
       "    <tr>\n",
       "      <th>330</th>\n",
       "      <td>2025-08-31</td>\n",
       "      <td>63859</td>\n",
       "      <td>도봉구 도봉동 한신 (아파트)</td>\n",
       "    </tr>\n",
       "    <tr>\n",
       "      <th>331</th>\n",
       "      <td>2025-09-30</td>\n",
       "      <td>64036</td>\n",
       "      <td>도봉구 도봉동 한신 (아파트)</td>\n",
       "    </tr>\n",
       "    <tr>\n",
       "      <th>332</th>\n",
       "      <td>2025-10-31</td>\n",
       "      <td>56915</td>\n",
       "      <td>도봉구 도봉동 한신 (아파트)</td>\n",
       "    </tr>\n",
       "    <tr>\n",
       "      <th>333</th>\n",
       "      <td>2025-11-30</td>\n",
       "      <td>66239</td>\n",
       "      <td>도봉구 도봉동 한신 (아파트)</td>\n",
       "    </tr>\n",
       "    <tr>\n",
       "      <th>334</th>\n",
       "      <td>2025-12-31</td>\n",
       "      <td>64382</td>\n",
       "      <td>도봉구 도봉동 한신 (아파트)</td>\n",
       "    </tr>\n",
       "  </tbody>\n",
       "</table>\n",
       "<p>335 rows × 3 columns</p>\n",
       "</div>"
      ],
      "text/plain": [
       "           거래일  물건금액(만원)          지역+건물명+건물용도\n",
       "0   2025-01-01    242221  송파구 가락동 헬리오시티 (아파트)\n",
       "1   2025-01-31    211154  송파구 가락동 헬리오시티 (아파트)\n",
       "2   2025-02-28    216085  송파구 가락동 헬리오시티 (아파트)\n",
       "3   2025-03-31    203749  송파구 가락동 헬리오시티 (아파트)\n",
       "4   2025-04-30    206359  송파구 가락동 헬리오시티 (아파트)\n",
       "..         ...       ...                  ...\n",
       "330 2025-08-31     63859     도봉구 도봉동 한신 (아파트)\n",
       "331 2025-09-30     64036     도봉구 도봉동 한신 (아파트)\n",
       "332 2025-10-31     56915     도봉구 도봉동 한신 (아파트)\n",
       "333 2025-11-30     66239     도봉구 도봉동 한신 (아파트)\n",
       "334 2025-12-31     64382     도봉구 도봉동 한신 (아파트)\n",
       "\n",
       "[335 rows x 3 columns]"
      ]
     },
     "execution_count": 179,
     "metadata": {},
     "output_type": "execute_result"
    }
   ],
   "source": [
    "# 모든 건물 예측 데이터 합치기\n",
    "df_forecast_2025 = pd.concat(forecast_results, ignore_index=True)\n",
    "df_forecast_2025['물건금액(만원)'] = df_forecast_2025['물건금액(만원)'].astype(int)  # 소수점 제거\n",
    "df_forecast_2025"
   ]
  },
  {
   "cell_type": "code",
   "execution_count": 180,
   "metadata": {},
   "outputs": [
    {
     "name": "stdout",
     "output_type": "stream",
     "text": [
      "         거래일  물건금액(만원)          지역+건물명+건물용도\n",
      "0 2025-01-01    242221  송파구 가락동 헬리오시티 (아파트)\n",
      "1 2025-01-31    211154  송파구 가락동 헬리오시티 (아파트)\n",
      "2 2025-02-28    216085  송파구 가락동 헬리오시티 (아파트)\n",
      "3 2025-03-31    203749  송파구 가락동 헬리오시티 (아파트)\n",
      "4 2025-04-30    206359  송파구 가락동 헬리오시티 (아파트)\n",
      "5 2025-05-31    226730  송파구 가락동 헬리오시티 (아파트)\n",
      "6 2025-06-30    238993  송파구 가락동 헬리오시티 (아파트)\n",
      "7 2025-07-31    237576  송파구 가락동 헬리오시티 (아파트)\n",
      "8 2025-08-31    202417  송파구 가락동 헬리오시티 (아파트)\n",
      "9 2025-09-30    237257  송파구 가락동 헬리오시티 (아파트)\n"
     ]
    }
   ],
   "source": [
    "# 예측된 데이터 저장 (CSV 파일로 저장)\n",
    "df_forecast_2025.to_csv(\"../Data/forecast_2025.csv\", index=False)\n",
    "\n",
    "# 데이터 확인 (상위 10개 출력)\n",
    "print(df_forecast_2025.head(10))"
   ]
  },
  {
   "cell_type": "markdown",
   "metadata": {},
   "source": [
    "## 6) 예측 데이터 시각화\n",
    "- 2025년 예측 데이터 추가 & 그래프로 시각화\n",
    "- 거래량 상위 3개 지역 예측값 확인"
   ]
  },
  {
   "cell_type": "code",
   "execution_count": 181,
   "metadata": {},
   "outputs": [
    {
     "data": {
      "text/html": [
       "<div>\n",
       "<style scoped>\n",
       "    .dataframe tbody tr th:only-of-type {\n",
       "        vertical-align: middle;\n",
       "    }\n",
       "\n",
       "    .dataframe tbody tr th {\n",
       "        vertical-align: top;\n",
       "    }\n",
       "\n",
       "    .dataframe thead th {\n",
       "        text-align: right;\n",
       "    }\n",
       "</style>\n",
       "<table border=\"1\" class=\"dataframe\">\n",
       "  <thead>\n",
       "    <tr style=\"text-align: right;\">\n",
       "      <th></th>\n",
       "      <th>거래일</th>\n",
       "      <th>지역+건물명+건물용도</th>\n",
       "      <th>물건금액(만원)</th>\n",
       "    </tr>\n",
       "  </thead>\n",
       "  <tbody>\n",
       "    <tr>\n",
       "      <th>0</th>\n",
       "      <td>2025-01-01</td>\n",
       "      <td>도봉구 방학동 한신빌라(638-10) (연립다세대)</td>\n",
       "      <td>14800</td>\n",
       "    </tr>\n",
       "    <tr>\n",
       "      <th>1</th>\n",
       "      <td>2025-01-01</td>\n",
       "      <td>강서구 등촌동 현대프린스텔 (오피스텔)</td>\n",
       "      <td>10300</td>\n",
       "    </tr>\n",
       "    <tr>\n",
       "      <th>2</th>\n",
       "      <td>2025-01-01</td>\n",
       "      <td>관악구 신림동 푸리마타운 (오피스텔)</td>\n",
       "      <td>12700</td>\n",
       "    </tr>\n",
       "    <tr>\n",
       "      <th>3</th>\n",
       "      <td>2025-01-01</td>\n",
       "      <td>구로구 고척동 고척파크푸르지오 (아파트)</td>\n",
       "      <td>84000</td>\n",
       "    </tr>\n",
       "    <tr>\n",
       "      <th>4</th>\n",
       "      <td>2025-01-01</td>\n",
       "      <td>광진구 중곡동 욱현하이브(73-70) (연립다세대)</td>\n",
       "      <td>19800</td>\n",
       "    </tr>\n",
       "  </tbody>\n",
       "</table>\n",
       "</div>"
      ],
      "text/plain": [
       "          거래일                   지역+건물명+건물용도  물건금액(만원)\n",
       "0  2025-01-01  도봉구 방학동 한신빌라(638-10) (연립다세대)     14800\n",
       "1  2025-01-01         강서구 등촌동 현대프린스텔 (오피스텔)     10300\n",
       "2  2025-01-01          관악구 신림동 푸리마타운 (오피스텔)     12700\n",
       "3  2025-01-01        구로구 고척동 고척파크푸르지오 (아파트)     84000\n",
       "4  2025-01-01  광진구 중곡동 욱현하이브(73-70) (연립다세대)     19800"
      ]
     },
     "execution_count": 181,
     "metadata": {},
     "output_type": "execute_result"
    }
   ],
   "source": [
    "# 기존 데이터 로드\n",
    "# file_path = '../Data/real-estate-prophet.csv'\n",
    "# data1 = pd.read_csv(file_path, encoding=\"utf-8\")\n",
    "# data1 = data1[['거래일', '지역+건물명+건물용도', '물건금액(만원)']]\n",
    "df['거래일'] = pd.to_datetime(df['거래일']).dt.date\n",
    "df.head()"
   ]
  },
  {
   "cell_type": "code",
   "execution_count": 182,
   "metadata": {},
   "outputs": [
    {
     "data": {
      "text/html": [
       "<div>\n",
       "<style scoped>\n",
       "    .dataframe tbody tr th:only-of-type {\n",
       "        vertical-align: middle;\n",
       "    }\n",
       "\n",
       "    .dataframe tbody tr th {\n",
       "        vertical-align: top;\n",
       "    }\n",
       "\n",
       "    .dataframe thead th {\n",
       "        text-align: right;\n",
       "    }\n",
       "</style>\n",
       "<table border=\"1\" class=\"dataframe\">\n",
       "  <thead>\n",
       "    <tr style=\"text-align: right;\">\n",
       "      <th></th>\n",
       "      <th>거래일</th>\n",
       "      <th>지역+건물명+건물용도</th>\n",
       "      <th>물건금액(만원)</th>\n",
       "    </tr>\n",
       "  </thead>\n",
       "  <tbody>\n",
       "    <tr>\n",
       "      <th>0</th>\n",
       "      <td>2025-01-01</td>\n",
       "      <td>송파구 가락동 헬리오시티 (아파트)</td>\n",
       "      <td>242221</td>\n",
       "    </tr>\n",
       "    <tr>\n",
       "      <th>1</th>\n",
       "      <td>2025-01-31</td>\n",
       "      <td>송파구 가락동 헬리오시티 (아파트)</td>\n",
       "      <td>211154</td>\n",
       "    </tr>\n",
       "    <tr>\n",
       "      <th>2</th>\n",
       "      <td>2025-02-28</td>\n",
       "      <td>송파구 가락동 헬리오시티 (아파트)</td>\n",
       "      <td>216085</td>\n",
       "    </tr>\n",
       "    <tr>\n",
       "      <th>3</th>\n",
       "      <td>2025-03-31</td>\n",
       "      <td>송파구 가락동 헬리오시티 (아파트)</td>\n",
       "      <td>203749</td>\n",
       "    </tr>\n",
       "    <tr>\n",
       "      <th>4</th>\n",
       "      <td>2025-04-30</td>\n",
       "      <td>송파구 가락동 헬리오시티 (아파트)</td>\n",
       "      <td>206359</td>\n",
       "    </tr>\n",
       "  </tbody>\n",
       "</table>\n",
       "</div>"
      ],
      "text/plain": [
       "          거래일          지역+건물명+건물용도  물건금액(만원)\n",
       "0  2025-01-01  송파구 가락동 헬리오시티 (아파트)    242221\n",
       "1  2025-01-31  송파구 가락동 헬리오시티 (아파트)    211154\n",
       "2  2025-02-28  송파구 가락동 헬리오시티 (아파트)    216085\n",
       "3  2025-03-31  송파구 가락동 헬리오시티 (아파트)    203749\n",
       "4  2025-04-30  송파구 가락동 헬리오시티 (아파트)    206359"
      ]
     },
     "execution_count": 182,
     "metadata": {},
     "output_type": "execute_result"
    }
   ],
   "source": [
    "# 예측 데이터 로드\n",
    "file_path = '../Data/forecast_2025.csv'\n",
    "data2 = pd.read_csv(file_path, encoding=\"utf-8\")\n",
    "data2 = data2[['거래일', '지역+건물명+건물용도', '물건금액(만원)']]\n",
    "data2['거래일'] = pd.to_datetime(data2['거래일']).dt.date\n",
    "data2.head()"
   ]
  },
  {
   "cell_type": "code",
   "execution_count": 183,
   "metadata": {},
   "outputs": [
    {
     "data": {
      "text/html": [
       "<div>\n",
       "<style scoped>\n",
       "    .dataframe tbody tr th:only-of-type {\n",
       "        vertical-align: middle;\n",
       "    }\n",
       "\n",
       "    .dataframe tbody tr th {\n",
       "        vertical-align: top;\n",
       "    }\n",
       "\n",
       "    .dataframe thead th {\n",
       "        text-align: right;\n",
       "    }\n",
       "</style>\n",
       "<table border=\"1\" class=\"dataframe\">\n",
       "  <thead>\n",
       "    <tr style=\"text-align: right;\">\n",
       "      <th></th>\n",
       "      <th>거래일</th>\n",
       "      <th>지역+건물명+건물용도</th>\n",
       "      <th>물건금액(만원)</th>\n",
       "    </tr>\n",
       "  </thead>\n",
       "  <tbody>\n",
       "    <tr>\n",
       "      <th>0</th>\n",
       "      <td>2025-01-01</td>\n",
       "      <td>도봉구 방학동 한신빌라(638-10) (연립다세대)</td>\n",
       "      <td>14800</td>\n",
       "    </tr>\n",
       "    <tr>\n",
       "      <th>1</th>\n",
       "      <td>2025-01-01</td>\n",
       "      <td>강서구 등촌동 현대프린스텔 (오피스텔)</td>\n",
       "      <td>10300</td>\n",
       "    </tr>\n",
       "    <tr>\n",
       "      <th>2</th>\n",
       "      <td>2025-01-01</td>\n",
       "      <td>관악구 신림동 푸리마타운 (오피스텔)</td>\n",
       "      <td>12700</td>\n",
       "    </tr>\n",
       "    <tr>\n",
       "      <th>3</th>\n",
       "      <td>2025-01-01</td>\n",
       "      <td>구로구 고척동 고척파크푸르지오 (아파트)</td>\n",
       "      <td>84000</td>\n",
       "    </tr>\n",
       "    <tr>\n",
       "      <th>4</th>\n",
       "      <td>2025-01-01</td>\n",
       "      <td>광진구 중곡동 욱현하이브(73-70) (연립다세대)</td>\n",
       "      <td>19800</td>\n",
       "    </tr>\n",
       "    <tr>\n",
       "      <th>...</th>\n",
       "      <td>...</td>\n",
       "      <td>...</td>\n",
       "      <td>...</td>\n",
       "    </tr>\n",
       "    <tr>\n",
       "      <th>224020</th>\n",
       "      <td>2025-08-31</td>\n",
       "      <td>도봉구 도봉동 한신 (아파트)</td>\n",
       "      <td>63859</td>\n",
       "    </tr>\n",
       "    <tr>\n",
       "      <th>224021</th>\n",
       "      <td>2025-09-30</td>\n",
       "      <td>도봉구 도봉동 한신 (아파트)</td>\n",
       "      <td>64036</td>\n",
       "    </tr>\n",
       "    <tr>\n",
       "      <th>224022</th>\n",
       "      <td>2025-10-31</td>\n",
       "      <td>도봉구 도봉동 한신 (아파트)</td>\n",
       "      <td>56915</td>\n",
       "    </tr>\n",
       "    <tr>\n",
       "      <th>224023</th>\n",
       "      <td>2025-11-30</td>\n",
       "      <td>도봉구 도봉동 한신 (아파트)</td>\n",
       "      <td>66239</td>\n",
       "    </tr>\n",
       "    <tr>\n",
       "      <th>224024</th>\n",
       "      <td>2025-12-31</td>\n",
       "      <td>도봉구 도봉동 한신 (아파트)</td>\n",
       "      <td>64382</td>\n",
       "    </tr>\n",
       "  </tbody>\n",
       "</table>\n",
       "<p>224025 rows × 3 columns</p>\n",
       "</div>"
      ],
      "text/plain": [
       "               거래일                   지역+건물명+건물용도  물건금액(만원)\n",
       "0       2025-01-01  도봉구 방학동 한신빌라(638-10) (연립다세대)     14800\n",
       "1       2025-01-01         강서구 등촌동 현대프린스텔 (오피스텔)     10300\n",
       "2       2025-01-01          관악구 신림동 푸리마타운 (오피스텔)     12700\n",
       "3       2025-01-01        구로구 고척동 고척파크푸르지오 (아파트)     84000\n",
       "4       2025-01-01  광진구 중곡동 욱현하이브(73-70) (연립다세대)     19800\n",
       "...            ...                           ...       ...\n",
       "224020  2025-08-31              도봉구 도봉동 한신 (아파트)     63859\n",
       "224021  2025-09-30              도봉구 도봉동 한신 (아파트)     64036\n",
       "224022  2025-10-31              도봉구 도봉동 한신 (아파트)     56915\n",
       "224023  2025-11-30              도봉구 도봉동 한신 (아파트)     66239\n",
       "224024  2025-12-31              도봉구 도봉동 한신 (아파트)     64382\n",
       "\n",
       "[224025 rows x 3 columns]"
      ]
     },
     "execution_count": 183,
     "metadata": {},
     "output_type": "execute_result"
    }
   ],
   "source": [
    "join_df = pd.concat([df, data2], ignore_index=True, axis=0)\n",
    "join_df\n",
    "join_df"
   ]
  },
  {
   "cell_type": "code",
   "execution_count": 184,
   "metadata": {},
   "outputs": [
    {
     "data": {
      "text/plain": [
       "Index(['송파구 가락동 헬리오시티 (아파트)', '송파구 신천동 파크리오 (아파트)', '강동구 고덕동 고덕그라시움 (아파트)'], dtype='object', name='지역+건물명+건물용도')"
      ]
     },
     "execution_count": 184,
     "metadata": {},
     "output_type": "execute_result"
    }
   ],
   "source": [
    "# 가장 거래량이 많은 3개 건물 찾기\n",
    "top_buildings = join_df['지역+건물명+건물용도'].value_counts().head(3).index  # 거래량 가장 많은 건물\n",
    "top_buildings"
   ]
  },
  {
   "cell_type": "code",
   "execution_count": 185,
   "metadata": {},
   "outputs": [
    {
     "data": {
      "application/vnd.plotly.v1+json": {
       "config": {
        "plotlyServerURL": "https://plot.ly"
       },
       "data": [
        {
         "hovertemplate": "거래일=%{x}<br>거래 금액=%{y}<extra></extra>",
         "legendgroup": "",
         "line": {
          "color": "#636efa",
          "dash": "solid"
         },
         "marker": {
          "symbol": "circle"
         },
         "mode": "lines+markers",
         "name": "",
         "orientation": "v",
         "showlegend": false,
         "type": "scatter",
         "x": [
          "2021-12-01",
          "2022-01-01",
          "2022-02-01",
          "2022-02-01",
          "2022-02-01",
          "2022-02-01",
          "2022-02-01",
          "2022-03-01",
          "2022-03-01",
          "2022-03-01",
          "2022-03-01",
          "2022-03-01",
          "2022-03-01",
          "2022-03-01",
          "2022-03-01",
          "2022-04-01",
          "2022-04-01",
          "2022-04-01",
          "2022-04-01",
          "2022-05-01",
          "2022-05-01",
          "2022-05-01",
          "2022-05-01",
          "2022-05-01",
          "2022-05-01",
          "2022-05-01",
          "2022-05-01",
          "2022-05-01",
          "2022-05-01",
          "2022-05-01",
          "2022-06-01",
          "2022-07-01",
          "2022-07-01",
          "2022-07-01",
          "2022-07-01",
          "2022-07-01",
          "2022-08-01",
          "2022-08-01",
          "2022-08-01",
          "2022-09-01",
          "2022-09-01",
          "2022-09-01",
          "2022-09-01",
          "2022-10-01",
          "2022-10-01",
          "2022-10-01",
          "2022-10-01",
          "2022-10-01",
          "2022-11-01",
          "2022-11-01",
          "2022-11-01",
          "2022-11-01",
          "2022-11-01",
          "2022-11-01",
          "2022-11-01",
          "2022-11-01",
          "2022-11-01",
          "2022-11-01",
          "2022-11-01",
          "2022-11-01",
          "2022-11-01",
          "2022-12-01",
          "2022-12-01",
          "2022-12-01",
          "2022-12-01",
          "2022-12-01",
          "2022-12-01",
          "2022-12-01",
          "2022-12-01",
          "2022-12-01",
          "2022-12-01",
          "2022-12-01",
          "2022-12-01",
          "2022-12-01",
          "2022-12-01",
          "2022-12-01",
          "2022-12-01",
          "2023-01-01",
          "2023-01-01",
          "2023-01-01",
          "2023-01-01",
          "2023-01-01",
          "2023-01-01",
          "2023-01-01",
          "2023-01-01",
          "2023-01-01",
          "2023-01-01",
          "2023-01-01",
          "2023-01-01",
          "2023-01-01",
          "2023-01-01",
          "2023-01-01",
          "2023-01-01",
          "2023-01-01",
          "2023-01-01",
          "2023-01-01",
          "2023-01-01",
          "2023-01-01",
          "2023-01-01",
          "2023-01-01",
          "2023-01-01",
          "2023-01-01",
          "2023-01-01",
          "2023-01-01",
          "2023-02-01",
          "2023-02-01",
          "2023-02-01",
          "2023-02-01",
          "2023-02-01",
          "2023-02-01",
          "2023-02-01",
          "2023-02-01",
          "2023-02-01",
          "2023-02-01",
          "2023-02-01",
          "2023-02-01",
          "2023-02-01",
          "2023-02-01",
          "2023-02-01",
          "2023-02-01",
          "2023-02-01",
          "2023-02-01",
          "2023-02-01",
          "2023-02-01",
          "2023-02-01",
          "2023-02-01",
          "2023-02-01",
          "2023-02-01",
          "2023-02-01",
          "2023-02-01",
          "2023-02-01",
          "2023-02-01",
          "2023-02-01",
          "2023-02-01",
          "2023-02-01",
          "2023-02-01",
          "2023-02-01",
          "2023-02-01",
          "2023-02-01",
          "2023-02-01",
          "2023-02-01",
          "2023-02-01",
          "2023-02-01",
          "2023-02-01",
          "2023-02-01",
          "2023-02-01",
          "2023-02-01",
          "2023-02-01",
          "2023-02-01",
          "2023-02-01",
          "2023-02-01",
          "2023-02-01",
          "2023-02-01",
          "2023-02-01",
          "2023-03-01",
          "2023-03-01",
          "2023-03-01",
          "2023-03-01",
          "2023-03-01",
          "2023-03-01",
          "2023-03-01",
          "2023-03-01",
          "2023-03-01",
          "2023-03-01",
          "2023-03-01",
          "2023-03-01",
          "2023-03-01",
          "2023-03-01",
          "2023-03-01",
          "2023-03-01",
          "2023-03-01",
          "2023-03-01",
          "2023-03-01",
          "2023-03-01",
          "2023-03-01",
          "2023-03-01",
          "2023-03-01",
          "2023-03-01",
          "2023-03-01",
          "2023-03-01",
          "2023-03-01",
          "2023-03-01",
          "2023-03-01",
          "2023-03-01",
          "2023-03-01",
          "2023-03-01",
          "2023-03-01",
          "2023-03-01",
          "2023-03-01",
          "2023-04-01",
          "2023-04-01",
          "2023-04-01",
          "2023-04-01",
          "2023-04-01",
          "2023-04-01",
          "2023-04-01",
          "2023-04-01",
          "2023-04-01",
          "2023-04-01",
          "2023-04-01",
          "2023-04-01",
          "2023-04-01",
          "2023-04-01",
          "2023-04-01",
          "2023-04-01",
          "2023-04-01",
          "2023-04-01",
          "2023-04-01",
          "2023-04-01",
          "2023-04-01",
          "2023-04-01",
          "2023-04-01",
          "2023-04-01",
          "2023-04-01",
          "2023-04-01",
          "2023-04-01",
          "2023-04-01",
          "2023-04-01",
          "2023-04-01",
          "2023-04-01",
          "2023-04-01",
          "2023-04-01",
          "2023-04-01",
          "2023-04-01",
          "2023-04-01",
          "2023-04-01",
          "2023-05-01",
          "2023-05-01",
          "2023-05-01",
          "2023-05-01",
          "2023-05-01",
          "2023-05-01",
          "2023-05-01",
          "2023-05-01",
          "2023-05-01",
          "2023-05-01",
          "2023-05-01",
          "2023-05-01",
          "2023-05-01",
          "2023-05-01",
          "2023-05-01",
          "2023-05-01",
          "2023-05-01",
          "2023-05-01",
          "2023-05-01",
          "2023-05-01",
          "2023-05-01",
          "2023-05-01",
          "2023-05-01",
          "2023-05-01",
          "2023-05-01",
          "2023-05-01",
          "2023-05-01",
          "2023-05-01",
          "2023-05-01",
          "2023-05-01",
          "2023-05-01",
          "2023-06-01",
          "2023-06-01",
          "2023-06-01",
          "2023-06-01",
          "2023-06-01",
          "2023-06-01",
          "2023-06-01",
          "2023-06-01",
          "2023-06-01",
          "2023-06-01",
          "2023-06-01",
          "2023-06-01",
          "2023-06-01",
          "2023-06-01",
          "2023-06-01",
          "2023-06-01",
          "2023-06-01",
          "2023-06-01",
          "2023-06-01",
          "2023-06-01",
          "2023-06-01",
          "2023-06-01",
          "2023-06-01",
          "2023-06-01",
          "2023-06-01",
          "2023-06-01",
          "2023-06-01",
          "2023-06-01",
          "2023-06-01",
          "2023-06-01",
          "2023-06-01",
          "2023-07-01",
          "2023-07-01",
          "2023-07-01",
          "2023-07-01",
          "2023-07-01",
          "2023-07-01",
          "2023-07-01",
          "2023-07-01",
          "2023-07-01",
          "2023-07-01",
          "2023-07-01",
          "2023-07-01",
          "2023-07-01",
          "2023-07-01",
          "2023-07-01",
          "2023-07-01",
          "2023-07-01",
          "2023-07-01",
          "2023-08-01",
          "2023-08-01",
          "2023-08-01",
          "2023-08-01",
          "2023-08-01",
          "2023-08-01",
          "2023-08-01",
          "2023-08-01",
          "2023-08-01",
          "2023-08-01",
          "2023-08-01",
          "2023-08-01",
          "2023-08-01",
          "2023-08-01",
          "2023-08-01",
          "2023-08-01",
          "2023-08-01",
          "2023-08-01",
          "2023-08-01",
          "2023-08-01",
          "2023-08-01",
          "2023-08-01",
          "2023-08-01",
          "2023-08-01",
          "2023-08-01",
          "2023-08-01",
          "2023-08-01",
          "2023-08-01",
          "2023-08-01",
          "2023-08-01",
          "2023-08-01",
          "2023-08-01",
          "2023-08-01",
          "2023-09-01",
          "2023-09-01",
          "2023-09-01",
          "2023-09-01",
          "2023-09-01",
          "2023-09-01",
          "2023-09-01",
          "2023-09-01",
          "2023-09-01",
          "2023-09-01",
          "2023-09-01",
          "2023-09-01",
          "2023-09-01",
          "2023-09-01",
          "2023-09-01",
          "2023-09-01",
          "2023-09-01",
          "2023-09-01",
          "2023-09-01",
          "2023-09-01",
          "2023-09-01",
          "2023-09-01",
          "2023-09-01",
          "2023-09-01",
          "2023-09-01",
          "2023-09-01",
          "2023-09-01",
          "2023-09-01",
          "2023-10-01",
          "2023-10-01",
          "2023-10-01",
          "2023-10-01",
          "2023-10-01",
          "2023-10-01",
          "2023-10-01",
          "2023-10-01",
          "2023-10-01",
          "2023-10-01",
          "2023-10-01",
          "2023-10-01",
          "2023-11-01",
          "2023-11-01",
          "2023-11-01",
          "2023-11-01",
          "2023-11-01",
          "2023-11-01",
          "2023-11-01",
          "2023-12-01",
          "2023-12-01",
          "2023-12-01",
          "2023-12-01",
          "2023-12-01",
          "2023-12-01",
          "2023-12-01",
          "2023-12-01",
          "2023-12-01",
          "2023-12-01",
          "2023-12-01",
          "2024-01-01",
          "2024-01-01",
          "2024-01-01",
          "2024-01-01",
          "2024-01-01",
          "2024-01-01",
          "2024-01-01",
          "2024-01-01",
          "2024-01-01",
          "2024-01-01",
          "2024-01-01",
          "2024-01-01",
          "2024-01-01",
          "2024-01-01",
          "2024-01-01",
          "2024-01-01",
          "2024-02-01",
          "2024-02-01",
          "2024-02-01",
          "2024-02-01",
          "2024-02-01",
          "2024-02-01",
          "2024-02-01",
          "2024-02-01",
          "2024-02-01",
          "2024-02-01",
          "2024-02-01",
          "2024-02-01",
          "2024-02-01",
          "2024-02-01",
          "2024-02-01",
          "2024-02-01",
          "2024-02-01",
          "2024-03-01",
          "2024-03-01",
          "2024-03-01",
          "2024-03-01",
          "2024-03-01",
          "2024-03-01",
          "2024-03-01",
          "2024-03-01",
          "2024-03-01",
          "2024-03-01",
          "2024-03-01",
          "2024-03-01",
          "2024-03-01",
          "2024-03-01",
          "2024-03-01",
          "2024-03-01",
          "2024-03-01",
          "2024-03-01",
          "2024-03-01",
          "2024-03-01",
          "2024-03-01",
          "2024-03-01",
          "2024-03-01",
          "2024-03-01",
          "2024-03-01",
          "2024-03-01",
          "2024-03-01",
          "2024-03-01",
          "2024-03-01",
          "2024-03-01",
          "2024-03-01",
          "2024-03-01",
          "2024-03-01",
          "2024-03-01",
          "2024-03-01",
          "2024-03-01",
          "2024-03-01",
          "2024-03-01",
          "2024-03-01",
          "2024-03-01",
          "2024-03-01",
          "2024-04-01",
          "2024-04-01",
          "2024-04-01",
          "2024-04-01",
          "2024-04-01",
          "2024-04-01",
          "2024-04-01",
          "2024-04-01",
          "2024-04-01",
          "2024-04-01",
          "2024-04-01",
          "2024-04-01",
          "2024-04-01",
          "2024-04-01",
          "2024-04-01",
          "2024-04-01",
          "2024-04-01",
          "2024-04-01",
          "2024-04-01",
          "2024-04-01",
          "2024-04-01",
          "2024-04-01",
          "2024-04-01",
          "2024-04-01",
          "2024-04-01",
          "2024-04-01",
          "2024-04-01",
          "2024-04-01",
          "2024-04-01",
          "2024-04-01",
          "2024-04-01",
          "2024-04-01",
          "2024-04-01",
          "2024-04-01",
          "2024-04-01",
          "2024-04-01",
          "2024-05-01",
          "2024-05-01",
          "2024-05-01",
          "2024-05-01",
          "2024-05-01",
          "2024-05-01",
          "2024-05-01",
          "2024-05-01",
          "2024-05-01",
          "2024-05-01",
          "2024-05-01",
          "2024-05-01",
          "2024-05-01",
          "2024-05-01",
          "2024-05-01",
          "2024-05-01",
          "2024-05-01",
          "2024-05-01",
          "2024-05-01",
          "2024-05-01",
          "2024-05-01",
          "2024-05-01",
          "2024-05-01",
          "2024-05-01",
          "2024-05-01",
          "2024-05-01",
          "2024-05-01",
          "2024-05-01",
          "2024-05-01",
          "2024-05-01",
          "2024-05-01",
          "2024-05-01",
          "2024-05-01",
          "2024-05-01",
          "2024-05-01",
          "2024-05-01",
          "2024-05-01",
          "2024-05-01",
          "2024-05-01",
          "2024-05-01",
          "2024-05-01",
          "2024-05-01",
          "2024-06-01",
          "2024-06-01",
          "2024-06-01",
          "2024-06-01",
          "2024-06-01",
          "2024-06-01",
          "2024-06-01",
          "2024-06-01",
          "2024-06-01",
          "2024-06-01",
          "2024-06-01",
          "2024-06-01",
          "2024-06-01",
          "2024-06-01",
          "2024-06-01",
          "2024-06-01",
          "2024-06-01",
          "2024-06-01",
          "2024-06-01",
          "2024-06-01",
          "2024-06-01",
          "2024-06-01",
          "2024-06-01",
          "2024-06-01",
          "2024-06-01",
          "2024-06-01",
          "2024-06-01",
          "2024-06-01",
          "2024-06-01",
          "2024-06-01",
          "2024-06-01",
          "2024-06-01",
          "2024-06-01",
          "2024-06-01",
          "2024-06-01",
          "2024-06-01",
          "2024-06-01",
          "2024-06-01",
          "2024-06-01",
          "2024-06-01",
          "2024-06-01",
          "2024-06-01",
          "2024-06-01",
          "2024-06-01",
          "2024-06-01",
          "2024-06-01",
          "2024-06-01",
          "2024-06-01",
          "2024-06-01",
          "2024-06-01",
          "2024-06-01",
          "2024-06-01",
          "2024-06-01",
          "2024-06-01",
          "2024-06-01",
          "2024-06-01",
          "2024-06-01",
          "2024-06-01",
          "2024-07-01",
          "2024-07-01",
          "2024-07-01",
          "2024-07-01",
          "2024-07-01",
          "2024-07-01",
          "2024-07-01",
          "2024-07-01",
          "2024-07-01",
          "2024-07-01",
          "2024-07-01",
          "2024-07-01",
          "2024-07-01",
          "2024-07-01",
          "2024-07-01",
          "2024-07-01",
          "2024-07-01",
          "2024-07-01",
          "2024-07-01",
          "2024-07-01",
          "2024-07-01",
          "2024-07-01",
          "2024-07-01",
          "2024-07-01",
          "2024-07-01",
          "2024-07-01",
          "2024-07-01",
          "2024-07-01",
          "2024-07-01",
          "2024-07-01",
          "2024-07-01",
          "2024-07-01",
          "2024-07-01",
          "2024-07-01",
          "2024-07-01",
          "2024-07-01",
          "2024-07-01",
          "2024-07-01",
          "2024-07-01",
          "2024-07-01",
          "2024-07-01",
          "2024-07-01",
          "2024-07-01",
          "2024-07-01",
          "2024-07-01",
          "2024-07-01",
          "2024-07-01",
          "2024-07-01",
          "2024-07-01",
          "2024-07-01",
          "2024-07-01",
          "2024-07-01",
          "2024-07-01",
          "2024-07-01",
          "2024-07-01",
          "2024-07-01",
          "2024-07-01",
          "2024-07-01",
          "2024-07-01",
          "2024-07-01",
          "2024-07-01",
          "2024-07-01",
          "2024-07-01",
          "2024-07-01",
          "2024-07-01",
          "2024-08-01",
          "2024-08-01",
          "2024-08-01",
          "2024-08-01",
          "2024-08-01",
          "2024-08-01",
          "2024-08-01",
          "2024-08-01",
          "2024-08-01",
          "2024-08-01",
          "2024-08-01",
          "2024-08-01",
          "2024-08-01",
          "2024-08-01",
          "2024-08-01",
          "2024-08-01",
          "2024-08-01",
          "2024-08-01",
          "2024-08-01",
          "2024-08-01",
          "2024-09-01",
          "2024-09-01",
          "2024-09-01",
          "2024-09-01",
          "2024-09-01",
          "2024-09-01",
          "2024-09-01",
          "2024-09-01",
          "2024-09-01",
          "2024-09-01",
          "2024-09-01",
          "2024-09-01",
          "2024-09-01",
          "2024-09-01",
          "2024-09-01",
          "2024-09-01",
          "2024-10-01",
          "2024-10-01",
          "2024-10-01",
          "2024-10-01",
          "2024-10-01",
          "2024-10-01",
          "2024-10-01",
          "2024-10-01",
          "2024-10-01",
          "2024-10-01",
          "2024-10-01",
          "2024-10-01",
          "2024-10-01",
          "2024-10-01",
          "2024-10-01",
          "2024-10-01",
          "2024-10-01",
          "2024-10-01",
          "2024-10-01",
          "2024-11-01",
          "2024-11-01",
          "2024-11-01",
          "2024-11-01",
          "2024-11-01",
          "2024-11-01",
          "2024-11-01",
          "2024-11-01",
          "2024-11-01",
          "2024-11-01",
          "2024-11-01",
          "2024-11-01",
          "2024-11-01",
          "2024-11-01",
          "2024-11-01",
          "2024-11-01",
          "2024-11-01",
          "2024-11-01",
          "2024-11-01",
          "2024-11-01",
          "2024-12-01",
          "2024-12-01",
          "2024-12-01",
          "2024-12-01",
          "2024-12-01",
          "2024-12-01",
          "2024-12-01",
          "2024-12-01",
          "2024-12-01",
          "2024-12-01",
          "2024-12-01",
          "2024-12-01",
          "2025-01-01",
          "2025-01-01",
          "2025-01-31",
          "2025-02-28",
          "2025-03-31",
          "2025-04-30",
          "2025-05-31",
          "2025-06-30",
          "2025-07-31",
          "2025-08-31",
          "2025-09-30",
          "2025-10-31",
          "2025-11-30",
          "2025-12-31"
         ],
         "xaxis": "x",
         "y": [
          1270000000,
          2370000000,
          1300000000,
          1300000000,
          1910000000,
          2180000000,
          1250000000,
          2260000000,
          2180000000,
          2180000000,
          2220000000,
          2224000000,
          2120000000,
          2145000000,
          1597000000,
          1198000000,
          2060000000,
          1252000000,
          2095000000,
          1150000000,
          1150000000,
          2300000000,
          1120000000,
          2160000000,
          1260000000,
          2080000000,
          2140000000,
          2900000000,
          2240000000,
          2150000000,
          2020000000,
          2100000000,
          1440000000,
          2100000000,
          2100000000,
          2070000000,
          2090000000,
          1420000000,
          2200000000,
          1100000000,
          1100000000,
          1380000000,
          3080000000,
          1865000000,
          1800000000,
          1785000000,
          2620000000,
          1795000000,
          1670000000,
          1760000000,
          1700000000,
          1750000000,
          1660000000,
          1750000000,
          1800000000,
          1750000000,
          1680000000,
          1860000000,
          1850000000,
          1805000000,
          925000000,
          1287000000,
          1700000000,
          1670000000,
          915000000,
          1390000000,
          880000000,
          1700000000,
          910000000,
          1590000000,
          1750000000,
          1750000000,
          1265000000,
          1600000000,
          1650000000,
          1765000000,
          1680000000,
          1480000000,
          1480000000,
          1435000000,
          920000000,
          1470000000,
          1750000000,
          1755000000,
          1580000000,
          1850000000,
          1500000000,
          1650000000,
          1750000000,
          1650000000,
          1800000000,
          1800000000,
          1530000000,
          1410000000,
          1630000000,
          930000000,
          920000000,
          950000000,
          1440000000,
          1780000000,
          1700000000,
          1800000000,
          1460000000,
          1715000000,
          2900000000,
          1880000000,
          1670000000,
          1810000000,
          1790000000,
          910000000,
          2020000000,
          2090000000,
          965000000,
          1850000000,
          1800000000,
          1275000000,
          1820000000,
          1550000000,
          1265000000,
          940000000,
          1800000000,
          892000000,
          1890000000,
          998000000,
          1885000000,
          955000000,
          1590000000,
          1655000000,
          1780000000,
          1800000000,
          1500000000,
          1780000000,
          1750000000,
          2065000000,
          1760000000,
          1515000000,
          1565000000,
          1520000000,
          2100000000,
          2700000000,
          1775000000,
          1830000000,
          1520000000,
          1645000000,
          1820000000,
          1800000000,
          1540000000,
          1435000000,
          1740000000,
          1790000000,
          1800000000,
          1800000000,
          910000000,
          1745000000,
          1810000000,
          1870000000,
          1720000000,
          1580000000,
          1880000000,
          1795000000,
          1033000000,
          980000000,
          1860000000,
          2130000000,
          1870000000,
          1850000000,
          1840000000,
          1925000000,
          1860000000,
          1750000000,
          2120000000,
          1950000000,
          1855000000,
          1520000000,
          980000000,
          1770000000,
          2450000000,
          1820000000,
          1250000000,
          2150000000,
          985000000,
          1780000000,
          975000000,
          959000000,
          2100000000,
          1810000000,
          1600000000,
          900000000,
          970000000,
          1545000000,
          1820000000,
          2100000000,
          1390000000,
          1900000000,
          1970000000,
          1890000000,
          1090000000,
          1090000000,
          1880000000,
          1570000000,
          1905000000,
          1870000000,
          2550000000,
          2200000000,
          1890000000,
          1850000000,
          1850000000,
          1050000000,
          1950000000,
          1890000000,
          1870000000,
          2315000000,
          1800000000,
          2088000000,
          1910000000,
          1910000000,
          1800000000,
          1830000000,
          1540000000,
          1540000000,
          1080000000,
          1810000000,
          1840000000,
          2480000000,
          1870000000,
          2045000000,
          1900000000,
          1965000000,
          1950000000,
          1945000000,
          1100000000,
          1605000000,
          1990000000,
          1115000000,
          1860000000,
          2280000000,
          1870000000,
          1357000000,
          1295000000,
          1100000000,
          1840000000,
          1860000000,
          1840000000,
          1795000000,
          2390000000,
          1540000000,
          1525000000,
          2530000000,
          1880000000,
          1875000000,
          1100000000,
          1845000000,
          1885000000,
          1885000000,
          1900000000,
          1890000000,
          1285000000,
          2020000000,
          1400000000,
          2030000000,
          1400000000,
          1150000000,
          1900000000,
          2020000000,
          1970000000,
          2295000000,
          1930000000,
          1660000000,
          1915000000,
          1095000000,
          1910000000,
          1895000000,
          1573000000,
          1125000000,
          1890000000,
          1915000000,
          1190000000,
          1700000000,
          1150000000,
          1930000000,
          1965000000,
          2300000000,
          1600000000,
          1990000000,
          2000000000,
          2000000000,
          2000000000,
          1950000000,
          1980000000,
          1845000000,
          1970000000,
          1450000000,
          2040000000,
          1700000000,
          2040000000,
          2020000000,
          1935000000,
          1950000000,
          1310000000,
          1945000000,
          1920000000,
          2250000000,
          2000000000,
          2295000000,
          1880000000,
          1820000000,
          1100000000,
          1975000000,
          1120000000,
          1740000000,
          2600000000,
          2040000000,
          2060000000,
          1680000000,
          1750000000,
          1400000000,
          2095000000,
          1865000000,
          2046000000,
          1900000000,
          1935000000,
          2025000000,
          1970000000,
          1943000000,
          2600000000,
          1700000000,
          2500000000,
          1910000000,
          2000000000,
          1960000000,
          1990000000,
          2095000000,
          1920000000,
          1885000000,
          2035000000,
          2480000000,
          1955000000,
          2000000000,
          1970000000,
          2290000000,
          2480000000,
          2090000000,
          1350000000,
          1150000000,
          1890000000,
          1800000000,
          1390000000,
          2095000000,
          1700000000,
          2090000000,
          1350000000,
          2100000000,
          1190000000,
          1160000000,
          1445000000,
          2480000000,
          2490000000,
          1727000000,
          2000000000,
          2050000000,
          2040000000,
          2130000000,
          1715000000,
          2080000000,
          1120000000,
          1410000000,
          1925000000,
          2320000000,
          2350000000,
          930000000,
          2045000000,
          2095000000,
          1740000000,
          2080000000,
          2000000000,
          1435000000,
          2620000000,
          2045000000,
          2080000000,
          1900000000,
          2070000000,
          1775000000,
          2030000000,
          1450000000,
          2085000000,
          1990000000,
          2860000000,
          3045000000,
          1170000000,
          1820000000,
          2210000000,
          1742000000,
          1900000000,
          1660000000,
          2390000000,
          2070000000,
          1950000000,
          1990000000,
          2070000000,
          2460000000,
          1660000000,
          1960000000,
          1370000000,
          2240000000,
          1900000000,
          2200000000,
          1130000000,
          1325000000,
          1640000000,
          2005000000,
          1985000000,
          2490000000,
          1940000000,
          1660000000,
          1630000000,
          2020000000,
          1110000000,
          1930000000,
          2015000000,
          2650000000,
          1500000000,
          1880000000,
          1725000000,
          1800000000,
          2250000000,
          2010000000,
          2030000000,
          1980000000,
          1690000000,
          1710000000,
          2042000000,
          2040000000,
          1400000000,
          2140000000,
          2000000000,
          1990000000,
          2000000000,
          2025000000,
          2030000000,
          2480000000,
          1080000000,
          3330000000,
          2000000000,
          2050000000,
          1980000000,
          1255000000,
          1980000000,
          2150000000,
          2090000000,
          1630000000,
          2050000000,
          2050000000,
          1880000000,
          1747000000,
          1910000000,
          2100000000,
          1190000000,
          1080000000,
          1990000000,
          1850000000,
          1910000000,
          2070000000,
          1688000000,
          1660000000,
          1145000000,
          2520000000,
          2030000000,
          2550000000,
          1700000000,
          2045000000,
          1950000000,
          2050000000,
          2015000000,
          2190000000,
          2090000000,
          2000000000,
          1870000000,
          1720000000,
          1780000000,
          2020000000,
          2150000000,
          2195000000,
          2090000000,
          1300000000,
          2060000000,
          2025000000,
          2060000000,
          2010000000,
          2140000000,
          2100000000,
          2100000000,
          1720000000,
          1965000000,
          2000000000,
          1940000000,
          2540000000,
          2000000000,
          2030000000,
          1740000000,
          1980000000,
          1790000000,
          1740000000,
          2030000000,
          2045000000,
          1595000000,
          1070000000,
          2060000000,
          2020000000,
          2110000000,
          1610000000,
          2075000000,
          2350000000,
          2050000000,
          1815000000,
          2050000000,
          2650000000,
          1990000000,
          2080000000,
          2050000000,
          2070000000,
          1460000000,
          2100000000,
          1960000000,
          2450000000,
          2045000000,
          2070000000,
          2100000000,
          2100000000,
          1660000000,
          2175000000,
          2100000000,
          2075000000,
          2020000000,
          1200000000,
          1745000000,
          2148000000,
          2335000000,
          2080000000,
          2050000000,
          1190000000,
          2030000000,
          2050000000,
          2160000000,
          1820000000,
          1830000000,
          2150000000,
          2040000000,
          2150000000,
          2060000000,
          1295000000,
          2150000000,
          2025000000,
          1230000000,
          2150000000,
          2400000000,
          1250000000,
          2200000000,
          2090000000,
          2500000000,
          2060000000,
          2087000000,
          1930000000,
          2120000000,
          2185000000,
          2558000000,
          2175000000,
          2175000000,
          2180000000,
          2280000000,
          2230000000,
          2150000000,
          2100000000,
          1278000000,
          2200000000,
          1234500000,
          1930000000,
          2160000000,
          2170000000,
          2150000000,
          1190000000,
          2490000000,
          2465000000,
          2375000000,
          2205000000,
          1750000000,
          1167000000,
          1180000000,
          2180000000,
          1805000000,
          2200000000,
          2110000000,
          2470000000,
          2150000000,
          1845000000,
          1200000000,
          1780000000,
          1542000000,
          2180000000,
          2135000000,
          1970000000,
          1860000000,
          2150000000,
          1700000000,
          2185000000,
          2200000000,
          1275000000,
          1820000000,
          2300000000,
          2300000000,
          2290000000,
          2160000000,
          2190000000,
          2400000000,
          2680000000,
          1300000000,
          2230000000,
          1600000000,
          2455000000,
          2200000000,
          2200000000,
          1350000000,
          2350000000,
          2335000000,
          1650000000,
          2350000000,
          1380000000,
          1890000000,
          1150000000,
          2290000000,
          2400000000,
          2510000000,
          2300000000,
          1980000000,
          2400000000,
          2300000000,
          2290000000,
          2230000000,
          2245000000,
          2280000000,
          2765000000,
          1150000000,
          2660000000,
          2600000000,
          3225000000,
          1199000000,
          1800000000,
          2280000000,
          2250000000,
          2248000000,
          1250000000,
          2690000000,
          2800000000,
          1100000000,
          3600000000,
          2720000000,
          1150000000,
          2150000000,
          2150000000,
          2230000000,
          1920000000,
          2350000000,
          1310000000,
          1300000000,
          2140000000,
          1340000000,
          1280000000,
          2190000000,
          1580000000,
          2190000000,
          1500000000,
          2230000000,
          2290000000,
          2240000000,
          2350000000,
          2275000000,
          2320000000,
          2700000000,
          2175000000,
          2270000000,
          2700000000,
          2600000000,
          2400000000,
          1990000000,
          2200000000,
          1530000000,
          1630000000,
          1700000000,
          1870000000,
          2900000000,
          2450000000,
          1985000000,
          1980000000,
          2050000000,
          2435000000,
          2300000000,
          2430000000,
          2650000000,
          2300000000,
          3050000000,
          2080000000,
          2330000000,
          2810000000,
          2750000000,
          1900000000,
          2280000000,
          2330000000,
          2000000000,
          2245000000,
          2700000000,
          2310000000,
          2310000000,
          2550000000,
          3060000000,
          2350000000,
          2350000000,
          2030000000,
          2280000000,
          2250000000,
          2330000000,
          1920000000,
          2450000000,
          3900000000,
          2870000000,
          2750000000,
          2330000000,
          2030000000,
          2370000000,
          1720000000,
          2000000000,
          2250000000,
          2020000000,
          2780000000,
          3200000000,
          2260000000,
          2380000000,
          2350000000,
          2310000000,
          2320000000,
          2280000000,
          1650000000,
          2040000000,
          1335000000,
          2350000000,
          2740000000,
          2310000000,
          2270000000,
          2830000000,
          2270000000,
          1300000000,
          2340000000,
          2880000000,
          1325000000,
          2400000000,
          2300000000,
          1390000000,
          2970000000,
          1720000000,
          2280000000,
          2760000000,
          2422210000,
          2300000000,
          2111540000,
          2160850000,
          2037490000,
          2063590000,
          2267300000,
          2389930000,
          2375760000,
          2024170000,
          2372570000,
          2282610000,
          2439120000,
          1939880000
         ],
         "yaxis": "y"
        }
       ],
       "layout": {
        "height": 600,
        "legend": {
         "tracegroupgap": 0
        },
        "template": {
         "data": {
          "bar": [
           {
            "error_x": {
             "color": "#2a3f5f"
            },
            "error_y": {
             "color": "#2a3f5f"
            },
            "marker": {
             "line": {
              "color": "#E5ECF6",
              "width": 0.5
             },
             "pattern": {
              "fillmode": "overlay",
              "size": 10,
              "solidity": 0.2
             }
            },
            "type": "bar"
           }
          ],
          "barpolar": [
           {
            "marker": {
             "line": {
              "color": "#E5ECF6",
              "width": 0.5
             },
             "pattern": {
              "fillmode": "overlay",
              "size": 10,
              "solidity": 0.2
             }
            },
            "type": "barpolar"
           }
          ],
          "carpet": [
           {
            "aaxis": {
             "endlinecolor": "#2a3f5f",
             "gridcolor": "white",
             "linecolor": "white",
             "minorgridcolor": "white",
             "startlinecolor": "#2a3f5f"
            },
            "baxis": {
             "endlinecolor": "#2a3f5f",
             "gridcolor": "white",
             "linecolor": "white",
             "minorgridcolor": "white",
             "startlinecolor": "#2a3f5f"
            },
            "type": "carpet"
           }
          ],
          "choropleth": [
           {
            "colorbar": {
             "outlinewidth": 0,
             "ticks": ""
            },
            "type": "choropleth"
           }
          ],
          "contour": [
           {
            "colorbar": {
             "outlinewidth": 0,
             "ticks": ""
            },
            "colorscale": [
             [
              0,
              "#0d0887"
             ],
             [
              0.1111111111111111,
              "#46039f"
             ],
             [
              0.2222222222222222,
              "#7201a8"
             ],
             [
              0.3333333333333333,
              "#9c179e"
             ],
             [
              0.4444444444444444,
              "#bd3786"
             ],
             [
              0.5555555555555556,
              "#d8576b"
             ],
             [
              0.6666666666666666,
              "#ed7953"
             ],
             [
              0.7777777777777778,
              "#fb9f3a"
             ],
             [
              0.8888888888888888,
              "#fdca26"
             ],
             [
              1,
              "#f0f921"
             ]
            ],
            "type": "contour"
           }
          ],
          "contourcarpet": [
           {
            "colorbar": {
             "outlinewidth": 0,
             "ticks": ""
            },
            "type": "contourcarpet"
           }
          ],
          "heatmap": [
           {
            "colorbar": {
             "outlinewidth": 0,
             "ticks": ""
            },
            "colorscale": [
             [
              0,
              "#0d0887"
             ],
             [
              0.1111111111111111,
              "#46039f"
             ],
             [
              0.2222222222222222,
              "#7201a8"
             ],
             [
              0.3333333333333333,
              "#9c179e"
             ],
             [
              0.4444444444444444,
              "#bd3786"
             ],
             [
              0.5555555555555556,
              "#d8576b"
             ],
             [
              0.6666666666666666,
              "#ed7953"
             ],
             [
              0.7777777777777778,
              "#fb9f3a"
             ],
             [
              0.8888888888888888,
              "#fdca26"
             ],
             [
              1,
              "#f0f921"
             ]
            ],
            "type": "heatmap"
           }
          ],
          "histogram": [
           {
            "marker": {
             "pattern": {
              "fillmode": "overlay",
              "size": 10,
              "solidity": 0.2
             }
            },
            "type": "histogram"
           }
          ],
          "histogram2d": [
           {
            "colorbar": {
             "outlinewidth": 0,
             "ticks": ""
            },
            "colorscale": [
             [
              0,
              "#0d0887"
             ],
             [
              0.1111111111111111,
              "#46039f"
             ],
             [
              0.2222222222222222,
              "#7201a8"
             ],
             [
              0.3333333333333333,
              "#9c179e"
             ],
             [
              0.4444444444444444,
              "#bd3786"
             ],
             [
              0.5555555555555556,
              "#d8576b"
             ],
             [
              0.6666666666666666,
              "#ed7953"
             ],
             [
              0.7777777777777778,
              "#fb9f3a"
             ],
             [
              0.8888888888888888,
              "#fdca26"
             ],
             [
              1,
              "#f0f921"
             ]
            ],
            "type": "histogram2d"
           }
          ],
          "histogram2dcontour": [
           {
            "colorbar": {
             "outlinewidth": 0,
             "ticks": ""
            },
            "colorscale": [
             [
              0,
              "#0d0887"
             ],
             [
              0.1111111111111111,
              "#46039f"
             ],
             [
              0.2222222222222222,
              "#7201a8"
             ],
             [
              0.3333333333333333,
              "#9c179e"
             ],
             [
              0.4444444444444444,
              "#bd3786"
             ],
             [
              0.5555555555555556,
              "#d8576b"
             ],
             [
              0.6666666666666666,
              "#ed7953"
             ],
             [
              0.7777777777777778,
              "#fb9f3a"
             ],
             [
              0.8888888888888888,
              "#fdca26"
             ],
             [
              1,
              "#f0f921"
             ]
            ],
            "type": "histogram2dcontour"
           }
          ],
          "mesh3d": [
           {
            "colorbar": {
             "outlinewidth": 0,
             "ticks": ""
            },
            "type": "mesh3d"
           }
          ],
          "parcoords": [
           {
            "line": {
             "colorbar": {
              "outlinewidth": 0,
              "ticks": ""
             }
            },
            "type": "parcoords"
           }
          ],
          "pie": [
           {
            "automargin": true,
            "type": "pie"
           }
          ],
          "scatter": [
           {
            "fillpattern": {
             "fillmode": "overlay",
             "size": 10,
             "solidity": 0.2
            },
            "type": "scatter"
           }
          ],
          "scatter3d": [
           {
            "line": {
             "colorbar": {
              "outlinewidth": 0,
              "ticks": ""
             }
            },
            "marker": {
             "colorbar": {
              "outlinewidth": 0,
              "ticks": ""
             }
            },
            "type": "scatter3d"
           }
          ],
          "scattercarpet": [
           {
            "marker": {
             "colorbar": {
              "outlinewidth": 0,
              "ticks": ""
             }
            },
            "type": "scattercarpet"
           }
          ],
          "scattergeo": [
           {
            "marker": {
             "colorbar": {
              "outlinewidth": 0,
              "ticks": ""
             }
            },
            "type": "scattergeo"
           }
          ],
          "scattergl": [
           {
            "marker": {
             "colorbar": {
              "outlinewidth": 0,
              "ticks": ""
             }
            },
            "type": "scattergl"
           }
          ],
          "scattermap": [
           {
            "marker": {
             "colorbar": {
              "outlinewidth": 0,
              "ticks": ""
             }
            },
            "type": "scattermap"
           }
          ],
          "scattermapbox": [
           {
            "marker": {
             "colorbar": {
              "outlinewidth": 0,
              "ticks": ""
             }
            },
            "type": "scattermapbox"
           }
          ],
          "scatterpolar": [
           {
            "marker": {
             "colorbar": {
              "outlinewidth": 0,
              "ticks": ""
             }
            },
            "type": "scatterpolar"
           }
          ],
          "scatterpolargl": [
           {
            "marker": {
             "colorbar": {
              "outlinewidth": 0,
              "ticks": ""
             }
            },
            "type": "scatterpolargl"
           }
          ],
          "scatterternary": [
           {
            "marker": {
             "colorbar": {
              "outlinewidth": 0,
              "ticks": ""
             }
            },
            "type": "scatterternary"
           }
          ],
          "surface": [
           {
            "colorbar": {
             "outlinewidth": 0,
             "ticks": ""
            },
            "colorscale": [
             [
              0,
              "#0d0887"
             ],
             [
              0.1111111111111111,
              "#46039f"
             ],
             [
              0.2222222222222222,
              "#7201a8"
             ],
             [
              0.3333333333333333,
              "#9c179e"
             ],
             [
              0.4444444444444444,
              "#bd3786"
             ],
             [
              0.5555555555555556,
              "#d8576b"
             ],
             [
              0.6666666666666666,
              "#ed7953"
             ],
             [
              0.7777777777777778,
              "#fb9f3a"
             ],
             [
              0.8888888888888888,
              "#fdca26"
             ],
             [
              1,
              "#f0f921"
             ]
            ],
            "type": "surface"
           }
          ],
          "table": [
           {
            "cells": {
             "fill": {
              "color": "#EBF0F8"
             },
             "line": {
              "color": "white"
             }
            },
            "header": {
             "fill": {
              "color": "#C8D4E3"
             },
             "line": {
              "color": "white"
             }
            },
            "type": "table"
           }
          ]
         },
         "layout": {
          "annotationdefaults": {
           "arrowcolor": "#2a3f5f",
           "arrowhead": 0,
           "arrowwidth": 1
          },
          "autotypenumbers": "strict",
          "coloraxis": {
           "colorbar": {
            "outlinewidth": 0,
            "ticks": ""
           }
          },
          "colorscale": {
           "diverging": [
            [
             0,
             "#8e0152"
            ],
            [
             0.1,
             "#c51b7d"
            ],
            [
             0.2,
             "#de77ae"
            ],
            [
             0.3,
             "#f1b6da"
            ],
            [
             0.4,
             "#fde0ef"
            ],
            [
             0.5,
             "#f7f7f7"
            ],
            [
             0.6,
             "#e6f5d0"
            ],
            [
             0.7,
             "#b8e186"
            ],
            [
             0.8,
             "#7fbc41"
            ],
            [
             0.9,
             "#4d9221"
            ],
            [
             1,
             "#276419"
            ]
           ],
           "sequential": [
            [
             0,
             "#0d0887"
            ],
            [
             0.1111111111111111,
             "#46039f"
            ],
            [
             0.2222222222222222,
             "#7201a8"
            ],
            [
             0.3333333333333333,
             "#9c179e"
            ],
            [
             0.4444444444444444,
             "#bd3786"
            ],
            [
             0.5555555555555556,
             "#d8576b"
            ],
            [
             0.6666666666666666,
             "#ed7953"
            ],
            [
             0.7777777777777778,
             "#fb9f3a"
            ],
            [
             0.8888888888888888,
             "#fdca26"
            ],
            [
             1,
             "#f0f921"
            ]
           ],
           "sequentialminus": [
            [
             0,
             "#0d0887"
            ],
            [
             0.1111111111111111,
             "#46039f"
            ],
            [
             0.2222222222222222,
             "#7201a8"
            ],
            [
             0.3333333333333333,
             "#9c179e"
            ],
            [
             0.4444444444444444,
             "#bd3786"
            ],
            [
             0.5555555555555556,
             "#d8576b"
            ],
            [
             0.6666666666666666,
             "#ed7953"
            ],
            [
             0.7777777777777778,
             "#fb9f3a"
            ],
            [
             0.8888888888888888,
             "#fdca26"
            ],
            [
             1,
             "#f0f921"
            ]
           ]
          },
          "colorway": [
           "#636efa",
           "#EF553B",
           "#00cc96",
           "#ab63fa",
           "#FFA15A",
           "#19d3f3",
           "#FF6692",
           "#B6E880",
           "#FF97FF",
           "#FECB52"
          ],
          "font": {
           "color": "#2a3f5f"
          },
          "geo": {
           "bgcolor": "white",
           "lakecolor": "white",
           "landcolor": "#E5ECF6",
           "showlakes": true,
           "showland": true,
           "subunitcolor": "white"
          },
          "hoverlabel": {
           "align": "left"
          },
          "hovermode": "closest",
          "mapbox": {
           "style": "light"
          },
          "paper_bgcolor": "white",
          "plot_bgcolor": "#E5ECF6",
          "polar": {
           "angularaxis": {
            "gridcolor": "white",
            "linecolor": "white",
            "ticks": ""
           },
           "bgcolor": "#E5ECF6",
           "radialaxis": {
            "gridcolor": "white",
            "linecolor": "white",
            "ticks": ""
           }
          },
          "scene": {
           "xaxis": {
            "backgroundcolor": "#E5ECF6",
            "gridcolor": "white",
            "gridwidth": 2,
            "linecolor": "white",
            "showbackground": true,
            "ticks": "",
            "zerolinecolor": "white"
           },
           "yaxis": {
            "backgroundcolor": "#E5ECF6",
            "gridcolor": "white",
            "gridwidth": 2,
            "linecolor": "white",
            "showbackground": true,
            "ticks": "",
            "zerolinecolor": "white"
           },
           "zaxis": {
            "backgroundcolor": "#E5ECF6",
            "gridcolor": "white",
            "gridwidth": 2,
            "linecolor": "white",
            "showbackground": true,
            "ticks": "",
            "zerolinecolor": "white"
           }
          },
          "shapedefaults": {
           "line": {
            "color": "#2a3f5f"
           }
          },
          "ternary": {
           "aaxis": {
            "gridcolor": "white",
            "linecolor": "white",
            "ticks": ""
           },
           "baxis": {
            "gridcolor": "white",
            "linecolor": "white",
            "ticks": ""
           },
           "bgcolor": "#E5ECF6",
           "caxis": {
            "gridcolor": "white",
            "linecolor": "white",
            "ticks": ""
           }
          },
          "title": {
           "x": 0.05
          },
          "xaxis": {
           "automargin": true,
           "gridcolor": "white",
           "linecolor": "white",
           "ticks": "",
           "title": {
            "standoff": 15
           },
           "zerolinecolor": "white",
           "zerolinewidth": 2
          },
          "yaxis": {
           "automargin": true,
           "gridcolor": "white",
           "linecolor": "white",
           "ticks": "",
           "title": {
            "standoff": 15
           },
           "zerolinecolor": "white",
           "zerolinewidth": 2
          }
         }
        },
        "title": {
         "text": "송파구 가락동 헬리오시티 (아파트) 거래가 변화 추이 [2021년 ~ 2025년(예측)]"
        },
        "width": 1200,
        "xaxis": {
         "anchor": "y",
         "domain": [
          0,
          1
         ],
         "title": {
          "text": "거래일"
         }
        },
        "yaxis": {
         "anchor": "x",
         "domain": [
          0,
          1
         ],
         "title": {
          "text": "거래 금액"
         }
        }
       }
      }
     },
     "metadata": {},
     "output_type": "display_data"
    },
    {
     "data": {
      "application/vnd.plotly.v1+json": {
       "config": {
        "plotlyServerURL": "https://plot.ly"
       },
       "data": [
        {
         "hovertemplate": "거래일=%{x}<br>거래 금액=%{y}<extra></extra>",
         "legendgroup": "",
         "line": {
          "color": "#636efa",
          "dash": "solid"
         },
         "marker": {
          "symbol": "circle"
         },
         "mode": "lines+markers",
         "name": "",
         "orientation": "v",
         "showlegend": false,
         "type": "scatter",
         "x": [
          "2022-01-01",
          "2022-01-01",
          "2022-01-01",
          "2022-01-01",
          "2022-01-01",
          "2022-02-01",
          "2022-03-01",
          "2022-03-01",
          "2022-03-01",
          "2022-04-01",
          "2022-04-01",
          "2022-04-01",
          "2022-04-01",
          "2022-04-01",
          "2022-04-01",
          "2022-04-01",
          "2022-04-01",
          "2022-04-01",
          "2022-04-01",
          "2022-05-01",
          "2022-05-01",
          "2022-05-01",
          "2022-06-01",
          "2022-06-01",
          "2022-06-01",
          "2022-06-01",
          "2022-06-01",
          "2022-07-01",
          "2022-08-01",
          "2022-09-01",
          "2022-09-01",
          "2022-10-01",
          "2022-10-01",
          "2022-10-01",
          "2022-11-01",
          "2022-11-01",
          "2022-11-01",
          "2022-11-01",
          "2022-12-01",
          "2022-12-01",
          "2022-12-01",
          "2022-12-01",
          "2022-12-01",
          "2022-12-01",
          "2022-12-01",
          "2022-12-01",
          "2022-12-01",
          "2022-12-01",
          "2023-01-01",
          "2023-01-01",
          "2023-01-01",
          "2023-01-01",
          "2023-01-01",
          "2023-01-01",
          "2023-01-01",
          "2023-01-01",
          "2023-01-01",
          "2023-01-01",
          "2023-01-01",
          "2023-01-01",
          "2023-01-01",
          "2023-01-01",
          "2023-01-01",
          "2023-01-01",
          "2023-01-01",
          "2023-01-01",
          "2023-01-01",
          "2023-01-01",
          "2023-01-01",
          "2023-01-01",
          "2023-01-01",
          "2023-01-01",
          "2023-01-01",
          "2023-02-01",
          "2023-02-01",
          "2023-02-01",
          "2023-02-01",
          "2023-02-01",
          "2023-02-01",
          "2023-02-01",
          "2023-02-01",
          "2023-02-01",
          "2023-02-01",
          "2023-02-01",
          "2023-02-01",
          "2023-02-01",
          "2023-02-01",
          "2023-02-01",
          "2023-02-01",
          "2023-02-01",
          "2023-02-01",
          "2023-02-01",
          "2023-02-01",
          "2023-02-01",
          "2023-02-01",
          "2023-02-01",
          "2023-02-01",
          "2023-02-01",
          "2023-02-01",
          "2023-02-01",
          "2023-02-01",
          "2023-02-01",
          "2023-03-01",
          "2023-03-01",
          "2023-03-01",
          "2023-03-01",
          "2023-03-01",
          "2023-03-01",
          "2023-03-01",
          "2023-03-01",
          "2023-03-01",
          "2023-03-01",
          "2023-03-01",
          "2023-03-01",
          "2023-03-01",
          "2023-03-01",
          "2023-03-01",
          "2023-04-01",
          "2023-04-01",
          "2023-04-01",
          "2023-04-01",
          "2023-04-01",
          "2023-04-01",
          "2023-04-01",
          "2023-04-01",
          "2023-04-01",
          "2023-04-01",
          "2023-04-01",
          "2023-04-01",
          "2023-04-01",
          "2023-04-01",
          "2023-04-01",
          "2023-04-01",
          "2023-04-01",
          "2023-04-01",
          "2023-04-01",
          "2023-04-01",
          "2023-04-01",
          "2023-04-01",
          "2023-04-01",
          "2023-04-01",
          "2023-04-01",
          "2023-04-01",
          "2023-05-01",
          "2023-05-01",
          "2023-05-01",
          "2023-05-01",
          "2023-05-01",
          "2023-05-01",
          "2023-05-01",
          "2023-05-01",
          "2023-05-01",
          "2023-05-01",
          "2023-05-01",
          "2023-05-01",
          "2023-05-01",
          "2023-05-01",
          "2023-05-01",
          "2023-05-01",
          "2023-05-01",
          "2023-05-01",
          "2023-05-01",
          "2023-05-01",
          "2023-05-01",
          "2023-05-01",
          "2023-05-01",
          "2023-06-01",
          "2023-06-01",
          "2023-06-01",
          "2023-06-01",
          "2023-06-01",
          "2023-06-01",
          "2023-06-01",
          "2023-06-01",
          "2023-06-01",
          "2023-06-01",
          "2023-06-01",
          "2023-06-01",
          "2023-06-01",
          "2023-06-01",
          "2023-06-01",
          "2023-06-01",
          "2023-06-01",
          "2023-06-01",
          "2023-06-01",
          "2023-06-01",
          "2023-06-01",
          "2023-06-01",
          "2023-06-01",
          "2023-06-01",
          "2023-06-01",
          "2023-06-01",
          "2023-06-01",
          "2023-07-01",
          "2023-07-01",
          "2023-07-01",
          "2023-07-01",
          "2023-07-01",
          "2023-07-01",
          "2023-07-01",
          "2023-07-01",
          "2023-07-01",
          "2023-07-01",
          "2023-07-01",
          "2023-07-01",
          "2023-07-01",
          "2023-07-01",
          "2023-07-01",
          "2023-07-01",
          "2023-07-01",
          "2023-07-01",
          "2023-07-01",
          "2023-07-01",
          "2023-07-01",
          "2023-07-01",
          "2023-07-01",
          "2023-07-01",
          "2023-07-01",
          "2023-07-01",
          "2023-07-01",
          "2023-07-01",
          "2023-08-01",
          "2023-08-01",
          "2023-08-01",
          "2023-08-01",
          "2023-08-01",
          "2023-08-01",
          "2023-08-01",
          "2023-08-01",
          "2023-08-01",
          "2023-08-01",
          "2023-08-01",
          "2023-08-01",
          "2023-08-01",
          "2023-08-01",
          "2023-08-01",
          "2023-08-01",
          "2023-08-01",
          "2023-09-01",
          "2023-09-01",
          "2023-09-01",
          "2023-09-01",
          "2023-09-01",
          "2023-09-01",
          "2023-09-01",
          "2023-09-01",
          "2023-09-01",
          "2023-09-01",
          "2023-09-01",
          "2023-09-01",
          "2023-09-01",
          "2023-09-01",
          "2023-09-01",
          "2023-10-01",
          "2023-10-01",
          "2023-10-01",
          "2023-10-01",
          "2023-10-01",
          "2023-10-01",
          "2023-10-01",
          "2023-10-01",
          "2023-10-01",
          "2023-11-01",
          "2023-11-01",
          "2023-11-01",
          "2023-11-01",
          "2023-12-01",
          "2023-12-01",
          "2023-12-01",
          "2023-12-01",
          "2023-12-01",
          "2023-12-01",
          "2023-12-01",
          "2023-12-01",
          "2024-01-01",
          "2024-01-01",
          "2024-01-01",
          "2024-01-01",
          "2024-01-01",
          "2024-01-01",
          "2024-01-01",
          "2024-01-01",
          "2024-01-01",
          "2024-01-01",
          "2024-02-01",
          "2024-02-01",
          "2024-02-01",
          "2024-02-01",
          "2024-02-01",
          "2024-02-01",
          "2024-02-01",
          "2024-02-01",
          "2024-02-01",
          "2024-02-01",
          "2024-03-01",
          "2024-03-01",
          "2024-03-01",
          "2024-03-01",
          "2024-03-01",
          "2024-03-01",
          "2024-03-01",
          "2024-03-01",
          "2024-03-01",
          "2024-03-01",
          "2024-03-01",
          "2024-03-01",
          "2024-03-01",
          "2024-03-01",
          "2024-03-01",
          "2024-03-01",
          "2024-03-01",
          "2024-03-01",
          "2024-03-01",
          "2024-03-01",
          "2024-03-01",
          "2024-03-01",
          "2024-04-01",
          "2024-04-01",
          "2024-04-01",
          "2024-04-01",
          "2024-04-01",
          "2024-04-01",
          "2024-04-01",
          "2024-04-01",
          "2024-04-01",
          "2024-04-01",
          "2024-04-01",
          "2024-04-01",
          "2024-04-01",
          "2024-04-01",
          "2024-04-01",
          "2024-04-01",
          "2024-04-01",
          "2024-04-01",
          "2024-04-01",
          "2024-04-01",
          "2024-04-01",
          "2024-04-01",
          "2024-04-01",
          "2024-04-01",
          "2024-04-01",
          "2024-04-01",
          "2024-04-01",
          "2024-04-01",
          "2024-04-01",
          "2024-04-01",
          "2024-04-01",
          "2024-04-01",
          "2024-05-01",
          "2024-05-01",
          "2024-05-01",
          "2024-05-01",
          "2024-05-01",
          "2024-05-01",
          "2024-05-01",
          "2024-05-01",
          "2024-05-01",
          "2024-05-01",
          "2024-05-01",
          "2024-05-01",
          "2024-05-01",
          "2024-05-01",
          "2024-05-01",
          "2024-05-01",
          "2024-05-01",
          "2024-05-01",
          "2024-05-01",
          "2024-05-01",
          "2024-05-01",
          "2024-05-01",
          "2024-05-01",
          "2024-05-01",
          "2024-05-01",
          "2024-05-01",
          "2024-05-01",
          "2024-05-01",
          "2024-05-01",
          "2024-05-01",
          "2024-05-01",
          "2024-05-01",
          "2024-05-01",
          "2024-05-01",
          "2024-05-01",
          "2024-05-01",
          "2024-05-01",
          "2024-05-01",
          "2024-06-01",
          "2024-06-01",
          "2024-06-01",
          "2024-06-01",
          "2024-06-01",
          "2024-06-01",
          "2024-06-01",
          "2024-06-01",
          "2024-06-01",
          "2024-06-01",
          "2024-06-01",
          "2024-06-01",
          "2024-06-01",
          "2024-06-01",
          "2024-06-01",
          "2024-06-01",
          "2024-06-01",
          "2024-06-01",
          "2024-06-01",
          "2024-06-01",
          "2024-06-01",
          "2024-06-01",
          "2024-06-01",
          "2024-06-01",
          "2024-06-01",
          "2024-06-01",
          "2024-06-01",
          "2024-06-01",
          "2024-06-01",
          "2024-06-01",
          "2024-06-01",
          "2024-06-01",
          "2024-06-01",
          "2024-06-01",
          "2024-06-01",
          "2024-06-01",
          "2024-06-01",
          "2024-06-01",
          "2024-06-01",
          "2024-06-01",
          "2024-06-01",
          "2024-06-01",
          "2024-06-01",
          "2024-06-01",
          "2024-06-01",
          "2024-06-01",
          "2024-06-01",
          "2024-06-01",
          "2024-06-01",
          "2024-06-01",
          "2024-06-01",
          "2024-06-01",
          "2024-06-01",
          "2024-06-01",
          "2024-06-01",
          "2024-06-01",
          "2024-06-01",
          "2024-06-01",
          "2024-06-01",
          "2024-06-01",
          "2024-06-01",
          "2024-06-01",
          "2024-06-01",
          "2024-06-01",
          "2024-06-01",
          "2024-06-01",
          "2024-06-01",
          "2024-06-01",
          "2024-07-01",
          "2024-07-01",
          "2024-07-01",
          "2024-07-01",
          "2024-07-01",
          "2024-07-01",
          "2024-07-01",
          "2024-07-01",
          "2024-07-01",
          "2024-07-01",
          "2024-07-01",
          "2024-07-01",
          "2024-07-01",
          "2024-07-01",
          "2024-07-01",
          "2024-07-01",
          "2024-07-01",
          "2024-07-01",
          "2024-07-01",
          "2024-07-01",
          "2024-07-01",
          "2024-07-01",
          "2024-07-01",
          "2024-07-01",
          "2024-07-01",
          "2024-07-01",
          "2024-07-01",
          "2024-07-01",
          "2024-07-01",
          "2024-07-01",
          "2024-07-01",
          "2024-07-01",
          "2024-07-01",
          "2024-07-01",
          "2024-07-01",
          "2024-07-01",
          "2024-07-01",
          "2024-07-01",
          "2024-07-01",
          "2024-07-01",
          "2024-07-01",
          "2024-07-01",
          "2024-07-01",
          "2024-07-01",
          "2024-07-01",
          "2024-07-01",
          "2024-07-01",
          "2024-07-01",
          "2024-07-01",
          "2024-08-01",
          "2024-08-01",
          "2024-08-01",
          "2024-08-01",
          "2024-08-01",
          "2024-08-01",
          "2024-08-01",
          "2024-08-01",
          "2024-08-01",
          "2024-08-01",
          "2024-08-01",
          "2024-08-01",
          "2024-08-01",
          "2024-08-01",
          "2024-08-01",
          "2024-08-01",
          "2024-08-01",
          "2024-08-01",
          "2024-08-01",
          "2024-08-01",
          "2024-08-01",
          "2024-08-01",
          "2024-08-01",
          "2024-08-01",
          "2024-08-01",
          "2024-08-01",
          "2024-08-01",
          "2024-08-01",
          "2024-08-01",
          "2024-08-01",
          "2024-08-01",
          "2024-08-01",
          "2024-08-01",
          "2024-08-01",
          "2024-08-01",
          "2024-08-01",
          "2024-09-01",
          "2024-09-01",
          "2024-09-01",
          "2024-09-01",
          "2024-09-01",
          "2024-09-01",
          "2024-09-01",
          "2024-10-01",
          "2024-10-01",
          "2024-10-01",
          "2024-10-01",
          "2024-10-01",
          "2024-10-01",
          "2024-10-01",
          "2024-10-01",
          "2024-10-01",
          "2024-10-01",
          "2024-10-01",
          "2024-10-01",
          "2024-10-01",
          "2024-10-01",
          "2024-10-01",
          "2024-10-01",
          "2024-11-01",
          "2024-11-01",
          "2024-11-01",
          "2024-11-01",
          "2024-11-01",
          "2024-11-01",
          "2024-11-01",
          "2024-11-01",
          "2024-11-01",
          "2024-11-01",
          "2024-11-01",
          "2024-11-01",
          "2024-11-01",
          "2024-11-01",
          "2024-11-01",
          "2024-11-01",
          "2024-11-01",
          "2024-11-01",
          "2024-11-01",
          "2024-11-01",
          "2024-12-01",
          "2024-12-01",
          "2024-12-01",
          "2024-12-01",
          "2024-12-01",
          "2024-12-01",
          "2024-12-01",
          "2025-01-01",
          "2025-01-01",
          "2025-01-01",
          "2025-01-01",
          "2025-01-01",
          "2025-01-31",
          "2025-02-28",
          "2025-03-31",
          "2025-04-30",
          "2025-05-31",
          "2025-06-30",
          "2025-07-31",
          "2025-08-31",
          "2025-09-30",
          "2025-10-31",
          "2025-11-30",
          "2025-12-31"
         ],
         "xaxis": "x",
         "y": [
          2250000000,
          1950000000,
          1950000000,
          2164000000,
          2200000000,
          2200000000,
          2150000000,
          2150000000,
          1020000000,
          950000000,
          2340000000,
          1010000000,
          2360000000,
          2240000000,
          1020000000,
          2200000000,
          2200000000,
          2280000000,
          2150000000,
          1265000000,
          3170000000,
          855000000,
          2115000000,
          1910000000,
          2500000000,
          1930000000,
          2120000000,
          2850000000,
          2140000000,
          1700000000,
          2020000000,
          2500000000,
          1770000000,
          930000000,
          1770000000,
          1480000000,
          1680000000,
          1670000000,
          1655000000,
          1720000000,
          1690000000,
          1740000000,
          1700000000,
          1740000000,
          1790000000,
          1680000000,
          1700000000,
          800000000,
          1780000000,
          1520000000,
          1800000000,
          1800000000,
          1420000000,
          1800000000,
          1700000000,
          1550000000,
          1555000000,
          1795000000,
          1730000000,
          1500000000,
          1800000000,
          1450000000,
          1720000000,
          1650000000,
          1700000000,
          1490000000,
          2500000000,
          1770000000,
          1800000000,
          1700000000,
          1500000000,
          1720000000,
          850000000,
          1530000000,
          1760000000,
          1790000000,
          1515000000,
          1880000000,
          1480000000,
          1845000000,
          1800000000,
          1585000000,
          1500000000,
          1000000000,
          1790000000,
          1800000000,
          1800000000,
          1500000000,
          1470000000,
          800000000,
          1720000000,
          1720000000,
          1850000000,
          1750000000,
          1800000000,
          1850000000,
          1930000000,
          1925000000,
          1730000000,
          1700000000,
          1750000000,
          1750000000,
          1590000000,
          1560000000,
          880000000,
          1818000000,
          1818000000,
          1440000000,
          1930000000,
          870000000,
          2545000000,
          1550000000,
          1540000000,
          1850000000,
          1945000000,
          1800000000,
          1800000000,
          1860000000,
          1700000000,
          2410000000,
          1680000000,
          2430000000,
          1650000000,
          1830000000,
          1600000000,
          1950000000,
          1650000000,
          1940000000,
          1910000000,
          850000000,
          1580000000,
          1980000000,
          1845000000,
          1850000000,
          850000000,
          1855000000,
          1440000000,
          1930000000,
          1600000000,
          1550000000,
          1582000000,
          1545000000,
          1940000000,
          2000000000,
          2380000000,
          2200000000,
          1920000000,
          2130000000,
          1730000000,
          1950000000,
          800000000,
          2050000000,
          1960000000,
          1950000000,
          1950000000,
          1550000000,
          1950000000,
          2525000000,
          1810000000,
          1810000000,
          875000000,
          1969000000,
          1670000000,
          2640000000,
          1780000000,
          1980000000,
          2050000000,
          1940000000,
          1750000000,
          1670000000,
          1665000000,
          1685000000,
          2560000000,
          1750000000,
          2135000000,
          2027000000,
          2050000000,
          1860000000,
          1690000000,
          1900000000,
          1970000000,
          2200000000,
          2050000000,
          2490000000,
          2700000000,
          1710000000,
          2700000000,
          2495000000,
          918000000,
          890000000,
          1910000000,
          880000000,
          2100000000,
          1700000000,
          890000000,
          1710000000,
          2200000000,
          2240000000,
          2650000000,
          2540000000,
          930000000,
          940000000,
          2560000000,
          2140000000,
          2598000000,
          890000000,
          2200000000,
          2180000000,
          2520000000,
          2150000000,
          2295000000,
          1710000000,
          2195000000,
          1930000000,
          1725000000,
          2095000000,
          890000000,
          2500000000,
          2300000000,
          2700000000,
          1596000000,
          2650000000,
          1790000000,
          1730000000,
          2600000000,
          2170000000,
          885000000,
          1800000000,
          910000000,
          2330000000,
          1700000000,
          2730000000,
          930000000,
          1720000000,
          2235000000,
          2132500000,
          1715000000,
          2220000000,
          2820000000,
          1720000000,
          1750000000,
          1817000000,
          2100000000,
          2230000000,
          1693000000,
          1795000000,
          2150000000,
          1900000000,
          2090000000,
          2150000000,
          2150000000,
          2090000000,
          1730000000,
          1900000000,
          2120000000,
          2055000000,
          2170000000,
          2600000000,
          2150000000,
          930000000,
          1785000000,
          2590000000,
          2080000000,
          1920000000,
          1990000000,
          2520000000,
          2170000000,
          915000000,
          1870000000,
          1990000000,
          1960000000,
          1710000000,
          1945000000,
          1980000000,
          2000000000,
          2200000000,
          2050000000,
          2050000000,
          1960000000,
          1960000000,
          2550000000,
          2070000000,
          2740000000,
          2230000000,
          2080000000,
          1740000000,
          1720000000,
          1970000000,
          1783000000,
          1850000000,
          2142000000,
          1750000000,
          2650000000,
          2180000000,
          2050000000,
          2085000000,
          1745000000,
          1780000000,
          2150000000,
          2535000000,
          2150000000,
          2600000000,
          2100000000,
          1250000000,
          2200000000,
          1730000000,
          2030000000,
          2030000000,
          2100000000,
          2050000000,
          1920000000,
          2620000000,
          895000000,
          1060000000,
          2598000000,
          2590000000,
          1670000000,
          2055000000,
          1925000000,
          845000000,
          2090000000,
          910000000,
          1860000000,
          2080000000,
          1960000000,
          1860000000,
          1960000000,
          2200000000,
          2150000000,
          2075000000,
          2080000000,
          1980000000,
          2900000000,
          2035000000,
          2700000000,
          1800000000,
          2100000000,
          1810000000,
          2597000000,
          2080000000,
          2100000000,
          1800000000,
          2050000000,
          2020000000,
          900000000,
          1920000000,
          2340000000,
          1768000000,
          900000000,
          1960000000,
          1900000000,
          2090000000,
          1840000000,
          1920000000,
          1760000000,
          2080000000,
          2090000000,
          1980000000,
          2250000000,
          1850000000,
          2025000000,
          2000000000,
          2920000000,
          2030000000,
          2650000000,
          2110000000,
          2200000000,
          2020000000,
          2050000000,
          2270000000,
          2070000000,
          1729000000,
          2068000000,
          1800000000,
          1745000000,
          2070000000,
          1805000000,
          2180000000,
          2020000000,
          2240000000,
          1780000000,
          2040000000,
          2220000000,
          2000000000,
          1765000000,
          2038000000,
          2670000000,
          2820000000,
          930000000,
          1730000000,
          2290000000,
          2250000000,
          2230000000,
          2210000000,
          2150000000,
          2150000000,
          920000000,
          1810000000,
          2190000000,
          2050000000,
          2250000000,
          2290000000,
          1800000000,
          2680000000,
          2190000000,
          1780000000,
          1920000000,
          2030000000,
          2100000000,
          2900000000,
          937000000,
          2300000000,
          2350000000,
          1900000000,
          2700000000,
          2240000000,
          2300000000,
          2240000000,
          2270000000,
          2210000000,
          2130000000,
          2100000000,
          1760000000,
          2205000000,
          2060000000,
          1850000000,
          1800000000,
          1733000000,
          2670000000,
          1780000000,
          2090000000,
          2050000000,
          1850000000,
          2100000000,
          912500000,
          2075000000,
          1950000000,
          2100000000,
          2190000000,
          1820000000,
          1880000000,
          2250000000,
          2095000000,
          1810000000,
          2390000000,
          1850000000,
          2150000000,
          2180000000,
          1795000000,
          2260000000,
          2020000000,
          2125000000,
          2150000000,
          2080000000,
          2250000000,
          2350000000,
          2400000000,
          2150000000,
          915000000,
          2500000000,
          2290000000,
          2295000000,
          2160000000,
          2030000000,
          2400000000,
          2190000000,
          2300000000,
          2150000000,
          2180000000,
          2345000000,
          2765000000,
          2200000000,
          2100000000,
          2450000000,
          2900000000,
          960000000,
          2020000000,
          2230000000,
          1890000000,
          2030000000,
          1895000000,
          2120000000,
          925000000,
          965000000,
          2200000000,
          920000000,
          2840000000,
          2350000000,
          2100000000,
          1850000000,
          1450000000,
          900000000,
          2100000000,
          2200000000,
          2370000000,
          2160000000,
          2250000000,
          890000000,
          2800000000,
          2220000000,
          2250000000,
          2245000000,
          2630000000,
          2200000000,
          980000000,
          1010000000,
          2340000000,
          2050000000,
          2290000000,
          2885000000,
          2400000000,
          2030000000,
          2380000000,
          2245000000,
          2310000000,
          2200000000,
          2250000000,
          2140000000,
          2315000000,
          2800000000,
          2180000000,
          2990000000,
          2850000000,
          2400000000,
          990000000,
          2890000000,
          2300000000,
          2030000000,
          2990000000,
          2770000000,
          2250000000,
          2180000000,
          2180000000,
          2020000000,
          2000000000,
          2970000000,
          2820000000,
          2300000000,
          2280000000,
          2900000000,
          2230000000,
          2700000000,
          2170000000,
          2800000000,
          2350000000,
          1000000000,
          2025000000,
          2000000000,
          2200000000,
          2465000000,
          2350000000,
          2100000000,
          2320000000,
          1004000000,
          997000000,
          2050000000,
          2000000000,
          1980000000,
          2320000000,
          1980000000,
          2570000000,
          2850000000,
          2470000000,
          1004000000,
          2330000000,
          2630000000,
          2200000000,
          1010000000,
          2500000000,
          2000000000,
          2230000000,
          975000000,
          2330000000,
          2350000000,
          2350000000,
          2030000000,
          2400000000,
          1920000000,
          2900000000,
          2190000000,
          1005000000,
          2225000000,
          2385000000,
          2268000000,
          2350000000,
          2900000000,
          1010000000,
          2300000000,
          2210000000,
          2220300000,
          2350000000,
          2880000000,
          1960000000,
          2230000000,
          2161580000,
          1963390000,
          2097060000,
          2148980000,
          2308160000,
          2758090000,
          2090830000,
          2121680000,
          2339630000,
          2486350000,
          1996550000,
          2389930000
         ],
         "yaxis": "y"
        }
       ],
       "layout": {
        "height": 600,
        "legend": {
         "tracegroupgap": 0
        },
        "template": {
         "data": {
          "bar": [
           {
            "error_x": {
             "color": "#2a3f5f"
            },
            "error_y": {
             "color": "#2a3f5f"
            },
            "marker": {
             "line": {
              "color": "#E5ECF6",
              "width": 0.5
             },
             "pattern": {
              "fillmode": "overlay",
              "size": 10,
              "solidity": 0.2
             }
            },
            "type": "bar"
           }
          ],
          "barpolar": [
           {
            "marker": {
             "line": {
              "color": "#E5ECF6",
              "width": 0.5
             },
             "pattern": {
              "fillmode": "overlay",
              "size": 10,
              "solidity": 0.2
             }
            },
            "type": "barpolar"
           }
          ],
          "carpet": [
           {
            "aaxis": {
             "endlinecolor": "#2a3f5f",
             "gridcolor": "white",
             "linecolor": "white",
             "minorgridcolor": "white",
             "startlinecolor": "#2a3f5f"
            },
            "baxis": {
             "endlinecolor": "#2a3f5f",
             "gridcolor": "white",
             "linecolor": "white",
             "minorgridcolor": "white",
             "startlinecolor": "#2a3f5f"
            },
            "type": "carpet"
           }
          ],
          "choropleth": [
           {
            "colorbar": {
             "outlinewidth": 0,
             "ticks": ""
            },
            "type": "choropleth"
           }
          ],
          "contour": [
           {
            "colorbar": {
             "outlinewidth": 0,
             "ticks": ""
            },
            "colorscale": [
             [
              0,
              "#0d0887"
             ],
             [
              0.1111111111111111,
              "#46039f"
             ],
             [
              0.2222222222222222,
              "#7201a8"
             ],
             [
              0.3333333333333333,
              "#9c179e"
             ],
             [
              0.4444444444444444,
              "#bd3786"
             ],
             [
              0.5555555555555556,
              "#d8576b"
             ],
             [
              0.6666666666666666,
              "#ed7953"
             ],
             [
              0.7777777777777778,
              "#fb9f3a"
             ],
             [
              0.8888888888888888,
              "#fdca26"
             ],
             [
              1,
              "#f0f921"
             ]
            ],
            "type": "contour"
           }
          ],
          "contourcarpet": [
           {
            "colorbar": {
             "outlinewidth": 0,
             "ticks": ""
            },
            "type": "contourcarpet"
           }
          ],
          "heatmap": [
           {
            "colorbar": {
             "outlinewidth": 0,
             "ticks": ""
            },
            "colorscale": [
             [
              0,
              "#0d0887"
             ],
             [
              0.1111111111111111,
              "#46039f"
             ],
             [
              0.2222222222222222,
              "#7201a8"
             ],
             [
              0.3333333333333333,
              "#9c179e"
             ],
             [
              0.4444444444444444,
              "#bd3786"
             ],
             [
              0.5555555555555556,
              "#d8576b"
             ],
             [
              0.6666666666666666,
              "#ed7953"
             ],
             [
              0.7777777777777778,
              "#fb9f3a"
             ],
             [
              0.8888888888888888,
              "#fdca26"
             ],
             [
              1,
              "#f0f921"
             ]
            ],
            "type": "heatmap"
           }
          ],
          "histogram": [
           {
            "marker": {
             "pattern": {
              "fillmode": "overlay",
              "size": 10,
              "solidity": 0.2
             }
            },
            "type": "histogram"
           }
          ],
          "histogram2d": [
           {
            "colorbar": {
             "outlinewidth": 0,
             "ticks": ""
            },
            "colorscale": [
             [
              0,
              "#0d0887"
             ],
             [
              0.1111111111111111,
              "#46039f"
             ],
             [
              0.2222222222222222,
              "#7201a8"
             ],
             [
              0.3333333333333333,
              "#9c179e"
             ],
             [
              0.4444444444444444,
              "#bd3786"
             ],
             [
              0.5555555555555556,
              "#d8576b"
             ],
             [
              0.6666666666666666,
              "#ed7953"
             ],
             [
              0.7777777777777778,
              "#fb9f3a"
             ],
             [
              0.8888888888888888,
              "#fdca26"
             ],
             [
              1,
              "#f0f921"
             ]
            ],
            "type": "histogram2d"
           }
          ],
          "histogram2dcontour": [
           {
            "colorbar": {
             "outlinewidth": 0,
             "ticks": ""
            },
            "colorscale": [
             [
              0,
              "#0d0887"
             ],
             [
              0.1111111111111111,
              "#46039f"
             ],
             [
              0.2222222222222222,
              "#7201a8"
             ],
             [
              0.3333333333333333,
              "#9c179e"
             ],
             [
              0.4444444444444444,
              "#bd3786"
             ],
             [
              0.5555555555555556,
              "#d8576b"
             ],
             [
              0.6666666666666666,
              "#ed7953"
             ],
             [
              0.7777777777777778,
              "#fb9f3a"
             ],
             [
              0.8888888888888888,
              "#fdca26"
             ],
             [
              1,
              "#f0f921"
             ]
            ],
            "type": "histogram2dcontour"
           }
          ],
          "mesh3d": [
           {
            "colorbar": {
             "outlinewidth": 0,
             "ticks": ""
            },
            "type": "mesh3d"
           }
          ],
          "parcoords": [
           {
            "line": {
             "colorbar": {
              "outlinewidth": 0,
              "ticks": ""
             }
            },
            "type": "parcoords"
           }
          ],
          "pie": [
           {
            "automargin": true,
            "type": "pie"
           }
          ],
          "scatter": [
           {
            "fillpattern": {
             "fillmode": "overlay",
             "size": 10,
             "solidity": 0.2
            },
            "type": "scatter"
           }
          ],
          "scatter3d": [
           {
            "line": {
             "colorbar": {
              "outlinewidth": 0,
              "ticks": ""
             }
            },
            "marker": {
             "colorbar": {
              "outlinewidth": 0,
              "ticks": ""
             }
            },
            "type": "scatter3d"
           }
          ],
          "scattercarpet": [
           {
            "marker": {
             "colorbar": {
              "outlinewidth": 0,
              "ticks": ""
             }
            },
            "type": "scattercarpet"
           }
          ],
          "scattergeo": [
           {
            "marker": {
             "colorbar": {
              "outlinewidth": 0,
              "ticks": ""
             }
            },
            "type": "scattergeo"
           }
          ],
          "scattergl": [
           {
            "marker": {
             "colorbar": {
              "outlinewidth": 0,
              "ticks": ""
             }
            },
            "type": "scattergl"
           }
          ],
          "scattermap": [
           {
            "marker": {
             "colorbar": {
              "outlinewidth": 0,
              "ticks": ""
             }
            },
            "type": "scattermap"
           }
          ],
          "scattermapbox": [
           {
            "marker": {
             "colorbar": {
              "outlinewidth": 0,
              "ticks": ""
             }
            },
            "type": "scattermapbox"
           }
          ],
          "scatterpolar": [
           {
            "marker": {
             "colorbar": {
              "outlinewidth": 0,
              "ticks": ""
             }
            },
            "type": "scatterpolar"
           }
          ],
          "scatterpolargl": [
           {
            "marker": {
             "colorbar": {
              "outlinewidth": 0,
              "ticks": ""
             }
            },
            "type": "scatterpolargl"
           }
          ],
          "scatterternary": [
           {
            "marker": {
             "colorbar": {
              "outlinewidth": 0,
              "ticks": ""
             }
            },
            "type": "scatterternary"
           }
          ],
          "surface": [
           {
            "colorbar": {
             "outlinewidth": 0,
             "ticks": ""
            },
            "colorscale": [
             [
              0,
              "#0d0887"
             ],
             [
              0.1111111111111111,
              "#46039f"
             ],
             [
              0.2222222222222222,
              "#7201a8"
             ],
             [
              0.3333333333333333,
              "#9c179e"
             ],
             [
              0.4444444444444444,
              "#bd3786"
             ],
             [
              0.5555555555555556,
              "#d8576b"
             ],
             [
              0.6666666666666666,
              "#ed7953"
             ],
             [
              0.7777777777777778,
              "#fb9f3a"
             ],
             [
              0.8888888888888888,
              "#fdca26"
             ],
             [
              1,
              "#f0f921"
             ]
            ],
            "type": "surface"
           }
          ],
          "table": [
           {
            "cells": {
             "fill": {
              "color": "#EBF0F8"
             },
             "line": {
              "color": "white"
             }
            },
            "header": {
             "fill": {
              "color": "#C8D4E3"
             },
             "line": {
              "color": "white"
             }
            },
            "type": "table"
           }
          ]
         },
         "layout": {
          "annotationdefaults": {
           "arrowcolor": "#2a3f5f",
           "arrowhead": 0,
           "arrowwidth": 1
          },
          "autotypenumbers": "strict",
          "coloraxis": {
           "colorbar": {
            "outlinewidth": 0,
            "ticks": ""
           }
          },
          "colorscale": {
           "diverging": [
            [
             0,
             "#8e0152"
            ],
            [
             0.1,
             "#c51b7d"
            ],
            [
             0.2,
             "#de77ae"
            ],
            [
             0.3,
             "#f1b6da"
            ],
            [
             0.4,
             "#fde0ef"
            ],
            [
             0.5,
             "#f7f7f7"
            ],
            [
             0.6,
             "#e6f5d0"
            ],
            [
             0.7,
             "#b8e186"
            ],
            [
             0.8,
             "#7fbc41"
            ],
            [
             0.9,
             "#4d9221"
            ],
            [
             1,
             "#276419"
            ]
           ],
           "sequential": [
            [
             0,
             "#0d0887"
            ],
            [
             0.1111111111111111,
             "#46039f"
            ],
            [
             0.2222222222222222,
             "#7201a8"
            ],
            [
             0.3333333333333333,
             "#9c179e"
            ],
            [
             0.4444444444444444,
             "#bd3786"
            ],
            [
             0.5555555555555556,
             "#d8576b"
            ],
            [
             0.6666666666666666,
             "#ed7953"
            ],
            [
             0.7777777777777778,
             "#fb9f3a"
            ],
            [
             0.8888888888888888,
             "#fdca26"
            ],
            [
             1,
             "#f0f921"
            ]
           ],
           "sequentialminus": [
            [
             0,
             "#0d0887"
            ],
            [
             0.1111111111111111,
             "#46039f"
            ],
            [
             0.2222222222222222,
             "#7201a8"
            ],
            [
             0.3333333333333333,
             "#9c179e"
            ],
            [
             0.4444444444444444,
             "#bd3786"
            ],
            [
             0.5555555555555556,
             "#d8576b"
            ],
            [
             0.6666666666666666,
             "#ed7953"
            ],
            [
             0.7777777777777778,
             "#fb9f3a"
            ],
            [
             0.8888888888888888,
             "#fdca26"
            ],
            [
             1,
             "#f0f921"
            ]
           ]
          },
          "colorway": [
           "#636efa",
           "#EF553B",
           "#00cc96",
           "#ab63fa",
           "#FFA15A",
           "#19d3f3",
           "#FF6692",
           "#B6E880",
           "#FF97FF",
           "#FECB52"
          ],
          "font": {
           "color": "#2a3f5f"
          },
          "geo": {
           "bgcolor": "white",
           "lakecolor": "white",
           "landcolor": "#E5ECF6",
           "showlakes": true,
           "showland": true,
           "subunitcolor": "white"
          },
          "hoverlabel": {
           "align": "left"
          },
          "hovermode": "closest",
          "mapbox": {
           "style": "light"
          },
          "paper_bgcolor": "white",
          "plot_bgcolor": "#E5ECF6",
          "polar": {
           "angularaxis": {
            "gridcolor": "white",
            "linecolor": "white",
            "ticks": ""
           },
           "bgcolor": "#E5ECF6",
           "radialaxis": {
            "gridcolor": "white",
            "linecolor": "white",
            "ticks": ""
           }
          },
          "scene": {
           "xaxis": {
            "backgroundcolor": "#E5ECF6",
            "gridcolor": "white",
            "gridwidth": 2,
            "linecolor": "white",
            "showbackground": true,
            "ticks": "",
            "zerolinecolor": "white"
           },
           "yaxis": {
            "backgroundcolor": "#E5ECF6",
            "gridcolor": "white",
            "gridwidth": 2,
            "linecolor": "white",
            "showbackground": true,
            "ticks": "",
            "zerolinecolor": "white"
           },
           "zaxis": {
            "backgroundcolor": "#E5ECF6",
            "gridcolor": "white",
            "gridwidth": 2,
            "linecolor": "white",
            "showbackground": true,
            "ticks": "",
            "zerolinecolor": "white"
           }
          },
          "shapedefaults": {
           "line": {
            "color": "#2a3f5f"
           }
          },
          "ternary": {
           "aaxis": {
            "gridcolor": "white",
            "linecolor": "white",
            "ticks": ""
           },
           "baxis": {
            "gridcolor": "white",
            "linecolor": "white",
            "ticks": ""
           },
           "bgcolor": "#E5ECF6",
           "caxis": {
            "gridcolor": "white",
            "linecolor": "white",
            "ticks": ""
           }
          },
          "title": {
           "x": 0.05
          },
          "xaxis": {
           "automargin": true,
           "gridcolor": "white",
           "linecolor": "white",
           "ticks": "",
           "title": {
            "standoff": 15
           },
           "zerolinecolor": "white",
           "zerolinewidth": 2
          },
          "yaxis": {
           "automargin": true,
           "gridcolor": "white",
           "linecolor": "white",
           "ticks": "",
           "title": {
            "standoff": 15
           },
           "zerolinecolor": "white",
           "zerolinewidth": 2
          }
         }
        },
        "title": {
         "text": "송파구 신천동 파크리오 (아파트) 거래가 변화 추이 [2021년 ~ 2025년(예측)]"
        },
        "width": 1200,
        "xaxis": {
         "anchor": "y",
         "domain": [
          0,
          1
         ],
         "title": {
          "text": "거래일"
         }
        },
        "yaxis": {
         "anchor": "x",
         "domain": [
          0,
          1
         ],
         "title": {
          "text": "거래 금액"
         }
        }
       }
      }
     },
     "metadata": {},
     "output_type": "display_data"
    },
    {
     "data": {
      "application/vnd.plotly.v1+json": {
       "config": {
        "plotlyServerURL": "https://plot.ly"
       },
       "data": [
        {
         "hovertemplate": "거래일=%{x}<br>거래 금액=%{y}<extra></extra>",
         "legendgroup": "",
         "line": {
          "color": "#636efa",
          "dash": "solid"
         },
         "marker": {
          "symbol": "circle"
         },
         "mode": "lines+markers",
         "name": "",
         "orientation": "v",
         "showlegend": false,
         "type": "scatter",
         "x": [
          "2021-12-01",
          "2022-01-01",
          "2022-01-01",
          "2022-02-01",
          "2022-02-01",
          "2022-03-01",
          "2022-03-01",
          "2022-03-01",
          "2022-04-01",
          "2022-04-01",
          "2022-04-01",
          "2022-05-01",
          "2022-05-01",
          "2022-05-01",
          "2022-05-01",
          "2022-07-01",
          "2022-07-01",
          "2022-08-01",
          "2022-08-01",
          "2022-08-01",
          "2022-09-01",
          "2022-10-01",
          "2022-10-01",
          "2022-10-01",
          "2022-10-01",
          "2022-10-01",
          "2022-11-01",
          "2022-11-01",
          "2022-11-01",
          "2022-11-01",
          "2022-11-01",
          "2022-11-01",
          "2022-11-01",
          "2022-12-01",
          "2022-12-01",
          "2022-12-01",
          "2022-12-01",
          "2022-12-01",
          "2022-12-01",
          "2022-12-01",
          "2022-12-01",
          "2022-12-01",
          "2022-12-01",
          "2023-01-01",
          "2023-01-01",
          "2023-01-01",
          "2023-01-01",
          "2023-01-01",
          "2023-01-01",
          "2023-01-01",
          "2023-01-01",
          "2023-01-01",
          "2023-01-01",
          "2023-01-01",
          "2023-01-01",
          "2023-01-01",
          "2023-01-01",
          "2023-01-01",
          "2023-02-01",
          "2023-02-01",
          "2023-02-01",
          "2023-02-01",
          "2023-02-01",
          "2023-02-01",
          "2023-02-01",
          "2023-02-01",
          "2023-02-01",
          "2023-02-01",
          "2023-02-01",
          "2023-02-01",
          "2023-02-01",
          "2023-02-01",
          "2023-02-01",
          "2023-02-01",
          "2023-02-01",
          "2023-02-01",
          "2023-02-01",
          "2023-02-01",
          "2023-02-01",
          "2023-02-01",
          "2023-03-01",
          "2023-03-01",
          "2023-03-01",
          "2023-03-01",
          "2023-03-01",
          "2023-03-01",
          "2023-03-01",
          "2023-03-01",
          "2023-03-01",
          "2023-03-01",
          "2023-03-01",
          "2023-03-01",
          "2023-03-01",
          "2023-03-01",
          "2023-03-01",
          "2023-03-01",
          "2023-03-01",
          "2023-03-01",
          "2023-03-01",
          "2023-03-01",
          "2023-03-01",
          "2023-03-01",
          "2023-03-01",
          "2023-03-01",
          "2023-04-01",
          "2023-04-01",
          "2023-04-01",
          "2023-04-01",
          "2023-04-01",
          "2023-04-01",
          "2023-04-01",
          "2023-04-01",
          "2023-04-01",
          "2023-04-01",
          "2023-04-01",
          "2023-04-01",
          "2023-04-01",
          "2023-04-01",
          "2023-04-01",
          "2023-04-01",
          "2023-04-01",
          "2023-04-01",
          "2023-04-01",
          "2023-04-01",
          "2023-05-01",
          "2023-05-01",
          "2023-05-01",
          "2023-05-01",
          "2023-05-01",
          "2023-05-01",
          "2023-05-01",
          "2023-05-01",
          "2023-05-01",
          "2023-05-01",
          "2023-05-01",
          "2023-05-01",
          "2023-05-01",
          "2023-05-01",
          "2023-05-01",
          "2023-05-01",
          "2023-05-01",
          "2023-05-01",
          "2023-05-01",
          "2023-05-01",
          "2023-05-01",
          "2023-05-01",
          "2023-05-01",
          "2023-05-01",
          "2023-06-01",
          "2023-06-01",
          "2023-06-01",
          "2023-06-01",
          "2023-06-01",
          "2023-06-01",
          "2023-06-01",
          "2023-06-01",
          "2023-06-01",
          "2023-06-01",
          "2023-06-01",
          "2023-06-01",
          "2023-06-01",
          "2023-06-01",
          "2023-06-01",
          "2023-06-01",
          "2023-06-01",
          "2023-06-01",
          "2023-06-01",
          "2023-06-01",
          "2023-06-01",
          "2023-06-01",
          "2023-06-01",
          "2023-06-01",
          "2023-06-01",
          "2023-06-01",
          "2023-06-01",
          "2023-06-01",
          "2023-06-01",
          "2023-06-01",
          "2023-06-01",
          "2023-06-01",
          "2023-06-01",
          "2023-06-01",
          "2023-06-01",
          "2023-06-01",
          "2023-06-01",
          "2023-06-01",
          "2023-06-01",
          "2023-06-01",
          "2023-07-01",
          "2023-07-01",
          "2023-07-01",
          "2023-07-01",
          "2023-07-01",
          "2023-07-01",
          "2023-07-01",
          "2023-07-01",
          "2023-07-01",
          "2023-07-01",
          "2023-07-01",
          "2023-07-01",
          "2023-07-01",
          "2023-07-01",
          "2023-07-01",
          "2023-07-01",
          "2023-07-01",
          "2023-07-01",
          "2023-07-01",
          "2023-07-01",
          "2023-07-01",
          "2023-07-01",
          "2023-07-01",
          "2023-07-01",
          "2023-07-01",
          "2023-08-01",
          "2023-08-01",
          "2023-08-01",
          "2023-08-01",
          "2023-08-01",
          "2023-08-01",
          "2023-08-01",
          "2023-08-01",
          "2023-08-01",
          "2023-08-01",
          "2023-08-01",
          "2023-08-01",
          "2023-08-01",
          "2023-08-01",
          "2023-08-01",
          "2023-08-01",
          "2023-09-01",
          "2023-09-01",
          "2023-09-01",
          "2023-09-01",
          "2023-09-01",
          "2023-09-01",
          "2023-09-01",
          "2023-09-01",
          "2023-09-01",
          "2023-09-01",
          "2023-09-01",
          "2023-09-01",
          "2023-09-01",
          "2023-09-01",
          "2023-10-01",
          "2023-10-01",
          "2023-10-01",
          "2023-10-01",
          "2023-10-01",
          "2023-10-01",
          "2023-10-01",
          "2023-10-01",
          "2023-10-01",
          "2023-10-01",
          "2023-10-01",
          "2023-11-01",
          "2023-11-01",
          "2023-11-01",
          "2023-11-01",
          "2023-11-01",
          "2023-11-01",
          "2023-12-01",
          "2023-12-01",
          "2023-12-01",
          "2023-12-01",
          "2023-12-01",
          "2023-12-01",
          "2023-12-01",
          "2023-12-01",
          "2023-12-01",
          "2023-12-01",
          "2023-12-01",
          "2023-12-01",
          "2023-12-01",
          "2023-12-01",
          "2023-12-01",
          "2023-12-01",
          "2024-01-01",
          "2024-01-01",
          "2024-01-01",
          "2024-01-01",
          "2024-01-01",
          "2024-01-01",
          "2024-01-01",
          "2024-02-01",
          "2024-02-01",
          "2024-02-01",
          "2024-02-01",
          "2024-02-01",
          "2024-02-01",
          "2024-02-01",
          "2024-02-01",
          "2024-02-01",
          "2024-02-01",
          "2024-02-01",
          "2024-02-01",
          "2024-02-01",
          "2024-02-01",
          "2024-03-01",
          "2024-03-01",
          "2024-03-01",
          "2024-03-01",
          "2024-03-01",
          "2024-03-01",
          "2024-03-01",
          "2024-03-01",
          "2024-03-01",
          "2024-03-01",
          "2024-03-01",
          "2024-03-01",
          "2024-03-01",
          "2024-03-01",
          "2024-03-01",
          "2024-03-01",
          "2024-03-01",
          "2024-03-01",
          "2024-03-01",
          "2024-03-01",
          "2024-03-01",
          "2024-03-01",
          "2024-03-01",
          "2024-03-01",
          "2024-03-01",
          "2024-03-01",
          "2024-03-01",
          "2024-03-01",
          "2024-03-01",
          "2024-03-01",
          "2024-03-01",
          "2024-03-01",
          "2024-03-01",
          "2024-03-01",
          "2024-03-01",
          "2024-03-01",
          "2024-03-01",
          "2024-03-01",
          "2024-03-01",
          "2024-04-01",
          "2024-04-01",
          "2024-04-01",
          "2024-04-01",
          "2024-04-01",
          "2024-04-01",
          "2024-04-01",
          "2024-04-01",
          "2024-04-01",
          "2024-04-01",
          "2024-04-01",
          "2024-04-01",
          "2024-04-01",
          "2024-04-01",
          "2024-04-01",
          "2024-04-01",
          "2024-04-01",
          "2024-05-01",
          "2024-05-01",
          "2024-05-01",
          "2024-05-01",
          "2024-05-01",
          "2024-05-01",
          "2024-05-01",
          "2024-05-01",
          "2024-05-01",
          "2024-05-01",
          "2024-05-01",
          "2024-05-01",
          "2024-05-01",
          "2024-05-01",
          "2024-05-01",
          "2024-05-01",
          "2024-05-01",
          "2024-05-01",
          "2024-05-01",
          "2024-05-01",
          "2024-05-01",
          "2024-05-01",
          "2024-05-01",
          "2024-05-01",
          "2024-05-01",
          "2024-05-01",
          "2024-05-01",
          "2024-05-01",
          "2024-05-01",
          "2024-05-01",
          "2024-05-01",
          "2024-05-01",
          "2024-05-01",
          "2024-05-01",
          "2024-05-01",
          "2024-05-01",
          "2024-05-01",
          "2024-05-01",
          "2024-05-01",
          "2024-06-01",
          "2024-06-01",
          "2024-06-01",
          "2024-06-01",
          "2024-06-01",
          "2024-06-01",
          "2024-06-01",
          "2024-06-01",
          "2024-06-01",
          "2024-06-01",
          "2024-06-01",
          "2024-06-01",
          "2024-06-01",
          "2024-06-01",
          "2024-06-01",
          "2024-06-01",
          "2024-06-01",
          "2024-06-01",
          "2024-06-01",
          "2024-06-01",
          "2024-06-01",
          "2024-06-01",
          "2024-06-01",
          "2024-06-01",
          "2024-06-01",
          "2024-06-01",
          "2024-06-01",
          "2024-06-01",
          "2024-06-01",
          "2024-06-01",
          "2024-06-01",
          "2024-06-01",
          "2024-06-01",
          "2024-06-01",
          "2024-06-01",
          "2024-06-01",
          "2024-06-01",
          "2024-06-01",
          "2024-06-01",
          "2024-06-01",
          "2024-06-01",
          "2024-06-01",
          "2024-06-01",
          "2024-06-01",
          "2024-06-01",
          "2024-06-01",
          "2024-06-01",
          "2024-06-01",
          "2024-06-01",
          "2024-06-01",
          "2024-06-01",
          "2024-06-01",
          "2024-06-01",
          "2024-06-01",
          "2024-06-01",
          "2024-06-01",
          "2024-06-01",
          "2024-06-01",
          "2024-06-01",
          "2024-06-01",
          "2024-06-01",
          "2024-06-01",
          "2024-06-01",
          "2024-06-01",
          "2024-06-01",
          "2024-07-01",
          "2024-07-01",
          "2024-07-01",
          "2024-07-01",
          "2024-07-01",
          "2024-07-01",
          "2024-07-01",
          "2024-07-01",
          "2024-07-01",
          "2024-07-01",
          "2024-07-01",
          "2024-07-01",
          "2024-07-01",
          "2024-07-01",
          "2024-07-01",
          "2024-07-01",
          "2024-07-01",
          "2024-07-01",
          "2024-07-01",
          "2024-08-01",
          "2024-08-01",
          "2024-08-01",
          "2024-08-01",
          "2024-08-01",
          "2024-08-01",
          "2024-08-01",
          "2024-08-01",
          "2024-08-01",
          "2024-08-01",
          "2024-08-01",
          "2024-08-01",
          "2024-08-01",
          "2024-09-01",
          "2024-09-01",
          "2024-09-01",
          "2024-09-01",
          "2024-10-01",
          "2024-10-01",
          "2024-10-01",
          "2024-11-01",
          "2024-11-01",
          "2024-11-01",
          "2024-11-01",
          "2024-11-01",
          "2024-11-01",
          "2024-11-01",
          "2024-12-01",
          "2024-12-01",
          "2024-12-01",
          "2024-12-01",
          "2024-12-01",
          "2025-01-01",
          "2025-01-01",
          "2025-01-31",
          "2025-02-28",
          "2025-03-31",
          "2025-04-30",
          "2025-05-31",
          "2025-06-30",
          "2025-07-31",
          "2025-08-31",
          "2025-09-30",
          "2025-10-31",
          "2025-11-30",
          "2025-12-31"
         ],
         "xaxis": "x",
         "y": [
          1540000000,
          1448000000,
          1448000000,
          1393000000,
          1890000000,
          1315000000,
          1330000000,
          1110000000,
          1470000000,
          1300000000,
          1675000000,
          1350000000,
          1480000000,
          1750000000,
          1350000000,
          1270000000,
          1600000000,
          2040000000,
          1630000000,
          1280000000,
          1060000000,
          1200000000,
          1185000000,
          1070000000,
          1380000000,
          1650000000,
          1390000000,
          900000000,
          1045000000,
          1070000000,
          1400000000,
          1120000000,
          1020000000,
          1450000000,
          1015000000,
          1450000000,
          930000000,
          1100000000,
          1005000000,
          1430000000,
          990000000,
          2400000000,
          1445000000,
          1045000000,
          1970000000,
          1060000000,
          1447000000,
          1020000000,
          1240000000,
          1450000000,
          1190000000,
          970000000,
          1050000000,
          997000000,
          990000000,
          1270000000,
          980000000,
          1225000000,
          1550000000,
          1080000000,
          1090000000,
          1090000000,
          1080000000,
          1090000000,
          1190000000,
          1080000000,
          2000000000,
          1150000000,
          1120000000,
          1230000000,
          1385000000,
          1290000000,
          1470000000,
          1288000000,
          1600000000,
          1015000000,
          1290000000,
          1088000000,
          1230000000,
          1050000000,
          1110000000,
          1170000000,
          1535000000,
          1150000000,
          1170000000,
          1450000000,
          1470000000,
          1290000000,
          1145000000,
          1112000000,
          1245000000,
          1100000000,
          1550000000,
          1400000000,
          1284000000,
          1460000000,
          1495000000,
          1400000000,
          1125000000,
          1090000000,
          1290000000,
          1000000000,
          1279000000,
          1097000000,
          1060000000,
          1240000000,
          1200000000,
          1095000000,
          1345000000,
          1650000000,
          1620000000,
          1130000000,
          2150000000,
          1570000000,
          1050000000,
          1130000000,
          1500000000,
          1900000000,
          1095000000,
          1195000000,
          1200000000,
          1600000000,
          1200000000,
          1570000000,
          1160000000,
          1160000000,
          1145000000,
          1590000000,
          1545000000,
          1225000000,
          1175000000,
          1650000000,
          1150000000,
          1530000000,
          1330000000,
          1645000000,
          1180000000,
          1575000000,
          1200000000,
          1145000000,
          1070000000,
          1200000000,
          1210000000,
          1190000000,
          1135000000,
          1570000000,
          1350000000,
          1540000000,
          1390000000,
          1330000000,
          1210000000,
          1180000000,
          1130000000,
          1248000000,
          1550000000,
          1150000000,
          1230000000,
          1430000000,
          1550000000,
          1570000000,
          1625000000,
          1235000000,
          1570000000,
          1600000000,
          1220000000,
          1430000000,
          1225000000,
          1250000000,
          1550000000,
          1417000000,
          1180000000,
          1580000000,
          1420000000,
          1535000000,
          1135000000,
          1218000000,
          1680000000,
          1220000000,
          1346000000,
          1700000000,
          1135000000,
          1600000000,
          1230000000,
          1230000000,
          1170000000,
          1600000000,
          1600000000,
          1599000000,
          1630000000,
          1240000000,
          1570000000,
          1382000000,
          1500000000,
          1280000000,
          1180000000,
          1390000000,
          1227000000,
          1215000000,
          1250000000,
          1200000000,
          1160000000,
          1190000000,
          1400000000,
          1180000000,
          1545000000,
          1240000000,
          1700000000,
          1090000000,
          1210000000,
          1600000000,
          1397000000,
          1617000000,
          1205000000,
          1390000000,
          1570000000,
          1440000000,
          1670000000,
          1265000000,
          1250000000,
          1440000000,
          1260000000,
          1335000000,
          1130000000,
          1230000000,
          1600000000,
          1200000000,
          1200000000,
          1260000000,
          1432000000,
          1590000000,
          1720000000,
          1650000000,
          1680000000,
          1240000000,
          1295000000,
          1270000000,
          1250000000,
          1625000000,
          1230000000,
          1210000000,
          1250000000,
          1260000000,
          1325000000,
          1660000000,
          1680000000,
          1450000000,
          1400000000,
          1285000000,
          1353000000,
          1600000000,
          1622500000,
          1245000000,
          1230000000,
          1250000000,
          2240000000,
          1455000000,
          1200000000,
          1280000000,
          1622500000,
          1220000000,
          1150000000,
          1290000000,
          1290000000,
          1600000000,
          1570000000,
          1165000000,
          1195000000,
          1290000000,
          1170000000,
          1570000000,
          1290000000,
          1370000000,
          1550000000,
          1360000000,
          1190000000,
          1590000000,
          1630000000,
          1600000000,
          1304000000,
          1560000000,
          1260000000,
          1555000000,
          1270000000,
          1690000000,
          1640000000,
          1600000000,
          1180000000,
          1600000000,
          1190000000,
          1230000000,
          1575000000,
          1235000000,
          1645000000,
          1170000000,
          1550000000,
          1582000000,
          1579000000,
          1750000000,
          2150000000,
          1205000000,
          1210000000,
          1263000000,
          1629000000,
          1240000000,
          1248000000,
          1240000000,
          1550000000,
          1470000000,
          1270000000,
          1230000000,
          1477000000,
          1600000000,
          1245000000,
          1610000000,
          1450000000,
          1405000000,
          1193000000,
          1550000000,
          1400000000,
          1220000000,
          1190000000,
          1700000000,
          1250000000,
          1740000000,
          1250000000,
          1350000000,
          1205000000,
          1585000000,
          1260000000,
          1640000000,
          1572000000,
          1330000000,
          1315000000,
          1250000000,
          1230000000,
          1630000000,
          1700000000,
          1430000000,
          1630000000,
          1680000000,
          1345000000,
          1475000000,
          1480000000,
          1590000000,
          1310000000,
          1214000000,
          1348000000,
          1214000000,
          1250000000,
          1250000000,
          1310000000,
          1580000000,
          1200000000,
          1500000000,
          1650000000,
          1700000000,
          1688000000,
          1630000000,
          1436000000,
          1740000000,
          1735000000,
          1710000000,
          1280000000,
          1450000000,
          1226000000,
          1470000000,
          2050000000,
          1330000000,
          1315000000,
          1640000000,
          1290000000,
          1680000000,
          1850000000,
          1800000000,
          1255000000,
          1400000000,
          1750000000,
          1390000000,
          1390000000,
          1460000000,
          1280000000,
          1297000000,
          1680000000,
          1215000000,
          1430000000,
          1430000000,
          1300000000,
          1640000000,
          1240000000,
          1800000000,
          1690000000,
          1270000000,
          1350000000,
          1340000000,
          1310000000,
          1800000000,
          1750000000,
          1350000000,
          1280000000,
          1260000000,
          1825000000,
          1400000000,
          2700000000,
          1300000000,
          1330000000,
          1850000000,
          1640000000,
          1260000000,
          1330000000,
          1600000000,
          1550000000,
          1320000000,
          1650000000,
          1400000000,
          1400000000,
          1850000000,
          1400000000,
          1390000000,
          1900000000,
          1400000000,
          1372000000,
          1380000000,
          1300000000,
          1445000000,
          1800000000,
          1550000000,
          1350000000,
          1235000000,
          1350000000,
          1265000000,
          1375000000,
          1710000000,
          2010000000,
          1295000000,
          1530000000,
          1500000000,
          1480000000,
          1400000000,
          1485000000,
          1600000000,
          1350000000,
          1350000000,
          1528000000,
          1700000000,
          1615000000,
          1700000000,
          1400000000,
          1250000000,
          1400000000,
          1300000000,
          1800000000,
          1310000000,
          1300000000,
          2070000000,
          1750000000,
          1350000000,
          1800000000,
          1540000000,
          1200000000,
          1400000000,
          1670000000,
          2050000000,
          1645000000,
          1660000000,
          2400000000,
          1630000000,
          1470000000,
          1520000000,
          2010000000,
          1420000000,
          1460000000,
          1447000000,
          1460000000,
          1900000000,
          1500000000,
          1750000000,
          1660000000,
          1500000000,
          1680000000,
          1935000000,
          1520000000,
          1650000000,
          1510000000,
          1900000000,
          2040000000,
          1740000000,
          1470000000,
          1800000000,
          1480000000,
          1585000000,
          1890000000,
          1585000000,
          1460000000,
          1440000000,
          1960000000,
          2330000000,
          1430000000,
          1580000000,
          2320000000,
          1525000000,
          1470000000,
          1445000000,
          1540000000,
          1839000000,
          1440000000,
          2040000000,
          1480000000,
          1175000000,
          1724560000,
          1800000000,
          1619940000,
          1707400000,
          1946780000,
          1787840000,
          1845840000,
          1778880000,
          1946660000,
          1787450000,
          1803360000,
          2098750000,
          2015050000,
          1896360000
         ],
         "yaxis": "y"
        }
       ],
       "layout": {
        "height": 600,
        "legend": {
         "tracegroupgap": 0
        },
        "template": {
         "data": {
          "bar": [
           {
            "error_x": {
             "color": "#2a3f5f"
            },
            "error_y": {
             "color": "#2a3f5f"
            },
            "marker": {
             "line": {
              "color": "#E5ECF6",
              "width": 0.5
             },
             "pattern": {
              "fillmode": "overlay",
              "size": 10,
              "solidity": 0.2
             }
            },
            "type": "bar"
           }
          ],
          "barpolar": [
           {
            "marker": {
             "line": {
              "color": "#E5ECF6",
              "width": 0.5
             },
             "pattern": {
              "fillmode": "overlay",
              "size": 10,
              "solidity": 0.2
             }
            },
            "type": "barpolar"
           }
          ],
          "carpet": [
           {
            "aaxis": {
             "endlinecolor": "#2a3f5f",
             "gridcolor": "white",
             "linecolor": "white",
             "minorgridcolor": "white",
             "startlinecolor": "#2a3f5f"
            },
            "baxis": {
             "endlinecolor": "#2a3f5f",
             "gridcolor": "white",
             "linecolor": "white",
             "minorgridcolor": "white",
             "startlinecolor": "#2a3f5f"
            },
            "type": "carpet"
           }
          ],
          "choropleth": [
           {
            "colorbar": {
             "outlinewidth": 0,
             "ticks": ""
            },
            "type": "choropleth"
           }
          ],
          "contour": [
           {
            "colorbar": {
             "outlinewidth": 0,
             "ticks": ""
            },
            "colorscale": [
             [
              0,
              "#0d0887"
             ],
             [
              0.1111111111111111,
              "#46039f"
             ],
             [
              0.2222222222222222,
              "#7201a8"
             ],
             [
              0.3333333333333333,
              "#9c179e"
             ],
             [
              0.4444444444444444,
              "#bd3786"
             ],
             [
              0.5555555555555556,
              "#d8576b"
             ],
             [
              0.6666666666666666,
              "#ed7953"
             ],
             [
              0.7777777777777778,
              "#fb9f3a"
             ],
             [
              0.8888888888888888,
              "#fdca26"
             ],
             [
              1,
              "#f0f921"
             ]
            ],
            "type": "contour"
           }
          ],
          "contourcarpet": [
           {
            "colorbar": {
             "outlinewidth": 0,
             "ticks": ""
            },
            "type": "contourcarpet"
           }
          ],
          "heatmap": [
           {
            "colorbar": {
             "outlinewidth": 0,
             "ticks": ""
            },
            "colorscale": [
             [
              0,
              "#0d0887"
             ],
             [
              0.1111111111111111,
              "#46039f"
             ],
             [
              0.2222222222222222,
              "#7201a8"
             ],
             [
              0.3333333333333333,
              "#9c179e"
             ],
             [
              0.4444444444444444,
              "#bd3786"
             ],
             [
              0.5555555555555556,
              "#d8576b"
             ],
             [
              0.6666666666666666,
              "#ed7953"
             ],
             [
              0.7777777777777778,
              "#fb9f3a"
             ],
             [
              0.8888888888888888,
              "#fdca26"
             ],
             [
              1,
              "#f0f921"
             ]
            ],
            "type": "heatmap"
           }
          ],
          "histogram": [
           {
            "marker": {
             "pattern": {
              "fillmode": "overlay",
              "size": 10,
              "solidity": 0.2
             }
            },
            "type": "histogram"
           }
          ],
          "histogram2d": [
           {
            "colorbar": {
             "outlinewidth": 0,
             "ticks": ""
            },
            "colorscale": [
             [
              0,
              "#0d0887"
             ],
             [
              0.1111111111111111,
              "#46039f"
             ],
             [
              0.2222222222222222,
              "#7201a8"
             ],
             [
              0.3333333333333333,
              "#9c179e"
             ],
             [
              0.4444444444444444,
              "#bd3786"
             ],
             [
              0.5555555555555556,
              "#d8576b"
             ],
             [
              0.6666666666666666,
              "#ed7953"
             ],
             [
              0.7777777777777778,
              "#fb9f3a"
             ],
             [
              0.8888888888888888,
              "#fdca26"
             ],
             [
              1,
              "#f0f921"
             ]
            ],
            "type": "histogram2d"
           }
          ],
          "histogram2dcontour": [
           {
            "colorbar": {
             "outlinewidth": 0,
             "ticks": ""
            },
            "colorscale": [
             [
              0,
              "#0d0887"
             ],
             [
              0.1111111111111111,
              "#46039f"
             ],
             [
              0.2222222222222222,
              "#7201a8"
             ],
             [
              0.3333333333333333,
              "#9c179e"
             ],
             [
              0.4444444444444444,
              "#bd3786"
             ],
             [
              0.5555555555555556,
              "#d8576b"
             ],
             [
              0.6666666666666666,
              "#ed7953"
             ],
             [
              0.7777777777777778,
              "#fb9f3a"
             ],
             [
              0.8888888888888888,
              "#fdca26"
             ],
             [
              1,
              "#f0f921"
             ]
            ],
            "type": "histogram2dcontour"
           }
          ],
          "mesh3d": [
           {
            "colorbar": {
             "outlinewidth": 0,
             "ticks": ""
            },
            "type": "mesh3d"
           }
          ],
          "parcoords": [
           {
            "line": {
             "colorbar": {
              "outlinewidth": 0,
              "ticks": ""
             }
            },
            "type": "parcoords"
           }
          ],
          "pie": [
           {
            "automargin": true,
            "type": "pie"
           }
          ],
          "scatter": [
           {
            "fillpattern": {
             "fillmode": "overlay",
             "size": 10,
             "solidity": 0.2
            },
            "type": "scatter"
           }
          ],
          "scatter3d": [
           {
            "line": {
             "colorbar": {
              "outlinewidth": 0,
              "ticks": ""
             }
            },
            "marker": {
             "colorbar": {
              "outlinewidth": 0,
              "ticks": ""
             }
            },
            "type": "scatter3d"
           }
          ],
          "scattercarpet": [
           {
            "marker": {
             "colorbar": {
              "outlinewidth": 0,
              "ticks": ""
             }
            },
            "type": "scattercarpet"
           }
          ],
          "scattergeo": [
           {
            "marker": {
             "colorbar": {
              "outlinewidth": 0,
              "ticks": ""
             }
            },
            "type": "scattergeo"
           }
          ],
          "scattergl": [
           {
            "marker": {
             "colorbar": {
              "outlinewidth": 0,
              "ticks": ""
             }
            },
            "type": "scattergl"
           }
          ],
          "scattermap": [
           {
            "marker": {
             "colorbar": {
              "outlinewidth": 0,
              "ticks": ""
             }
            },
            "type": "scattermap"
           }
          ],
          "scattermapbox": [
           {
            "marker": {
             "colorbar": {
              "outlinewidth": 0,
              "ticks": ""
             }
            },
            "type": "scattermapbox"
           }
          ],
          "scatterpolar": [
           {
            "marker": {
             "colorbar": {
              "outlinewidth": 0,
              "ticks": ""
             }
            },
            "type": "scatterpolar"
           }
          ],
          "scatterpolargl": [
           {
            "marker": {
             "colorbar": {
              "outlinewidth": 0,
              "ticks": ""
             }
            },
            "type": "scatterpolargl"
           }
          ],
          "scatterternary": [
           {
            "marker": {
             "colorbar": {
              "outlinewidth": 0,
              "ticks": ""
             }
            },
            "type": "scatterternary"
           }
          ],
          "surface": [
           {
            "colorbar": {
             "outlinewidth": 0,
             "ticks": ""
            },
            "colorscale": [
             [
              0,
              "#0d0887"
             ],
             [
              0.1111111111111111,
              "#46039f"
             ],
             [
              0.2222222222222222,
              "#7201a8"
             ],
             [
              0.3333333333333333,
              "#9c179e"
             ],
             [
              0.4444444444444444,
              "#bd3786"
             ],
             [
              0.5555555555555556,
              "#d8576b"
             ],
             [
              0.6666666666666666,
              "#ed7953"
             ],
             [
              0.7777777777777778,
              "#fb9f3a"
             ],
             [
              0.8888888888888888,
              "#fdca26"
             ],
             [
              1,
              "#f0f921"
             ]
            ],
            "type": "surface"
           }
          ],
          "table": [
           {
            "cells": {
             "fill": {
              "color": "#EBF0F8"
             },
             "line": {
              "color": "white"
             }
            },
            "header": {
             "fill": {
              "color": "#C8D4E3"
             },
             "line": {
              "color": "white"
             }
            },
            "type": "table"
           }
          ]
         },
         "layout": {
          "annotationdefaults": {
           "arrowcolor": "#2a3f5f",
           "arrowhead": 0,
           "arrowwidth": 1
          },
          "autotypenumbers": "strict",
          "coloraxis": {
           "colorbar": {
            "outlinewidth": 0,
            "ticks": ""
           }
          },
          "colorscale": {
           "diverging": [
            [
             0,
             "#8e0152"
            ],
            [
             0.1,
             "#c51b7d"
            ],
            [
             0.2,
             "#de77ae"
            ],
            [
             0.3,
             "#f1b6da"
            ],
            [
             0.4,
             "#fde0ef"
            ],
            [
             0.5,
             "#f7f7f7"
            ],
            [
             0.6,
             "#e6f5d0"
            ],
            [
             0.7,
             "#b8e186"
            ],
            [
             0.8,
             "#7fbc41"
            ],
            [
             0.9,
             "#4d9221"
            ],
            [
             1,
             "#276419"
            ]
           ],
           "sequential": [
            [
             0,
             "#0d0887"
            ],
            [
             0.1111111111111111,
             "#46039f"
            ],
            [
             0.2222222222222222,
             "#7201a8"
            ],
            [
             0.3333333333333333,
             "#9c179e"
            ],
            [
             0.4444444444444444,
             "#bd3786"
            ],
            [
             0.5555555555555556,
             "#d8576b"
            ],
            [
             0.6666666666666666,
             "#ed7953"
            ],
            [
             0.7777777777777778,
             "#fb9f3a"
            ],
            [
             0.8888888888888888,
             "#fdca26"
            ],
            [
             1,
             "#f0f921"
            ]
           ],
           "sequentialminus": [
            [
             0,
             "#0d0887"
            ],
            [
             0.1111111111111111,
             "#46039f"
            ],
            [
             0.2222222222222222,
             "#7201a8"
            ],
            [
             0.3333333333333333,
             "#9c179e"
            ],
            [
             0.4444444444444444,
             "#bd3786"
            ],
            [
             0.5555555555555556,
             "#d8576b"
            ],
            [
             0.6666666666666666,
             "#ed7953"
            ],
            [
             0.7777777777777778,
             "#fb9f3a"
            ],
            [
             0.8888888888888888,
             "#fdca26"
            ],
            [
             1,
             "#f0f921"
            ]
           ]
          },
          "colorway": [
           "#636efa",
           "#EF553B",
           "#00cc96",
           "#ab63fa",
           "#FFA15A",
           "#19d3f3",
           "#FF6692",
           "#B6E880",
           "#FF97FF",
           "#FECB52"
          ],
          "font": {
           "color": "#2a3f5f"
          },
          "geo": {
           "bgcolor": "white",
           "lakecolor": "white",
           "landcolor": "#E5ECF6",
           "showlakes": true,
           "showland": true,
           "subunitcolor": "white"
          },
          "hoverlabel": {
           "align": "left"
          },
          "hovermode": "closest",
          "mapbox": {
           "style": "light"
          },
          "paper_bgcolor": "white",
          "plot_bgcolor": "#E5ECF6",
          "polar": {
           "angularaxis": {
            "gridcolor": "white",
            "linecolor": "white",
            "ticks": ""
           },
           "bgcolor": "#E5ECF6",
           "radialaxis": {
            "gridcolor": "white",
            "linecolor": "white",
            "ticks": ""
           }
          },
          "scene": {
           "xaxis": {
            "backgroundcolor": "#E5ECF6",
            "gridcolor": "white",
            "gridwidth": 2,
            "linecolor": "white",
            "showbackground": true,
            "ticks": "",
            "zerolinecolor": "white"
           },
           "yaxis": {
            "backgroundcolor": "#E5ECF6",
            "gridcolor": "white",
            "gridwidth": 2,
            "linecolor": "white",
            "showbackground": true,
            "ticks": "",
            "zerolinecolor": "white"
           },
           "zaxis": {
            "backgroundcolor": "#E5ECF6",
            "gridcolor": "white",
            "gridwidth": 2,
            "linecolor": "white",
            "showbackground": true,
            "ticks": "",
            "zerolinecolor": "white"
           }
          },
          "shapedefaults": {
           "line": {
            "color": "#2a3f5f"
           }
          },
          "ternary": {
           "aaxis": {
            "gridcolor": "white",
            "linecolor": "white",
            "ticks": ""
           },
           "baxis": {
            "gridcolor": "white",
            "linecolor": "white",
            "ticks": ""
           },
           "bgcolor": "#E5ECF6",
           "caxis": {
            "gridcolor": "white",
            "linecolor": "white",
            "ticks": ""
           }
          },
          "title": {
           "x": 0.05
          },
          "xaxis": {
           "automargin": true,
           "gridcolor": "white",
           "linecolor": "white",
           "ticks": "",
           "title": {
            "standoff": 15
           },
           "zerolinecolor": "white",
           "zerolinewidth": 2
          },
          "yaxis": {
           "automargin": true,
           "gridcolor": "white",
           "linecolor": "white",
           "ticks": "",
           "title": {
            "standoff": 15
           },
           "zerolinecolor": "white",
           "zerolinewidth": 2
          }
         }
        },
        "title": {
         "text": "강동구 고덕동 고덕그라시움 (아파트) 거래가 변화 추이 [2021년 ~ 2025년(예측)]"
        },
        "width": 1200,
        "xaxis": {
         "anchor": "y",
         "domain": [
          0,
          1
         ],
         "title": {
          "text": "거래일"
         }
        },
        "yaxis": {
         "anchor": "x",
         "domain": [
          0,
          1
         ],
         "title": {
          "text": "거래 금액"
         }
        }
       }
      }
     },
     "metadata": {},
     "output_type": "display_data"
    }
   ],
   "source": [
    "# 실거래가 추이 선 그래프\n",
    "import plotly.express as px\n",
    "\n",
    "# 가장 거래량이 많은 5개 건물 시각화 (예측 데이터 추가)\n",
    "for top_building in top_buildings:\n",
    "    apt = join_df[join_df['지역+건물명+건물용도'] == top_building].sort_values(by='거래일')\n",
    "\n",
    "    apt['물건금액'] = apt['물건금액(만원)']*10000\n",
    "\n",
    "    fig = px.line(apt, x='거래일', y='물건금액', title=f'{top_building} 거래가 변화 추이 [2021년 ~ 2025년(예측)]',\n",
    "              labels={'거래일': '거래일', '물건금액': '거래 금액'}, markers=True)\n",
    "\n",
    "    fig.update_layout(width=1200, height=600)\n",
    "    fig.show()"
   ]
  }
 ],
 "metadata": {
  "kernelspec": {
   "display_name": "env",
   "language": "python",
   "name": "python3"
  },
  "language_info": {
   "codemirror_mode": {
    "name": "ipython",
    "version": 3
   },
   "file_extension": ".py",
   "mimetype": "text/x-python",
   "name": "python",
   "nbconvert_exporter": "python",
   "pygments_lexer": "ipython3",
   "version": "3.12.7"
  }
 },
 "nbformat": 4,
 "nbformat_minor": 2
}
