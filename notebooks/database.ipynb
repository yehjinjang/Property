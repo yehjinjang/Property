{
 "cells": [
  {
   "cell_type": "code",
   "execution_count": null,
   "metadata": {},
   "outputs": [],
   "source": [
    "from sqlalchemy import create_engine\n",
    "from sqlalchemy.orm import sessionmaker\n",
    "import pandas as pd\n",
    "import os\n",
    "import sys\n",
    "\n",
    "sys.path.append(os.path.abspath(os.path.join(os.getcwd(), \"../scripts\")))\n",
    "\n",
    "from models import Address\n",
    "\n",
    "df = pd.read_csv(\"../Data/address-to-geo.csv\")\n",
    "df"
   ]
  },
  {
   "cell_type": "code",
   "execution_count": null,
   "metadata": {},
   "outputs": [],
   "source": [
    "engine = create_engine(os.getenv(\"DATABASE_URL\"), echo=True)\n",
    "\n",
    "Session = sessionmaker(bind=engine)\n",
    "session = Session()\n",
    "\n",
    "for data in df.itertuples():\n",
    "    district, legal_dong, lot_number = data.address.split()[1:]\n",
    "    latitude, longitude = data.lat, data.lon\n",
    "    lot_number = lot_number.split(\"-\")\n",
    "    main_lot_number, sub_lot_number = lot_number[0], (\n",
    "        lot_number[1] if len(lot_number) == 2 else None\n",
    "    )\n",
    "    new_address = Address(\n",
    "        district=district,\n",
    "        legal_dong=legal_dong,\n",
    "        main_lot_number=main_lot_number,\n",
    "        sub_lot_number=sub_lot_number,\n",
    "        latitude=latitude,\n",
    "        longitude=longitude,\n",
    "    )\n",
    "    session.add(new_address)\n",
    "session.commit()\n",
    "session.close()"
   ]
  },
  {
   "cell_type": "code",
   "execution_count": null,
   "metadata": {},
   "outputs": [],
   "source": [
    "from models import BusStation\n",
    "\n",
    "df = pd.read_csv(\"../Data/refined-bus.csv\")\n",
    "df"
   ]
  },
  {
   "cell_type": "code",
   "execution_count": null,
   "metadata": {},
   "outputs": [],
   "source": [
    "for data in df.itertuples():\n",
    "    new_bus_station = BusStation(\n",
    "        id=data.sttn_no,\n",
    "        name=data.sttn_name,\n",
    "        latitude=data.latitude,\n",
    "        longitude=data.longitude,\n",
    "    )\n",
    "    session.add(new_bus_station)\n",
    "session.commit()\n",
    "session.close()"
   ]
  },
  {
   "cell_type": "code",
   "execution_count": null,
   "metadata": {},
   "outputs": [],
   "source": [
    "from models import Hospital\n",
    "\n",
    "df = pd.read_csv(\"../Data/refined-emergency.csv\")\n",
    "df"
   ]
  },
  {
   "cell_type": "code",
   "execution_count": null,
   "metadata": {},
   "outputs": [],
   "source": [
    "for data in df.itertuples():\n",
    "    new_hospital = Hospital(\n",
    "        address=data.address,\n",
    "        note=data.note,\n",
    "        map=data.map,\n",
    "        name=data.name,\n",
    "        phone=data.phone,\n",
    "        emergency_phone=data.emergency_phone,\n",
    "        latitude=data.latitude,\n",
    "        longitude=data.longitude,\n",
    "    )\n",
    "    session.add(new_hospital)\n",
    "session.commit()\n",
    "session.close()"
   ]
  },
  {
   "cell_type": "code",
   "execution_count": null,
   "metadata": {},
   "outputs": [],
   "source": [
    "from models import Subway\n",
    "\n",
    "df = pd.read_csv(\"../Data/refined-subway.csv\")\n",
    "df"
   ]
  },
  {
   "cell_type": "code",
   "execution_count": null,
   "metadata": {},
   "outputs": [],
   "source": [
    "for data in df.itertuples():\n",
    "    new_subway = Subway(\n",
    "        line=data.sttn_line,\n",
    "        name=data.sttn_name,\n",
    "        latitude=data.longitude,\n",
    "        longitude=data.latitude,\n",
    "    )\n",
    "    session.add(new_subway)\n",
    "session.commit()\n",
    "session.close()"
   ]
  },
  {
   "cell_type": "code",
   "execution_count": null,
   "metadata": {},
   "outputs": [],
   "source": [
    "from models import Building, RealestateDeal, Address\n",
    "\n",
    "df = (\n",
    "    pd.read_csv(\"../Data/refined-real-estate.csv\")\n",
    "    .drop(columns=[\"Unnamed: 0\"])\n",
    "    .rename(\n",
    "        columns={\n",
    "            \"건물면적(㎡)\": \"건물면적\",\n",
    "            \"물건금액(만원)\": \"물건금액\",\n",
    "            \"신고한 개업공인중개사 시군구명\": \"신고한중개사시군구명\",\n",
    "        }\n",
    "    )\n",
    ")\n",
    "df"
   ]
  },
  {
   "cell_type": "code",
   "execution_count": null,
   "metadata": {},
   "outputs": [],
   "source": [
    "for data in df.itertuples():\n",
    "    print(data)\n",
    "    sub_lot_number = None if not data.부번 else data.부번\n",
    "    address_id = (\n",
    "        session.query(Address)\n",
    "        .filter_by(\n",
    "            district=data.자치구명,\n",
    "            legal_dong=data.법정동명,\n",
    "            main_lot_number=data.본번,\n",
    "            sub_lot_number=sub_lot_number,\n",
    "        )\n",
    "        .first()\n",
    "        .id\n",
    "    )\n",
    "    existing_building = (\n",
    "        session.query(Building)\n",
    "        .filter_by(\n",
    "            address_id=address_id,\n",
    "            name=data.건물명,\n",
    "        )\n",
    "        .first()\n",
    "    )\n",
    "    if existing_building is None:\n",
    "        new_building = Building(\n",
    "            address_id=address_id,\n",
    "            name=data.건물명,\n",
    "            construction_year=data.건축년도,\n",
    "            purpose=data.건물용도,\n",
    "            area_sqm=data.건물면적,\n",
    "            floor=data.층,\n",
    "        )\n",
    "        session.add(new_building)\n",
    "        session.commit()\n",
    "        existing_building = (\n",
    "            session.query(Building)\n",
    "            .filter_by(\n",
    "                address_id=address_id,\n",
    "                name=data.건물명,\n",
    "            )\n",
    "            .first()\n",
    "        )\n",
    "\n",
    "    new_realestate_del = RealestateDeal(\n",
    "        building_id=existing_building.id,\n",
    "        reception_year=data.접수연도,\n",
    "        transaction_price_million=data.물건금액,\n",
    "        report_type=data.신고구분,\n",
    "        reported_real_estate_agent_district=data.신고한중개사시군구명,\n",
    "        contract_year=data.계약연도,\n",
    "        contract_month=data.계약월,\n",
    "        contract_day=data.계약일,\n",
    "    )\n",
    "    session.add(new_realestate_del)\n",
    "session.commit()\n",
    "session.close()"
   ]
  }
 ],
 "metadata": {
  "kernelspec": {
   "display_name": "env",
   "language": "python",
   "name": "python3"
  },
  "language_info": {
   "codemirror_mode": {
    "name": "ipython",
    "version": 3
   },
   "file_extension": ".py",
   "mimetype": "text/x-python",
   "name": "python",
   "nbconvert_exporter": "python",
   "pygments_lexer": "ipython3",
   "version": "3.12.7"
  }
 },
 "nbformat": 4,
 "nbformat_minor": 2
}
