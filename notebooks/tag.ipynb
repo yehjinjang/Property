{
 "cells": [
  {
   "cell_type": "code",
   "execution_count": 81,
   "metadata": {},
   "outputs": [],
   "source": [
    "from sqlalchemy import create_engine\n",
    "from sqlalchemy.orm import sessionmaker\n",
    "import os\n",
    "import sys\n",
    "import pandas as pd\n",
    "from tqdm import tqdm\n",
    "\n",
    "\n",
    "def calc_distance(lat1, lon1, lat2, lon2, distance):\n",
    "    x, y = abs(lon1 - lon2) * 88800, abs(lat1 - lat2) * 111320\n",
    "    z = (x**2 + y**2) ** (1 / 2)\n",
    "    return distance > z\n",
    "\n",
    "\n",
    "def tagging(buildings, label):\n",
    "    new_tags = [\n",
    "        Tag(\n",
    "            building_id=building.id,\n",
    "            label=label,\n",
    "        )\n",
    "        for building in buildings\n",
    "    ]\n",
    "    session.add_all(new_tags)\n",
    "\n",
    "\n",
    "HOSPITAL_DISTANCE = 3000\n",
    "SUBWAY_STATION_DISTANCE = 500\n",
    "BUS_STATION_DISTANCE = 50\n",
    "\n",
    "sys.path.append(os.path.abspath(os.path.join(os.getcwd(), \"../\")))\n",
    "\n",
    "from scripts.models import Address, Hospital, BusStation, Subway, Building, Tag\n",
    "\n",
    "engine = create_engine(os.getenv(\"DATABASE_URL\"), echo=False)\n",
    "Session = sessionmaker(bind=engine)\n",
    "session = Session()"
   ]
  },
  {
   "cell_type": "code",
   "execution_count": null,
   "metadata": {},
   "outputs": [],
   "source": [
    "results = session.query(Address).all()\n",
    "address_df = pd.DataFrame(row.__dict__ for row in results)\n",
    "address_df = address_df[[\"latitude\", \"longitude\", \"id\"]]\n",
    "address_df"
   ]
  },
  {
   "cell_type": "code",
   "execution_count": null,
   "metadata": {},
   "outputs": [],
   "source": [
    "results = session.query(Hospital).all()\n",
    "hospital_df = pd.DataFrame(row.__dict__ for row in results)\n",
    "hospital_df = hospital_df[[\"latitude\", \"longitude\"]]\n",
    "hospital_df"
   ]
  },
  {
   "cell_type": "code",
   "execution_count": null,
   "metadata": {},
   "outputs": [],
   "source": [
    "results = session.query(BusStation).all()\n",
    "bus_station_df = pd.DataFrame(row.__dict__ for row in results)\n",
    "bus_station_df = bus_station_df[[\"latitude\", \"longitude\"]]\n",
    "bus_station_df"
   ]
  },
  {
   "cell_type": "code",
   "execution_count": null,
   "metadata": {},
   "outputs": [],
   "source": [
    "results = session.query(Subway).all()\n",
    "subway_station_df = pd.DataFrame(row.__dict__ for row in results)\n",
    "subway_station_df = subway_station_df[[\"latitude\", \"longitude\"]]\n",
    "subway_station_df"
   ]
  },
  {
   "cell_type": "code",
   "execution_count": null,
   "metadata": {},
   "outputs": [],
   "source": [
    "for data in tqdm(address_df.itertuples()):\n",
    "    buildings = session.query(Building).filter_by(address_id=data.id).all()\n",
    "    if any(\n",
    "        calc_distance(\n",
    "            data.latitude,\n",
    "            data.longitude,\n",
    "            row.latitude,\n",
    "            row.longitude,\n",
    "            SUBWAY_STATION_DISTANCE,\n",
    "        )\n",
    "        for row in subway_station_df.itertuples()\n",
    "    ):\n",
    "        tagging(buildings, \"역세권\")\n",
    "    if any(\n",
    "        calc_distance(\n",
    "            data.latitude,\n",
    "            data.longitude,\n",
    "            row.latitude,\n",
    "            row.longitude,\n",
    "            BUS_STATION_DISTANCE,\n",
    "        )\n",
    "        for row in bus_station_df.itertuples()\n",
    "    ):\n",
    "        tagging(buildings, \"버스정류장 가까움\")\n",
    "    if any(\n",
    "        calc_distance(\n",
    "            data.latitude,\n",
    "            data.longitude,\n",
    "            row.latitude,\n",
    "            row.longitude,\n",
    "            HOSPITAL_DISTANCE,\n",
    "        )\n",
    "        for row in hospital_df.itertuples()\n",
    "    ):\n",
    "        tagging(buildings, \"병원 가까움\")\n",
    "\n",
    "\n",
    "session.commit()\n",
    "session.close()"
   ]
  }
 ],
 "metadata": {
  "language_info": {
   "name": "python"
  }
 },
 "nbformat": 4,
 "nbformat_minor": 2
}
