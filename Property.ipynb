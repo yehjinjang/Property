{
 "cells": [
  {
   "cell_type": "code",
   "execution_count": 1,
   "metadata": {},
   "outputs": [],
   "source": [
    "import pandas as pd \n",
    "import numpy as np "
   ]
  },
  {
   "cell_type": "code",
   "execution_count": 2,
   "metadata": {},
   "outputs": [
    {
     "name": "stdout",
     "output_type": "stream",
     "text": [
      "<class 'pandas.core.frame.DataFrame'>\n",
      "RangeIndex: 235671 entries, 0 to 235670\n",
      "Data columns (total 21 columns):\n",
      " #   Column            Non-Null Count   Dtype  \n",
      "---  ------            --------------   -----  \n",
      " 0   접수연도              235671 non-null  int64  \n",
      " 1   자치구코드             235671 non-null  int64  \n",
      " 2   자치구명              235670 non-null  object \n",
      " 3   법정동코드             235671 non-null  int64  \n",
      " 4   법정동명              235671 non-null  object \n",
      " 5   지번구분              224553 non-null  float64\n",
      " 6   지번구분명             224553 non-null  object \n",
      " 7   본번                224555 non-null  object \n",
      " 8   부번                224555 non-null  object \n",
      " 9   건물명               224535 non-null  object \n",
      " 10  계약일               235671 non-null  int64  \n",
      " 11  물건금액(만원)          235671 non-null  int64  \n",
      " 12  건물면적(㎡)           235671 non-null  float64\n",
      " 13  토지면적(㎡)           230520 non-null  float64\n",
      " 14  층                 224577 non-null  float64\n",
      " 15  권리구분              1726 non-null    object \n",
      " 16  취소일               12512 non-null   float64\n",
      " 17  건축년도              234435 non-null  float64\n",
      " 18  건물용도              235671 non-null  object \n",
      " 19  신고구분              235433 non-null  object \n",
      " 20  신고한 개업공인중개사 시군구명  193794 non-null  object \n",
      "dtypes: float64(6), int64(5), object(10)\n",
      "memory usage: 37.8+ MB\n"
     ]
    },
    {
     "name": "stderr",
     "output_type": "stream",
     "text": [
      "C:\\Users\\user\\AppData\\Local\\Temp\\ipykernel_4976\\1946609639.py:2: DtypeWarning: Columns (7,8) have mixed types. Specify dtype option on import or set low_memory=False.\n",
      "  realty = pd.read_csv(path,encoding ='cp949')\n"
     ]
    }
   ],
   "source": [
    "path = \"./Data/서울시 부동산 실거래가 정보(2022~2025).csv\"\n",
    "realty = pd.read_csv(path,encoding ='cp949')\n",
    "realty.info()"
   ]
  },
  {
   "cell_type": "code",
   "execution_count": null,
   "metadata": {},
   "outputs": [],
   "source": []
  }
 ],
 "metadata": {
  "kernelspec": {
   "display_name": "base",
   "language": "python",
   "name": "python3"
  },
  "language_info": {
   "codemirror_mode": {
    "name": "ipython",
    "version": 3
   },
   "file_extension": ".py",
   "mimetype": "text/x-python",
   "name": "python",
   "nbconvert_exporter": "python",
   "pygments_lexer": "ipython3",
   "version": "3.12.3"
  }
 },
 "nbformat": 4,
 "nbformat_minor": 2
}
