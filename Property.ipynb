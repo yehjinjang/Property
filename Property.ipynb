{
 "cells": [
  {
   "cell_type": "code",
   "execution_count": 66,
   "metadata": {},
   "outputs": [],
   "source": [
    "import pandas as pd\n",
    "import numpy as np"
   ]
  },
  {
   "cell_type": "code",
   "execution_count": 67,
   "metadata": {},
   "outputs": [
    {
     "name": "stdout",
     "output_type": "stream",
     "text": [
      "<class 'pandas.core.frame.DataFrame'>\n",
      "RangeIndex: 235671 entries, 0 to 235670\n",
      "Data columns (total 21 columns):\n",
      " #   Column            Non-Null Count   Dtype  \n",
      "---  ------            --------------   -----  \n",
      " 0   접수연도              235671 non-null  int64  \n",
      " 1   자치구코드             235671 non-null  int64  \n",
      " 2   자치구명              235670 non-null  object \n",
      " 3   법정동코드             235671 non-null  int64  \n",
      " 4   법정동명              235671 non-null  object \n",
      " 5   지번구분              224553 non-null  float64\n",
      " 6   지번구분명             224553 non-null  object \n",
      " 7   본번                224555 non-null  object \n",
      " 8   부번                224555 non-null  object \n",
      " 9   건물명               224535 non-null  object \n",
      " 10  계약일               235671 non-null  int64  \n",
      " 11  물건금액(만원)          235671 non-null  int64  \n",
      " 12  건물면적(㎡)           235671 non-null  float64\n",
      " 13  토지면적(㎡)           230520 non-null  float64\n",
      " 14  층                 224577 non-null  float64\n",
      " 15  권리구분              1726 non-null    object \n",
      " 16  취소일               12512 non-null   float64\n",
      " 17  건축년도              234435 non-null  float64\n",
      " 18  건물용도              235671 non-null  object \n",
      " 19  신고구분              235433 non-null  object \n",
      " 20  신고한 개업공인중개사 시군구명  193794 non-null  object \n",
      "dtypes: float64(6), int64(5), object(10)\n",
      "memory usage: 37.8+ MB\n"
     ]
    },
    {
     "name": "stderr",
     "output_type": "stream",
     "text": [
      "C:\\Users\\ssair\\AppData\\Local\\Temp\\ipykernel_20180\\2481356400.py:2: DtypeWarning: Columns (7,8) have mixed types. Specify dtype option on import or set low_memory=False.\n",
      "  realty = pd.read_csv(path, encoding=\"cp949\")\n"
     ]
    }
   ],
   "source": [
    "path = \"./Data/서울시 부동산 실거래가 정보(2022~2025).csv\"\n",
    "realty = pd.read_csv(path, encoding=\"cp949\")\n",
    "realty.info()"
   ]
  },
  {
   "cell_type": "code",
   "execution_count": 68,
   "metadata": {},
   "outputs": [
    {
     "name": "stdout",
     "output_type": "stream",
     "text": [
      "<class 'pandas.core.frame.DataFrame'>\n",
      "RangeIndex: 235671 entries, 0 to 235670\n",
      "Data columns (total 21 columns):\n",
      " #   Column            Non-Null Count   Dtype  \n",
      "---  ------            --------------   -----  \n",
      " 0   접수연도              235671 non-null  int64  \n",
      " 1   자치구코드             235671 non-null  int64  \n",
      " 2   자치구명              235670 non-null  object \n",
      " 3   법정동코드             235671 non-null  int64  \n",
      " 4   법정동명              235671 non-null  object \n",
      " 5   지번구분              224553 non-null  float64\n",
      " 6   지번구분명             224553 non-null  object \n",
      " 7   본번                224554 non-null  object \n",
      " 8   부번                224554 non-null  object \n",
      " 9   건물명               224535 non-null  object \n",
      " 10  계약일               235671 non-null  int64  \n",
      " 11  물건금액(만원)          235671 non-null  int64  \n",
      " 12  건물면적(㎡)           235671 non-null  float64\n",
      " 13  토지면적(㎡)           230520 non-null  float64\n",
      " 14  층                 224577 non-null  float64\n",
      " 15  권리구분              1726 non-null    object \n",
      " 16  취소일               12512 non-null   float64\n",
      " 17  건축년도              234435 non-null  float64\n",
      " 18  건물용도              235671 non-null  object \n",
      " 19  신고구분              235433 non-null  object \n",
      " 20  신고한 개업공인중개사 시군구명  193794 non-null  object \n",
      "dtypes: float64(6), int64(5), object(10)\n",
      "memory usage: 37.8+ MB\n"
     ]
    }
   ],
   "source": [
    "def to_int(value):\n",
    "    value = str(value).split(\".\")[0].strip()\n",
    "    return int(value) if value.isdigit() else pd.NA\n",
    "\n",
    "\n",
    "realty[\"본번\"] = realty[\"본번\"].apply(to_int)\n",
    "realty[\"부번\"] = realty[\"부번\"].apply(to_int)\n",
    "# realty = realty.dropna()\n",
    "realty.info()"
   ]
  },
  {
   "cell_type": "code",
   "execution_count": 69,
   "metadata": {},
   "outputs": [
    {
     "data": {
      "text/plain": [
       "접수연도                     0\n",
       "자치구코드                    0\n",
       "자치구명                     1\n",
       "법정동코드                    0\n",
       "법정동명                     0\n",
       "지번구분                 11118\n",
       "지번구분명                11118\n",
       "본번                   11117\n",
       "부번                   11117\n",
       "건물명                  11136\n",
       "계약일                      0\n",
       "물건금액(만원)                 0\n",
       "건물면적(㎡)                  0\n",
       "토지면적(㎡)               5151\n",
       "층                    11094\n",
       "권리구분                233945\n",
       "취소일                 223159\n",
       "건축년도                  1236\n",
       "건물용도                     0\n",
       "신고구분                   238\n",
       "신고한 개업공인중개사 시군구명     41877\n",
       "dtype: int64"
      ]
     },
     "execution_count": 69,
     "metadata": {},
     "output_type": "execute_result"
    }
   ],
   "source": [
    "realty.isnull().sum()"
   ]
  },
  {
   "cell_type": "code",
   "execution_count": 70,
   "metadata": {},
   "outputs": [
    {
     "data": {
      "text/plain": [
       "접수연도        0\n",
       "자치구코드       0\n",
       "자치구명        0\n",
       "법정동코드       0\n",
       "법정동명        0\n",
       "본번          0\n",
       "부번          0\n",
       "건물명         0\n",
       "계약일         0\n",
       "물건금액(만원)    0\n",
       "건물면적(㎡)     0\n",
       "토지면적(㎡)     0\n",
       "층           0\n",
       "건축년도        0\n",
       "건물용도        0\n",
       "신고구분        0\n",
       "dtype: int64"
      ]
     },
     "execution_count": 70,
     "metadata": {},
     "output_type": "execute_result"
    }
   ],
   "source": [
    "realty.drop(\n",
    "    columns=[\n",
    "        \"권리구분\",\n",
    "        \"취소일\",\n",
    "        \"신고한 개업공인중개사 시군구명\",\n",
    "        \"지번구분\",\n",
    "        \"지번구분명\",\n",
    "    ],\n",
    "    inplace=True,\n",
    ")\n",
    "realty.dropna(inplace=True)\n",
    "realty.isnull().sum()"
   ]
  },
  {
   "cell_type": "code",
   "execution_count": 71,
   "metadata": {},
   "outputs": [
    {
     "name": "stdout",
     "output_type": "stream",
     "text": [
      "<class 'pandas.core.frame.DataFrame'>\n",
      "Index: 217974 entries, 0 to 235454\n",
      "Data columns (total 16 columns):\n",
      " #   Column    Non-Null Count   Dtype  \n",
      "---  ------    --------------   -----  \n",
      " 0   접수연도      217974 non-null  int64  \n",
      " 1   자치구코드     217974 non-null  int64  \n",
      " 2   자치구명      217974 non-null  object \n",
      " 3   법정동코드     217974 non-null  int64  \n",
      " 4   법정동명      217974 non-null  object \n",
      " 5   본번        217974 non-null  object \n",
      " 6   부번        217974 non-null  object \n",
      " 7   건물명       217974 non-null  object \n",
      " 8   계약일       217974 non-null  int64  \n",
      " 9   물건금액(만원)  217974 non-null  int64  \n",
      " 10  건물면적(㎡)   217974 non-null  float64\n",
      " 11  토지면적(㎡)   217974 non-null  float64\n",
      " 12  층         217974 non-null  float64\n",
      " 13  건축년도      217974 non-null  float64\n",
      " 14  건물용도      217974 non-null  object \n",
      " 15  신고구분      217974 non-null  object \n",
      "dtypes: float64(4), int64(5), object(7)\n",
      "memory usage: 28.3+ MB\n"
     ]
    }
   ],
   "source": [
    "realty.info()"
   ]
  },
  {
   "cell_type": "code",
   "execution_count": null,
   "metadata": {},
   "outputs": [
    {
     "data": {
      "text/plain": [
       "False"
      ]
     },
     "execution_count": 89,
     "metadata": {},
     "output_type": "execute_result"
    }
   ],
   "source": [
    "realty[\"건물명\"].apply(len).gt(30).any()\n",
    "# (realty[\"부번\"] > 32767).any()\n",
    "# realty[realty[\"지번구분\"] == 2.0]"
   ]
  },
  {
   "cell_type": "markdown",
   "metadata": {},
   "source": []
  }
 ],
 "metadata": {
  "kernelspec": {
   "display_name": "env",
   "language": "python",
   "name": "python3"
  },
  "language_info": {
   "codemirror_mode": {
    "name": "ipython",
    "version": 3
   },
   "file_extension": ".py",
   "mimetype": "text/x-python",
   "name": "python",
   "nbconvert_exporter": "python",
   "pygments_lexer": "ipython3",
   "version": "3.12.7"
  }
 },
 "nbformat": 4,
 "nbformat_minor": 2
}
