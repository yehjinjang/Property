{
 "cells": [
  {
   "cell_type": "markdown",
   "metadata": {},
   "source": [
    "# 데이터 전처리"
   ]
  },
  {
   "cell_type": "code",
   "execution_count": 447,
   "metadata": {},
   "outputs": [],
   "source": [
    "import pandas as pd\n",
    "import numpy as np"
   ]
  },
  {
   "cell_type": "code",
   "execution_count": 448,
   "metadata": {},
   "outputs": [
    {
     "name": "stdout",
     "output_type": "stream",
     "text": [
      "<class 'pandas.core.frame.DataFrame'>\n",
      "RangeIndex: 235671 entries, 0 to 235670\n",
      "Data columns (total 21 columns):\n",
      " #   Column            Non-Null Count   Dtype  \n",
      "---  ------            --------------   -----  \n",
      " 0   접수연도              235671 non-null  int64  \n",
      " 1   자치구코드             235671 non-null  int64  \n",
      " 2   자치구명              235670 non-null  object \n",
      " 3   법정동코드             235671 non-null  int64  \n",
      " 4   법정동명              235671 non-null  object \n",
      " 5   지번구분              224553 non-null  float64\n",
      " 6   지번구분명             224553 non-null  object \n",
      " 7   본번                224555 non-null  object \n",
      " 8   부번                224555 non-null  object \n",
      " 9   건물명               224535 non-null  object \n",
      " 10  계약일               235671 non-null  int64  \n",
      " 11  물건금액(만원)          235671 non-null  int64  \n",
      " 12  건물면적(㎡)           235671 non-null  float64\n",
      " 13  토지면적(㎡)           230520 non-null  float64\n",
      " 14  층                 224577 non-null  float64\n",
      " 15  권리구분              1726 non-null    object \n",
      " 16  취소일               12512 non-null   float64\n",
      " 17  건축년도              234435 non-null  float64\n",
      " 18  건물용도              235671 non-null  object \n",
      " 19  신고구분              235433 non-null  object \n",
      " 20  신고한 개업공인중개사 시군구명  193794 non-null  object \n",
      "dtypes: float64(6), int64(5), object(10)\n",
      "memory usage: 37.8+ MB\n"
     ]
    },
    {
     "name": "stderr",
     "output_type": "stream",
     "text": [
      "/var/folders/5p/79nsvsf97wd_rz32b3fftzh80000gn/T/ipykernel_56082/3562862516.py:2: DtypeWarning: Columns (7,8) have mixed types. Specify dtype option on import or set low_memory=False.\n",
      "  df = pd.read_csv(path, encoding='cp949')\n"
     ]
    }
   ],
   "source": [
    "path = \"./Data/서울시 부동산 실거래가 정보(2022~2025).csv\"\n",
    "df = pd.read_csv(path, encoding='cp949')\n",
    "df.info()"
   ]
  },
  {
   "cell_type": "code",
   "execution_count": 449,
   "metadata": {},
   "outputs": [
    {
     "data": {
      "text/html": [
       "<div>\n",
       "<style scoped>\n",
       "    .dataframe tbody tr th:only-of-type {\n",
       "        vertical-align: middle;\n",
       "    }\n",
       "\n",
       "    .dataframe tbody tr th {\n",
       "        vertical-align: top;\n",
       "    }\n",
       "\n",
       "    .dataframe thead th {\n",
       "        text-align: right;\n",
       "    }\n",
       "</style>\n",
       "<table border=\"1\" class=\"dataframe\">\n",
       "  <thead>\n",
       "    <tr style=\"text-align: right;\">\n",
       "      <th></th>\n",
       "      <th>접수연도</th>\n",
       "      <th>자치구코드</th>\n",
       "      <th>자치구명</th>\n",
       "      <th>법정동코드</th>\n",
       "      <th>법정동명</th>\n",
       "      <th>지번구분</th>\n",
       "      <th>지번구분명</th>\n",
       "      <th>본번</th>\n",
       "      <th>부번</th>\n",
       "      <th>건물명</th>\n",
       "      <th>...</th>\n",
       "      <th>물건금액(만원)</th>\n",
       "      <th>건물면적(㎡)</th>\n",
       "      <th>토지면적(㎡)</th>\n",
       "      <th>층</th>\n",
       "      <th>권리구분</th>\n",
       "      <th>취소일</th>\n",
       "      <th>건축년도</th>\n",
       "      <th>건물용도</th>\n",
       "      <th>신고구분</th>\n",
       "      <th>신고한 개업공인중개사 시군구명</th>\n",
       "    </tr>\n",
       "  </thead>\n",
       "  <tbody>\n",
       "    <tr>\n",
       "      <th>0</th>\n",
       "      <td>2025</td>\n",
       "      <td>11320</td>\n",
       "      <td>도봉구</td>\n",
       "      <td>10600</td>\n",
       "      <td>방학동</td>\n",
       "      <td>1.0</td>\n",
       "      <td>대지</td>\n",
       "      <td>638.0</td>\n",
       "      <td>10.0</td>\n",
       "      <td>한신빌라(638-10)</td>\n",
       "      <td>...</td>\n",
       "      <td>14800</td>\n",
       "      <td>37.66</td>\n",
       "      <td>16.00</td>\n",
       "      <td>4.0</td>\n",
       "      <td>NaN</td>\n",
       "      <td>NaN</td>\n",
       "      <td>1994.0</td>\n",
       "      <td>연립다세대</td>\n",
       "      <td>중개거래</td>\n",
       "      <td>서울 도봉구</td>\n",
       "    </tr>\n",
       "    <tr>\n",
       "      <th>1</th>\n",
       "      <td>2025</td>\n",
       "      <td>11380</td>\n",
       "      <td>은평구</td>\n",
       "      <td>10800</td>\n",
       "      <td>역촌동</td>\n",
       "      <td>NaN</td>\n",
       "      <td>NaN</td>\n",
       "      <td>NaN</td>\n",
       "      <td>NaN</td>\n",
       "      <td>NaN</td>\n",
       "      <td>...</td>\n",
       "      <td>39620</td>\n",
       "      <td>74.08</td>\n",
       "      <td>182.00</td>\n",
       "      <td>NaN</td>\n",
       "      <td>NaN</td>\n",
       "      <td>NaN</td>\n",
       "      <td>1972.0</td>\n",
       "      <td>단독다가구</td>\n",
       "      <td>직거래</td>\n",
       "      <td>NaN</td>\n",
       "    </tr>\n",
       "    <tr>\n",
       "      <th>2</th>\n",
       "      <td>2025</td>\n",
       "      <td>11500</td>\n",
       "      <td>강서구</td>\n",
       "      <td>10200</td>\n",
       "      <td>등촌동</td>\n",
       "      <td>1.0</td>\n",
       "      <td>대지</td>\n",
       "      <td>628.0</td>\n",
       "      <td>13.0</td>\n",
       "      <td>현대프린스텔</td>\n",
       "      <td>...</td>\n",
       "      <td>10300</td>\n",
       "      <td>26.16</td>\n",
       "      <td>35.71</td>\n",
       "      <td>6.0</td>\n",
       "      <td>NaN</td>\n",
       "      <td>NaN</td>\n",
       "      <td>1999.0</td>\n",
       "      <td>오피스텔</td>\n",
       "      <td>중개거래</td>\n",
       "      <td>서울 강서구</td>\n",
       "    </tr>\n",
       "    <tr>\n",
       "      <th>3</th>\n",
       "      <td>2025</td>\n",
       "      <td>11620</td>\n",
       "      <td>관악구</td>\n",
       "      <td>10200</td>\n",
       "      <td>신림동</td>\n",
       "      <td>1.0</td>\n",
       "      <td>대지</td>\n",
       "      <td>1639.0</td>\n",
       "      <td>51.0</td>\n",
       "      <td>푸리마타운</td>\n",
       "      <td>...</td>\n",
       "      <td>12700</td>\n",
       "      <td>18.70</td>\n",
       "      <td>26.16</td>\n",
       "      <td>8.0</td>\n",
       "      <td>NaN</td>\n",
       "      <td>NaN</td>\n",
       "      <td>2014.0</td>\n",
       "      <td>오피스텔</td>\n",
       "      <td>중개거래</td>\n",
       "      <td>서울 관악구</td>\n",
       "    </tr>\n",
       "    <tr>\n",
       "      <th>4</th>\n",
       "      <td>2025</td>\n",
       "      <td>11530</td>\n",
       "      <td>구로구</td>\n",
       "      <td>10600</td>\n",
       "      <td>고척동</td>\n",
       "      <td>1.0</td>\n",
       "      <td>대지</td>\n",
       "      <td>339.0</td>\n",
       "      <td>0.0</td>\n",
       "      <td>고척파크푸르지오</td>\n",
       "      <td>...</td>\n",
       "      <td>84000</td>\n",
       "      <td>59.89</td>\n",
       "      <td>0.00</td>\n",
       "      <td>9.0</td>\n",
       "      <td>NaN</td>\n",
       "      <td>NaN</td>\n",
       "      <td>2009.0</td>\n",
       "      <td>아파트</td>\n",
       "      <td>중개거래</td>\n",
       "      <td>서울 구로구, 서울 양천구</td>\n",
       "    </tr>\n",
       "  </tbody>\n",
       "</table>\n",
       "<p>5 rows × 21 columns</p>\n",
       "</div>"
      ],
      "text/plain": [
       "   접수연도  자치구코드 자치구명  법정동코드 법정동명  지번구분 지번구분명      본번    부번           건물명  ...  \\\n",
       "0  2025  11320  도봉구  10600  방학동   1.0    대지   638.0  10.0  한신빌라(638-10)  ...   \n",
       "1  2025  11380  은평구  10800  역촌동   NaN   NaN     NaN   NaN           NaN  ...   \n",
       "2  2025  11500  강서구  10200  등촌동   1.0    대지   628.0  13.0        현대프린스텔  ...   \n",
       "3  2025  11620  관악구  10200  신림동   1.0    대지  1639.0  51.0         푸리마타운  ...   \n",
       "4  2025  11530  구로구  10600  고척동   1.0    대지   339.0   0.0      고척파크푸르지오  ...   \n",
       "\n",
       "   물건금액(만원)  건물면적(㎡)  토지면적(㎡)    층  권리구분 취소일    건축년도   건물용도  신고구분  \\\n",
       "0     14800    37.66    16.00  4.0   NaN NaN  1994.0  연립다세대  중개거래   \n",
       "1     39620    74.08   182.00  NaN   NaN NaN  1972.0  단독다가구   직거래   \n",
       "2     10300    26.16    35.71  6.0   NaN NaN  1999.0   오피스텔  중개거래   \n",
       "3     12700    18.70    26.16  8.0   NaN NaN  2014.0   오피스텔  중개거래   \n",
       "4     84000    59.89     0.00  9.0   NaN NaN  2009.0    아파트  중개거래   \n",
       "\n",
       "  신고한 개업공인중개사 시군구명  \n",
       "0           서울 도봉구  \n",
       "1              NaN  \n",
       "2           서울 강서구  \n",
       "3           서울 관악구  \n",
       "4   서울 구로구, 서울 양천구  \n",
       "\n",
       "[5 rows x 21 columns]"
      ]
     },
     "execution_count": 449,
     "metadata": {},
     "output_type": "execute_result"
    }
   ],
   "source": [
    "df.head()"
   ]
  },
  {
   "cell_type": "code",
   "execution_count": 450,
   "metadata": {},
   "outputs": [
    {
     "data": {
      "text/plain": [
       "Index(['접수연도', '자치구코드', '자치구명', '법정동코드', '법정동명', '지번구분', '지번구분명', '본번', '부번',\n",
       "       '건물명', '계약일', '물건금액(만원)', '건물면적(㎡)', '토지면적(㎡)', '층', '권리구분', '취소일',\n",
       "       '건축년도', '건물용도', '신고구분', '신고한 개업공인중개사 시군구명'],\n",
       "      dtype='object')"
      ]
     },
     "execution_count": 450,
     "metadata": {},
     "output_type": "execute_result"
    }
   ],
   "source": [
    "df.columns"
   ]
  },
  {
   "cell_type": "markdown",
   "metadata": {},
   "source": [
    "## Null 값 확인"
   ]
  },
  {
   "cell_type": "code",
   "execution_count": 451,
   "metadata": {},
   "outputs": [
    {
     "data": {
      "text/plain": [
       "접수연도                     0\n",
       "자치구코드                    0\n",
       "자치구명                     1\n",
       "법정동코드                    0\n",
       "법정동명                     0\n",
       "지번구분                 11118\n",
       "지번구분명                11118\n",
       "본번                   11116\n",
       "부번                   11116\n",
       "건물명                  11136\n",
       "계약일                      0\n",
       "물건금액(만원)                 0\n",
       "건물면적(㎡)                  0\n",
       "토지면적(㎡)               5151\n",
       "층                    11094\n",
       "권리구분                233945\n",
       "취소일                 223159\n",
       "건축년도                  1236\n",
       "건물용도                     0\n",
       "신고구분                   238\n",
       "신고한 개업공인중개사 시군구명     41877\n",
       "dtype: int64"
      ]
     },
     "execution_count": 451,
     "metadata": {},
     "output_type": "execute_result"
    }
   ],
   "source": [
    "df.isnull().sum()"
   ]
  },
  {
   "cell_type": "markdown",
   "metadata": {},
   "source": [
    "### 접수연도"
   ]
  },
  {
   "cell_type": "code",
   "execution_count": 452,
   "metadata": {},
   "outputs": [
    {
     "data": {
      "text/plain": [
       "array([2025, 2024, 2023, 2022])"
      ]
     },
     "execution_count": 452,
     "metadata": {},
     "output_type": "execute_result"
    }
   ],
   "source": [
    "df['접수연도'].unique()"
   ]
  },
  {
   "cell_type": "markdown",
   "metadata": {},
   "source": [
    "### 자치구명 & 법정동명"
   ]
  },
  {
   "cell_type": "code",
   "execution_count": 453,
   "metadata": {},
   "outputs": [
    {
     "data": {
      "text/html": [
       "<div>\n",
       "<style scoped>\n",
       "    .dataframe tbody tr th:only-of-type {\n",
       "        vertical-align: middle;\n",
       "    }\n",
       "\n",
       "    .dataframe tbody tr th {\n",
       "        vertical-align: top;\n",
       "    }\n",
       "\n",
       "    .dataframe thead th {\n",
       "        text-align: right;\n",
       "    }\n",
       "</style>\n",
       "<table border=\"1\" class=\"dataframe\">\n",
       "  <thead>\n",
       "    <tr style=\"text-align: right;\">\n",
       "      <th></th>\n",
       "      <th>접수연도</th>\n",
       "      <th>자치구코드</th>\n",
       "      <th>자치구명</th>\n",
       "      <th>법정동코드</th>\n",
       "      <th>법정동명</th>\n",
       "      <th>지번구분</th>\n",
       "      <th>지번구분명</th>\n",
       "      <th>본번</th>\n",
       "      <th>부번</th>\n",
       "      <th>건물명</th>\n",
       "      <th>...</th>\n",
       "      <th>물건금액(만원)</th>\n",
       "      <th>건물면적(㎡)</th>\n",
       "      <th>토지면적(㎡)</th>\n",
       "      <th>층</th>\n",
       "      <th>권리구분</th>\n",
       "      <th>취소일</th>\n",
       "      <th>건축년도</th>\n",
       "      <th>건물용도</th>\n",
       "      <th>신고구분</th>\n",
       "      <th>신고한 개업공인중개사 시군구명</th>\n",
       "    </tr>\n",
       "  </thead>\n",
       "  <tbody>\n",
       "    <tr>\n",
       "      <th>95928</th>\n",
       "      <td>2024</td>\n",
       "      <td>26230</td>\n",
       "      <td>NaN</td>\n",
       "      <td>10100</td>\n",
       "      <td>미아동</td>\n",
       "      <td>1.0</td>\n",
       "      <td>대지</td>\n",
       "      <td></td>\n",
       "      <td></td>\n",
       "      <td>2020년 2차 행복주택 입주자 모집</td>\n",
       "      <td>...</td>\n",
       "      <td>42450</td>\n",
       "      <td>72.13</td>\n",
       "      <td>0.0</td>\n",
       "      <td>5.0</td>\n",
       "      <td>분양권</td>\n",
       "      <td>NaN</td>\n",
       "      <td>0.0</td>\n",
       "      <td>아파트</td>\n",
       "      <td>중개거래</td>\n",
       "      <td>부산 부산진구</td>\n",
       "    </tr>\n",
       "  </tbody>\n",
       "</table>\n",
       "<p>1 rows × 21 columns</p>\n",
       "</div>"
      ],
      "text/plain": [
       "       접수연도  자치구코드 자치구명  법정동코드 법정동명  지번구분 지번구분명    본번    부번  \\\n",
       "95928  2024  26230  NaN  10100  미아동   1.0    대지               \n",
       "\n",
       "                        건물명  ...  물건금액(만원)  건물면적(㎡)  토지면적(㎡)    층  권리구분 취소일  \\\n",
       "95928  2020년 2차 행복주택 입주자 모집  ...     42450    72.13      0.0  5.0   분양권 NaN   \n",
       "\n",
       "       건축년도  건물용도  신고구분 신고한 개업공인중개사 시군구명  \n",
       "95928   0.0   아파트  중개거래          부산 부산진구  \n",
       "\n",
       "[1 rows x 21 columns]"
      ]
     },
     "execution_count": 453,
     "metadata": {},
     "output_type": "execute_result"
    }
   ],
   "source": [
    "# '자치구명'이 Null(NaN)인 행만 필터링\n",
    "null_values = df[df['자치구명'].isnull()]\n",
    "\n",
    "# 결과 출력\n",
    "null_values"
   ]
  },
  {
   "cell_type": "code",
   "execution_count": 454,
   "metadata": {},
   "outputs": [
    {
     "data": {
      "text/html": [
       "<div>\n",
       "<style scoped>\n",
       "    .dataframe tbody tr th:only-of-type {\n",
       "        vertical-align: middle;\n",
       "    }\n",
       "\n",
       "    .dataframe tbody tr th {\n",
       "        vertical-align: top;\n",
       "    }\n",
       "\n",
       "    .dataframe thead th {\n",
       "        text-align: right;\n",
       "    }\n",
       "</style>\n",
       "<table border=\"1\" class=\"dataframe\">\n",
       "  <thead>\n",
       "    <tr style=\"text-align: right;\">\n",
       "      <th></th>\n",
       "      <th>접수연도</th>\n",
       "      <th>자치구코드</th>\n",
       "      <th>자치구명</th>\n",
       "      <th>법정동코드</th>\n",
       "      <th>법정동명</th>\n",
       "      <th>지번구분</th>\n",
       "      <th>지번구분명</th>\n",
       "      <th>본번</th>\n",
       "      <th>부번</th>\n",
       "      <th>건물명</th>\n",
       "      <th>...</th>\n",
       "      <th>물건금액(만원)</th>\n",
       "      <th>건물면적(㎡)</th>\n",
       "      <th>토지면적(㎡)</th>\n",
       "      <th>층</th>\n",
       "      <th>권리구분</th>\n",
       "      <th>취소일</th>\n",
       "      <th>건축년도</th>\n",
       "      <th>건물용도</th>\n",
       "      <th>신고구분</th>\n",
       "      <th>신고한 개업공인중개사 시군구명</th>\n",
       "    </tr>\n",
       "  </thead>\n",
       "  <tbody>\n",
       "    <tr>\n",
       "      <th>95928</th>\n",
       "      <td>2024</td>\n",
       "      <td>26230</td>\n",
       "      <td>NaN</td>\n",
       "      <td>10100</td>\n",
       "      <td>미아동</td>\n",
       "      <td>1.0</td>\n",
       "      <td>대지</td>\n",
       "      <td></td>\n",
       "      <td></td>\n",
       "      <td>2020년 2차 행복주택 입주자 모집</td>\n",
       "      <td>...</td>\n",
       "      <td>42450</td>\n",
       "      <td>72.13</td>\n",
       "      <td>0.0</td>\n",
       "      <td>5.0</td>\n",
       "      <td>분양권</td>\n",
       "      <td>NaN</td>\n",
       "      <td>0.0</td>\n",
       "      <td>아파트</td>\n",
       "      <td>중개거래</td>\n",
       "      <td>부산 부산진구</td>\n",
       "    </tr>\n",
       "  </tbody>\n",
       "</table>\n",
       "<p>1 rows × 21 columns</p>\n",
       "</div>"
      ],
      "text/plain": [
       "       접수연도  자치구코드 자치구명  법정동코드 법정동명  지번구분 지번구분명    본번    부번  \\\n",
       "95928  2024  26230  NaN  10100  미아동   1.0    대지               \n",
       "\n",
       "                        건물명  ...  물건금액(만원)  건물면적(㎡)  토지면적(㎡)    층  권리구분 취소일  \\\n",
       "95928  2020년 2차 행복주택 입주자 모집  ...     42450    72.13      0.0  5.0   분양권 NaN   \n",
       "\n",
       "       건축년도  건물용도  신고구분 신고한 개업공인중개사 시군구명  \n",
       "95928   0.0   아파트  중개거래          부산 부산진구  \n",
       "\n",
       "[1 rows x 21 columns]"
      ]
     },
     "execution_count": 454,
     "metadata": {},
     "output_type": "execute_result"
    }
   ],
   "source": [
    "df[df['자치구코드'] == 26230]"
   ]
  },
  {
   "cell_type": "code",
   "execution_count": 455,
   "metadata": {},
   "outputs": [
    {
     "data": {
      "text/html": [
       "<div>\n",
       "<style scoped>\n",
       "    .dataframe tbody tr th:only-of-type {\n",
       "        vertical-align: middle;\n",
       "    }\n",
       "\n",
       "    .dataframe tbody tr th {\n",
       "        vertical-align: top;\n",
       "    }\n",
       "\n",
       "    .dataframe thead th {\n",
       "        text-align: right;\n",
       "    }\n",
       "</style>\n",
       "<table border=\"1\" class=\"dataframe\">\n",
       "  <thead>\n",
       "    <tr style=\"text-align: right;\">\n",
       "      <th></th>\n",
       "      <th>접수연도</th>\n",
       "      <th>자치구코드</th>\n",
       "      <th>자치구명</th>\n",
       "      <th>법정동코드</th>\n",
       "      <th>법정동명</th>\n",
       "      <th>지번구분</th>\n",
       "      <th>지번구분명</th>\n",
       "      <th>본번</th>\n",
       "      <th>부번</th>\n",
       "      <th>건물명</th>\n",
       "      <th>...</th>\n",
       "      <th>물건금액(만원)</th>\n",
       "      <th>건물면적(㎡)</th>\n",
       "      <th>토지면적(㎡)</th>\n",
       "      <th>층</th>\n",
       "      <th>권리구분</th>\n",
       "      <th>취소일</th>\n",
       "      <th>건축년도</th>\n",
       "      <th>건물용도</th>\n",
       "      <th>신고구분</th>\n",
       "      <th>신고한 개업공인중개사 시군구명</th>\n",
       "    </tr>\n",
       "  </thead>\n",
       "  <tbody>\n",
       "    <tr>\n",
       "      <th>289</th>\n",
       "      <td>2025</td>\n",
       "      <td>11305</td>\n",
       "      <td>강북구</td>\n",
       "      <td>10100</td>\n",
       "      <td>미아동</td>\n",
       "      <td>1.0</td>\n",
       "      <td>대지</td>\n",
       "      <td>130.0</td>\n",
       "      <td>87.0</td>\n",
       "      <td>삼운빌라3차</td>\n",
       "      <td>...</td>\n",
       "      <td>17000</td>\n",
       "      <td>43.800</td>\n",
       "      <td>22.0</td>\n",
       "      <td>-1.0</td>\n",
       "      <td>NaN</td>\n",
       "      <td>NaN</td>\n",
       "      <td>1994.0</td>\n",
       "      <td>연립다세대</td>\n",
       "      <td>직거래</td>\n",
       "      <td>NaN</td>\n",
       "    </tr>\n",
       "    <tr>\n",
       "      <th>393</th>\n",
       "      <td>2025</td>\n",
       "      <td>11305</td>\n",
       "      <td>강북구</td>\n",
       "      <td>10100</td>\n",
       "      <td>미아동</td>\n",
       "      <td>1.0</td>\n",
       "      <td>대지</td>\n",
       "      <td>1353.0</td>\n",
       "      <td>0.0</td>\n",
       "      <td>에스케이북한산시티</td>\n",
       "      <td>...</td>\n",
       "      <td>74000</td>\n",
       "      <td>84.760</td>\n",
       "      <td>0.0</td>\n",
       "      <td>17.0</td>\n",
       "      <td>NaN</td>\n",
       "      <td>NaN</td>\n",
       "      <td>2004.0</td>\n",
       "      <td>아파트</td>\n",
       "      <td>중개거래</td>\n",
       "      <td>서울 강북구</td>\n",
       "    </tr>\n",
       "    <tr>\n",
       "      <th>400</th>\n",
       "      <td>2025</td>\n",
       "      <td>11305</td>\n",
       "      <td>강북구</td>\n",
       "      <td>10100</td>\n",
       "      <td>미아동</td>\n",
       "      <td>1.0</td>\n",
       "      <td>대지</td>\n",
       "      <td>1353.0</td>\n",
       "      <td>0.0</td>\n",
       "      <td>에스케이북한산시티</td>\n",
       "      <td>...</td>\n",
       "      <td>58000</td>\n",
       "      <td>59.980</td>\n",
       "      <td>0.0</td>\n",
       "      <td>6.0</td>\n",
       "      <td>NaN</td>\n",
       "      <td>NaN</td>\n",
       "      <td>2004.0</td>\n",
       "      <td>아파트</td>\n",
       "      <td>중개거래</td>\n",
       "      <td>서울 강북구</td>\n",
       "    </tr>\n",
       "    <tr>\n",
       "      <th>401</th>\n",
       "      <td>2025</td>\n",
       "      <td>11305</td>\n",
       "      <td>강북구</td>\n",
       "      <td>10100</td>\n",
       "      <td>미아동</td>\n",
       "      <td>1.0</td>\n",
       "      <td>대지</td>\n",
       "      <td>308.0</td>\n",
       "      <td>11.0</td>\n",
       "      <td>은혜쉐르빌</td>\n",
       "      <td>...</td>\n",
       "      <td>23750</td>\n",
       "      <td>39.630</td>\n",
       "      <td>24.0</td>\n",
       "      <td>3.0</td>\n",
       "      <td>NaN</td>\n",
       "      <td>NaN</td>\n",
       "      <td>2016.0</td>\n",
       "      <td>연립다세대</td>\n",
       "      <td>중개거래</td>\n",
       "      <td>서울 강북구</td>\n",
       "    </tr>\n",
       "    <tr>\n",
       "      <th>562</th>\n",
       "      <td>2025</td>\n",
       "      <td>11305</td>\n",
       "      <td>강북구</td>\n",
       "      <td>10100</td>\n",
       "      <td>미아동</td>\n",
       "      <td>1.0</td>\n",
       "      <td>대지</td>\n",
       "      <td>1356.0</td>\n",
       "      <td>0.0</td>\n",
       "      <td>경남아너스빌(1356-0)</td>\n",
       "      <td>...</td>\n",
       "      <td>63000</td>\n",
       "      <td>59.964</td>\n",
       "      <td>0.0</td>\n",
       "      <td>19.0</td>\n",
       "      <td>NaN</td>\n",
       "      <td>NaN</td>\n",
       "      <td>2003.0</td>\n",
       "      <td>아파트</td>\n",
       "      <td>중개거래</td>\n",
       "      <td>서울 강북구</td>\n",
       "    </tr>\n",
       "  </tbody>\n",
       "</table>\n",
       "<p>5 rows × 21 columns</p>\n",
       "</div>"
      ],
      "text/plain": [
       "     접수연도  자치구코드 자치구명  법정동코드 법정동명  지번구분 지번구분명      본번    부번             건물명  \\\n",
       "289  2025  11305  강북구  10100  미아동   1.0    대지   130.0  87.0          삼운빌라3차   \n",
       "393  2025  11305  강북구  10100  미아동   1.0    대지  1353.0   0.0       에스케이북한산시티   \n",
       "400  2025  11305  강북구  10100  미아동   1.0    대지  1353.0   0.0       에스케이북한산시티   \n",
       "401  2025  11305  강북구  10100  미아동   1.0    대지   308.0  11.0           은혜쉐르빌   \n",
       "562  2025  11305  강북구  10100  미아동   1.0    대지  1356.0   0.0  경남아너스빌(1356-0)   \n",
       "\n",
       "     ...  물건금액(만원)  건물면적(㎡)  토지면적(㎡)     층  권리구분 취소일    건축년도   건물용도  신고구분  \\\n",
       "289  ...     17000   43.800     22.0  -1.0   NaN NaN  1994.0  연립다세대   직거래   \n",
       "393  ...     74000   84.760      0.0  17.0   NaN NaN  2004.0    아파트  중개거래   \n",
       "400  ...     58000   59.980      0.0   6.0   NaN NaN  2004.0    아파트  중개거래   \n",
       "401  ...     23750   39.630     24.0   3.0   NaN NaN  2016.0  연립다세대  중개거래   \n",
       "562  ...     63000   59.964      0.0  19.0   NaN NaN  2003.0    아파트  중개거래   \n",
       "\n",
       "    신고한 개업공인중개사 시군구명  \n",
       "289              NaN  \n",
       "393           서울 강북구  \n",
       "400           서울 강북구  \n",
       "401           서울 강북구  \n",
       "562           서울 강북구  \n",
       "\n",
       "[5 rows x 21 columns]"
      ]
     },
     "execution_count": 455,
     "metadata": {},
     "output_type": "execute_result"
    }
   ],
   "source": [
    "df[df['법정동명']=='미아동'].head()"
   ]
  },
  {
   "cell_type": "code",
   "execution_count": 456,
   "metadata": {},
   "outputs": [],
   "source": [
    "df.drop(df[df['자치구코드'] == 26230].index, inplace=True)"
   ]
  },
  {
   "cell_type": "code",
   "execution_count": 457,
   "metadata": {},
   "outputs": [
    {
     "data": {
      "text/html": [
       "<div>\n",
       "<style scoped>\n",
       "    .dataframe tbody tr th:only-of-type {\n",
       "        vertical-align: middle;\n",
       "    }\n",
       "\n",
       "    .dataframe tbody tr th {\n",
       "        vertical-align: top;\n",
       "    }\n",
       "\n",
       "    .dataframe thead th {\n",
       "        text-align: right;\n",
       "    }\n",
       "</style>\n",
       "<table border=\"1\" class=\"dataframe\">\n",
       "  <thead>\n",
       "    <tr style=\"text-align: right;\">\n",
       "      <th></th>\n",
       "      <th>접수연도</th>\n",
       "      <th>자치구코드</th>\n",
       "      <th>자치구명</th>\n",
       "      <th>법정동코드</th>\n",
       "      <th>법정동명</th>\n",
       "      <th>지번구분</th>\n",
       "      <th>지번구분명</th>\n",
       "      <th>본번</th>\n",
       "      <th>부번</th>\n",
       "      <th>건물명</th>\n",
       "      <th>...</th>\n",
       "      <th>물건금액(만원)</th>\n",
       "      <th>건물면적(㎡)</th>\n",
       "      <th>토지면적(㎡)</th>\n",
       "      <th>층</th>\n",
       "      <th>권리구분</th>\n",
       "      <th>취소일</th>\n",
       "      <th>건축년도</th>\n",
       "      <th>건물용도</th>\n",
       "      <th>신고구분</th>\n",
       "      <th>신고한 개업공인중개사 시군구명</th>\n",
       "    </tr>\n",
       "  </thead>\n",
       "  <tbody>\n",
       "  </tbody>\n",
       "</table>\n",
       "<p>0 rows × 21 columns</p>\n",
       "</div>"
      ],
      "text/plain": [
       "Empty DataFrame\n",
       "Columns: [접수연도, 자치구코드, 자치구명, 법정동코드, 법정동명, 지번구분, 지번구분명, 본번, 부번, 건물명, 계약일, 물건금액(만원), 건물면적(㎡), 토지면적(㎡), 층, 권리구분, 취소일, 건축년도, 건물용도, 신고구분, 신고한 개업공인중개사 시군구명]\n",
       "Index: []\n",
       "\n",
       "[0 rows x 21 columns]"
      ]
     },
     "execution_count": 457,
     "metadata": {},
     "output_type": "execute_result"
    }
   ],
   "source": [
    "df[df['자치구코드'] == 26230]"
   ]
  },
  {
   "cell_type": "markdown",
   "metadata": {},
   "source": [
    "- 자치구명 null값(1개) 확인해보니 자치구코드는 26230(부산), 법정동명은 미아동이라서 잘못된 데이터로 판단, 해당 행 제거"
   ]
  },
  {
   "cell_type": "markdown",
   "metadata": {},
   "source": [
    "### 지번구분"
   ]
  },
  {
   "cell_type": "code",
   "execution_count": 458,
   "metadata": {},
   "outputs": [
    {
     "data": {
      "text/plain": [
       "지번구분\n",
       "1.0    224209\n",
       "3.0       292\n",
       "2.0        51\n",
       "Name: count, dtype: int64"
      ]
     },
     "execution_count": 458,
     "metadata": {},
     "output_type": "execute_result"
    }
   ],
   "source": [
    "# 지번 구분 확인\n",
    "df['지번구분'].value_counts()"
   ]
  },
  {
   "cell_type": "code",
   "execution_count": 459,
   "metadata": {},
   "outputs": [
    {
     "data": {
      "text/plain": [
       "지번구분명\n",
       "대지    224209\n",
       "블럭       292\n",
       "산         51\n",
       "Name: count, dtype: int64"
      ]
     },
     "execution_count": 459,
     "metadata": {},
     "output_type": "execute_result"
    }
   ],
   "source": [
    "# 지번 구분명 확인\n",
    "df['지번구분명'].value_counts()"
   ]
  },
  {
   "cell_type": "code",
   "execution_count": 460,
   "metadata": {},
   "outputs": [],
   "source": [
    "null_values = df[df['지번구분'].isnull()]"
   ]
  },
  {
   "cell_type": "code",
   "execution_count": 461,
   "metadata": {},
   "outputs": [
    {
     "data": {
      "text/html": [
       "<div>\n",
       "<style scoped>\n",
       "    .dataframe tbody tr th:only-of-type {\n",
       "        vertical-align: middle;\n",
       "    }\n",
       "\n",
       "    .dataframe tbody tr th {\n",
       "        vertical-align: top;\n",
       "    }\n",
       "\n",
       "    .dataframe thead th {\n",
       "        text-align: right;\n",
       "    }\n",
       "</style>\n",
       "<table border=\"1\" class=\"dataframe\">\n",
       "  <thead>\n",
       "    <tr style=\"text-align: right;\">\n",
       "      <th></th>\n",
       "      <th>접수연도</th>\n",
       "      <th>자치구코드</th>\n",
       "      <th>자치구명</th>\n",
       "      <th>법정동코드</th>\n",
       "      <th>법정동명</th>\n",
       "      <th>지번구분</th>\n",
       "      <th>지번구분명</th>\n",
       "      <th>본번</th>\n",
       "      <th>부번</th>\n",
       "      <th>건물명</th>\n",
       "      <th>...</th>\n",
       "      <th>물건금액(만원)</th>\n",
       "      <th>건물면적(㎡)</th>\n",
       "      <th>토지면적(㎡)</th>\n",
       "      <th>층</th>\n",
       "      <th>권리구분</th>\n",
       "      <th>취소일</th>\n",
       "      <th>건축년도</th>\n",
       "      <th>건물용도</th>\n",
       "      <th>신고구분</th>\n",
       "      <th>신고한 개업공인중개사 시군구명</th>\n",
       "    </tr>\n",
       "  </thead>\n",
       "  <tbody>\n",
       "    <tr>\n",
       "      <th>1</th>\n",
       "      <td>2025</td>\n",
       "      <td>11380</td>\n",
       "      <td>은평구</td>\n",
       "      <td>10800</td>\n",
       "      <td>역촌동</td>\n",
       "      <td>NaN</td>\n",
       "      <td>NaN</td>\n",
       "      <td>NaN</td>\n",
       "      <td>NaN</td>\n",
       "      <td>NaN</td>\n",
       "      <td>...</td>\n",
       "      <td>39620</td>\n",
       "      <td>74.08</td>\n",
       "      <td>182.0</td>\n",
       "      <td>NaN</td>\n",
       "      <td>NaN</td>\n",
       "      <td>NaN</td>\n",
       "      <td>1972.0</td>\n",
       "      <td>단독다가구</td>\n",
       "      <td>직거래</td>\n",
       "      <td>NaN</td>\n",
       "    </tr>\n",
       "    <tr>\n",
       "      <th>55</th>\n",
       "      <td>2025</td>\n",
       "      <td>11290</td>\n",
       "      <td>성북구</td>\n",
       "      <td>13300</td>\n",
       "      <td>정릉동</td>\n",
       "      <td>NaN</td>\n",
       "      <td>NaN</td>\n",
       "      <td>NaN</td>\n",
       "      <td>NaN</td>\n",
       "      <td>NaN</td>\n",
       "      <td>...</td>\n",
       "      <td>41163</td>\n",
       "      <td>85.90</td>\n",
       "      <td>110.0</td>\n",
       "      <td>NaN</td>\n",
       "      <td>NaN</td>\n",
       "      <td>NaN</td>\n",
       "      <td>1985.0</td>\n",
       "      <td>단독다가구</td>\n",
       "      <td>중개거래</td>\n",
       "      <td>서울 성북구</td>\n",
       "    </tr>\n",
       "    <tr>\n",
       "      <th>91</th>\n",
       "      <td>2025</td>\n",
       "      <td>11560</td>\n",
       "      <td>영등포구</td>\n",
       "      <td>13200</td>\n",
       "      <td>신길동</td>\n",
       "      <td>NaN</td>\n",
       "      <td>NaN</td>\n",
       "      <td>NaN</td>\n",
       "      <td>NaN</td>\n",
       "      <td>NaN</td>\n",
       "      <td>...</td>\n",
       "      <td>80000</td>\n",
       "      <td>123.45</td>\n",
       "      <td>83.0</td>\n",
       "      <td>NaN</td>\n",
       "      <td>NaN</td>\n",
       "      <td>NaN</td>\n",
       "      <td>1992.0</td>\n",
       "      <td>단독다가구</td>\n",
       "      <td>직거래</td>\n",
       "      <td>NaN</td>\n",
       "    </tr>\n",
       "    <tr>\n",
       "      <th>264</th>\n",
       "      <td>2025</td>\n",
       "      <td>11410</td>\n",
       "      <td>서대문구</td>\n",
       "      <td>11000</td>\n",
       "      <td>북아현동</td>\n",
       "      <td>NaN</td>\n",
       "      <td>NaN</td>\n",
       "      <td>NaN</td>\n",
       "      <td>NaN</td>\n",
       "      <td>NaN</td>\n",
       "      <td>...</td>\n",
       "      <td>97180</td>\n",
       "      <td>26.45</td>\n",
       "      <td>59.0</td>\n",
       "      <td>NaN</td>\n",
       "      <td>NaN</td>\n",
       "      <td>NaN</td>\n",
       "      <td>1941.0</td>\n",
       "      <td>단독다가구</td>\n",
       "      <td>중개거래</td>\n",
       "      <td>서울 마포구, 서울 서대문구</td>\n",
       "    </tr>\n",
       "    <tr>\n",
       "      <th>433</th>\n",
       "      <td>2025</td>\n",
       "      <td>11320</td>\n",
       "      <td>도봉구</td>\n",
       "      <td>10600</td>\n",
       "      <td>방학동</td>\n",
       "      <td>NaN</td>\n",
       "      <td>NaN</td>\n",
       "      <td>NaN</td>\n",
       "      <td>NaN</td>\n",
       "      <td>NaN</td>\n",
       "      <td>...</td>\n",
       "      <td>34000</td>\n",
       "      <td>68.02</td>\n",
       "      <td>99.0</td>\n",
       "      <td>NaN</td>\n",
       "      <td>NaN</td>\n",
       "      <td>NaN</td>\n",
       "      <td>1985.0</td>\n",
       "      <td>단독다가구</td>\n",
       "      <td>중개거래</td>\n",
       "      <td>서울 도봉구</td>\n",
       "    </tr>\n",
       "  </tbody>\n",
       "</table>\n",
       "<p>5 rows × 21 columns</p>\n",
       "</div>"
      ],
      "text/plain": [
       "     접수연도  자치구코드  자치구명  법정동코드  법정동명  지번구분 지번구분명   본번   부번  건물명  ...  물건금액(만원)  \\\n",
       "1    2025  11380   은평구  10800   역촌동   NaN   NaN  NaN  NaN  NaN  ...     39620   \n",
       "55   2025  11290   성북구  13300   정릉동   NaN   NaN  NaN  NaN  NaN  ...     41163   \n",
       "91   2025  11560  영등포구  13200   신길동   NaN   NaN  NaN  NaN  NaN  ...     80000   \n",
       "264  2025  11410  서대문구  11000  북아현동   NaN   NaN  NaN  NaN  NaN  ...     97180   \n",
       "433  2025  11320   도봉구  10600   방학동   NaN   NaN  NaN  NaN  NaN  ...     34000   \n",
       "\n",
       "     건물면적(㎡)  토지면적(㎡)   층  권리구분 취소일    건축년도   건물용도  신고구분 신고한 개업공인중개사 시군구명  \n",
       "1      74.08    182.0 NaN   NaN NaN  1972.0  단독다가구   직거래              NaN  \n",
       "55     85.90    110.0 NaN   NaN NaN  1985.0  단독다가구  중개거래           서울 성북구  \n",
       "91    123.45     83.0 NaN   NaN NaN  1992.0  단독다가구   직거래              NaN  \n",
       "264    26.45     59.0 NaN   NaN NaN  1941.0  단독다가구  중개거래  서울 마포구, 서울 서대문구  \n",
       "433    68.02     99.0 NaN   NaN NaN  1985.0  단독다가구  중개거래           서울 도봉구  \n",
       "\n",
       "[5 rows x 21 columns]"
      ]
     },
     "execution_count": 461,
     "metadata": {},
     "output_type": "execute_result"
    }
   ],
   "source": [
    "null_values.head()"
   ]
  },
  {
   "cell_type": "markdown",
   "metadata": {},
   "source": [
    "- 대지, 블럭, 산 > 지번구분/지번구분명 삭제 (이유는 나중에)"
   ]
  },
  {
   "cell_type": "code",
   "execution_count": 462,
   "metadata": {},
   "outputs": [
    {
     "data": {
      "text/html": [
       "<div>\n",
       "<style scoped>\n",
       "    .dataframe tbody tr th:only-of-type {\n",
       "        vertical-align: middle;\n",
       "    }\n",
       "\n",
       "    .dataframe tbody tr th {\n",
       "        vertical-align: top;\n",
       "    }\n",
       "\n",
       "    .dataframe thead th {\n",
       "        text-align: right;\n",
       "    }\n",
       "</style>\n",
       "<table border=\"1\" class=\"dataframe\">\n",
       "  <thead>\n",
       "    <tr style=\"text-align: right;\">\n",
       "      <th></th>\n",
       "      <th>접수연도</th>\n",
       "      <th>자치구명</th>\n",
       "      <th>법정동명</th>\n",
       "      <th>본번</th>\n",
       "      <th>부번</th>\n",
       "      <th>건물명</th>\n",
       "      <th>계약일</th>\n",
       "      <th>물건금액(만원)</th>\n",
       "      <th>건물면적(㎡)</th>\n",
       "      <th>토지면적(㎡)</th>\n",
       "      <th>층</th>\n",
       "      <th>권리구분</th>\n",
       "      <th>취소일</th>\n",
       "      <th>건축년도</th>\n",
       "      <th>건물용도</th>\n",
       "      <th>신고구분</th>\n",
       "      <th>신고한 개업공인중개사 시군구명</th>\n",
       "    </tr>\n",
       "  </thead>\n",
       "  <tbody>\n",
       "    <tr>\n",
       "      <th>0</th>\n",
       "      <td>2025</td>\n",
       "      <td>도봉구</td>\n",
       "      <td>방학동</td>\n",
       "      <td>638.0</td>\n",
       "      <td>10.0</td>\n",
       "      <td>한신빌라(638-10)</td>\n",
       "      <td>20250117</td>\n",
       "      <td>14800</td>\n",
       "      <td>37.66</td>\n",
       "      <td>16.00</td>\n",
       "      <td>4.0</td>\n",
       "      <td>NaN</td>\n",
       "      <td>NaN</td>\n",
       "      <td>1994.0</td>\n",
       "      <td>연립다세대</td>\n",
       "      <td>중개거래</td>\n",
       "      <td>서울 도봉구</td>\n",
       "    </tr>\n",
       "    <tr>\n",
       "      <th>1</th>\n",
       "      <td>2025</td>\n",
       "      <td>은평구</td>\n",
       "      <td>역촌동</td>\n",
       "      <td>NaN</td>\n",
       "      <td>NaN</td>\n",
       "      <td>NaN</td>\n",
       "      <td>20250117</td>\n",
       "      <td>39620</td>\n",
       "      <td>74.08</td>\n",
       "      <td>182.00</td>\n",
       "      <td>NaN</td>\n",
       "      <td>NaN</td>\n",
       "      <td>NaN</td>\n",
       "      <td>1972.0</td>\n",
       "      <td>단독다가구</td>\n",
       "      <td>직거래</td>\n",
       "      <td>NaN</td>\n",
       "    </tr>\n",
       "    <tr>\n",
       "      <th>2</th>\n",
       "      <td>2025</td>\n",
       "      <td>강서구</td>\n",
       "      <td>등촌동</td>\n",
       "      <td>628.0</td>\n",
       "      <td>13.0</td>\n",
       "      <td>현대프린스텔</td>\n",
       "      <td>20250117</td>\n",
       "      <td>10300</td>\n",
       "      <td>26.16</td>\n",
       "      <td>35.71</td>\n",
       "      <td>6.0</td>\n",
       "      <td>NaN</td>\n",
       "      <td>NaN</td>\n",
       "      <td>1999.0</td>\n",
       "      <td>오피스텔</td>\n",
       "      <td>중개거래</td>\n",
       "      <td>서울 강서구</td>\n",
       "    </tr>\n",
       "    <tr>\n",
       "      <th>3</th>\n",
       "      <td>2025</td>\n",
       "      <td>관악구</td>\n",
       "      <td>신림동</td>\n",
       "      <td>1639.0</td>\n",
       "      <td>51.0</td>\n",
       "      <td>푸리마타운</td>\n",
       "      <td>20250117</td>\n",
       "      <td>12700</td>\n",
       "      <td>18.70</td>\n",
       "      <td>26.16</td>\n",
       "      <td>8.0</td>\n",
       "      <td>NaN</td>\n",
       "      <td>NaN</td>\n",
       "      <td>2014.0</td>\n",
       "      <td>오피스텔</td>\n",
       "      <td>중개거래</td>\n",
       "      <td>서울 관악구</td>\n",
       "    </tr>\n",
       "    <tr>\n",
       "      <th>4</th>\n",
       "      <td>2025</td>\n",
       "      <td>구로구</td>\n",
       "      <td>고척동</td>\n",
       "      <td>339.0</td>\n",
       "      <td>0.0</td>\n",
       "      <td>고척파크푸르지오</td>\n",
       "      <td>20250117</td>\n",
       "      <td>84000</td>\n",
       "      <td>59.89</td>\n",
       "      <td>0.00</td>\n",
       "      <td>9.0</td>\n",
       "      <td>NaN</td>\n",
       "      <td>NaN</td>\n",
       "      <td>2009.0</td>\n",
       "      <td>아파트</td>\n",
       "      <td>중개거래</td>\n",
       "      <td>서울 구로구, 서울 양천구</td>\n",
       "    </tr>\n",
       "  </tbody>\n",
       "</table>\n",
       "</div>"
      ],
      "text/plain": [
       "   접수연도 자치구명 법정동명      본번    부번           건물명       계약일  물건금액(만원)  건물면적(㎡)  \\\n",
       "0  2025  도봉구  방학동   638.0  10.0  한신빌라(638-10)  20250117     14800    37.66   \n",
       "1  2025  은평구  역촌동     NaN   NaN           NaN  20250117     39620    74.08   \n",
       "2  2025  강서구  등촌동   628.0  13.0        현대프린스텔  20250117     10300    26.16   \n",
       "3  2025  관악구  신림동  1639.0  51.0         푸리마타운  20250117     12700    18.70   \n",
       "4  2025  구로구  고척동   339.0   0.0      고척파크푸르지오  20250117     84000    59.89   \n",
       "\n",
       "   토지면적(㎡)    층 권리구분  취소일    건축년도   건물용도  신고구분 신고한 개업공인중개사 시군구명  \n",
       "0    16.00  4.0  NaN  NaN  1994.0  연립다세대  중개거래           서울 도봉구  \n",
       "1   182.00  NaN  NaN  NaN  1972.0  단독다가구   직거래              NaN  \n",
       "2    35.71  6.0  NaN  NaN  1999.0   오피스텔  중개거래           서울 강서구  \n",
       "3    26.16  8.0  NaN  NaN  2014.0   오피스텔  중개거래           서울 관악구  \n",
       "4     0.00  9.0  NaN  NaN  2009.0    아파트  중개거래   서울 구로구, 서울 양천구  "
      ]
     },
     "execution_count": 462,
     "metadata": {},
     "output_type": "execute_result"
    }
   ],
   "source": [
    "# 우선 자치구코드, 법정동 코드, 지번구분, 지번구분명 컬럼 제거\n",
    "df_drop = df.drop(columns=['자치구코드', '법정동코드', '지번구분', '지번구분명'])\n",
    "df_drop.head()"
   ]
  },
  {
   "cell_type": "code",
   "execution_count": 463,
   "metadata": {},
   "outputs": [
    {
     "name": "stdout",
     "output_type": "stream",
     "text": [
      "<class 'pandas.core.frame.DataFrame'>\n",
      "Index: 235670 entries, 0 to 235670\n",
      "Data columns (total 17 columns):\n",
      " #   Column            Non-Null Count   Dtype  \n",
      "---  ------            --------------   -----  \n",
      " 0   접수연도              235670 non-null  int64  \n",
      " 1   자치구명              235670 non-null  object \n",
      " 2   법정동명              235670 non-null  object \n",
      " 3   본번                224554 non-null  object \n",
      " 4   부번                224554 non-null  object \n",
      " 5   건물명               224534 non-null  object \n",
      " 6   계약일               235670 non-null  int64  \n",
      " 7   물건금액(만원)          235670 non-null  int64  \n",
      " 8   건물면적(㎡)           235670 non-null  float64\n",
      " 9   토지면적(㎡)           230519 non-null  float64\n",
      " 10  층                 224576 non-null  float64\n",
      " 11  권리구분              1725 non-null    object \n",
      " 12  취소일               12512 non-null   float64\n",
      " 13  건축년도              234434 non-null  float64\n",
      " 14  건물용도              235670 non-null  object \n",
      " 15  신고구분              235432 non-null  object \n",
      " 16  신고한 개업공인중개사 시군구명  193793 non-null  object \n",
      "dtypes: float64(5), int64(3), object(9)\n",
      "memory usage: 32.4+ MB\n"
     ]
    }
   ],
   "source": [
    "df_drop.info()"
   ]
  },
  {
   "cell_type": "code",
   "execution_count": 464,
   "metadata": {},
   "outputs": [
    {
     "data": {
      "text/plain": [
       "접수연도                     0\n",
       "자치구명                     0\n",
       "법정동명                     0\n",
       "본번                   11116\n",
       "부번                   11116\n",
       "건물명                  11136\n",
       "계약일                      0\n",
       "물건금액(만원)                 0\n",
       "건물면적(㎡)                  0\n",
       "토지면적(㎡)               5151\n",
       "층                    11094\n",
       "권리구분                233945\n",
       "취소일                 223158\n",
       "건축년도                  1236\n",
       "건물용도                     0\n",
       "신고구분                   238\n",
       "신고한 개업공인중개사 시군구명     41877\n",
       "dtype: int64"
      ]
     },
     "execution_count": 464,
     "metadata": {},
     "output_type": "execute_result"
    }
   ],
   "source": [
    "df_drop.isnull().sum()"
   ]
  },
  {
   "cell_type": "markdown",
   "metadata": {},
   "source": [
    "### 본번 / 부번"
   ]
  },
  {
   "cell_type": "code",
   "execution_count": 465,
   "metadata": {},
   "outputs": [
    {
     "data": {
      "text/html": [
       "<div>\n",
       "<style scoped>\n",
       "    .dataframe tbody tr th:only-of-type {\n",
       "        vertical-align: middle;\n",
       "    }\n",
       "\n",
       "    .dataframe tbody tr th {\n",
       "        vertical-align: top;\n",
       "    }\n",
       "\n",
       "    .dataframe thead th {\n",
       "        text-align: right;\n",
       "    }\n",
       "</style>\n",
       "<table border=\"1\" class=\"dataframe\">\n",
       "  <thead>\n",
       "    <tr style=\"text-align: right;\">\n",
       "      <th></th>\n",
       "      <th>접수연도</th>\n",
       "      <th>자치구코드</th>\n",
       "      <th>자치구명</th>\n",
       "      <th>법정동코드</th>\n",
       "      <th>법정동명</th>\n",
       "      <th>지번구분</th>\n",
       "      <th>지번구분명</th>\n",
       "      <th>본번</th>\n",
       "      <th>부번</th>\n",
       "      <th>건물명</th>\n",
       "      <th>...</th>\n",
       "      <th>물건금액(만원)</th>\n",
       "      <th>건물면적(㎡)</th>\n",
       "      <th>토지면적(㎡)</th>\n",
       "      <th>층</th>\n",
       "      <th>권리구분</th>\n",
       "      <th>취소일</th>\n",
       "      <th>건축년도</th>\n",
       "      <th>건물용도</th>\n",
       "      <th>신고구분</th>\n",
       "      <th>신고한 개업공인중개사 시군구명</th>\n",
       "    </tr>\n",
       "  </thead>\n",
       "  <tbody>\n",
       "    <tr>\n",
       "      <th>1</th>\n",
       "      <td>2025</td>\n",
       "      <td>11380</td>\n",
       "      <td>은평구</td>\n",
       "      <td>10800</td>\n",
       "      <td>역촌동</td>\n",
       "      <td>NaN</td>\n",
       "      <td>NaN</td>\n",
       "      <td>NaN</td>\n",
       "      <td>NaN</td>\n",
       "      <td>NaN</td>\n",
       "      <td>...</td>\n",
       "      <td>39620</td>\n",
       "      <td>74.08</td>\n",
       "      <td>182.0</td>\n",
       "      <td>NaN</td>\n",
       "      <td>NaN</td>\n",
       "      <td>NaN</td>\n",
       "      <td>1972.0</td>\n",
       "      <td>단독다가구</td>\n",
       "      <td>직거래</td>\n",
       "      <td>NaN</td>\n",
       "    </tr>\n",
       "    <tr>\n",
       "      <th>55</th>\n",
       "      <td>2025</td>\n",
       "      <td>11290</td>\n",
       "      <td>성북구</td>\n",
       "      <td>13300</td>\n",
       "      <td>정릉동</td>\n",
       "      <td>NaN</td>\n",
       "      <td>NaN</td>\n",
       "      <td>NaN</td>\n",
       "      <td>NaN</td>\n",
       "      <td>NaN</td>\n",
       "      <td>...</td>\n",
       "      <td>41163</td>\n",
       "      <td>85.90</td>\n",
       "      <td>110.0</td>\n",
       "      <td>NaN</td>\n",
       "      <td>NaN</td>\n",
       "      <td>NaN</td>\n",
       "      <td>1985.0</td>\n",
       "      <td>단독다가구</td>\n",
       "      <td>중개거래</td>\n",
       "      <td>서울 성북구</td>\n",
       "    </tr>\n",
       "    <tr>\n",
       "      <th>91</th>\n",
       "      <td>2025</td>\n",
       "      <td>11560</td>\n",
       "      <td>영등포구</td>\n",
       "      <td>13200</td>\n",
       "      <td>신길동</td>\n",
       "      <td>NaN</td>\n",
       "      <td>NaN</td>\n",
       "      <td>NaN</td>\n",
       "      <td>NaN</td>\n",
       "      <td>NaN</td>\n",
       "      <td>...</td>\n",
       "      <td>80000</td>\n",
       "      <td>123.45</td>\n",
       "      <td>83.0</td>\n",
       "      <td>NaN</td>\n",
       "      <td>NaN</td>\n",
       "      <td>NaN</td>\n",
       "      <td>1992.0</td>\n",
       "      <td>단독다가구</td>\n",
       "      <td>직거래</td>\n",
       "      <td>NaN</td>\n",
       "    </tr>\n",
       "    <tr>\n",
       "      <th>264</th>\n",
       "      <td>2025</td>\n",
       "      <td>11410</td>\n",
       "      <td>서대문구</td>\n",
       "      <td>11000</td>\n",
       "      <td>북아현동</td>\n",
       "      <td>NaN</td>\n",
       "      <td>NaN</td>\n",
       "      <td>NaN</td>\n",
       "      <td>NaN</td>\n",
       "      <td>NaN</td>\n",
       "      <td>...</td>\n",
       "      <td>97180</td>\n",
       "      <td>26.45</td>\n",
       "      <td>59.0</td>\n",
       "      <td>NaN</td>\n",
       "      <td>NaN</td>\n",
       "      <td>NaN</td>\n",
       "      <td>1941.0</td>\n",
       "      <td>단독다가구</td>\n",
       "      <td>중개거래</td>\n",
       "      <td>서울 마포구, 서울 서대문구</td>\n",
       "    </tr>\n",
       "    <tr>\n",
       "      <th>433</th>\n",
       "      <td>2025</td>\n",
       "      <td>11320</td>\n",
       "      <td>도봉구</td>\n",
       "      <td>10600</td>\n",
       "      <td>방학동</td>\n",
       "      <td>NaN</td>\n",
       "      <td>NaN</td>\n",
       "      <td>NaN</td>\n",
       "      <td>NaN</td>\n",
       "      <td>NaN</td>\n",
       "      <td>...</td>\n",
       "      <td>34000</td>\n",
       "      <td>68.02</td>\n",
       "      <td>99.0</td>\n",
       "      <td>NaN</td>\n",
       "      <td>NaN</td>\n",
       "      <td>NaN</td>\n",
       "      <td>1985.0</td>\n",
       "      <td>단독다가구</td>\n",
       "      <td>중개거래</td>\n",
       "      <td>서울 도봉구</td>\n",
       "    </tr>\n",
       "  </tbody>\n",
       "</table>\n",
       "<p>5 rows × 21 columns</p>\n",
       "</div>"
      ],
      "text/plain": [
       "     접수연도  자치구코드  자치구명  법정동코드  법정동명  지번구분 지번구분명   본번   부번  건물명  ...  물건금액(만원)  \\\n",
       "1    2025  11380   은평구  10800   역촌동   NaN   NaN  NaN  NaN  NaN  ...     39620   \n",
       "55   2025  11290   성북구  13300   정릉동   NaN   NaN  NaN  NaN  NaN  ...     41163   \n",
       "91   2025  11560  영등포구  13200   신길동   NaN   NaN  NaN  NaN  NaN  ...     80000   \n",
       "264  2025  11410  서대문구  11000  북아현동   NaN   NaN  NaN  NaN  NaN  ...     97180   \n",
       "433  2025  11320   도봉구  10600   방학동   NaN   NaN  NaN  NaN  NaN  ...     34000   \n",
       "\n",
       "     건물면적(㎡)  토지면적(㎡)   층  권리구분 취소일    건축년도   건물용도  신고구분 신고한 개업공인중개사 시군구명  \n",
       "1      74.08    182.0 NaN   NaN NaN  1972.0  단독다가구   직거래              NaN  \n",
       "55     85.90    110.0 NaN   NaN NaN  1985.0  단독다가구  중개거래           서울 성북구  \n",
       "91    123.45     83.0 NaN   NaN NaN  1992.0  단독다가구   직거래              NaN  \n",
       "264    26.45     59.0 NaN   NaN NaN  1941.0  단독다가구  중개거래  서울 마포구, 서울 서대문구  \n",
       "433    68.02     99.0 NaN   NaN NaN  1985.0  단독다가구  중개거래           서울 도봉구  \n",
       "\n",
       "[5 rows x 21 columns]"
      ]
     },
     "execution_count": 465,
     "metadata": {},
     "output_type": "execute_result"
    }
   ],
   "source": [
    "null_values = df[df['본번'].isnull()]\n",
    "null_values.head()"
   ]
  },
  {
   "cell_type": "code",
   "execution_count": 466,
   "metadata": {},
   "outputs": [
    {
     "data": {
      "text/plain": [
       "Index([     1,     55,     91,    264,    433,    458,    480,    510,    576,\n",
       "          582,\n",
       "       ...\n",
       "       235626, 235630, 235632, 235637, 235638, 235640, 235642, 235645, 235666,\n",
       "       235668],\n",
       "      dtype='int64', length=11116)"
      ]
     },
     "execution_count": 466,
     "metadata": {},
     "output_type": "execute_result"
    }
   ],
   "source": [
    "null_index = df[df['본번'].isnull()].index\n",
    "null_index"
   ]
  },
  {
   "cell_type": "code",
   "execution_count": 467,
   "metadata": {},
   "outputs": [
    {
     "data": {
      "text/plain": [
       "Index([     1,     55,     91,    264,    433,    458,    480,    510,    576,\n",
       "          582,\n",
       "       ...\n",
       "       235626, 235630, 235632, 235637, 235638, 235640, 235642, 235645, 235666,\n",
       "       235668],\n",
       "      dtype='int64', length=11116)"
      ]
     },
     "execution_count": 467,
     "metadata": {},
     "output_type": "execute_result"
    }
   ],
   "source": [
    "null_index2 = df[df['부번'].isnull()].index\n",
    "null_index2"
   ]
  },
  {
   "cell_type": "code",
   "execution_count": 468,
   "metadata": {},
   "outputs": [],
   "source": [
    "for i in range(len(null_index)):\n",
    "    if null_index[i] != null_index2[i]:\n",
    "        print(null_index[i], null_index2[i])"
   ]
  },
  {
   "cell_type": "code",
   "execution_count": 469,
   "metadata": {},
   "outputs": [
    {
     "data": {
      "text/plain": [
       "건물명\n",
       "True     11091\n",
       "False       25\n",
       "Name: count, dtype: int64"
      ]
     },
     "execution_count": 469,
     "metadata": {},
     "output_type": "execute_result"
    }
   ],
   "source": [
    "# 본번 null값인 행 = 부번 null값인 행\n",
    "# 본번 / 부번이 없는 값의 건물명 확인\n",
    "null_building = null_values['건물명'].isnull().value_counts()\n",
    "null_building"
   ]
  },
  {
   "cell_type": "markdown",
   "metadata": {},
   "source": [
    "- 11091개는 본번+부번+건물명 다 null\n",
    "- 25개는 확인필요"
   ]
  },
  {
   "cell_type": "code",
   "execution_count": 470,
   "metadata": {},
   "outputs": [
    {
     "data": {
      "text/plain": [
       "건물명\n",
       "자연누리 오피스텔        19\n",
       "힐스테이트 서초 젠트리스     6\n",
       "Name: count, dtype: int64"
      ]
     },
     "execution_count": 470,
     "metadata": {},
     "output_type": "execute_result"
    }
   ],
   "source": [
    "false_building_data = null_values[null_values['건물명'].notnull()]\n",
    "false_building_data['건물명'].value_counts()"
   ]
  },
  {
   "cell_type": "markdown",
   "metadata": {},
   "source": [
    "- 해당 2건물의 본번 / 부번은 채우기로 함\n",
    "- 서울특별시 서초구 신원동 662 -> 서초구 자연누리 오피스텔\n",
    "- 서울특별시 서초구 신원동 557 -> 서초 힐스테이트 젠트리스"
   ]
  },
  {
   "cell_type": "code",
   "execution_count": 471,
   "metadata": {},
   "outputs": [],
   "source": [
    "df_drop.loc[df_drop['건물명'] == '자연누리 오피스텔', '본번'] = 662\n",
    "df_drop.loc[df_drop['건물명'] == '자연누리 오피스텔', '부번'] = 0\n",
    "df_drop.loc[df_drop['건물명'] == '힐스테이트 서초 젠트리스', '본번'] = 557\n",
    "df_drop.loc[df_drop['건물명'] == '힐스테이트 서초 젠트리스', '부번'] = 0"
   ]
  },
  {
   "cell_type": "code",
   "execution_count": 472,
   "metadata": {},
   "outputs": [
    {
     "data": {
      "text/html": [
       "<div>\n",
       "<style scoped>\n",
       "    .dataframe tbody tr th:only-of-type {\n",
       "        vertical-align: middle;\n",
       "    }\n",
       "\n",
       "    .dataframe tbody tr th {\n",
       "        vertical-align: top;\n",
       "    }\n",
       "\n",
       "    .dataframe thead th {\n",
       "        text-align: right;\n",
       "    }\n",
       "</style>\n",
       "<table border=\"1\" class=\"dataframe\">\n",
       "  <thead>\n",
       "    <tr style=\"text-align: right;\">\n",
       "      <th></th>\n",
       "      <th>접수연도</th>\n",
       "      <th>자치구명</th>\n",
       "      <th>법정동명</th>\n",
       "      <th>본번</th>\n",
       "      <th>부번</th>\n",
       "      <th>건물명</th>\n",
       "      <th>계약일</th>\n",
       "      <th>물건금액(만원)</th>\n",
       "      <th>건물면적(㎡)</th>\n",
       "      <th>토지면적(㎡)</th>\n",
       "      <th>층</th>\n",
       "      <th>권리구분</th>\n",
       "      <th>취소일</th>\n",
       "      <th>건축년도</th>\n",
       "      <th>건물용도</th>\n",
       "      <th>신고구분</th>\n",
       "      <th>신고한 개업공인중개사 시군구명</th>\n",
       "    </tr>\n",
       "  </thead>\n",
       "  <tbody>\n",
       "    <tr>\n",
       "      <th>93042</th>\n",
       "      <td>2024</td>\n",
       "      <td>서초구</td>\n",
       "      <td>신원동</td>\n",
       "      <td>662</td>\n",
       "      <td>0</td>\n",
       "      <td>자연누리 오피스텔</td>\n",
       "      <td>20240127</td>\n",
       "      <td>16000</td>\n",
       "      <td>21.39</td>\n",
       "      <td>27.58</td>\n",
       "      <td>2.0</td>\n",
       "      <td>NaN</td>\n",
       "      <td>NaN</td>\n",
       "      <td>2015.0</td>\n",
       "      <td>오피스텔</td>\n",
       "      <td>중개거래</td>\n",
       "      <td>서울 서초구</td>\n",
       "    </tr>\n",
       "    <tr>\n",
       "      <th>99829</th>\n",
       "      <td>2023</td>\n",
       "      <td>서초구</td>\n",
       "      <td>신원동</td>\n",
       "      <td>662</td>\n",
       "      <td>0</td>\n",
       "      <td>자연누리 오피스텔</td>\n",
       "      <td>20231223</td>\n",
       "      <td>16000</td>\n",
       "      <td>21.39</td>\n",
       "      <td>27.58</td>\n",
       "      <td>2.0</td>\n",
       "      <td>NaN</td>\n",
       "      <td>NaN</td>\n",
       "      <td>2015.0</td>\n",
       "      <td>오피스텔</td>\n",
       "      <td>중개거래</td>\n",
       "      <td>서울 서초구</td>\n",
       "    </tr>\n",
       "    <tr>\n",
       "      <th>102580</th>\n",
       "      <td>2023</td>\n",
       "      <td>서초구</td>\n",
       "      <td>신원동</td>\n",
       "      <td>662</td>\n",
       "      <td>0</td>\n",
       "      <td>자연누리 오피스텔</td>\n",
       "      <td>20231201</td>\n",
       "      <td>16000</td>\n",
       "      <td>21.39</td>\n",
       "      <td>27.58</td>\n",
       "      <td>2.0</td>\n",
       "      <td>NaN</td>\n",
       "      <td>NaN</td>\n",
       "      <td>2015.0</td>\n",
       "      <td>오피스텔</td>\n",
       "      <td>중개거래</td>\n",
       "      <td>서울 강남구</td>\n",
       "    </tr>\n",
       "    <tr>\n",
       "      <th>102724</th>\n",
       "      <td>2023</td>\n",
       "      <td>서초구</td>\n",
       "      <td>신원동</td>\n",
       "      <td>662</td>\n",
       "      <td>0</td>\n",
       "      <td>자연누리 오피스텔</td>\n",
       "      <td>20231130</td>\n",
       "      <td>16000</td>\n",
       "      <td>21.39</td>\n",
       "      <td>27.58</td>\n",
       "      <td>2.0</td>\n",
       "      <td>NaN</td>\n",
       "      <td>NaN</td>\n",
       "      <td>2015.0</td>\n",
       "      <td>오피스텔</td>\n",
       "      <td>중개거래</td>\n",
       "      <td>서울 강남구</td>\n",
       "    </tr>\n",
       "    <tr>\n",
       "      <th>102884</th>\n",
       "      <td>2023</td>\n",
       "      <td>서초구</td>\n",
       "      <td>신원동</td>\n",
       "      <td>662</td>\n",
       "      <td>0</td>\n",
       "      <td>자연누리 오피스텔</td>\n",
       "      <td>20231129</td>\n",
       "      <td>15800</td>\n",
       "      <td>21.39</td>\n",
       "      <td>27.58</td>\n",
       "      <td>2.0</td>\n",
       "      <td>NaN</td>\n",
       "      <td>NaN</td>\n",
       "      <td>2015.0</td>\n",
       "      <td>오피스텔</td>\n",
       "      <td>중개거래</td>\n",
       "      <td>서울 서초구</td>\n",
       "    </tr>\n",
       "    <tr>\n",
       "      <th>103197</th>\n",
       "      <td>2023</td>\n",
       "      <td>서초구</td>\n",
       "      <td>신원동</td>\n",
       "      <td>662</td>\n",
       "      <td>0</td>\n",
       "      <td>자연누리 오피스텔</td>\n",
       "      <td>20231127</td>\n",
       "      <td>16000</td>\n",
       "      <td>21.39</td>\n",
       "      <td>27.58</td>\n",
       "      <td>3.0</td>\n",
       "      <td>NaN</td>\n",
       "      <td>NaN</td>\n",
       "      <td>2015.0</td>\n",
       "      <td>오피스텔</td>\n",
       "      <td>중개거래</td>\n",
       "      <td>서울 강남구</td>\n",
       "    </tr>\n",
       "    <tr>\n",
       "      <th>112586</th>\n",
       "      <td>2023</td>\n",
       "      <td>서초구</td>\n",
       "      <td>신원동</td>\n",
       "      <td>662</td>\n",
       "      <td>0</td>\n",
       "      <td>자연누리 오피스텔</td>\n",
       "      <td>20231004</td>\n",
       "      <td>15800</td>\n",
       "      <td>21.39</td>\n",
       "      <td>27.58</td>\n",
       "      <td>3.0</td>\n",
       "      <td>NaN</td>\n",
       "      <td>NaN</td>\n",
       "      <td>2015.0</td>\n",
       "      <td>오피스텔</td>\n",
       "      <td>중개거래</td>\n",
       "      <td>서울 서초구</td>\n",
       "    </tr>\n",
       "    <tr>\n",
       "      <th>115561</th>\n",
       "      <td>2023</td>\n",
       "      <td>서초구</td>\n",
       "      <td>신원동</td>\n",
       "      <td>662</td>\n",
       "      <td>0</td>\n",
       "      <td>자연누리 오피스텔</td>\n",
       "      <td>20230916</td>\n",
       "      <td>16700</td>\n",
       "      <td>21.39</td>\n",
       "      <td>27.58</td>\n",
       "      <td>3.0</td>\n",
       "      <td>NaN</td>\n",
       "      <td>NaN</td>\n",
       "      <td>2015.0</td>\n",
       "      <td>오피스텔</td>\n",
       "      <td>중개거래</td>\n",
       "      <td>서울 서초구</td>\n",
       "    </tr>\n",
       "    <tr>\n",
       "      <th>150442</th>\n",
       "      <td>2023</td>\n",
       "      <td>서초구</td>\n",
       "      <td>신원동</td>\n",
       "      <td>662</td>\n",
       "      <td>0</td>\n",
       "      <td>자연누리 오피스텔</td>\n",
       "      <td>20230415</td>\n",
       "      <td>16000</td>\n",
       "      <td>21.39</td>\n",
       "      <td>27.58</td>\n",
       "      <td>3.0</td>\n",
       "      <td>NaN</td>\n",
       "      <td>NaN</td>\n",
       "      <td>2015.0</td>\n",
       "      <td>오피스텔</td>\n",
       "      <td>중개거래</td>\n",
       "      <td>서울 서초구</td>\n",
       "    </tr>\n",
       "    <tr>\n",
       "      <th>150464</th>\n",
       "      <td>2023</td>\n",
       "      <td>서초구</td>\n",
       "      <td>신원동</td>\n",
       "      <td>662</td>\n",
       "      <td>0</td>\n",
       "      <td>자연누리 오피스텔</td>\n",
       "      <td>20230415</td>\n",
       "      <td>15500</td>\n",
       "      <td>21.39</td>\n",
       "      <td>27.58</td>\n",
       "      <td>2.0</td>\n",
       "      <td>NaN</td>\n",
       "      <td>NaN</td>\n",
       "      <td>2015.0</td>\n",
       "      <td>오피스텔</td>\n",
       "      <td>중개거래</td>\n",
       "      <td>서울 서초구</td>\n",
       "    </tr>\n",
       "    <tr>\n",
       "      <th>175599</th>\n",
       "      <td>2022</td>\n",
       "      <td>서초구</td>\n",
       "      <td>신원동</td>\n",
       "      <td>662</td>\n",
       "      <td>0</td>\n",
       "      <td>자연누리 오피스텔</td>\n",
       "      <td>20221020</td>\n",
       "      <td>17500</td>\n",
       "      <td>21.39</td>\n",
       "      <td>27.58</td>\n",
       "      <td>3.0</td>\n",
       "      <td>NaN</td>\n",
       "      <td>NaN</td>\n",
       "      <td>2015.0</td>\n",
       "      <td>오피스텔</td>\n",
       "      <td>중개거래</td>\n",
       "      <td>서울 서초구</td>\n",
       "    </tr>\n",
       "    <tr>\n",
       "      <th>189071</th>\n",
       "      <td>2022</td>\n",
       "      <td>서초구</td>\n",
       "      <td>신원동</td>\n",
       "      <td>662</td>\n",
       "      <td>0</td>\n",
       "      <td>자연누리 오피스텔</td>\n",
       "      <td>20220711</td>\n",
       "      <td>18500</td>\n",
       "      <td>21.39</td>\n",
       "      <td>27.58</td>\n",
       "      <td>2.0</td>\n",
       "      <td>NaN</td>\n",
       "      <td>NaN</td>\n",
       "      <td>2015.0</td>\n",
       "      <td>오피스텔</td>\n",
       "      <td>중개거래</td>\n",
       "      <td>서울 서초구</td>\n",
       "    </tr>\n",
       "    <tr>\n",
       "      <th>189105</th>\n",
       "      <td>2022</td>\n",
       "      <td>서초구</td>\n",
       "      <td>신원동</td>\n",
       "      <td>662</td>\n",
       "      <td>0</td>\n",
       "      <td>자연누리 오피스텔</td>\n",
       "      <td>20220711</td>\n",
       "      <td>18500</td>\n",
       "      <td>21.39</td>\n",
       "      <td>27.58</td>\n",
       "      <td>2.0</td>\n",
       "      <td>NaN</td>\n",
       "      <td>NaN</td>\n",
       "      <td>2015.0</td>\n",
       "      <td>오피스텔</td>\n",
       "      <td>중개거래</td>\n",
       "      <td>서울 서초구</td>\n",
       "    </tr>\n",
       "    <tr>\n",
       "      <th>200999</th>\n",
       "      <td>2022</td>\n",
       "      <td>서초구</td>\n",
       "      <td>신원동</td>\n",
       "      <td>662</td>\n",
       "      <td>0</td>\n",
       "      <td>자연누리 오피스텔</td>\n",
       "      <td>20220521</td>\n",
       "      <td>18000</td>\n",
       "      <td>21.39</td>\n",
       "      <td>27.58</td>\n",
       "      <td>3.0</td>\n",
       "      <td>NaN</td>\n",
       "      <td>NaN</td>\n",
       "      <td>2015.0</td>\n",
       "      <td>오피스텔</td>\n",
       "      <td>직거래</td>\n",
       "      <td>NaN</td>\n",
       "    </tr>\n",
       "    <tr>\n",
       "      <th>219778</th>\n",
       "      <td>2022</td>\n",
       "      <td>서초구</td>\n",
       "      <td>신원동</td>\n",
       "      <td>662</td>\n",
       "      <td>0</td>\n",
       "      <td>자연누리 오피스텔</td>\n",
       "      <td>20220311</td>\n",
       "      <td>17650</td>\n",
       "      <td>21.39</td>\n",
       "      <td>27.58</td>\n",
       "      <td>3.0</td>\n",
       "      <td>NaN</td>\n",
       "      <td>NaN</td>\n",
       "      <td>2015.0</td>\n",
       "      <td>오피스텔</td>\n",
       "      <td>직거래</td>\n",
       "      <td>NaN</td>\n",
       "    </tr>\n",
       "    <tr>\n",
       "      <th>220898</th>\n",
       "      <td>2022</td>\n",
       "      <td>서초구</td>\n",
       "      <td>신원동</td>\n",
       "      <td>662</td>\n",
       "      <td>0</td>\n",
       "      <td>자연누리 오피스텔</td>\n",
       "      <td>20220305</td>\n",
       "      <td>17300</td>\n",
       "      <td>21.39</td>\n",
       "      <td>27.58</td>\n",
       "      <td>3.0</td>\n",
       "      <td>NaN</td>\n",
       "      <td>NaN</td>\n",
       "      <td>2015.0</td>\n",
       "      <td>오피스텔</td>\n",
       "      <td>중개거래</td>\n",
       "      <td>서울 강남구</td>\n",
       "    </tr>\n",
       "    <tr>\n",
       "      <th>223570</th>\n",
       "      <td>2022</td>\n",
       "      <td>서초구</td>\n",
       "      <td>신원동</td>\n",
       "      <td>662</td>\n",
       "      <td>0</td>\n",
       "      <td>자연누리 오피스텔</td>\n",
       "      <td>20220221</td>\n",
       "      <td>19000</td>\n",
       "      <td>21.39</td>\n",
       "      <td>27.58</td>\n",
       "      <td>2.0</td>\n",
       "      <td>NaN</td>\n",
       "      <td>NaN</td>\n",
       "      <td>2015.0</td>\n",
       "      <td>오피스텔</td>\n",
       "      <td>중개거래</td>\n",
       "      <td>경기 성남수정구</td>\n",
       "    </tr>\n",
       "    <tr>\n",
       "      <th>226063</th>\n",
       "      <td>2022</td>\n",
       "      <td>서초구</td>\n",
       "      <td>신원동</td>\n",
       "      <td>662</td>\n",
       "      <td>0</td>\n",
       "      <td>자연누리 오피스텔</td>\n",
       "      <td>20220209</td>\n",
       "      <td>15500</td>\n",
       "      <td>21.39</td>\n",
       "      <td>27.58</td>\n",
       "      <td>2.0</td>\n",
       "      <td>NaN</td>\n",
       "      <td>NaN</td>\n",
       "      <td>2015.0</td>\n",
       "      <td>오피스텔</td>\n",
       "      <td>중개거래</td>\n",
       "      <td>서울 서초구</td>\n",
       "    </tr>\n",
       "    <tr>\n",
       "      <th>233053</th>\n",
       "      <td>2022</td>\n",
       "      <td>서초구</td>\n",
       "      <td>신원동</td>\n",
       "      <td>662</td>\n",
       "      <td>0</td>\n",
       "      <td>자연누리 오피스텔</td>\n",
       "      <td>20211231</td>\n",
       "      <td>24000</td>\n",
       "      <td>26.84</td>\n",
       "      <td>34.61</td>\n",
       "      <td>2.0</td>\n",
       "      <td>NaN</td>\n",
       "      <td>NaN</td>\n",
       "      <td>2015.0</td>\n",
       "      <td>오피스텔</td>\n",
       "      <td>중개거래</td>\n",
       "      <td>서울 강남구, 서울 서초구</td>\n",
       "    </tr>\n",
       "  </tbody>\n",
       "</table>\n",
       "</div>"
      ],
      "text/plain": [
       "        접수연도 자치구명 법정동명   본번 부번        건물명       계약일  물건금액(만원)  건물면적(㎡)  \\\n",
       "93042   2024  서초구  신원동  662  0  자연누리 오피스텔  20240127     16000    21.39   \n",
       "99829   2023  서초구  신원동  662  0  자연누리 오피스텔  20231223     16000    21.39   \n",
       "102580  2023  서초구  신원동  662  0  자연누리 오피스텔  20231201     16000    21.39   \n",
       "102724  2023  서초구  신원동  662  0  자연누리 오피스텔  20231130     16000    21.39   \n",
       "102884  2023  서초구  신원동  662  0  자연누리 오피스텔  20231129     15800    21.39   \n",
       "103197  2023  서초구  신원동  662  0  자연누리 오피스텔  20231127     16000    21.39   \n",
       "112586  2023  서초구  신원동  662  0  자연누리 오피스텔  20231004     15800    21.39   \n",
       "115561  2023  서초구  신원동  662  0  자연누리 오피스텔  20230916     16700    21.39   \n",
       "150442  2023  서초구  신원동  662  0  자연누리 오피스텔  20230415     16000    21.39   \n",
       "150464  2023  서초구  신원동  662  0  자연누리 오피스텔  20230415     15500    21.39   \n",
       "175599  2022  서초구  신원동  662  0  자연누리 오피스텔  20221020     17500    21.39   \n",
       "189071  2022  서초구  신원동  662  0  자연누리 오피스텔  20220711     18500    21.39   \n",
       "189105  2022  서초구  신원동  662  0  자연누리 오피스텔  20220711     18500    21.39   \n",
       "200999  2022  서초구  신원동  662  0  자연누리 오피스텔  20220521     18000    21.39   \n",
       "219778  2022  서초구  신원동  662  0  자연누리 오피스텔  20220311     17650    21.39   \n",
       "220898  2022  서초구  신원동  662  0  자연누리 오피스텔  20220305     17300    21.39   \n",
       "223570  2022  서초구  신원동  662  0  자연누리 오피스텔  20220221     19000    21.39   \n",
       "226063  2022  서초구  신원동  662  0  자연누리 오피스텔  20220209     15500    21.39   \n",
       "233053  2022  서초구  신원동  662  0  자연누리 오피스텔  20211231     24000    26.84   \n",
       "\n",
       "        토지면적(㎡)    층 권리구분  취소일    건축년도  건물용도  신고구분 신고한 개업공인중개사 시군구명  \n",
       "93042     27.58  2.0  NaN  NaN  2015.0  오피스텔  중개거래           서울 서초구  \n",
       "99829     27.58  2.0  NaN  NaN  2015.0  오피스텔  중개거래           서울 서초구  \n",
       "102580    27.58  2.0  NaN  NaN  2015.0  오피스텔  중개거래           서울 강남구  \n",
       "102724    27.58  2.0  NaN  NaN  2015.0  오피스텔  중개거래           서울 강남구  \n",
       "102884    27.58  2.0  NaN  NaN  2015.0  오피스텔  중개거래           서울 서초구  \n",
       "103197    27.58  3.0  NaN  NaN  2015.0  오피스텔  중개거래           서울 강남구  \n",
       "112586    27.58  3.0  NaN  NaN  2015.0  오피스텔  중개거래           서울 서초구  \n",
       "115561    27.58  3.0  NaN  NaN  2015.0  오피스텔  중개거래           서울 서초구  \n",
       "150442    27.58  3.0  NaN  NaN  2015.0  오피스텔  중개거래           서울 서초구  \n",
       "150464    27.58  2.0  NaN  NaN  2015.0  오피스텔  중개거래           서울 서초구  \n",
       "175599    27.58  3.0  NaN  NaN  2015.0  오피스텔  중개거래           서울 서초구  \n",
       "189071    27.58  2.0  NaN  NaN  2015.0  오피스텔  중개거래           서울 서초구  \n",
       "189105    27.58  2.0  NaN  NaN  2015.0  오피스텔  중개거래           서울 서초구  \n",
       "200999    27.58  3.0  NaN  NaN  2015.0  오피스텔   직거래              NaN  \n",
       "219778    27.58  3.0  NaN  NaN  2015.0  오피스텔   직거래              NaN  \n",
       "220898    27.58  3.0  NaN  NaN  2015.0  오피스텔  중개거래           서울 강남구  \n",
       "223570    27.58  2.0  NaN  NaN  2015.0  오피스텔  중개거래         경기 성남수정구  \n",
       "226063    27.58  2.0  NaN  NaN  2015.0  오피스텔  중개거래           서울 서초구  \n",
       "233053    34.61  2.0  NaN  NaN  2015.0  오피스텔  중개거래   서울 강남구, 서울 서초구  "
      ]
     },
     "execution_count": 472,
     "metadata": {},
     "output_type": "execute_result"
    }
   ],
   "source": [
    "df_drop[df_drop['건물명'] == '자연누리 오피스텔']"
   ]
  },
  {
   "cell_type": "code",
   "execution_count": 473,
   "metadata": {},
   "outputs": [
    {
     "data": {
      "text/html": [
       "<div>\n",
       "<style scoped>\n",
       "    .dataframe tbody tr th:only-of-type {\n",
       "        vertical-align: middle;\n",
       "    }\n",
       "\n",
       "    .dataframe tbody tr th {\n",
       "        vertical-align: top;\n",
       "    }\n",
       "\n",
       "    .dataframe thead th {\n",
       "        text-align: right;\n",
       "    }\n",
       "</style>\n",
       "<table border=\"1\" class=\"dataframe\">\n",
       "  <thead>\n",
       "    <tr style=\"text-align: right;\">\n",
       "      <th></th>\n",
       "      <th>접수연도</th>\n",
       "      <th>자치구명</th>\n",
       "      <th>법정동명</th>\n",
       "      <th>본번</th>\n",
       "      <th>부번</th>\n",
       "      <th>건물명</th>\n",
       "      <th>계약일</th>\n",
       "      <th>물건금액(만원)</th>\n",
       "      <th>건물면적(㎡)</th>\n",
       "      <th>토지면적(㎡)</th>\n",
       "      <th>층</th>\n",
       "      <th>권리구분</th>\n",
       "      <th>취소일</th>\n",
       "      <th>건축년도</th>\n",
       "      <th>건물용도</th>\n",
       "      <th>신고구분</th>\n",
       "      <th>신고한 개업공인중개사 시군구명</th>\n",
       "    </tr>\n",
       "  </thead>\n",
       "  <tbody>\n",
       "    <tr>\n",
       "      <th>114408</th>\n",
       "      <td>2023</td>\n",
       "      <td>서초구</td>\n",
       "      <td>신원동</td>\n",
       "      <td>557</td>\n",
       "      <td>0</td>\n",
       "      <td>힐스테이트 서초 젠트리스</td>\n",
       "      <td>20230921</td>\n",
       "      <td>161000</td>\n",
       "      <td>84.95</td>\n",
       "      <td>0.0</td>\n",
       "      <td>5.0</td>\n",
       "      <td>NaN</td>\n",
       "      <td>NaN</td>\n",
       "      <td>2014.0</td>\n",
       "      <td>아파트</td>\n",
       "      <td>중개거래</td>\n",
       "      <td>서울 서초구</td>\n",
       "    </tr>\n",
       "    <tr>\n",
       "      <th>115527</th>\n",
       "      <td>2023</td>\n",
       "      <td>서초구</td>\n",
       "      <td>신원동</td>\n",
       "      <td>557</td>\n",
       "      <td>0</td>\n",
       "      <td>힐스테이트 서초 젠트리스</td>\n",
       "      <td>20230916</td>\n",
       "      <td>190000</td>\n",
       "      <td>101.90</td>\n",
       "      <td>0.0</td>\n",
       "      <td>3.0</td>\n",
       "      <td>NaN</td>\n",
       "      <td>NaN</td>\n",
       "      <td>2014.0</td>\n",
       "      <td>아파트</td>\n",
       "      <td>중개거래</td>\n",
       "      <td>서울 서초구</td>\n",
       "    </tr>\n",
       "    <tr>\n",
       "      <th>116920</th>\n",
       "      <td>2023</td>\n",
       "      <td>서초구</td>\n",
       "      <td>신원동</td>\n",
       "      <td>557</td>\n",
       "      <td>0</td>\n",
       "      <td>힐스테이트 서초 젠트리스</td>\n",
       "      <td>20230911</td>\n",
       "      <td>163000</td>\n",
       "      <td>84.99</td>\n",
       "      <td>0.0</td>\n",
       "      <td>5.0</td>\n",
       "      <td>NaN</td>\n",
       "      <td>NaN</td>\n",
       "      <td>2014.0</td>\n",
       "      <td>아파트</td>\n",
       "      <td>중개거래</td>\n",
       "      <td>서울 서초구</td>\n",
       "    </tr>\n",
       "    <tr>\n",
       "      <th>149620</th>\n",
       "      <td>2023</td>\n",
       "      <td>서초구</td>\n",
       "      <td>신원동</td>\n",
       "      <td>557</td>\n",
       "      <td>0</td>\n",
       "      <td>힐스테이트 서초 젠트리스</td>\n",
       "      <td>20230420</td>\n",
       "      <td>160000</td>\n",
       "      <td>84.95</td>\n",
       "      <td>0.0</td>\n",
       "      <td>2.0</td>\n",
       "      <td>NaN</td>\n",
       "      <td>NaN</td>\n",
       "      <td>2014.0</td>\n",
       "      <td>아파트</td>\n",
       "      <td>중개거래</td>\n",
       "      <td>서울 서초구</td>\n",
       "    </tr>\n",
       "    <tr>\n",
       "      <th>178235</th>\n",
       "      <td>2022</td>\n",
       "      <td>서초구</td>\n",
       "      <td>신원동</td>\n",
       "      <td>557</td>\n",
       "      <td>0</td>\n",
       "      <td>힐스테이트 서초 젠트리스</td>\n",
       "      <td>20220928</td>\n",
       "      <td>173000</td>\n",
       "      <td>84.95</td>\n",
       "      <td>0.0</td>\n",
       "      <td>8.0</td>\n",
       "      <td>NaN</td>\n",
       "      <td>NaN</td>\n",
       "      <td>2014.0</td>\n",
       "      <td>아파트</td>\n",
       "      <td>중개거래</td>\n",
       "      <td>서울 서초구</td>\n",
       "    </tr>\n",
       "    <tr>\n",
       "      <th>192313</th>\n",
       "      <td>2022</td>\n",
       "      <td>서초구</td>\n",
       "      <td>신원동</td>\n",
       "      <td>557</td>\n",
       "      <td>0</td>\n",
       "      <td>힐스테이트 서초 젠트리스</td>\n",
       "      <td>20220623</td>\n",
       "      <td>204000</td>\n",
       "      <td>101.90</td>\n",
       "      <td>0.0</td>\n",
       "      <td>5.0</td>\n",
       "      <td>NaN</td>\n",
       "      <td>NaN</td>\n",
       "      <td>2014.0</td>\n",
       "      <td>아파트</td>\n",
       "      <td>중개거래</td>\n",
       "      <td>서울 서초구</td>\n",
       "    </tr>\n",
       "  </tbody>\n",
       "</table>\n",
       "</div>"
      ],
      "text/plain": [
       "        접수연도 자치구명 법정동명   본번 부번            건물명       계약일  물건금액(만원)  건물면적(㎡)  \\\n",
       "114408  2023  서초구  신원동  557  0  힐스테이트 서초 젠트리스  20230921    161000    84.95   \n",
       "115527  2023  서초구  신원동  557  0  힐스테이트 서초 젠트리스  20230916    190000   101.90   \n",
       "116920  2023  서초구  신원동  557  0  힐스테이트 서초 젠트리스  20230911    163000    84.99   \n",
       "149620  2023  서초구  신원동  557  0  힐스테이트 서초 젠트리스  20230420    160000    84.95   \n",
       "178235  2022  서초구  신원동  557  0  힐스테이트 서초 젠트리스  20220928    173000    84.95   \n",
       "192313  2022  서초구  신원동  557  0  힐스테이트 서초 젠트리스  20220623    204000   101.90   \n",
       "\n",
       "        토지면적(㎡)    층 권리구분  취소일    건축년도 건물용도  신고구분 신고한 개업공인중개사 시군구명  \n",
       "114408      0.0  5.0  NaN  NaN  2014.0  아파트  중개거래           서울 서초구  \n",
       "115527      0.0  3.0  NaN  NaN  2014.0  아파트  중개거래           서울 서초구  \n",
       "116920      0.0  5.0  NaN  NaN  2014.0  아파트  중개거래           서울 서초구  \n",
       "149620      0.0  2.0  NaN  NaN  2014.0  아파트  중개거래           서울 서초구  \n",
       "178235      0.0  8.0  NaN  NaN  2014.0  아파트  중개거래           서울 서초구  \n",
       "192313      0.0  5.0  NaN  NaN  2014.0  아파트  중개거래           서울 서초구  "
      ]
     },
     "execution_count": 473,
     "metadata": {},
     "output_type": "execute_result"
    }
   ],
   "source": [
    "df_drop[df_drop['건물명'] == '힐스테이트 서초 젠트리스']"
   ]
  },
  {
   "cell_type": "markdown",
   "metadata": {},
   "source": [
    "- 본번 & 부번 null 값 제거"
   ]
  },
  {
   "cell_type": "code",
   "execution_count": 474,
   "metadata": {},
   "outputs": [
    {
     "data": {
      "text/plain": [
       "접수연도                     0\n",
       "자치구명                     0\n",
       "법정동명                     0\n",
       "본번                       0\n",
       "부번                       0\n",
       "건물명                     45\n",
       "계약일                      0\n",
       "물건금액(만원)                 0\n",
       "건물면적(㎡)                  0\n",
       "토지면적(㎡)               5151\n",
       "층                        3\n",
       "권리구분                222854\n",
       "취소일                 213363\n",
       "건축년도                  1213\n",
       "건물용도                     0\n",
       "신고구분                   168\n",
       "신고한 개업공인중개사 시군구명     40250\n",
       "dtype: int64"
      ]
     },
     "execution_count": 474,
     "metadata": {},
     "output_type": "execute_result"
    }
   ],
   "source": [
    "df_drop.dropna(subset=['본번'], inplace=True)\n",
    "df_drop.isnull().sum()"
   ]
  },
  {
   "cell_type": "code",
   "execution_count": 475,
   "metadata": {},
   "outputs": [
    {
     "name": "stdout",
     "output_type": "stream",
     "text": [
      "<class 'pandas.core.frame.DataFrame'>\n",
      "Index: 224579 entries, 0 to 235670\n",
      "Data columns (total 17 columns):\n",
      " #   Column            Non-Null Count   Dtype  \n",
      "---  ------            --------------   -----  \n",
      " 0   접수연도              224579 non-null  int64  \n",
      " 1   자치구명              224579 non-null  object \n",
      " 2   법정동명              224579 non-null  object \n",
      " 3   본번                224579 non-null  object \n",
      " 4   부번                224579 non-null  object \n",
      " 5   건물명               224534 non-null  object \n",
      " 6   계약일               224579 non-null  int64  \n",
      " 7   물건금액(만원)          224579 non-null  int64  \n",
      " 8   건물면적(㎡)           224579 non-null  float64\n",
      " 9   토지면적(㎡)           219428 non-null  float64\n",
      " 10  층                 224576 non-null  float64\n",
      " 11  권리구분              1725 non-null    object \n",
      " 12  취소일               11216 non-null   float64\n",
      " 13  건축년도              223366 non-null  float64\n",
      " 14  건물용도              224579 non-null  object \n",
      " 15  신고구분              224411 non-null  object \n",
      " 16  신고한 개업공인중개사 시군구명  184329 non-null  object \n",
      "dtypes: float64(5), int64(3), object(9)\n",
      "memory usage: 30.8+ MB\n"
     ]
    }
   ],
   "source": [
    "df_drop.info()"
   ]
  },
  {
   "cell_type": "markdown",
   "metadata": {},
   "source": [
    "- 본번 + 부번 int로 변환"
   ]
  },
  {
   "cell_type": "code",
   "execution_count": 476,
   "metadata": {},
   "outputs": [
    {
     "name": "stdout",
     "output_type": "stream",
     "text": [
      "<class 'pandas.core.frame.DataFrame'>\n",
      "Index: 224579 entries, 0 to 235670\n",
      "Data columns (total 17 columns):\n",
      " #   Column            Non-Null Count   Dtype  \n",
      "---  ------            --------------   -----  \n",
      " 0   접수연도              224579 non-null  int64  \n",
      " 1   자치구명              224579 non-null  object \n",
      " 2   법정동명              224579 non-null  object \n",
      " 3   본번                224579 non-null  int64  \n",
      " 4   부번                224579 non-null  int64  \n",
      " 5   건물명               224534 non-null  object \n",
      " 6   계약일               224579 non-null  int64  \n",
      " 7   물건금액(만원)          224579 non-null  int64  \n",
      " 8   건물면적(㎡)           224579 non-null  float64\n",
      " 9   토지면적(㎡)           219428 non-null  float64\n",
      " 10  층                 224576 non-null  float64\n",
      " 11  권리구분              1725 non-null    object \n",
      " 12  취소일               11216 non-null   float64\n",
      " 13  건축년도              223366 non-null  float64\n",
      " 14  건물용도              224579 non-null  object \n",
      " 15  신고구분              224411 non-null  object \n",
      " 16  신고한 개업공인중개사 시군구명  184329 non-null  object \n",
      "dtypes: float64(5), int64(5), object(7)\n",
      "memory usage: 30.8+ MB\n"
     ]
    }
   ],
   "source": [
    "def to_int(value):\n",
    "    value = str(value).split(\".\")[0].strip()\n",
    "    return int(value) if value.isdigit() else pd.NA\n",
    "\n",
    "\n",
    "df_drop[\"본번\"] = df_drop[\"본번\"].apply(to_int)\n",
    "df_drop[\"부번\"] = df_drop[\"부번\"].apply(to_int)\n",
    "df_drop.info()"
   ]
  },
  {
   "cell_type": "code",
   "execution_count": 477,
   "metadata": {},
   "outputs": [
    {
     "data": {
      "text/html": [
       "<div>\n",
       "<style scoped>\n",
       "    .dataframe tbody tr th:only-of-type {\n",
       "        vertical-align: middle;\n",
       "    }\n",
       "\n",
       "    .dataframe tbody tr th {\n",
       "        vertical-align: top;\n",
       "    }\n",
       "\n",
       "    .dataframe thead th {\n",
       "        text-align: right;\n",
       "    }\n",
       "</style>\n",
       "<table border=\"1\" class=\"dataframe\">\n",
       "  <thead>\n",
       "    <tr style=\"text-align: right;\">\n",
       "      <th></th>\n",
       "      <th>접수연도</th>\n",
       "      <th>자치구명</th>\n",
       "      <th>법정동명</th>\n",
       "      <th>본번</th>\n",
       "      <th>부번</th>\n",
       "      <th>건물명</th>\n",
       "      <th>계약일</th>\n",
       "      <th>물건금액(만원)</th>\n",
       "      <th>건물면적(㎡)</th>\n",
       "      <th>토지면적(㎡)</th>\n",
       "      <th>층</th>\n",
       "      <th>권리구분</th>\n",
       "      <th>취소일</th>\n",
       "      <th>건축년도</th>\n",
       "      <th>건물용도</th>\n",
       "      <th>신고구분</th>\n",
       "      <th>신고한 개업공인중개사 시군구명</th>\n",
       "    </tr>\n",
       "  </thead>\n",
       "  <tbody>\n",
       "    <tr>\n",
       "      <th>0</th>\n",
       "      <td>2025</td>\n",
       "      <td>도봉구</td>\n",
       "      <td>방학동</td>\n",
       "      <td>638</td>\n",
       "      <td>10</td>\n",
       "      <td>한신빌라(638-10)</td>\n",
       "      <td>20250117</td>\n",
       "      <td>14800</td>\n",
       "      <td>37.66</td>\n",
       "      <td>16.00</td>\n",
       "      <td>4.0</td>\n",
       "      <td>NaN</td>\n",
       "      <td>NaN</td>\n",
       "      <td>1994.0</td>\n",
       "      <td>연립다세대</td>\n",
       "      <td>중개거래</td>\n",
       "      <td>서울 도봉구</td>\n",
       "    </tr>\n",
       "    <tr>\n",
       "      <th>2</th>\n",
       "      <td>2025</td>\n",
       "      <td>강서구</td>\n",
       "      <td>등촌동</td>\n",
       "      <td>628</td>\n",
       "      <td>13</td>\n",
       "      <td>현대프린스텔</td>\n",
       "      <td>20250117</td>\n",
       "      <td>10300</td>\n",
       "      <td>26.16</td>\n",
       "      <td>35.71</td>\n",
       "      <td>6.0</td>\n",
       "      <td>NaN</td>\n",
       "      <td>NaN</td>\n",
       "      <td>1999.0</td>\n",
       "      <td>오피스텔</td>\n",
       "      <td>중개거래</td>\n",
       "      <td>서울 강서구</td>\n",
       "    </tr>\n",
       "    <tr>\n",
       "      <th>3</th>\n",
       "      <td>2025</td>\n",
       "      <td>관악구</td>\n",
       "      <td>신림동</td>\n",
       "      <td>1639</td>\n",
       "      <td>51</td>\n",
       "      <td>푸리마타운</td>\n",
       "      <td>20250117</td>\n",
       "      <td>12700</td>\n",
       "      <td>18.70</td>\n",
       "      <td>26.16</td>\n",
       "      <td>8.0</td>\n",
       "      <td>NaN</td>\n",
       "      <td>NaN</td>\n",
       "      <td>2014.0</td>\n",
       "      <td>오피스텔</td>\n",
       "      <td>중개거래</td>\n",
       "      <td>서울 관악구</td>\n",
       "    </tr>\n",
       "    <tr>\n",
       "      <th>4</th>\n",
       "      <td>2025</td>\n",
       "      <td>구로구</td>\n",
       "      <td>고척동</td>\n",
       "      <td>339</td>\n",
       "      <td>0</td>\n",
       "      <td>고척파크푸르지오</td>\n",
       "      <td>20250117</td>\n",
       "      <td>84000</td>\n",
       "      <td>59.89</td>\n",
       "      <td>0.00</td>\n",
       "      <td>9.0</td>\n",
       "      <td>NaN</td>\n",
       "      <td>NaN</td>\n",
       "      <td>2009.0</td>\n",
       "      <td>아파트</td>\n",
       "      <td>중개거래</td>\n",
       "      <td>서울 구로구, 서울 양천구</td>\n",
       "    </tr>\n",
       "    <tr>\n",
       "      <th>5</th>\n",
       "      <td>2025</td>\n",
       "      <td>광진구</td>\n",
       "      <td>중곡동</td>\n",
       "      <td>73</td>\n",
       "      <td>70</td>\n",
       "      <td>욱현하이브(73-70)</td>\n",
       "      <td>20250117</td>\n",
       "      <td>19800</td>\n",
       "      <td>44.96</td>\n",
       "      <td>33.00</td>\n",
       "      <td>3.0</td>\n",
       "      <td>NaN</td>\n",
       "      <td>NaN</td>\n",
       "      <td>2009.0</td>\n",
       "      <td>연립다세대</td>\n",
       "      <td>중개거래</td>\n",
       "      <td>서울 동작구</td>\n",
       "    </tr>\n",
       "  </tbody>\n",
       "</table>\n",
       "</div>"
      ],
      "text/plain": [
       "   접수연도 자치구명 법정동명    본번  부번           건물명       계약일  물건금액(만원)  건물면적(㎡)  \\\n",
       "0  2025  도봉구  방학동   638  10  한신빌라(638-10)  20250117     14800    37.66   \n",
       "2  2025  강서구  등촌동   628  13        현대프린스텔  20250117     10300    26.16   \n",
       "3  2025  관악구  신림동  1639  51         푸리마타운  20250117     12700    18.70   \n",
       "4  2025  구로구  고척동   339   0      고척파크푸르지오  20250117     84000    59.89   \n",
       "5  2025  광진구  중곡동    73  70  욱현하이브(73-70)  20250117     19800    44.96   \n",
       "\n",
       "   토지면적(㎡)    층 권리구분  취소일    건축년도   건물용도  신고구분 신고한 개업공인중개사 시군구명  \n",
       "0    16.00  4.0  NaN  NaN  1994.0  연립다세대  중개거래           서울 도봉구  \n",
       "2    35.71  6.0  NaN  NaN  1999.0   오피스텔  중개거래           서울 강서구  \n",
       "3    26.16  8.0  NaN  NaN  2014.0   오피스텔  중개거래           서울 관악구  \n",
       "4     0.00  9.0  NaN  NaN  2009.0    아파트  중개거래   서울 구로구, 서울 양천구  \n",
       "5    33.00  3.0  NaN  NaN  2009.0  연립다세대  중개거래           서울 동작구  "
      ]
     },
     "execution_count": 477,
     "metadata": {},
     "output_type": "execute_result"
    }
   ],
   "source": [
    "df_drop.head()"
   ]
  },
  {
   "cell_type": "markdown",
   "metadata": {},
   "source": [
    "### 건물명"
   ]
  },
  {
   "cell_type": "code",
   "execution_count": 478,
   "metadata": {},
   "outputs": [
    {
     "data": {
      "text/plain": [
       "건물명\n",
       "현대               851\n",
       "헬리오시티            760\n",
       "두산               743\n",
       "파크리오             593\n",
       "신동아              516\n",
       "                ... \n",
       "(170-7)            1\n",
       "영진파크빌(437-26)      1\n",
       "오름하우스              1\n",
       "아성빌라(409-4)        1\n",
       "(1691-17)          1\n",
       "Name: count, Length: 36022, dtype: int64"
      ]
     },
     "execution_count": 478,
     "metadata": {},
     "output_type": "execute_result"
    }
   ],
   "source": [
    "df_drop['건물명'].value_counts()"
   ]
  },
  {
   "cell_type": "code",
   "execution_count": 479,
   "metadata": {},
   "outputs": [
    {
     "data": {
      "text/plain": [
       "45"
      ]
     },
     "execution_count": 479,
     "metadata": {},
     "output_type": "execute_result"
    }
   ],
   "source": [
    "df_drop['건물명'].isnull().sum()"
   ]
  },
  {
   "cell_type": "markdown",
   "metadata": {},
   "source": [
    "- 건물명이 아닌 주소로 추정되는 값들이 적혀 있으므로 주소로 카카오 API에서 건물명 가져오기\n",
    "- 우선 null 값은 '알수없음'으로 대체"
   ]
  },
  {
   "cell_type": "code",
   "execution_count": 480,
   "metadata": {},
   "outputs": [
    {
     "name": "stderr",
     "output_type": "stream",
     "text": [
      "/var/folders/5p/79nsvsf97wd_rz32b3fftzh80000gn/T/ipykernel_56082/2836428711.py:1: FutureWarning: A value is trying to be set on a copy of a DataFrame or Series through chained assignment using an inplace method.\n",
      "The behavior will change in pandas 3.0. This inplace method will never work because the intermediate object on which we are setting values always behaves as a copy.\n",
      "\n",
      "For example, when doing 'df[col].method(value, inplace=True)', try using 'df.method({col: value}, inplace=True)' or df[col] = df[col].method(value) instead, to perform the operation inplace on the original object.\n",
      "\n",
      "\n",
      "  df_drop['건물명'].fillna('알수없음', inplace=True)\n"
     ]
    },
    {
     "data": {
      "text/plain": [
       "접수연도                     0\n",
       "자치구명                     0\n",
       "법정동명                     0\n",
       "본번                       0\n",
       "부번                       0\n",
       "건물명                      0\n",
       "계약일                      0\n",
       "물건금액(만원)                 0\n",
       "건물면적(㎡)                  0\n",
       "토지면적(㎡)               5151\n",
       "층                        3\n",
       "권리구분                222854\n",
       "취소일                 213363\n",
       "건축년도                  1213\n",
       "건물용도                     0\n",
       "신고구분                   168\n",
       "신고한 개업공인중개사 시군구명     40250\n",
       "dtype: int64"
      ]
     },
     "execution_count": 480,
     "metadata": {},
     "output_type": "execute_result"
    }
   ],
   "source": [
    "df_drop['건물명'].fillna('알수없음', inplace=True)\n",
    "df_drop.isnull().sum()"
   ]
  },
  {
   "cell_type": "markdown",
   "metadata": {},
   "source": [
    "### 계약일"
   ]
  },
  {
   "cell_type": "code",
   "execution_count": 481,
   "metadata": {},
   "outputs": [
    {
     "data": {
      "text/plain": [
       "계약일\n",
       "20090219      1\n",
       "20130123      1\n",
       "20160426      1\n",
       "20160620      1\n",
       "20170712      1\n",
       "           ... \n",
       "20250113     54\n",
       "20250114    107\n",
       "20250115     56\n",
       "20250116     67\n",
       "20250117     16\n",
       "Name: count, Length: 1282, dtype: int64"
      ]
     },
     "execution_count": 481,
     "metadata": {},
     "output_type": "execute_result"
    }
   ],
   "source": [
    "df_drop['계약일'].value_counts().sort_index()"
   ]
  },
  {
   "cell_type": "markdown",
   "metadata": {},
   "source": [
    "- 계약일 기준으로 가격 예측 가능\n",
    "- 계약연도, 계약월, 계약일 로 split"
   ]
  },
  {
   "cell_type": "code",
   "execution_count": 482,
   "metadata": {},
   "outputs": [
    {
     "data": {
      "text/plain": [
       "Index(['접수연도', '자치구명', '법정동명', '본번', '부번', '건물명', '계약날짜', '물건금액(만원)',\n",
       "       '건물면적(㎡)', '토지면적(㎡)', '층', '권리구분', '취소일', '건축년도', '건물용도', '신고구분',\n",
       "       '신고한 개업공인중개사 시군구명'],\n",
       "      dtype='object')"
      ]
     },
     "execution_count": 482,
     "metadata": {},
     "output_type": "execute_result"
    }
   ],
   "source": [
    "df_drop.rename(columns={'계약일': '계약날짜'}, inplace=True)\n",
    "df_drop.columns"
   ]
  },
  {
   "cell_type": "code",
   "execution_count": 483,
   "metadata": {},
   "outputs": [
    {
     "data": {
      "text/html": [
       "<div>\n",
       "<style scoped>\n",
       "    .dataframe tbody tr th:only-of-type {\n",
       "        vertical-align: middle;\n",
       "    }\n",
       "\n",
       "    .dataframe tbody tr th {\n",
       "        vertical-align: top;\n",
       "    }\n",
       "\n",
       "    .dataframe thead th {\n",
       "        text-align: right;\n",
       "    }\n",
       "</style>\n",
       "<table border=\"1\" class=\"dataframe\">\n",
       "  <thead>\n",
       "    <tr style=\"text-align: right;\">\n",
       "      <th></th>\n",
       "      <th>접수연도</th>\n",
       "      <th>자치구명</th>\n",
       "      <th>법정동명</th>\n",
       "      <th>본번</th>\n",
       "      <th>부번</th>\n",
       "      <th>건물명</th>\n",
       "      <th>계약날짜</th>\n",
       "      <th>물건금액(만원)</th>\n",
       "      <th>건물면적(㎡)</th>\n",
       "      <th>토지면적(㎡)</th>\n",
       "      <th>층</th>\n",
       "      <th>권리구분</th>\n",
       "      <th>취소일</th>\n",
       "      <th>건축년도</th>\n",
       "      <th>건물용도</th>\n",
       "      <th>신고구분</th>\n",
       "      <th>신고한 개업공인중개사 시군구명</th>\n",
       "      <th>계약연도</th>\n",
       "      <th>계약월</th>\n",
       "      <th>계약일</th>\n",
       "    </tr>\n",
       "  </thead>\n",
       "  <tbody>\n",
       "    <tr>\n",
       "      <th>0</th>\n",
       "      <td>2025</td>\n",
       "      <td>도봉구</td>\n",
       "      <td>방학동</td>\n",
       "      <td>638</td>\n",
       "      <td>10</td>\n",
       "      <td>한신빌라(638-10)</td>\n",
       "      <td>20250117</td>\n",
       "      <td>14800</td>\n",
       "      <td>37.66</td>\n",
       "      <td>16.00</td>\n",
       "      <td>4.0</td>\n",
       "      <td>NaN</td>\n",
       "      <td>NaN</td>\n",
       "      <td>1994.0</td>\n",
       "      <td>연립다세대</td>\n",
       "      <td>중개거래</td>\n",
       "      <td>서울 도봉구</td>\n",
       "      <td>2025</td>\n",
       "      <td>1</td>\n",
       "      <td>17</td>\n",
       "    </tr>\n",
       "    <tr>\n",
       "      <th>2</th>\n",
       "      <td>2025</td>\n",
       "      <td>강서구</td>\n",
       "      <td>등촌동</td>\n",
       "      <td>628</td>\n",
       "      <td>13</td>\n",
       "      <td>현대프린스텔</td>\n",
       "      <td>20250117</td>\n",
       "      <td>10300</td>\n",
       "      <td>26.16</td>\n",
       "      <td>35.71</td>\n",
       "      <td>6.0</td>\n",
       "      <td>NaN</td>\n",
       "      <td>NaN</td>\n",
       "      <td>1999.0</td>\n",
       "      <td>오피스텔</td>\n",
       "      <td>중개거래</td>\n",
       "      <td>서울 강서구</td>\n",
       "      <td>2025</td>\n",
       "      <td>1</td>\n",
       "      <td>17</td>\n",
       "    </tr>\n",
       "    <tr>\n",
       "      <th>3</th>\n",
       "      <td>2025</td>\n",
       "      <td>관악구</td>\n",
       "      <td>신림동</td>\n",
       "      <td>1639</td>\n",
       "      <td>51</td>\n",
       "      <td>푸리마타운</td>\n",
       "      <td>20250117</td>\n",
       "      <td>12700</td>\n",
       "      <td>18.70</td>\n",
       "      <td>26.16</td>\n",
       "      <td>8.0</td>\n",
       "      <td>NaN</td>\n",
       "      <td>NaN</td>\n",
       "      <td>2014.0</td>\n",
       "      <td>오피스텔</td>\n",
       "      <td>중개거래</td>\n",
       "      <td>서울 관악구</td>\n",
       "      <td>2025</td>\n",
       "      <td>1</td>\n",
       "      <td>17</td>\n",
       "    </tr>\n",
       "    <tr>\n",
       "      <th>4</th>\n",
       "      <td>2025</td>\n",
       "      <td>구로구</td>\n",
       "      <td>고척동</td>\n",
       "      <td>339</td>\n",
       "      <td>0</td>\n",
       "      <td>고척파크푸르지오</td>\n",
       "      <td>20250117</td>\n",
       "      <td>84000</td>\n",
       "      <td>59.89</td>\n",
       "      <td>0.00</td>\n",
       "      <td>9.0</td>\n",
       "      <td>NaN</td>\n",
       "      <td>NaN</td>\n",
       "      <td>2009.0</td>\n",
       "      <td>아파트</td>\n",
       "      <td>중개거래</td>\n",
       "      <td>서울 구로구, 서울 양천구</td>\n",
       "      <td>2025</td>\n",
       "      <td>1</td>\n",
       "      <td>17</td>\n",
       "    </tr>\n",
       "    <tr>\n",
       "      <th>5</th>\n",
       "      <td>2025</td>\n",
       "      <td>광진구</td>\n",
       "      <td>중곡동</td>\n",
       "      <td>73</td>\n",
       "      <td>70</td>\n",
       "      <td>욱현하이브(73-70)</td>\n",
       "      <td>20250117</td>\n",
       "      <td>19800</td>\n",
       "      <td>44.96</td>\n",
       "      <td>33.00</td>\n",
       "      <td>3.0</td>\n",
       "      <td>NaN</td>\n",
       "      <td>NaN</td>\n",
       "      <td>2009.0</td>\n",
       "      <td>연립다세대</td>\n",
       "      <td>중개거래</td>\n",
       "      <td>서울 동작구</td>\n",
       "      <td>2025</td>\n",
       "      <td>1</td>\n",
       "      <td>17</td>\n",
       "    </tr>\n",
       "  </tbody>\n",
       "</table>\n",
       "</div>"
      ],
      "text/plain": [
       "   접수연도 자치구명 법정동명    본번  부번           건물명      계약날짜  물건금액(만원)  건물면적(㎡)  \\\n",
       "0  2025  도봉구  방학동   638  10  한신빌라(638-10)  20250117     14800    37.66   \n",
       "2  2025  강서구  등촌동   628  13        현대프린스텔  20250117     10300    26.16   \n",
       "3  2025  관악구  신림동  1639  51         푸리마타운  20250117     12700    18.70   \n",
       "4  2025  구로구  고척동   339   0      고척파크푸르지오  20250117     84000    59.89   \n",
       "5  2025  광진구  중곡동    73  70  욱현하이브(73-70)  20250117     19800    44.96   \n",
       "\n",
       "   토지면적(㎡)    층 권리구분  취소일    건축년도   건물용도  신고구분 신고한 개업공인중개사 시군구명  계약연도  계약월  \\\n",
       "0    16.00  4.0  NaN  NaN  1994.0  연립다세대  중개거래           서울 도봉구  2025    1   \n",
       "2    35.71  6.0  NaN  NaN  1999.0   오피스텔  중개거래           서울 강서구  2025    1   \n",
       "3    26.16  8.0  NaN  NaN  2014.0   오피스텔  중개거래           서울 관악구  2025    1   \n",
       "4     0.00  9.0  NaN  NaN  2009.0    아파트  중개거래   서울 구로구, 서울 양천구  2025    1   \n",
       "5    33.00  3.0  NaN  NaN  2009.0  연립다세대  중개거래           서울 동작구  2025    1   \n",
       "\n",
       "   계약일  \n",
       "0   17  \n",
       "2   17  \n",
       "3   17  \n",
       "4   17  \n",
       "5   17  "
      ]
     },
     "execution_count": 483,
     "metadata": {},
     "output_type": "execute_result"
    }
   ],
   "source": [
    "\n",
    "df_drop['계약연도'] = df_drop['계약날짜'].astype(str).str[:4]   # 앞 4자리 (연도)\n",
    "df_drop['계약월'] = df_drop['계약날짜'].astype(str).str[4:6]   # 중간 2자리 (월)\n",
    "df_drop['계약일'] = df_drop['계약날짜'].astype(str).str[6:8]   # 마지막 2자리 (일)\n",
    "\n",
    "# 숫자로 변환\n",
    "df_drop[['계약연도', '계약월', '계약일']] = df_drop[['계약연도', '계약월', '계약일']].astype(int)\n",
    "\n",
    "df_drop.head()"
   ]
  },
  {
   "cell_type": "code",
   "execution_count": 484,
   "metadata": {},
   "outputs": [],
   "source": [
    "# 기존 컬럼 삭제\n",
    "df_drop = df_drop.drop(columns=['계약날짜'])"
   ]
  },
  {
   "cell_type": "markdown",
   "metadata": {},
   "source": [
    "### 물건금액(만원)"
   ]
  },
  {
   "cell_type": "markdown",
   "metadata": {},
   "source": [
    "- 거래량 top 30 주거지의 가격 확인"
   ]
  },
  {
   "cell_type": "code",
   "execution_count": 485,
   "metadata": {},
   "outputs": [],
   "source": [
    "value_counts = df_drop['물건금액(만원)'].value_counts().sort_values().tail(30).sort_index()"
   ]
  },
  {
   "cell_type": "code",
   "execution_count": 486,
   "metadata": {},
   "outputs": [
    {
     "data": {
      "image/png": "[encoded data removed]",
      "text/plain": [
       "<Figure size 1200x600 with 1 Axes>"
      ]
     },
     "metadata": {},
     "output_type": "display_data"
    }
   ],
   "source": [
    "import matplotlib.pyplot as plt\n",
    "import matplotlib.pyplot as plt\n",
    "import matplotlib.font_manager as fm\n",
    "\n",
    "# 폰트 설정\n",
    "plt.rcParams['font.family'] = 'AppleGothic'  # Mac (애플 고딕)\n",
    "\n",
    "# 마이너스(-) 기호 깨짐 방지\n",
    "plt.rcParams['axes.unicode_minus'] = False\n",
    "\n",
    "# 바 차트 그리기\n",
    "plt.figure(figsize=(12, 6))\n",
    "plt.bar(value_counts.index.astype(str), value_counts.values, color='blue', alpha=0.7)\n",
    "\n",
    "# 그래프 설정\n",
    "plt.xlabel(\"물건 금액 (만원)\")\n",
    "plt.ylabel(\"거래 횟수\")\n",
    "plt.title(\"물건 금액별 거래 횟수 분포\")\n",
    "plt.xticks(rotation=45)  # X축 라벨 회전\n",
    "plt.grid(axis='y', linestyle='--', alpha=0.7)\n",
    "\n",
    "# 그래프 출력\n",
    "plt.show()"
   ]
  },
  {
   "cell_type": "markdown",
   "metadata": {},
   "source": [
    "- 3억원대 거래가 가장 많음"
   ]
  },
  {
   "cell_type": "markdown",
   "metadata": {},
   "source": [
    "### 건물면적 & 토지면적"
   ]
  },
  {
   "cell_type": "code",
   "execution_count": 487,
   "metadata": {},
   "outputs": [
    {
     "name": "stdout",
     "output_type": "stream",
     "text": [
      "0\n",
      "5151\n"
     ]
    }
   ],
   "source": [
    "# null 확인\n",
    "print(df_drop['건물면적(㎡)'].isnull().sum())\n",
    "print(df_drop['토지면적(㎡)'].isnull().sum())"
   ]
  },
  {
   "cell_type": "markdown",
   "metadata": {},
   "source": [
    "- 토지면적 컬럼 제외"
   ]
  },
  {
   "cell_type": "code",
   "execution_count": 488,
   "metadata": {},
   "outputs": [
    {
     "data": {
      "text/plain": [
       "Index(['접수연도', '자치구명', '법정동명', '본번', '부번', '건물명', '물건금액(만원)', '건물면적(㎡)', '층',\n",
       "       '권리구분', '취소일', '건축년도', '건물용도', '신고구분', '신고한 개업공인중개사 시군구명', '계약연도',\n",
       "       '계약월', '계약일'],\n",
       "      dtype='object')"
      ]
     },
     "execution_count": 488,
     "metadata": {},
     "output_type": "execute_result"
    }
   ],
   "source": [
    "df_drop = df_drop.drop(columns=['토지면적(㎡)'])\n",
    "df_drop.columns"
   ]
  },
  {
   "cell_type": "code",
   "execution_count": 489,
   "metadata": {},
   "outputs": [
    {
     "data": {
      "text/plain": [
       "접수연도                     0\n",
       "자치구명                     0\n",
       "법정동명                     0\n",
       "본번                       0\n",
       "부번                       0\n",
       "건물명                      0\n",
       "물건금액(만원)                 0\n",
       "건물면적(㎡)                  0\n",
       "층                        3\n",
       "권리구분                222854\n",
       "취소일                 213363\n",
       "건축년도                  1213\n",
       "건물용도                     0\n",
       "신고구분                   168\n",
       "신고한 개업공인중개사 시군구명     40250\n",
       "계약연도                     0\n",
       "계약월                      0\n",
       "계약일                      0\n",
       "dtype: int64"
      ]
     },
     "execution_count": 489,
     "metadata": {},
     "output_type": "execute_result"
    }
   ],
   "source": [
    "df_drop.isnull().sum()"
   ]
  },
  {
   "cell_type": "markdown",
   "metadata": {},
   "source": [
    "### 층"
   ]
  },
  {
   "cell_type": "markdown",
   "metadata": {},
   "source": [
    "- null 확인"
   ]
  },
  {
   "cell_type": "code",
   "execution_count": 490,
   "metadata": {},
   "outputs": [
    {
     "name": "stdout",
     "output_type": "stream",
     "text": [
      "3\n"
     ]
    }
   ],
   "source": [
    "print(df_drop['층'].isnull().sum())"
   ]
  },
  {
   "cell_type": "code",
   "execution_count": 491,
   "metadata": {},
   "outputs": [
    {
     "data": {
      "text/html": [
       "<div>\n",
       "<style scoped>\n",
       "    .dataframe tbody tr th:only-of-type {\n",
       "        vertical-align: middle;\n",
       "    }\n",
       "\n",
       "    .dataframe tbody tr th {\n",
       "        vertical-align: top;\n",
       "    }\n",
       "\n",
       "    .dataframe thead th {\n",
       "        text-align: right;\n",
       "    }\n",
       "</style>\n",
       "<table border=\"1\" class=\"dataframe\">\n",
       "  <thead>\n",
       "    <tr style=\"text-align: right;\">\n",
       "      <th></th>\n",
       "      <th>접수연도</th>\n",
       "      <th>자치구명</th>\n",
       "      <th>법정동명</th>\n",
       "      <th>본번</th>\n",
       "      <th>부번</th>\n",
       "      <th>건물명</th>\n",
       "      <th>물건금액(만원)</th>\n",
       "      <th>건물면적(㎡)</th>\n",
       "      <th>층</th>\n",
       "      <th>권리구분</th>\n",
       "      <th>취소일</th>\n",
       "      <th>건축년도</th>\n",
       "      <th>건물용도</th>\n",
       "      <th>신고구분</th>\n",
       "      <th>신고한 개업공인중개사 시군구명</th>\n",
       "      <th>계약연도</th>\n",
       "      <th>계약월</th>\n",
       "      <th>계약일</th>\n",
       "    </tr>\n",
       "  </thead>\n",
       "  <tbody>\n",
       "    <tr>\n",
       "      <th>186761</th>\n",
       "      <td>2022</td>\n",
       "      <td>구로구</td>\n",
       "      <td>구로동</td>\n",
       "      <td>807</td>\n",
       "      <td>8</td>\n",
       "      <td>(807-8)</td>\n",
       "      <td>130000</td>\n",
       "      <td>513.00</td>\n",
       "      <td>NaN</td>\n",
       "      <td>NaN</td>\n",
       "      <td>20230420.0</td>\n",
       "      <td>1995.0</td>\n",
       "      <td>단독다가구</td>\n",
       "      <td>직거래</td>\n",
       "      <td>NaN</td>\n",
       "      <td>2022</td>\n",
       "      <td>7</td>\n",
       "      <td>25</td>\n",
       "    </tr>\n",
       "    <tr>\n",
       "      <th>194277</th>\n",
       "      <td>2022</td>\n",
       "      <td>용산구</td>\n",
       "      <td>용산동2가</td>\n",
       "      <td>26</td>\n",
       "      <td>6</td>\n",
       "      <td>진흥푸르지오</td>\n",
       "      <td>255000</td>\n",
       "      <td>230.72</td>\n",
       "      <td>NaN</td>\n",
       "      <td>NaN</td>\n",
       "      <td>NaN</td>\n",
       "      <td>2007.0</td>\n",
       "      <td>단독다가구</td>\n",
       "      <td>중개거래</td>\n",
       "      <td>서울 용산구</td>\n",
       "      <td>2022</td>\n",
       "      <td>6</td>\n",
       "      <td>15</td>\n",
       "    </tr>\n",
       "    <tr>\n",
       "      <th>206943</th>\n",
       "      <td>2022</td>\n",
       "      <td>강남구</td>\n",
       "      <td>역삼동</td>\n",
       "      <td>794</td>\n",
       "      <td>16</td>\n",
       "      <td>(794-16)</td>\n",
       "      <td>292000</td>\n",
       "      <td>454.45</td>\n",
       "      <td>NaN</td>\n",
       "      <td>NaN</td>\n",
       "      <td>NaN</td>\n",
       "      <td>2005.0</td>\n",
       "      <td>단독다가구</td>\n",
       "      <td>중개거래</td>\n",
       "      <td>서울 강남구</td>\n",
       "      <td>2022</td>\n",
       "      <td>4</td>\n",
       "      <td>30</td>\n",
       "    </tr>\n",
       "  </tbody>\n",
       "</table>\n",
       "</div>"
      ],
      "text/plain": [
       "        접수연도 자치구명   법정동명   본번  부번       건물명  물건금액(만원)  건물면적(㎡)   층 권리구분  \\\n",
       "186761  2022  구로구    구로동  807   8   (807-8)    130000   513.00 NaN  NaN   \n",
       "194277  2022  용산구  용산동2가   26   6    진흥푸르지오    255000   230.72 NaN  NaN   \n",
       "206943  2022  강남구    역삼동  794  16  (794-16)    292000   454.45 NaN  NaN   \n",
       "\n",
       "               취소일    건축년도   건물용도  신고구분 신고한 개업공인중개사 시군구명  계약연도  계약월  계약일  \n",
       "186761  20230420.0  1995.0  단독다가구   직거래              NaN  2022    7   25  \n",
       "194277         NaN  2007.0  단독다가구  중개거래           서울 용산구  2022    6   15  \n",
       "206943         NaN  2005.0  단독다가구  중개거래           서울 강남구  2022    4   30  "
      ]
     },
     "execution_count": 491,
     "metadata": {},
     "output_type": "execute_result"
    }
   ],
   "source": [
    "null_values = df_drop[df_drop['층'].isnull()]\n",
    "null_values.head()"
   ]
  },
  {
   "cell_type": "markdown",
   "metadata": {},
   "source": [
    "- 해당 행 삭제"
   ]
  },
  {
   "cell_type": "code",
   "execution_count": 492,
   "metadata": {},
   "outputs": [
    {
     "data": {
      "text/plain": [
       "접수연도                     0\n",
       "자치구명                     0\n",
       "법정동명                     0\n",
       "본번                       0\n",
       "부번                       0\n",
       "건물명                      0\n",
       "물건금액(만원)                 0\n",
       "건물면적(㎡)                  0\n",
       "층                        0\n",
       "권리구분                222851\n",
       "취소일                 213361\n",
       "건축년도                  1213\n",
       "건물용도                     0\n",
       "신고구분                   168\n",
       "신고한 개업공인중개사 시군구명     40249\n",
       "계약연도                     0\n",
       "계약월                      0\n",
       "계약일                      0\n",
       "dtype: int64"
      ]
     },
     "execution_count": 492,
     "metadata": {},
     "output_type": "execute_result"
    }
   ],
   "source": [
    "df_drop.dropna(subset=['층'], inplace=True)\n",
    "df_drop.isnull().sum()"
   ]
  },
  {
   "cell_type": "code",
   "execution_count": 493,
   "metadata": {},
   "outputs": [
    {
     "data": {
      "text/plain": [
       "층\n",
       " 2.0     28598\n",
       " 3.0     27868\n",
       " 4.0     25058\n",
       " 5.0     20562\n",
       " 6.0     13349\n",
       "         ...  \n",
       " 60.0        3\n",
       " 56.0        3\n",
       " 65.0        2\n",
       "-3.0         2\n",
       " 59.0        2\n",
       "Name: count, Length: 70, dtype: int64"
      ]
     },
     "execution_count": 493,
     "metadata": {},
     "output_type": "execute_result"
    }
   ],
   "source": [
    "df_drop['층'].value_counts()"
   ]
  },
  {
   "cell_type": "markdown",
   "metadata": {},
   "source": [
    "- float -> int로 변환"
   ]
  },
  {
   "cell_type": "code",
   "execution_count": 494,
   "metadata": {},
   "outputs": [
    {
     "data": {
      "text/plain": [
       "층\n",
       " 2     28598\n",
       " 3     27868\n",
       " 4     25058\n",
       " 5     20562\n",
       " 6     13349\n",
       "       ...  \n",
       " 60        3\n",
       " 56        3\n",
       " 65        2\n",
       "-3         2\n",
       " 59        2\n",
       "Name: count, Length: 70, dtype: int64"
      ]
     },
     "execution_count": 494,
     "metadata": {},
     "output_type": "execute_result"
    }
   ],
   "source": [
    "df_drop['층'] = df_drop['층'].astype(int)\n",
    "df_drop['층'].value_counts()"
   ]
  },
  {
   "cell_type": "code",
   "execution_count": 495,
   "metadata": {},
   "outputs": [
    {
     "name": "stdout",
     "output_type": "stream",
     "text": [
      "<class 'pandas.core.frame.DataFrame'>\n",
      "Index: 224576 entries, 0 to 235670\n",
      "Data columns (total 18 columns):\n",
      " #   Column            Non-Null Count   Dtype  \n",
      "---  ------            --------------   -----  \n",
      " 0   접수연도              224576 non-null  int64  \n",
      " 1   자치구명              224576 non-null  object \n",
      " 2   법정동명              224576 non-null  object \n",
      " 3   본번                224576 non-null  int64  \n",
      " 4   부번                224576 non-null  int64  \n",
      " 5   건물명               224576 non-null  object \n",
      " 6   물건금액(만원)          224576 non-null  int64  \n",
      " 7   건물면적(㎡)           224576 non-null  float64\n",
      " 8   층                 224576 non-null  int64  \n",
      " 9   권리구분              1725 non-null    object \n",
      " 10  취소일               11215 non-null   float64\n",
      " 11  건축년도              223363 non-null  float64\n",
      " 12  건물용도              224576 non-null  object \n",
      " 13  신고구분              224408 non-null  object \n",
      " 14  신고한 개업공인중개사 시군구명  184327 non-null  object \n",
      " 15  계약연도              224576 non-null  int64  \n",
      " 16  계약월               224576 non-null  int64  \n",
      " 17  계약일               224576 non-null  int64  \n",
      "dtypes: float64(3), int64(8), object(7)\n",
      "memory usage: 32.6+ MB\n"
     ]
    }
   ],
   "source": [
    "df_drop.info()"
   ]
  },
  {
   "cell_type": "markdown",
   "metadata": {},
   "source": [
    "### 권리구분"
   ]
  },
  {
   "cell_type": "code",
   "execution_count": 496,
   "metadata": {},
   "outputs": [
    {
     "data": {
      "text/plain": [
       "권리구분\n",
       "입주권    1035\n",
       "분양권     690\n",
       "Name: count, dtype: int64"
      ]
     },
     "execution_count": 496,
     "metadata": {},
     "output_type": "execute_result"
    }
   ],
   "source": [
    "df_drop['권리구분'].value_counts()"
   ]
  },
  {
   "cell_type": "code",
   "execution_count": 497,
   "metadata": {},
   "outputs": [
    {
     "data": {
      "text/plain": [
       "222851"
      ]
     },
     "execution_count": 497,
     "metadata": {},
     "output_type": "execute_result"
    }
   ],
   "source": [
    "df_drop['권리구분'].isnull().sum()"
   ]
  },
  {
   "cell_type": "markdown",
   "metadata": {},
   "source": [
    "- 입주권:1035 / 분양권:690 / null:222851 > 컬럼 제거"
   ]
  },
  {
   "cell_type": "code",
   "execution_count": 498,
   "metadata": {},
   "outputs": [
    {
     "data": {
      "text/plain": [
       "Index(['접수연도', '자치구명', '법정동명', '본번', '부번', '건물명', '물건금액(만원)', '건물면적(㎡)', '층',\n",
       "       '취소일', '건축년도', '건물용도', '신고구분', '신고한 개업공인중개사 시군구명', '계약연도', '계약월',\n",
       "       '계약일'],\n",
       "      dtype='object')"
      ]
     },
     "execution_count": 498,
     "metadata": {},
     "output_type": "execute_result"
    }
   ],
   "source": [
    "df_drop = df_drop.drop(columns=['권리구분'])\n",
    "df_drop.columns"
   ]
  },
  {
   "cell_type": "markdown",
   "metadata": {},
   "source": [
    "### 취소일"
   ]
  },
  {
   "cell_type": "code",
   "execution_count": 499,
   "metadata": {},
   "outputs": [
    {
     "data": {
      "text/plain": [
       "213361"
      ]
     },
     "execution_count": 499,
     "metadata": {},
     "output_type": "execute_result"
    }
   ],
   "source": [
    "df_drop['취소일'].isnull().sum()"
   ]
  },
  {
   "cell_type": "markdown",
   "metadata": {},
   "source": [
    "- null 값 많음, 컬럼 제거"
   ]
  },
  {
   "cell_type": "code",
   "execution_count": 500,
   "metadata": {},
   "outputs": [
    {
     "data": {
      "text/plain": [
       "Index(['접수연도', '자치구명', '법정동명', '본번', '부번', '건물명', '물건금액(만원)', '건물면적(㎡)', '층',\n",
       "       '건축년도', '건물용도', '신고구분', '신고한 개업공인중개사 시군구명', '계약연도', '계약월', '계약일'],\n",
       "      dtype='object')"
      ]
     },
     "execution_count": 500,
     "metadata": {},
     "output_type": "execute_result"
    }
   ],
   "source": [
    "df_drop = df_drop.drop(columns=['취소일'])\n",
    "df_drop.columns"
   ]
  },
  {
   "cell_type": "markdown",
   "metadata": {},
   "source": [
    "### 건축년도"
   ]
  },
  {
   "cell_type": "code",
   "execution_count": 501,
   "metadata": {},
   "outputs": [],
   "source": [
    "null_value = df_drop[df_drop['건축년도'].isnull()]"
   ]
  },
  {
   "cell_type": "code",
   "execution_count": 502,
   "metadata": {},
   "outputs": [
    {
     "data": {
      "text/html": [
       "<div>\n",
       "<style scoped>\n",
       "    .dataframe tbody tr th:only-of-type {\n",
       "        vertical-align: middle;\n",
       "    }\n",
       "\n",
       "    .dataframe tbody tr th {\n",
       "        vertical-align: top;\n",
       "    }\n",
       "\n",
       "    .dataframe thead th {\n",
       "        text-align: right;\n",
       "    }\n",
       "</style>\n",
       "<table border=\"1\" class=\"dataframe\">\n",
       "  <thead>\n",
       "    <tr style=\"text-align: right;\">\n",
       "      <th></th>\n",
       "      <th>접수연도</th>\n",
       "      <th>자치구명</th>\n",
       "      <th>법정동명</th>\n",
       "      <th>본번</th>\n",
       "      <th>부번</th>\n",
       "      <th>건물명</th>\n",
       "      <th>물건금액(만원)</th>\n",
       "      <th>건물면적(㎡)</th>\n",
       "      <th>층</th>\n",
       "      <th>건축년도</th>\n",
       "      <th>건물용도</th>\n",
       "      <th>신고구분</th>\n",
       "      <th>신고한 개업공인중개사 시군구명</th>\n",
       "      <th>계약연도</th>\n",
       "      <th>계약월</th>\n",
       "      <th>계약일</th>\n",
       "    </tr>\n",
       "  </thead>\n",
       "  <tbody>\n",
       "    <tr>\n",
       "      <th>125</th>\n",
       "      <td>2025</td>\n",
       "      <td>마포구</td>\n",
       "      <td>신공덕동</td>\n",
       "      <td>5</td>\n",
       "      <td>75</td>\n",
       "      <td>갑을명가시티1</td>\n",
       "      <td>14900</td>\n",
       "      <td>19.73</td>\n",
       "      <td>18</td>\n",
       "      <td>NaN</td>\n",
       "      <td>오피스텔</td>\n",
       "      <td>중개거래</td>\n",
       "      <td>서울 마포구</td>\n",
       "      <td>2025</td>\n",
       "      <td>1</td>\n",
       "      <td>15</td>\n",
       "    </tr>\n",
       "    <tr>\n",
       "      <th>238</th>\n",
       "      <td>2025</td>\n",
       "      <td>동대문구</td>\n",
       "      <td>용두동</td>\n",
       "      <td>104</td>\n",
       "      <td>3</td>\n",
       "      <td>동대문 푸르지오시티</td>\n",
       "      <td>19100</td>\n",
       "      <td>23.47</td>\n",
       "      <td>19</td>\n",
       "      <td>NaN</td>\n",
       "      <td>오피스텔</td>\n",
       "      <td>중개거래</td>\n",
       "      <td>서울 동대문구</td>\n",
       "      <td>2025</td>\n",
       "      <td>1</td>\n",
       "      <td>14</td>\n",
       "    </tr>\n",
       "    <tr>\n",
       "      <th>252</th>\n",
       "      <td>2025</td>\n",
       "      <td>송파구</td>\n",
       "      <td>문정동</td>\n",
       "      <td>618</td>\n",
       "      <td>0</td>\n",
       "      <td>파크하비오</td>\n",
       "      <td>67000</td>\n",
       "      <td>58.84</td>\n",
       "      <td>5</td>\n",
       "      <td>NaN</td>\n",
       "      <td>오피스텔</td>\n",
       "      <td>중개거래</td>\n",
       "      <td>서울 강남구, 서울 송파구</td>\n",
       "      <td>2025</td>\n",
       "      <td>1</td>\n",
       "      <td>13</td>\n",
       "    </tr>\n",
       "    <tr>\n",
       "      <th>762</th>\n",
       "      <td>2025</td>\n",
       "      <td>송파구</td>\n",
       "      <td>문정동</td>\n",
       "      <td>618</td>\n",
       "      <td>0</td>\n",
       "      <td>파크하비오</td>\n",
       "      <td>48000</td>\n",
       "      <td>48.93</td>\n",
       "      <td>15</td>\n",
       "      <td>NaN</td>\n",
       "      <td>오피스텔</td>\n",
       "      <td>중개거래</td>\n",
       "      <td>서울 송파구</td>\n",
       "      <td>2025</td>\n",
       "      <td>1</td>\n",
       "      <td>7</td>\n",
       "    </tr>\n",
       "    <tr>\n",
       "      <th>870</th>\n",
       "      <td>2025</td>\n",
       "      <td>송파구</td>\n",
       "      <td>문정동</td>\n",
       "      <td>618</td>\n",
       "      <td>0</td>\n",
       "      <td>파크하비오</td>\n",
       "      <td>53500</td>\n",
       "      <td>54.31</td>\n",
       "      <td>5</td>\n",
       "      <td>NaN</td>\n",
       "      <td>오피스텔</td>\n",
       "      <td>중개거래</td>\n",
       "      <td>서울 송파구</td>\n",
       "      <td>2025</td>\n",
       "      <td>1</td>\n",
       "      <td>6</td>\n",
       "    </tr>\n",
       "  </tbody>\n",
       "</table>\n",
       "</div>"
      ],
      "text/plain": [
       "     접수연도  자치구명  법정동명   본번  부번         건물명  물건금액(만원)  건물면적(㎡)   층  건축년도  건물용도  \\\n",
       "125  2025   마포구  신공덕동    5  75     갑을명가시티1     14900    19.73  18   NaN  오피스텔   \n",
       "238  2025  동대문구   용두동  104   3  동대문 푸르지오시티     19100    23.47  19   NaN  오피스텔   \n",
       "252  2025   송파구   문정동  618   0       파크하비오     67000    58.84   5   NaN  오피스텔   \n",
       "762  2025   송파구   문정동  618   0       파크하비오     48000    48.93  15   NaN  오피스텔   \n",
       "870  2025   송파구   문정동  618   0       파크하비오     53500    54.31   5   NaN  오피스텔   \n",
       "\n",
       "     신고구분 신고한 개업공인중개사 시군구명  계약연도  계약월  계약일  \n",
       "125  중개거래           서울 마포구  2025    1   15  \n",
       "238  중개거래          서울 동대문구  2025    1   14  \n",
       "252  중개거래   서울 강남구, 서울 송파구  2025    1   13  \n",
       "762  중개거래           서울 송파구  2025    1    7  \n",
       "870  중개거래           서울 송파구  2025    1    6  "
      ]
     },
     "execution_count": 502,
     "metadata": {},
     "output_type": "execute_result"
    }
   ],
   "source": [
    "null_value = df_drop[df_drop['건축년도'].isnull()]\n",
    "null_value.head()"
   ]
  },
  {
   "cell_type": "markdown",
   "metadata": {},
   "source": [
    "- null 값 = 아직 안 지어진 건물로 추정, 2025로 값 대체"
   ]
  },
  {
   "cell_type": "code",
   "execution_count": 503,
   "metadata": {},
   "outputs": [
    {
     "name": "stderr",
     "output_type": "stream",
     "text": [
      "/var/folders/5p/79nsvsf97wd_rz32b3fftzh80000gn/T/ipykernel_56082/3348383677.py:1: FutureWarning: A value is trying to be set on a copy of a DataFrame or Series through chained assignment using an inplace method.\n",
      "The behavior will change in pandas 3.0. This inplace method will never work because the intermediate object on which we are setting values always behaves as a copy.\n",
      "\n",
      "For example, when doing 'df[col].method(value, inplace=True)', try using 'df.method({col: value}, inplace=True)' or df[col] = df[col].method(value) instead, to perform the operation inplace on the original object.\n",
      "\n",
      "\n",
      "  df_drop['건축년도'].fillna(2025, inplace=True)\n"
     ]
    },
    {
     "data": {
      "text/plain": [
       "건축년도\n",
       "0.0        1725\n",
       "1956.0        1\n",
       "1961.0        4\n",
       "1965.0       10\n",
       "1966.0        4\n",
       "          ...  \n",
       "2021.0     7856\n",
       "2022.0    13271\n",
       "2023.0     6175\n",
       "2024.0     1592\n",
       "2025.0     1213\n",
       "Name: count, Length: 64, dtype: int64"
      ]
     },
     "execution_count": 503,
     "metadata": {},
     "output_type": "execute_result"
    }
   ],
   "source": [
    "df_drop['건축년도'].fillna(2025, inplace=True)\n",
    "df_drop['건축년도'].value_counts().sort_index()"
   ]
  },
  {
   "cell_type": "markdown",
   "metadata": {},
   "source": [
    "- float > int 형 변환"
   ]
  },
  {
   "cell_type": "code",
   "execution_count": 504,
   "metadata": {},
   "outputs": [
    {
     "name": "stdout",
     "output_type": "stream",
     "text": [
      "<class 'pandas.core.frame.DataFrame'>\n",
      "Index: 224576 entries, 0 to 235670\n",
      "Data columns (total 16 columns):\n",
      " #   Column            Non-Null Count   Dtype  \n",
      "---  ------            --------------   -----  \n",
      " 0   접수연도              224576 non-null  int64  \n",
      " 1   자치구명              224576 non-null  object \n",
      " 2   법정동명              224576 non-null  object \n",
      " 3   본번                224576 non-null  int64  \n",
      " 4   부번                224576 non-null  int64  \n",
      " 5   건물명               224576 non-null  object \n",
      " 6   물건금액(만원)          224576 non-null  int64  \n",
      " 7   건물면적(㎡)           224576 non-null  float64\n",
      " 8   층                 224576 non-null  int64  \n",
      " 9   건축년도              224576 non-null  int64  \n",
      " 10  건물용도              224576 non-null  object \n",
      " 11  신고구분              224408 non-null  object \n",
      " 12  신고한 개업공인중개사 시군구명  184327 non-null  object \n",
      " 13  계약연도              224576 non-null  int64  \n",
      " 14  계약월               224576 non-null  int64  \n",
      " 15  계약일               224576 non-null  int64  \n",
      "dtypes: float64(1), int64(9), object(6)\n",
      "memory usage: 29.1+ MB\n"
     ]
    }
   ],
   "source": [
    "df_drop['건축년도'] = df_drop['건축년도'].astype(int)\n",
    "df_drop.info()"
   ]
  },
  {
   "cell_type": "markdown",
   "metadata": {},
   "source": [
    "### 건물 용도"
   ]
  },
  {
   "cell_type": "code",
   "execution_count": 505,
   "metadata": {},
   "outputs": [
    {
     "data": {
      "text/plain": [
       "접수연도                    0\n",
       "자치구명                    0\n",
       "법정동명                    0\n",
       "본번                      0\n",
       "부번                      0\n",
       "건물명                     0\n",
       "물건금액(만원)                0\n",
       "건물면적(㎡)                 0\n",
       "층                       0\n",
       "건축년도                    0\n",
       "건물용도                    0\n",
       "신고구분                  168\n",
       "신고한 개업공인중개사 시군구명    40249\n",
       "계약연도                    0\n",
       "계약월                     0\n",
       "계약일                     0\n",
       "dtype: int64"
      ]
     },
     "execution_count": 505,
     "metadata": {},
     "output_type": "execute_result"
    }
   ],
   "source": [
    "df_drop.isnull().sum()"
   ]
  },
  {
   "cell_type": "markdown",
   "metadata": {},
   "source": [
    "### 신고구분"
   ]
  },
  {
   "cell_type": "code",
   "execution_count": 506,
   "metadata": {},
   "outputs": [
    {
     "data": {
      "text/plain": [
       "168"
      ]
     },
     "execution_count": 506,
     "metadata": {},
     "output_type": "execute_result"
    }
   ],
   "source": [
    "df_drop['신고구분'].isnull().sum()"
   ]
  },
  {
   "cell_type": "code",
   "execution_count": 507,
   "metadata": {},
   "outputs": [
    {
     "data": {
      "text/plain": [
       "신고구분\n",
       "중개거래    184436\n",
       "직거래      39972\n",
       "Name: count, dtype: int64"
      ]
     },
     "execution_count": 507,
     "metadata": {},
     "output_type": "execute_result"
    }
   ],
   "source": [
    "df_drop['신고구분'].value_counts()"
   ]
  },
  {
   "cell_type": "markdown",
   "metadata": {},
   "source": [
    "- null > '신고없음'으로 대체"
   ]
  },
  {
   "cell_type": "code",
   "execution_count": 508,
   "metadata": {},
   "outputs": [
    {
     "name": "stderr",
     "output_type": "stream",
     "text": [
      "/var/folders/5p/79nsvsf97wd_rz32b3fftzh80000gn/T/ipykernel_56082/456936704.py:1: FutureWarning: A value is trying to be set on a copy of a DataFrame or Series through chained assignment using an inplace method.\n",
      "The behavior will change in pandas 3.0. This inplace method will never work because the intermediate object on which we are setting values always behaves as a copy.\n",
      "\n",
      "For example, when doing 'df[col].method(value, inplace=True)', try using 'df.method({col: value}, inplace=True)' or df[col] = df[col].method(value) instead, to perform the operation inplace on the original object.\n",
      "\n",
      "\n",
      "  df_drop['신고구분'].fillna('신고없음', inplace=True)\n"
     ]
    },
    {
     "data": {
      "text/plain": [
       "신고구분\n",
       "중개거래    184436\n",
       "직거래      39972\n",
       "신고없음       168\n",
       "Name: count, dtype: int64"
      ]
     },
     "execution_count": 508,
     "metadata": {},
     "output_type": "execute_result"
    }
   ],
   "source": [
    "df_drop['신고구분'].fillna('신고없음', inplace=True)\n",
    "df_drop['신고구분'].value_counts()"
   ]
  },
  {
   "cell_type": "markdown",
   "metadata": {},
   "source": [
    "### 신고한 개업공인중개사 시군구명"
   ]
  },
  {
   "cell_type": "code",
   "execution_count": 509,
   "metadata": {},
   "outputs": [
    {
     "data": {
      "text/plain": [
       "40249"
      ]
     },
     "execution_count": 509,
     "metadata": {},
     "output_type": "execute_result"
    }
   ],
   "source": [
    "df_drop['신고한 개업공인중개사 시군구명'].isnull().sum()"
   ]
  },
  {
   "cell_type": "markdown",
   "metadata": {},
   "source": [
    "- null > '없음'으로 대체"
   ]
  },
  {
   "cell_type": "code",
   "execution_count": 510,
   "metadata": {},
   "outputs": [
    {
     "name": "stderr",
     "output_type": "stream",
     "text": [
      "/var/folders/5p/79nsvsf97wd_rz32b3fftzh80000gn/T/ipykernel_56082/1192927733.py:1: FutureWarning: A value is trying to be set on a copy of a DataFrame or Series through chained assignment using an inplace method.\n",
      "The behavior will change in pandas 3.0. This inplace method will never work because the intermediate object on which we are setting values always behaves as a copy.\n",
      "\n",
      "For example, when doing 'df[col].method(value, inplace=True)', try using 'df.method({col: value}, inplace=True)' or df[col] = df[col].method(value) instead, to perform the operation inplace on the original object.\n",
      "\n",
      "\n",
      "  df_drop['신고한 개업공인중개사 시군구명'].fillna('없음', inplace=True)\n"
     ]
    },
    {
     "data": {
      "text/plain": [
       "접수연도                0\n",
       "자치구명                0\n",
       "법정동명                0\n",
       "본번                  0\n",
       "부번                  0\n",
       "건물명                 0\n",
       "물건금액(만원)            0\n",
       "건물면적(㎡)             0\n",
       "층                   0\n",
       "건축년도                0\n",
       "건물용도                0\n",
       "신고구분                0\n",
       "신고한 개업공인중개사 시군구명    0\n",
       "계약연도                0\n",
       "계약월                 0\n",
       "계약일                 0\n",
       "dtype: int64"
      ]
     },
     "execution_count": 510,
     "metadata": {},
     "output_type": "execute_result"
    }
   ],
   "source": [
    "df_drop['신고한 개업공인중개사 시군구명'].fillna('없음', inplace=True)\n",
    "df_drop.isnull().sum()"
   ]
  },
  {
   "cell_type": "markdown",
   "metadata": {},
   "source": [
    "## 카카오 API 활용"
   ]
  },
  {
   "cell_type": "markdown",
   "metadata": {},
   "source": [
    "### 주소 컬럼 추가\n",
    "- 서울특별시 + 자치구명 + 법정동명 + 본번 + 부번"
   ]
  },
  {
   "cell_type": "code",
   "execution_count": 511,
   "metadata": {},
   "outputs": [
    {
     "data": {
      "text/plain": [
       "0     서울특별시 도봉구 방학동 638-10\n",
       "2     서울특별시 강서구 등촌동 628-13\n",
       "3    서울특별시 관악구 신림동 1639-51\n",
       "4        서울특별시 구로구 고척동 339\n",
       "5      서울특별시 광진구 중곡동 73-70\n",
       "Name: 주소, dtype: object"
      ]
     },
     "execution_count": 511,
     "metadata": {},
     "output_type": "execute_result"
    }
   ],
   "source": [
    "df_drop['주소'] = df_drop.apply(lambda row: \n",
    "                      f\"서울특별시 {row['자치구명']} {row['법정동명']} {row['본번']}\" \n",
    "                      if row['부번'] == 0 else \n",
    "                      f\"서울특별시 {row['자치구명']} {row['법정동명']} {row['본번']}-{row['부번']}\", \n",
    "                      axis=1)\n",
    "df_drop['주소'].head()"
   ]
  },
  {
   "cell_type": "code",
   "execution_count": 515,
   "metadata": {},
   "outputs": [
    {
     "name": "stdout",
     "output_type": "stream",
     "text": [
      "Requirement already satisfied: requests in ./env/lib/python3.12/site-packages (2.32.3)\n",
      "Requirement already satisfied: pandas in ./env/lib/python3.12/site-packages (2.2.3)\n",
      "Requirement already satisfied: tqdm in ./env/lib/python3.12/site-packages (4.67.1)\n",
      "Requirement already satisfied: charset-normalizer<4,>=2 in ./env/lib/python3.12/site-packages (from requests) (3.4.1)\n",
      "Requirement already satisfied: idna<4,>=2.5 in ./env/lib/python3.12/site-packages (from requests) (3.10)\n",
      "Requirement already satisfied: urllib3<3,>=1.21.1 in ./env/lib/python3.12/site-packages (from requests) (2.3.0)\n",
      "Requirement already satisfied: certifi>=2017.4.17 in ./env/lib/python3.12/site-packages (from requests) (2025.1.31)\n",
      "Requirement already satisfied: numpy>=1.26.0 in ./env/lib/python3.12/site-packages (from pandas) (1.26.4)\n",
      "Requirement already satisfied: python-dateutil>=2.8.2 in ./env/lib/python3.12/site-packages (from pandas) (2.9.0.post0)\n",
      "Requirement already satisfied: pytz>=2020.1 in ./env/lib/python3.12/site-packages (from pandas) (2025.1)\n",
      "Requirement already satisfied: tzdata>=2022.7 in ./env/lib/python3.12/site-packages (from pandas) (2025.1)\n",
      "Requirement already satisfied: six>=1.5 in ./env/lib/python3.12/site-packages (from python-dateutil>=2.8.2->pandas) (1.17.0)\n",
      "\n",
      "\u001b[1m[\u001b[0m\u001b[34;49mnotice\u001b[0m\u001b[1;39;49m]\u001b[0m\u001b[39;49m A new release of pip is available: \u001b[0m\u001b[31;49m24.2\u001b[0m\u001b[39;49m -> \u001b[0m\u001b[32;49m25.0.1\u001b[0m\n",
      "\u001b[1m[\u001b[0m\u001b[34;49mnotice\u001b[0m\u001b[1;39;49m]\u001b[0m\u001b[39;49m To update, run: \u001b[0m\u001b[32;49mpip install --upgrade pip\u001b[0m\n"
     ]
    }
   ],
   "source": [
    "# 라이브러리 설치\n",
    "! pip install requests pandas tqdm"
   ]
  },
  {
   "cell_type": "code",
   "execution_count": null,
   "metadata": {},
   "outputs": [],
   "source": [
    "import requests\n",
    "import time\n",
    "from tqdm import tqdm\n",
    "\n",
    "# 🔑 카카오 API 키 입력\n",
    "KAKAO_API_KEY = \"YOUR_KAKAO_API_KEY\"\n",
    "HEADERS = {\"Authorization\": f\"KakaoAK {KAKAO_API_KEY}\"}"
   ]
  }
 ],
 "metadata": {
  "kernelspec": {
   "display_name": "env",
   "language": "python",
   "name": "python3"
  },
  "language_info": {
   "codemirror_mode": {
    "name": "ipython",
    "version": 3
   },
   "file_extension": ".py",
   "mimetype": "text/x-python",
   "name": "python",
   "nbconvert_exporter": "python",
   "pygments_lexer": "ipython3",
   "version": "3.12.7"
  }
 },
 "nbformat": 4,
 "nbformat_minor": 2
}
